{
 "cells": [
  {
   "cell_type": "markdown",
   "metadata": {},
   "source": [
    "# Неделя 3. Соревнование.\n",
    "В этом задании вам нужно воспользоваться опытом предыдущих недель, чтобы побить бейзлайн в [соревновании по сентимент-анализу отзывов](https://www.kaggle.com/c/product-reviews-sentiment-analysis-light) на товары на Kaggle Inclass."
   ]
  },
  {
   "cell_type": "code",
   "execution_count": 1,
   "metadata": {},
   "outputs": [],
   "source": [
    "import pandas as pd\n",
    "import numpy as np\n",
    "from matplotlib import pyplot as plt\n",
    "from sklearn.feature_extraction.text import CountVectorizer, TfidfVectorizer, HashingVectorizer\n",
    "from sklearn.pipeline import Pipeline\n",
    "from sklearn.linear_model import LogisticRegression, SGDClassifier\n",
    "from sklearn.linear_model import RidgeClassifier\n",
    "from sklearn.ensemble import RandomForestClassifier\n",
    "from sklearn.ensemble import GradientBoostingClassifier\n",
    "from sklearn.svm import LinearSVC\n",
    "from sklearn.model_selection import cross_val_score, train_test_split\n",
    "from sklearn.metrics import roc_curve\n",
    "from random import shuffle\n",
    "import random"
   ]
  },
  {
   "cell_type": "code",
   "execution_count": 2,
   "metadata": {},
   "outputs": [
    {
     "data": {
      "text/plain": [
       "8269"
      ]
     },
     "execution_count": 2,
     "metadata": {},
     "output_type": "execute_result"
    }
   ],
   "source": [
    "# seed = random.randint(0, 10000)\n",
    "seed = 8269\n",
    "seed"
   ]
  },
  {
   "cell_type": "markdown",
   "metadata": {},
   "source": [
    "## Загрузка и изучение данных"
   ]
  },
  {
   "cell_type": "code",
   "execution_count": 3,
   "metadata": {},
   "outputs": [
    {
     "data": {
      "text/html": [
       "<div>\n",
       "<style scoped>\n",
       "    .dataframe tbody tr th:only-of-type {\n",
       "        vertical-align: middle;\n",
       "    }\n",
       "\n",
       "    .dataframe tbody tr th {\n",
       "        vertical-align: top;\n",
       "    }\n",
       "\n",
       "    .dataframe thead th {\n",
       "        text-align: right;\n",
       "    }\n",
       "</style>\n",
       "<table border=\"1\" class=\"dataframe\">\n",
       "  <thead>\n",
       "    <tr style=\"text-align: right;\">\n",
       "      <th></th>\n",
       "      <th>text</th>\n",
       "      <th>class</th>\n",
       "    </tr>\n",
       "  </thead>\n",
       "  <tbody>\n",
       "    <tr>\n",
       "      <th>0</th>\n",
       "      <td>2 . take around 10,000 640x480 pictures .</td>\n",
       "      <td>1</td>\n",
       "    </tr>\n",
       "    <tr>\n",
       "      <th>1</th>\n",
       "      <td>i downloaded a trial version of computer assoc...</td>\n",
       "      <td>1</td>\n",
       "    </tr>\n",
       "    <tr>\n",
       "      <th>2</th>\n",
       "      <td>the wrt54g plus the hga7t is a perfect solutio...</td>\n",
       "      <td>1</td>\n",
       "    </tr>\n",
       "    <tr>\n",
       "      <th>3</th>\n",
       "      <td>i dont especially like how music files are uns...</td>\n",
       "      <td>0</td>\n",
       "    </tr>\n",
       "    <tr>\n",
       "      <th>4</th>\n",
       "      <td>i was using the cheapie pail ... and it worked...</td>\n",
       "      <td>1</td>\n",
       "    </tr>\n",
       "  </tbody>\n",
       "</table>\n",
       "</div>"
      ],
      "text/plain": [
       "                                                text  class\n",
       "0          2 . take around 10,000 640x480 pictures .      1\n",
       "1  i downloaded a trial version of computer assoc...      1\n",
       "2  the wrt54g plus the hga7t is a perfect solutio...      1\n",
       "3  i dont especially like how music files are uns...      0\n",
       "4  i was using the cheapie pail ... and it worked...      1"
      ]
     },
     "execution_count": 3,
     "metadata": {},
     "output_type": "execute_result"
    }
   ],
   "source": [
    "train_data = pd.read_csv(\n",
    "    \"..\\..\\Data\\products_sentiment_train.tsv\",\n",
    "    \"\\t\",\n",
    "    names=[\"text\", \"class\"],\n",
    "    dtype={ \"text\": \"str\", \"class\": \"int\" })\n",
    "train_data.head()"
   ]
  },
  {
   "cell_type": "code",
   "execution_count": 4,
   "metadata": {},
   "outputs": [
    {
     "data": {
      "text/html": [
       "<div>\n",
       "<style scoped>\n",
       "    .dataframe tbody tr th:only-of-type {\n",
       "        vertical-align: middle;\n",
       "    }\n",
       "\n",
       "    .dataframe tbody tr th {\n",
       "        vertical-align: top;\n",
       "    }\n",
       "\n",
       "    .dataframe thead th {\n",
       "        text-align: right;\n",
       "    }\n",
       "</style>\n",
       "<table border=\"1\" class=\"dataframe\">\n",
       "  <thead>\n",
       "    <tr style=\"text-align: right;\">\n",
       "      <th></th>\n",
       "      <th>text</th>\n",
       "    </tr>\n",
       "    <tr>\n",
       "      <th>Id</th>\n",
       "      <th></th>\n",
       "    </tr>\n",
       "  </thead>\n",
       "  <tbody>\n",
       "    <tr>\n",
       "      <th>0</th>\n",
       "      <td>so , why the small digital elph , rather than ...</td>\n",
       "    </tr>\n",
       "    <tr>\n",
       "      <th>1</th>\n",
       "      <td>3/4 way through the first disk we played on it...</td>\n",
       "    </tr>\n",
       "    <tr>\n",
       "      <th>2</th>\n",
       "      <td>better for the zen micro is outlook compatibil...</td>\n",
       "    </tr>\n",
       "    <tr>\n",
       "      <th>3</th>\n",
       "      <td>6 . play gameboy color games on it with goboy .</td>\n",
       "    </tr>\n",
       "    <tr>\n",
       "      <th>4</th>\n",
       "      <td>likewise , i 've heard norton 2004 professiona...</td>\n",
       "    </tr>\n",
       "  </tbody>\n",
       "</table>\n",
       "</div>"
      ],
      "text/plain": [
       "                                                 text\n",
       "Id                                                   \n",
       "0   so , why the small digital elph , rather than ...\n",
       "1   3/4 way through the first disk we played on it...\n",
       "2   better for the zen micro is outlook compatibil...\n",
       "3     6 . play gameboy color games on it with goboy .\n",
       "4   likewise , i 've heard norton 2004 professiona..."
      ]
     },
     "execution_count": 4,
     "metadata": {},
     "output_type": "execute_result"
    }
   ],
   "source": [
    "test_data = pd.read_csv(\n",
    "    \"..\\..\\Data\\products_sentiment_test.tsv\",\n",
    "    \"\\t\",\n",
    "    index_col=\"Id\",\n",
    "    dtype={ \"text\": \"str\", \"Id\": \"int\" })\n",
    "test_data.head()"
   ]
  },
  {
   "cell_type": "code",
   "execution_count": 5,
   "metadata": {},
   "outputs": [],
   "source": [
    "def show_proportion_data(frame, column):\n",
    "    \"\"\" Функция строит гистограмму показывающую насколько сбалансированны классы \"\"\"\n",
    "    proportion_plot = frame.plot(\n",
    "        kind=\"hist\",\n",
    "        title=\"Labels proportion\",\n",
    "        figsize=(2,3),\n",
    "        legend=False)\n",
    "    proportion_plot.set_xlabel(\"Label value\")\n",
    "    proportion_plot.set_ylabel(\"Label frequency\")\n",
    "    negative_count = frame[frame[column] == 0].shape[0]\n",
    "    positive_count = frame[frame[column] == 1].shape[0]\n",
    "    negative_proportion = float(negative_count)/float(frame.shape[0])\n",
    "    positive_proportion = float(positive_count)/float(frame.shape[0])\n",
    "    print (\"Количество отзывов: %i\" % (frame.shape[0]))\n",
    "    print (\"Количество позитивных отзывов: %i\" % (positive_count))\n",
    "    print (\"Количество негативных отзывов: %i\" % (negative_count))\n",
    "    print (\"Разница: %i\" % (positive_count - negative_count))\n",
    "    print (\"Доля позитивных отзывов: %.4f%%\\nДоля негативных отзывов: %.4f%%\\nПозитивных отзывов больше в %.4f раз\" % (positive_proportion, negative_proportion, positive_proportion/negative_proportion))\n",
    "    plt.show()"
   ]
  },
  {
   "cell_type": "code",
   "execution_count": 6,
   "metadata": {},
   "outputs": [
    {
     "name": "stdout",
     "output_type": "stream",
     "text": [
      "Количество отзывов: 2000\n",
      "Количество позитивных отзывов: 1274\n",
      "Количество негативных отзывов: 726\n",
      "Разница: 548\n",
      "Доля позитивных отзывов: 0.6370%\n",
      "Доля негативных отзывов: 0.3630%\n",
      "Позитивных отзывов больше в 1.7548 раз\n"
     ]
    },
    {
     "data": {
      "image/png": "[encoded data removed]",
      "text/plain": [
       "<Figure size 144x216 with 1 Axes>"
      ]
     },
     "metadata": {},
     "output_type": "display_data"
    }
   ],
   "source": [
    "show_proportion_data(train_data, \"class\")"
   ]
  },
  {
   "cell_type": "code",
   "execution_count": 7,
   "metadata": {},
   "outputs": [],
   "source": [
    "texts = train_data[\"text\"].tolist()\n",
    "classes = train_data[\"class\"].tolist()"
   ]
  },
  {
   "cell_type": "code",
   "execution_count": 8,
   "metadata": {},
   "outputs": [],
   "source": [
    "def score_model_template(\n",
    "    model_name,\n",
    "    model_pipe,\n",
    "    frame,\n",
    "    frame_columns,\n",
    "    score_texts,\n",
    "    score_classes,\n",
    "    print_results=True\n",
    "):\n",
    "    \"\"\" Функция принимает на вход модель, данные и фрейм с результатами, возвращает новый фрейм с обновленными результатами. \"\"\"\n",
    "    accuracy_scores = cross_val_score(\n",
    "        model_pipe,\n",
    "        score_texts,\n",
    "        score_classes,\n",
    "        scoring=\"accuracy\")\n",
    "    roc_auc_scores = cross_val_score(\n",
    "        model_pipe,\n",
    "        score_texts,\n",
    "        score_classes,\n",
    "        scoring=\"roc_auc\")\n",
    "    average_accuracy = np.average(accuracy_scores)\n",
    "    std_accuracy = np.std(accuracy_scores)\n",
    "    average_roc_auc = np.average(roc_auc_scores)\n",
    "    std_roc_auc = np.std(roc_auc_scores)\n",
    "    frame = frame.append(pd.DataFrame([\n",
    "        [average_accuracy, std_accuracy, average_roc_auc, std_roc_auc]\n",
    "    ], index=[model_name], columns=frame_columns))\n",
    "    if(print_results):\n",
    "        print (\"Accuracy:\\n\\tAverage: {0:.3f}\\n\\tStandard Deviation: {1:.3f}\".format(\n",
    "            average_accuracy,\n",
    "            std_accuracy))\n",
    "        print (\"ROC AUC:\\n\\tAverage: {0:.3f}\\n\\tStandard Deviation: {1:.3f}\".format(\n",
    "            np.average(roc_auc_scores),\n",
    "            np.std(roc_auc_scores)))\n",
    "    return frame\n",
    "\n",
    "def score_model(\n",
    "    model_name,\n",
    "    model_pipe,\n",
    "    frame,\n",
    "    frame_columns,\n",
    "    print_results=True\n",
    "):\n",
    "    return score_model_template(\n",
    "        model_name,\n",
    "        model_pipe,\n",
    "        frame,\n",
    "        frame_columns,\n",
    "        texts,\n",
    "        classes,\n",
    "        print_results)\n",
    "\n",
    "# Построить ROC AUC кривую\n",
    "def ROC_AUC_curve(vectorizer_factory, model_factory):\n",
    "    rate = 0.3\n",
    "    vectorizer = vectorizer_factory()\n",
    "    vectorized_texts = vectorizer.fit_transform(texts)\n",
    "    train_texts, test_texts, train_classes, test_classes = train_test_split(\n",
    "        vectorized_texts,\n",
    "        classes,\n",
    "        test_size=rate,\n",
    "        random_state=seed,\n",
    "        stratify=classes\n",
    "    )\n",
    "    model = model_factory().fit(train_texts, train_classes)\n",
    "    probabilities = list(map(lambda pred: pred[1], model.predict_proba(test_texts)))\n",
    "\n",
    "    fpr, tpr, thr = roc_curve(test_classes, probabilities)\n",
    "    distance,fpr_v,tpr_v,thr_v = min(zip(np.sqrt((1.-tpr)**2+fpr**2),fpr,tpr,thr), key=lambda d:d[0])\n",
    "\n",
    "    plt.plot(fpr, tpr, label=\"ROC AUC curve\")\n",
    "    plt.scatter(fpr_v, tpr_v, color=\"red\")\n",
    "    plt.xlabel(\"false positive rate\")\n",
    "    plt.ylabel(\"true positive rate\")\n",
    "    plt.title(\"ROC AUC\")\n",
    "    return distance\n",
    "\n",
    "def model_metrics(vectorizer_factory, model_factory):\n",
    "    vectorizer = vectorizer_factory()\n",
    "    vectorized_texts = vectorizer.fit_transform(texts)\n",
    "    full_model = model_factory().fit(vectorized_texts, classes)\n",
    "    \n",
    "    distance = ROC_AUC_curve(vectorizer_factory, model_factory)\n",
    "    \n",
    "    main_features = list(map(\n",
    "        lambda feature: feature[0],\n",
    "        sorted(\n",
    "            zip(vectorizer.get_feature_names(), np.abs(full_model.coef_[0])),\n",
    "            key=lambda feature: feature[1],\n",
    "            reverse=True)[:5]))\n",
    "    print (\"Main features:\", main_features)\n",
    "    return distance"
   ]
  },
  {
   "cell_type": "code",
   "execution_count": 9,
   "metadata": {},
   "outputs": [],
   "source": [
    "result_columns = [\"Accuracy\", \"Accuracy_std\", \"ROC_AUC\", \"ROC_AUC_std\"]\n",
    "results = pd.DataFrame(columns=result_columns)"
   ]
  },
  {
   "cell_type": "markdown",
   "metadata": {},
   "source": [
    "# Построение и сравнение baseline решений\n",
    "\n",
    "Строим решения для следующих типов моделей: LogisticRegression, SVM, SGD, Ridge, RandomForest и GradientBoosting.\n",
    "Для каждого типа модели пробуем три различных векторизатора: Count, TF-IDF и Hashing."
   ]
  },
  {
   "cell_type": "markdown",
   "metadata": {},
   "source": [
    "## Logistic regression"
   ]
  },
  {
   "cell_type": "markdown",
   "metadata": {},
   "source": [
    "### Count Vectorizer"
   ]
  },
  {
   "cell_type": "code",
   "execution_count": 10,
   "metadata": {},
   "outputs": [
    {
     "name": "stdout",
     "output_type": "stream",
     "text": [
      "Accuracy:\n",
      "\tAverage: 0.774\n",
      "\tStandard Deviation: 0.023\n",
      "ROC AUC:\n",
      "\tAverage: 0.832\n",
      "\tStandard Deviation: 0.020\n"
     ]
    }
   ],
   "source": [
    "count_logistic_pipe = Pipeline([(\"vectorize\", CountVectorizer()), (\"model\", LogisticRegression())])\n",
    "results = score_model(\n",
    "    \"Count Logistic baseline\",\n",
    "    count_logistic_pipe,\n",
    "    results,\n",
    "    result_columns\n",
    ")"
   ]
  },
  {
   "cell_type": "markdown",
   "metadata": {},
   "source": [
    "### TF-IDF Vectorizer"
   ]
  },
  {
   "cell_type": "code",
   "execution_count": 11,
   "metadata": {},
   "outputs": [
    {
     "name": "stdout",
     "output_type": "stream",
     "text": [
      "Accuracy:\n",
      "\tAverage: 0.758\n",
      "\tStandard Deviation: 0.014\n",
      "ROC AUC:\n",
      "\tAverage: 0.847\n",
      "\tStandard Deviation: 0.012\n"
     ]
    }
   ],
   "source": [
    "tfidf_logistic_pipe = Pipeline([(\"vectorize\", TfidfVectorizer()), (\"model\", LogisticRegression())])\n",
    "results = score_model(\n",
    "    \"Tfidf Logistic\",\n",
    "    tfidf_logistic_pipe,\n",
    "    results,\n",
    "    result_columns\n",
    ")"
   ]
  },
  {
   "cell_type": "markdown",
   "metadata": {},
   "source": [
    "### Hashing Vectorizer"
   ]
  },
  {
   "cell_type": "code",
   "execution_count": 12,
   "metadata": {},
   "outputs": [
    {
     "name": "stdout",
     "output_type": "stream",
     "text": [
      "Accuracy:\n",
      "\tAverage: 0.748\n",
      "\tStandard Deviation: 0.015\n",
      "ROC AUC:\n",
      "\tAverage: 0.822\n",
      "\tStandard Deviation: 0.007\n"
     ]
    }
   ],
   "source": [
    "hashing_logistic_pipe = Pipeline([(\"vectorize\", HashingVectorizer()), (\"model\", LogisticRegression())])\n",
    "results = score_model(\n",
    "    \"Hashing Logistic\",\n",
    "    hashing_logistic_pipe,\n",
    "    results,\n",
    "    result_columns\n",
    ")"
   ]
  },
  {
   "cell_type": "code",
   "execution_count": 13,
   "metadata": {},
   "outputs": [
    {
     "name": "stdout",
     "output_type": "stream",
     "text": [
      "Main features: ['great', 'love', 'excellent', 'easy', 'only']\n"
     ]
    },
    {
     "data": {
      "text/plain": [
       "0.346460253459811"
      ]
     },
     "execution_count": 13,
     "metadata": {},
     "output_type": "execute_result"
    },
    {
     "data": {
      "image/png": "[encoded data removed]",
      "text/plain": [
       "<Figure size 432x288 with 1 Axes>"
      ]
     },
     "metadata": {},
     "output_type": "display_data"
    }
   ],
   "source": [
    "model_metrics(CountVectorizer, LogisticRegression)"
   ]
  },
  {
   "cell_type": "markdown",
   "metadata": {},
   "source": [
    "## SVM model"
   ]
  },
  {
   "cell_type": "markdown",
   "metadata": {},
   "source": [
    "### Count Vectorizer"
   ]
  },
  {
   "cell_type": "code",
   "execution_count": 14,
   "metadata": {},
   "outputs": [
    {
     "name": "stdout",
     "output_type": "stream",
     "text": [
      "Accuracy:\n",
      "\tAverage: 0.751\n",
      "\tStandard Deviation: 0.018\n",
      "ROC AUC:\n",
      "\tAverage: 0.807\n",
      "\tStandard Deviation: 0.027\n"
     ]
    }
   ],
   "source": [
    "svm_count_pipe = Pipeline([(\"vectorize\", CountVectorizer()), (\"model\", LinearSVC())])\n",
    "results = score_model(\n",
    "    \"Count SVM\",\n",
    "    svm_count_pipe,\n",
    "    results,\n",
    "    result_columns\n",
    ")"
   ]
  },
  {
   "cell_type": "markdown",
   "metadata": {},
   "source": [
    "### TF-IDF Vectorizer"
   ]
  },
  {
   "cell_type": "code",
   "execution_count": 15,
   "metadata": {},
   "outputs": [
    {
     "name": "stdout",
     "output_type": "stream",
     "text": [
      "Accuracy:\n",
      "\tAverage: 0.769\n",
      "\tStandard Deviation: 0.013\n",
      "ROC AUC:\n",
      "\tAverage: 0.840\n",
      "\tStandard Deviation: 0.014\n"
     ]
    }
   ],
   "source": [
    "svm_tfidf_pipe = Pipeline([(\"vectorize\", TfidfVectorizer()), (\"model\", LinearSVC())])\n",
    "results = score_model(\n",
    "    \"TF-IDF SVM\",\n",
    "    svm_tfidf_pipe,\n",
    "    results,\n",
    "    result_columns\n",
    ")"
   ]
  },
  {
   "cell_type": "markdown",
   "metadata": {},
   "source": [
    "### Hashing Vectorizer"
   ]
  },
  {
   "cell_type": "code",
   "execution_count": 16,
   "metadata": {},
   "outputs": [
    {
     "name": "stdout",
     "output_type": "stream",
     "text": [
      "Accuracy:\n",
      "\tAverage: 0.774\n",
      "\tStandard Deviation: 0.017\n",
      "ROC AUC:\n",
      "\tAverage: 0.839\n",
      "\tStandard Deviation: 0.012\n"
     ]
    }
   ],
   "source": [
    "svm_hashing_pipe = Pipeline([(\"vectorize\", HashingVectorizer()), (\"model\", LinearSVC())])\n",
    "results = score_model(\n",
    "    \"Hashing SVM\",\n",
    "    svm_hashing_pipe,\n",
    "    results,\n",
    "    result_columns\n",
    ")"
   ]
  },
  {
   "cell_type": "markdown",
   "metadata": {},
   "source": [
    "## SGD model"
   ]
  },
  {
   "cell_type": "markdown",
   "metadata": {},
   "source": [
    "### Count Vectorizer"
   ]
  },
  {
   "cell_type": "code",
   "execution_count": 17,
   "metadata": {},
   "outputs": [
    {
     "name": "stderr",
     "output_type": "stream",
     "text": [
      "C:\\Users\\agasp\\Anaconda3\\lib\\site-packages\\sklearn\\linear_model\\stochastic_gradient.py:128: FutureWarning: max_iter and tol parameters have been added in <class 'sklearn.linear_model.stochastic_gradient.SGDClassifier'> in 0.19. If both are left unset, they default to max_iter=5 and tol=None. If tol is not None, max_iter defaults to max_iter=1000. From 0.21, default max_iter will be 1000, and default tol will be 1e-3.\n",
      "  \"and default tol will be 1e-3.\" % type(self), FutureWarning)\n",
      "C:\\Users\\agasp\\Anaconda3\\lib\\site-packages\\sklearn\\linear_model\\stochastic_gradient.py:128: FutureWarning: max_iter and tol parameters have been added in <class 'sklearn.linear_model.stochastic_gradient.SGDClassifier'> in 0.19. If both are left unset, they default to max_iter=5 and tol=None. If tol is not None, max_iter defaults to max_iter=1000. From 0.21, default max_iter will be 1000, and default tol will be 1e-3.\n",
      "  \"and default tol will be 1e-3.\" % type(self), FutureWarning)\n",
      "C:\\Users\\agasp\\Anaconda3\\lib\\site-packages\\sklearn\\linear_model\\stochastic_gradient.py:128: FutureWarning: max_iter and tol parameters have been added in <class 'sklearn.linear_model.stochastic_gradient.SGDClassifier'> in 0.19. If both are left unset, they default to max_iter=5 and tol=None. If tol is not None, max_iter defaults to max_iter=1000. From 0.21, default max_iter will be 1000, and default tol will be 1e-3.\n",
      "  \"and default tol will be 1e-3.\" % type(self), FutureWarning)\n"
     ]
    },
    {
     "name": "stdout",
     "output_type": "stream",
     "text": [
      "Accuracy:\n",
      "\tAverage: 0.752\n",
      "\tStandard Deviation: 0.014\n",
      "ROC AUC:\n",
      "\tAverage: 0.788\n",
      "\tStandard Deviation: 0.021\n"
     ]
    },
    {
     "name": "stderr",
     "output_type": "stream",
     "text": [
      "C:\\Users\\agasp\\Anaconda3\\lib\\site-packages\\sklearn\\linear_model\\stochastic_gradient.py:128: FutureWarning: max_iter and tol parameters have been added in <class 'sklearn.linear_model.stochastic_gradient.SGDClassifier'> in 0.19. If both are left unset, they default to max_iter=5 and tol=None. If tol is not None, max_iter defaults to max_iter=1000. From 0.21, default max_iter will be 1000, and default tol will be 1e-3.\n",
      "  \"and default tol will be 1e-3.\" % type(self), FutureWarning)\n",
      "C:\\Users\\agasp\\Anaconda3\\lib\\site-packages\\sklearn\\linear_model\\stochastic_gradient.py:128: FutureWarning: max_iter and tol parameters have been added in <class 'sklearn.linear_model.stochastic_gradient.SGDClassifier'> in 0.19. If both are left unset, they default to max_iter=5 and tol=None. If tol is not None, max_iter defaults to max_iter=1000. From 0.21, default max_iter will be 1000, and default tol will be 1e-3.\n",
      "  \"and default tol will be 1e-3.\" % type(self), FutureWarning)\n",
      "C:\\Users\\agasp\\Anaconda3\\lib\\site-packages\\sklearn\\linear_model\\stochastic_gradient.py:128: FutureWarning: max_iter and tol parameters have been added in <class 'sklearn.linear_model.stochastic_gradient.SGDClassifier'> in 0.19. If both are left unset, they default to max_iter=5 and tol=None. If tol is not None, max_iter defaults to max_iter=1000. From 0.21, default max_iter will be 1000, and default tol will be 1e-3.\n",
      "  \"and default tol will be 1e-3.\" % type(self), FutureWarning)\n"
     ]
    }
   ],
   "source": [
    "sgd_count_pipe = Pipeline([(\"vectorize\", CountVectorizer()), (\"model\", SGDClassifier())])\n",
    "results = score_model(\n",
    "    \"Count SGD\",\n",
    "    sgd_count_pipe,\n",
    "    results,\n",
    "    result_columns\n",
    ")"
   ]
  },
  {
   "cell_type": "markdown",
   "metadata": {},
   "source": [
    "### TF-IDF Vectorizer"
   ]
  },
  {
   "cell_type": "code",
   "execution_count": 18,
   "metadata": {
    "scrolled": true
   },
   "outputs": [
    {
     "name": "stderr",
     "output_type": "stream",
     "text": [
      "C:\\Users\\agasp\\Anaconda3\\lib\\site-packages\\sklearn\\linear_model\\stochastic_gradient.py:128: FutureWarning: max_iter and tol parameters have been added in <class 'sklearn.linear_model.stochastic_gradient.SGDClassifier'> in 0.19. If both are left unset, they default to max_iter=5 and tol=None. If tol is not None, max_iter defaults to max_iter=1000. From 0.21, default max_iter will be 1000, and default tol will be 1e-3.\n",
      "  \"and default tol will be 1e-3.\" % type(self), FutureWarning)\n",
      "C:\\Users\\agasp\\Anaconda3\\lib\\site-packages\\sklearn\\linear_model\\stochastic_gradient.py:128: FutureWarning: max_iter and tol parameters have been added in <class 'sklearn.linear_model.stochastic_gradient.SGDClassifier'> in 0.19. If both are left unset, they default to max_iter=5 and tol=None. If tol is not None, max_iter defaults to max_iter=1000. From 0.21, default max_iter will be 1000, and default tol will be 1e-3.\n",
      "  \"and default tol will be 1e-3.\" % type(self), FutureWarning)\n",
      "C:\\Users\\agasp\\Anaconda3\\lib\\site-packages\\sklearn\\linear_model\\stochastic_gradient.py:128: FutureWarning: max_iter and tol parameters have been added in <class 'sklearn.linear_model.stochastic_gradient.SGDClassifier'> in 0.19. If both are left unset, they default to max_iter=5 and tol=None. If tol is not None, max_iter defaults to max_iter=1000. From 0.21, default max_iter will be 1000, and default tol will be 1e-3.\n",
      "  \"and default tol will be 1e-3.\" % type(self), FutureWarning)\n"
     ]
    },
    {
     "name": "stdout",
     "output_type": "stream",
     "text": [
      "Accuracy:\n",
      "\tAverage: 0.752\n",
      "\tStandard Deviation: 0.016\n",
      "ROC AUC:\n",
      "\tAverage: 0.823\n",
      "\tStandard Deviation: 0.017\n"
     ]
    },
    {
     "name": "stderr",
     "output_type": "stream",
     "text": [
      "C:\\Users\\agasp\\Anaconda3\\lib\\site-packages\\sklearn\\linear_model\\stochastic_gradient.py:128: FutureWarning: max_iter and tol parameters have been added in <class 'sklearn.linear_model.stochastic_gradient.SGDClassifier'> in 0.19. If both are left unset, they default to max_iter=5 and tol=None. If tol is not None, max_iter defaults to max_iter=1000. From 0.21, default max_iter will be 1000, and default tol will be 1e-3.\n",
      "  \"and default tol will be 1e-3.\" % type(self), FutureWarning)\n",
      "C:\\Users\\agasp\\Anaconda3\\lib\\site-packages\\sklearn\\linear_model\\stochastic_gradient.py:128: FutureWarning: max_iter and tol parameters have been added in <class 'sklearn.linear_model.stochastic_gradient.SGDClassifier'> in 0.19. If both are left unset, they default to max_iter=5 and tol=None. If tol is not None, max_iter defaults to max_iter=1000. From 0.21, default max_iter will be 1000, and default tol will be 1e-3.\n",
      "  \"and default tol will be 1e-3.\" % type(self), FutureWarning)\n",
      "C:\\Users\\agasp\\Anaconda3\\lib\\site-packages\\sklearn\\linear_model\\stochastic_gradient.py:128: FutureWarning: max_iter and tol parameters have been added in <class 'sklearn.linear_model.stochastic_gradient.SGDClassifier'> in 0.19. If both are left unset, they default to max_iter=5 and tol=None. If tol is not None, max_iter defaults to max_iter=1000. From 0.21, default max_iter will be 1000, and default tol will be 1e-3.\n",
      "  \"and default tol will be 1e-3.\" % type(self), FutureWarning)\n"
     ]
    }
   ],
   "source": [
    "sgd_tfidf_pipe = Pipeline([(\"vectorize\", TfidfVectorizer()), (\"model\", SGDClassifier())])\n",
    "results = score_model(\n",
    "    \"TF-IDF SGD\",\n",
    "    sgd_tfidf_pipe,\n",
    "    results,\n",
    "    result_columns\n",
    ")"
   ]
  },
  {
   "cell_type": "markdown",
   "metadata": {},
   "source": [
    "### Hashing Vectorizer"
   ]
  },
  {
   "cell_type": "code",
   "execution_count": 19,
   "metadata": {},
   "outputs": [
    {
     "name": "stderr",
     "output_type": "stream",
     "text": [
      "C:\\Users\\agasp\\Anaconda3\\lib\\site-packages\\sklearn\\linear_model\\stochastic_gradient.py:128: FutureWarning: max_iter and tol parameters have been added in <class 'sklearn.linear_model.stochastic_gradient.SGDClassifier'> in 0.19. If both are left unset, they default to max_iter=5 and tol=None. If tol is not None, max_iter defaults to max_iter=1000. From 0.21, default max_iter will be 1000, and default tol will be 1e-3.\n",
      "  \"and default tol will be 1e-3.\" % type(self), FutureWarning)\n",
      "C:\\Users\\agasp\\Anaconda3\\lib\\site-packages\\sklearn\\linear_model\\stochastic_gradient.py:128: FutureWarning: max_iter and tol parameters have been added in <class 'sklearn.linear_model.stochastic_gradient.SGDClassifier'> in 0.19. If both are left unset, they default to max_iter=5 and tol=None. If tol is not None, max_iter defaults to max_iter=1000. From 0.21, default max_iter will be 1000, and default tol will be 1e-3.\n",
      "  \"and default tol will be 1e-3.\" % type(self), FutureWarning)\n",
      "C:\\Users\\agasp\\Anaconda3\\lib\\site-packages\\sklearn\\linear_model\\stochastic_gradient.py:128: FutureWarning: max_iter and tol parameters have been added in <class 'sklearn.linear_model.stochastic_gradient.SGDClassifier'> in 0.19. If both are left unset, they default to max_iter=5 and tol=None. If tol is not None, max_iter defaults to max_iter=1000. From 0.21, default max_iter will be 1000, and default tol will be 1e-3.\n",
      "  \"and default tol will be 1e-3.\" % type(self), FutureWarning)\n",
      "C:\\Users\\agasp\\Anaconda3\\lib\\site-packages\\sklearn\\linear_model\\stochastic_gradient.py:128: FutureWarning: max_iter and tol parameters have been added in <class 'sklearn.linear_model.stochastic_gradient.SGDClassifier'> in 0.19. If both are left unset, they default to max_iter=5 and tol=None. If tol is not None, max_iter defaults to max_iter=1000. From 0.21, default max_iter will be 1000, and default tol will be 1e-3.\n",
      "  \"and default tol will be 1e-3.\" % type(self), FutureWarning)\n",
      "C:\\Users\\agasp\\Anaconda3\\lib\\site-packages\\sklearn\\linear_model\\stochastic_gradient.py:128: FutureWarning: max_iter and tol parameters have been added in <class 'sklearn.linear_model.stochastic_gradient.SGDClassifier'> in 0.19. If both are left unset, they default to max_iter=5 and tol=None. If tol is not None, max_iter defaults to max_iter=1000. From 0.21, default max_iter will be 1000, and default tol will be 1e-3.\n",
      "  \"and default tol will be 1e-3.\" % type(self), FutureWarning)\n",
      "C:\\Users\\agasp\\Anaconda3\\lib\\site-packages\\sklearn\\linear_model\\stochastic_gradient.py:128: FutureWarning: max_iter and tol parameters have been added in <class 'sklearn.linear_model.stochastic_gradient.SGDClassifier'> in 0.19. If both are left unset, they default to max_iter=5 and tol=None. If tol is not None, max_iter defaults to max_iter=1000. From 0.21, default max_iter will be 1000, and default tol will be 1e-3.\n",
      "  \"and default tol will be 1e-3.\" % type(self), FutureWarning)\n"
     ]
    },
    {
     "name": "stdout",
     "output_type": "stream",
     "text": [
      "Accuracy:\n",
      "\tAverage: 0.747\n",
      "\tStandard Deviation: 0.009\n",
      "ROC AUC:\n",
      "\tAverage: 0.821\n",
      "\tStandard Deviation: 0.020\n"
     ]
    }
   ],
   "source": [
    "sgd_hashing_pipe = Pipeline([(\"vectorize\", HashingVectorizer()), (\"model\", SGDClassifier())])\n",
    "results = score_model(\n",
    "    \"Hashing SGD\",\n",
    "    sgd_hashing_pipe,\n",
    "    results,\n",
    "    result_columns\n",
    ")"
   ]
  },
  {
   "cell_type": "markdown",
   "metadata": {},
   "source": [
    "## Ridge regression"
   ]
  },
  {
   "cell_type": "markdown",
   "metadata": {},
   "source": [
    "### Count Vectorizer"
   ]
  },
  {
   "cell_type": "code",
   "execution_count": 20,
   "metadata": {},
   "outputs": [
    {
     "name": "stdout",
     "output_type": "stream",
     "text": [
      "Accuracy:\n",
      "\tAverage: 0.748\n",
      "\tStandard Deviation: 0.013\n",
      "ROC AUC:\n",
      "\tAverage: 0.796\n",
      "\tStandard Deviation: 0.020\n"
     ]
    }
   ],
   "source": [
    "ridge_count_pipe = Pipeline([(\"vectorize\", CountVectorizer()), (\"model\", RidgeClassifier())])\n",
    "results = score_model(\n",
    "    \"Count Ridge\",\n",
    "    ridge_count_pipe,\n",
    "    results,\n",
    "    result_columns\n",
    ")"
   ]
  },
  {
   "cell_type": "markdown",
   "metadata": {},
   "source": [
    "### TF-IDF Vectorizer"
   ]
  },
  {
   "cell_type": "code",
   "execution_count": 21,
   "metadata": {
    "scrolled": true
   },
   "outputs": [
    {
     "name": "stdout",
     "output_type": "stream",
     "text": [
      "Accuracy:\n",
      "\tAverage: 0.773\n",
      "\tStandard Deviation: 0.015\n",
      "ROC AUC:\n",
      "\tAverage: 0.843\n",
      "\tStandard Deviation: 0.011\n"
     ]
    }
   ],
   "source": [
    "ridge_tfidf_pipe = Pipeline([(\"vectorize\", TfidfVectorizer()), (\"model\", RidgeClassifier())])\n",
    "results = score_model(\n",
    "    \"TF-IDF Ridge\",\n",
    "    ridge_tfidf_pipe,\n",
    "    results,\n",
    "    result_columns\n",
    ")"
   ]
  },
  {
   "cell_type": "markdown",
   "metadata": {},
   "source": [
    "### Hashing Vectorizer"
   ]
  },
  {
   "cell_type": "code",
   "execution_count": 22,
   "metadata": {},
   "outputs": [
    {
     "name": "stdout",
     "output_type": "stream",
     "text": [
      "Accuracy:\n",
      "\tAverage: 0.771\n",
      "\tStandard Deviation: 0.020\n",
      "ROC AUC:\n",
      "\tAverage: 0.839\n",
      "\tStandard Deviation: 0.009\n"
     ]
    }
   ],
   "source": [
    "ridge_hashing_pipe = Pipeline([(\"vectorize\", HashingVectorizer()), (\"model\", RidgeClassifier())])\n",
    "results = score_model(\n",
    "    \"Hashing Ridge\",\n",
    "    ridge_hashing_pipe,\n",
    "    results,\n",
    "    result_columns\n",
    ")"
   ]
  },
  {
   "cell_type": "markdown",
   "metadata": {},
   "source": [
    "## Random Forest classifier"
   ]
  },
  {
   "cell_type": "markdown",
   "metadata": {},
   "source": [
    "### Count Vectorizer"
   ]
  },
  {
   "cell_type": "code",
   "execution_count": 23,
   "metadata": {},
   "outputs": [
    {
     "name": "stdout",
     "output_type": "stream",
     "text": [
      "Accuracy:\n",
      "\tAverage: 0.710\n",
      "\tStandard Deviation: 0.003\n",
      "ROC AUC:\n",
      "\tAverage: 0.748\n",
      "\tStandard Deviation: 0.008\n"
     ]
    }
   ],
   "source": [
    "random_forest_count_pipe = Pipeline([(\"vectorize\", CountVectorizer()), (\"model\", RandomForestClassifier())])\n",
    "results = score_model(\n",
    "    \"Count Random Forest\",\n",
    "    random_forest_count_pipe,\n",
    "    results,\n",
    "    result_columns\n",
    ")"
   ]
  },
  {
   "cell_type": "markdown",
   "metadata": {},
   "source": [
    "### TF-IDF Vectorizer"
   ]
  },
  {
   "cell_type": "code",
   "execution_count": 24,
   "metadata": {},
   "outputs": [
    {
     "name": "stdout",
     "output_type": "stream",
     "text": [
      "Accuracy:\n",
      "\tAverage: 0.721\n",
      "\tStandard Deviation: 0.009\n",
      "ROC AUC:\n",
      "\tAverage: 0.728\n",
      "\tStandard Deviation: 0.010\n"
     ]
    }
   ],
   "source": [
    "random_forest_tfidf_pipe = Pipeline([(\"vectorize\", TfidfVectorizer()), (\"model\", RandomForestClassifier())])\n",
    "results = score_model(\n",
    "    \"TF-IDF Random Forest\",\n",
    "    random_forest_tfidf_pipe,\n",
    "    results,\n",
    "    result_columns\n",
    ")"
   ]
  },
  {
   "cell_type": "markdown",
   "metadata": {},
   "source": [
    "### Hashing Vectorizer"
   ]
  },
  {
   "cell_type": "code",
   "execution_count": 25,
   "metadata": {},
   "outputs": [
    {
     "name": "stdout",
     "output_type": "stream",
     "text": [
      "Accuracy:\n",
      "\tAverage: 0.683\n",
      "\tStandard Deviation: 0.010\n",
      "ROC AUC:\n",
      "\tAverage: 0.738\n",
      "\tStandard Deviation: 0.021\n"
     ]
    }
   ],
   "source": [
    "random_forest_hashing_pipe = Pipeline([(\"vectorize\", HashingVectorizer()), (\"model\", RandomForestClassifier())])\n",
    "results = score_model(\n",
    "    \"Hashing Random Forest\",\n",
    "    random_forest_hashing_pipe,\n",
    "    results,\n",
    "    result_columns\n",
    ")"
   ]
  },
  {
   "cell_type": "markdown",
   "metadata": {},
   "source": [
    "## Gradient boosting classifier"
   ]
  },
  {
   "cell_type": "markdown",
   "metadata": {},
   "source": [
    "### Count Vectorizer"
   ]
  },
  {
   "cell_type": "code",
   "execution_count": 26,
   "metadata": {},
   "outputs": [
    {
     "name": "stdout",
     "output_type": "stream",
     "text": [
      "Accuracy:\n",
      "\tAverage: 0.735\n",
      "\tStandard Deviation: 0.013\n",
      "ROC AUC:\n",
      "\tAverage: 0.794\n",
      "\tStandard Deviation: 0.014\n"
     ]
    }
   ],
   "source": [
    "grad_boost_count_pipe = Pipeline([(\"vectorize\", CountVectorizer()), (\"model\", GradientBoostingClassifier())])\n",
    "results = score_model(\n",
    "    \"Count Gradient Boosting\",\n",
    "    grad_boost_count_pipe,\n",
    "    results,\n",
    "    result_columns\n",
    ")"
   ]
  },
  {
   "cell_type": "markdown",
   "metadata": {},
   "source": [
    "### TF-IDF Vectorizer"
   ]
  },
  {
   "cell_type": "code",
   "execution_count": 27,
   "metadata": {},
   "outputs": [
    {
     "name": "stdout",
     "output_type": "stream",
     "text": [
      "Accuracy:\n",
      "\tAverage: 0.717\n",
      "\tStandard Deviation: 0.009\n",
      "ROC AUC:\n",
      "\tAverage: 0.779\n",
      "\tStandard Deviation: 0.008\n"
     ]
    }
   ],
   "source": [
    "grad_boost_tfidf_pipe = Pipeline([(\"vectorize\", TfidfVectorizer()), (\"model\", GradientBoostingClassifier())])\n",
    "results = score_model(\n",
    "    \"TF-IDF Gradient Boosting\",\n",
    "    grad_boost_tfidf_pipe,\n",
    "    results,\n",
    "    result_columns\n",
    ")"
   ]
  },
  {
   "cell_type": "markdown",
   "metadata": {},
   "source": [
    "### Hashing Vectorizer"
   ]
  },
  {
   "cell_type": "code",
   "execution_count": 28,
   "metadata": {},
   "outputs": [
    {
     "name": "stdout",
     "output_type": "stream",
     "text": [
      "Accuracy:\n",
      "\tAverage: 0.715\n",
      "\tStandard Deviation: 0.003\n",
      "ROC AUC:\n",
      "\tAverage: 0.771\n",
      "\tStandard Deviation: 0.007\n"
     ]
    }
   ],
   "source": [
    "grad_boost_hashing_pipe = Pipeline([(\"vectorize\", HashingVectorizer()), (\"model\", GradientBoostingClassifier())])\n",
    "results = score_model(\n",
    "    \"Hashing Gradient Boosting\",\n",
    "    grad_boost_hashing_pipe,\n",
    "    results,\n",
    "    result_columns\n",
    ")"
   ]
  },
  {
   "cell_type": "markdown",
   "metadata": {},
   "source": [
    "# Result"
   ]
  },
  {
   "cell_type": "code",
   "execution_count": 29,
   "metadata": {},
   "outputs": [
    {
     "data": {
      "text/html": [
       "<div>\n",
       "<style scoped>\n",
       "    .dataframe tbody tr th:only-of-type {\n",
       "        vertical-align: middle;\n",
       "    }\n",
       "\n",
       "    .dataframe tbody tr th {\n",
       "        vertical-align: top;\n",
       "    }\n",
       "\n",
       "    .dataframe thead th {\n",
       "        text-align: right;\n",
       "    }\n",
       "</style>\n",
       "<table border=\"1\" class=\"dataframe\">\n",
       "  <thead>\n",
       "    <tr style=\"text-align: right;\">\n",
       "      <th></th>\n",
       "      <th>Accuracy</th>\n",
       "      <th>Accuracy_std</th>\n",
       "      <th>ROC_AUC</th>\n",
       "      <th>ROC_AUC_std</th>\n",
       "    </tr>\n",
       "  </thead>\n",
       "  <tbody>\n",
       "    <tr>\n",
       "      <th>Count Logistic baseline</th>\n",
       "      <td>0.774007</td>\n",
       "      <td>0.022582</td>\n",
       "      <td>0.831514</td>\n",
       "      <td>0.020428</td>\n",
       "    </tr>\n",
       "    <tr>\n",
       "      <th>Hashing SVM</th>\n",
       "      <td>0.773501</td>\n",
       "      <td>0.017250</td>\n",
       "      <td>0.839114</td>\n",
       "      <td>0.012279</td>\n",
       "    </tr>\n",
       "    <tr>\n",
       "      <th>TF-IDF Ridge</th>\n",
       "      <td>0.772501</td>\n",
       "      <td>0.015386</td>\n",
       "      <td>0.842990</td>\n",
       "      <td>0.011041</td>\n",
       "    </tr>\n",
       "    <tr>\n",
       "      <th>Hashing Ridge</th>\n",
       "      <td>0.770503</td>\n",
       "      <td>0.020007</td>\n",
       "      <td>0.839136</td>\n",
       "      <td>0.009058</td>\n",
       "    </tr>\n",
       "    <tr>\n",
       "      <th>TF-IDF SVM</th>\n",
       "      <td>0.768500</td>\n",
       "      <td>0.012855</td>\n",
       "      <td>0.839591</td>\n",
       "      <td>0.013871</td>\n",
       "    </tr>\n",
       "    <tr>\n",
       "      <th>Tfidf Logistic</th>\n",
       "      <td>0.757506</td>\n",
       "      <td>0.014095</td>\n",
       "      <td>0.846948</td>\n",
       "      <td>0.011506</td>\n",
       "    </tr>\n",
       "    <tr>\n",
       "      <th>TF-IDF SGD</th>\n",
       "      <td>0.752498</td>\n",
       "      <td>0.015666</td>\n",
       "      <td>0.822666</td>\n",
       "      <td>0.017161</td>\n",
       "    </tr>\n",
       "    <tr>\n",
       "      <th>Count SGD</th>\n",
       "      <td>0.751502</td>\n",
       "      <td>0.013725</td>\n",
       "      <td>0.788193</td>\n",
       "      <td>0.020840</td>\n",
       "    </tr>\n",
       "    <tr>\n",
       "      <th>Count SVM</th>\n",
       "      <td>0.750508</td>\n",
       "      <td>0.017736</td>\n",
       "      <td>0.807311</td>\n",
       "      <td>0.027137</td>\n",
       "    </tr>\n",
       "    <tr>\n",
       "      <th>Hashing Logistic</th>\n",
       "      <td>0.748004</td>\n",
       "      <td>0.014982</td>\n",
       "      <td>0.822183</td>\n",
       "      <td>0.006779</td>\n",
       "    </tr>\n",
       "    <tr>\n",
       "      <th>Count Ridge</th>\n",
       "      <td>0.748003</td>\n",
       "      <td>0.012899</td>\n",
       "      <td>0.796464</td>\n",
       "      <td>0.020072</td>\n",
       "    </tr>\n",
       "    <tr>\n",
       "      <th>Hashing SGD</th>\n",
       "      <td>0.746506</td>\n",
       "      <td>0.008663</td>\n",
       "      <td>0.821200</td>\n",
       "      <td>0.019929</td>\n",
       "    </tr>\n",
       "    <tr>\n",
       "      <th>Count Gradient Boosting</th>\n",
       "      <td>0.734509</td>\n",
       "      <td>0.012783</td>\n",
       "      <td>0.794072</td>\n",
       "      <td>0.014417</td>\n",
       "    </tr>\n",
       "    <tr>\n",
       "      <th>TF-IDF Random Forest</th>\n",
       "      <td>0.720502</td>\n",
       "      <td>0.009197</td>\n",
       "      <td>0.727797</td>\n",
       "      <td>0.009576</td>\n",
       "    </tr>\n",
       "    <tr>\n",
       "      <th>TF-IDF Gradient Boosting</th>\n",
       "      <td>0.716506</td>\n",
       "      <td>0.009066</td>\n",
       "      <td>0.778702</td>\n",
       "      <td>0.007531</td>\n",
       "    </tr>\n",
       "    <tr>\n",
       "      <th>Hashing Gradient Boosting</th>\n",
       "      <td>0.714502</td>\n",
       "      <td>0.002923</td>\n",
       "      <td>0.770991</td>\n",
       "      <td>0.006739</td>\n",
       "    </tr>\n",
       "    <tr>\n",
       "      <th>Count Random Forest</th>\n",
       "      <td>0.709502</td>\n",
       "      <td>0.002624</td>\n",
       "      <td>0.748366</td>\n",
       "      <td>0.007971</td>\n",
       "    </tr>\n",
       "    <tr>\n",
       "      <th>Hashing Random Forest</th>\n",
       "      <td>0.683495</td>\n",
       "      <td>0.010192</td>\n",
       "      <td>0.737512</td>\n",
       "      <td>0.020681</td>\n",
       "    </tr>\n",
       "  </tbody>\n",
       "</table>\n",
       "</div>"
      ],
      "text/plain": [
       "                           Accuracy  Accuracy_std   ROC_AUC  ROC_AUC_std\n",
       "Count Logistic baseline    0.774007      0.022582  0.831514     0.020428\n",
       "Hashing SVM                0.773501      0.017250  0.839114     0.012279\n",
       "TF-IDF Ridge               0.772501      0.015386  0.842990     0.011041\n",
       "Hashing Ridge              0.770503      0.020007  0.839136     0.009058\n",
       "TF-IDF SVM                 0.768500      0.012855  0.839591     0.013871\n",
       "Tfidf Logistic             0.757506      0.014095  0.846948     0.011506\n",
       "TF-IDF SGD                 0.752498      0.015666  0.822666     0.017161\n",
       "Count SGD                  0.751502      0.013725  0.788193     0.020840\n",
       "Count SVM                  0.750508      0.017736  0.807311     0.027137\n",
       "Hashing Logistic           0.748004      0.014982  0.822183     0.006779\n",
       "Count Ridge                0.748003      0.012899  0.796464     0.020072\n",
       "Hashing SGD                0.746506      0.008663  0.821200     0.019929\n",
       "Count Gradient Boosting    0.734509      0.012783  0.794072     0.014417\n",
       "TF-IDF Random Forest       0.720502      0.009197  0.727797     0.009576\n",
       "TF-IDF Gradient Boosting   0.716506      0.009066  0.778702     0.007531\n",
       "Hashing Gradient Boosting  0.714502      0.002923  0.770991     0.006739\n",
       "Count Random Forest        0.709502      0.002624  0.748366     0.007971\n",
       "Hashing Random Forest      0.683495      0.010192  0.737512     0.020681"
      ]
     },
     "execution_count": 29,
     "metadata": {},
     "output_type": "execute_result"
    }
   ],
   "source": [
    "results.sort_values(\"Accuracy\", ascending=False)"
   ]
  },
  {
   "cell_type": "markdown",
   "metadata": {},
   "source": [
    "В следующем ноутбуке (week3_peer_logistic) представлено исследование логистической регрессии и финальное решение для этой недели."
   ]
  },
  {
   "cell_type": "code",
   "execution_count": null,
   "metadata": {},
   "outputs": [],
   "source": []
  }
 ],
 "metadata": {
  "kernelspec": {
   "display_name": "Python 3",
   "language": "python",
   "name": "python3"
  },
  "language_info": {
   "codemirror_mode": {
    "name": "ipython",
    "version": 3
   },
   "file_extension": ".py",
   "mimetype": "text/x-python",
   "name": "python",
   "nbconvert_exporter": "python",
   "pygments_lexer": "ipython3",
   "version": "3.6.8"
  }
 },
 "nbformat": 4,
 "nbformat_minor": 2
}
