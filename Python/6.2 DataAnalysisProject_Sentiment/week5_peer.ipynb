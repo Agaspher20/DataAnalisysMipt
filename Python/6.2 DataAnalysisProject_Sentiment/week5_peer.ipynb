{
 "cells": [
  {
   "cell_type": "markdown",
   "metadata": {},
   "source": [
    "# Неделя 5. Парсинг веб-страниц.\n",
    "В этом задании вы потренеруетесь парсить веб-страницы. Это умение пригодится вам, когда возникнет потребность самостоятельно собрать выборку для построения модели, будь то тексты или какая-та другая информация с общедоступных веб-страниц. В рамках данного проекта это случится уже в задании следующей недели.\n",
    "\n",
    "**Инструкция**\n",
    "\n",
    "1. Изучите блокнот с примерами парсинга страниц (в аттаче)\n",
    "2. Поэкспериментируйте с парсингом любой страницы на ваш вкус, бегло просмотрите документацию библиотек beautiful soup и requests. При парсинге вам в любом случае потребуется смотреть на html-код страницы, чтобы понять, какие элементы вас интересуют.\n",
    "3. Чтобы продемонстрировать, что вы разобрались, как использовать requests и beautiful soup, распарсите:\n",
    "\n",
    "    а) из [статьи](https://en.wikipedia.org/wiki/Bias-variance_tradeoff) все заголовки верхнего уровня;\n",
    "    \n",
    "    б) со [страницы](https://en.wikipedia.org/wiki/Category:Machine_learning_algorithms) названия всех статей в категории Machine Learning Algorithms"
   ]
  },
  {
   "cell_type": "code",
   "execution_count": null,
   "metadata": {},
   "outputs": [],
   "source": []
  }
 ],
 "metadata": {
  "kernelspec": {
   "display_name": "Python 3",
   "language": "python",
   "name": "python3"
  },
  "language_info": {
   "codemirror_mode": {
    "name": "ipython",
    "version": 3
   },
   "file_extension": ".py",
   "mimetype": "text/x-python",
   "name": "python",
   "nbconvert_exporter": "python",
   "pygments_lexer": "ipython3",
   "version": "3.6.5"
  }
 },
 "nbformat": 4,
 "nbformat_minor": 2
}
