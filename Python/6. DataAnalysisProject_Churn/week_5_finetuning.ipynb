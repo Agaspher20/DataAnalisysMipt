{
 "cells": [
  {
   "cell_type": "markdown",
   "metadata": {},
   "source": [
    "# Peer-graded Assignment: Эксперименты с моделью\n",
    "\n",
    "На прошлой неделе вы поучаствовали в соревновании на kaggle и, наверняка, большинство успешно справилось с прохождением baseline, а значит пора двигаться дальше - заняться оптимизацией модели, провести серию экспериментов и построить сильное финальное решения.\n",
    "\n",
    "В этом задании вам нужно провести ряд эскпериментов, оценить качество полученных в процессе экспериментирования моделей и выбрать лучшее решение. "
   ]
  },
  {
   "cell_type": "markdown",
   "metadata": {},
   "source": [
    "Задание будет оцениваться на основании загруженного jupyther notebook и развернутых ответов на поставленные вопросы.\n",
    "\n",
    "## Загрузка библиотек"
   ]
  },
  {
   "cell_type": "code",
   "execution_count": 1,
   "metadata": {},
   "outputs": [],
   "source": [
    "import pandas as pd\n",
    "import random\n",
    "import numpy as np\n",
    "from scipy.sparse import coo_matrix, hstack\n",
    "from matplotlib import pyplot as plt\n",
    "from sklearn.model_selection import StratifiedKFold\n",
    "from sklearn.preprocessing import StandardScaler\n",
    "from sklearn.preprocessing import LabelEncoder\n",
    "from sklearn.preprocessing import OneHotEncoder\n",
    "from sklearn.preprocessing import PolynomialFeatures\n",
    "from sklearn.pipeline import Pipeline\n",
    "\n",
    "from sklearn.metrics import roc_curve, precision_recall_curve, f1_score, roc_auc_score, recall_score, precision_score, log_loss, make_scorer\n",
    "\n",
    "from sklearn.linear_model import RidgeClassifier\n",
    "from sklearn.ensemble import RandomForestClassifier\n",
    "from sklearn.ensemble import GradientBoostingClassifier\n",
    "\n",
    "seed = 1903\n",
    "first_categorial_index = 190"
   ]
  },
  {
   "cell_type": "markdown",
   "metadata": {},
   "source": [
    "Объявим функции, необходимые для построения базовой модели"
   ]
  },
  {
   "cell_type": "code",
   "execution_count": 2,
   "metadata": {},
   "outputs": [],
   "source": [
    "def fill_numericna(train_frame, test_frame, averageCalculator):\n",
    "    \"\"\" Функция заполняет значения в числовом фрейме значениями, посчитанными averageCalculator. \"\"\"\n",
    "    \n",
    "    # Посчитаем средние по колонкам\n",
    "    numeric_avgs = averageCalculator(train_frame)\n",
    "    \n",
    "    # Оставим только те колонки, в которых среднее значение не равно NaN, т.к. в таких колонках совсем нет значений\n",
    "    numeric_avgs = numeric_avgs.dropna()\n",
    "    dropped_columns = train_frame.columns.drop(numeric_avgs.index)\n",
    "    n_frame_train = train_frame[list(numeric_avgs.index)]\n",
    "    n_frame_test = test_frame[list(numeric_avgs.index)]\n",
    "    \n",
    "    # Заполним пропущенные численные значения средними\n",
    "    n_frame_train = n_frame_train.fillna(numeric_avgs, axis=0)\n",
    "    n_frame_test = n_frame_test.fillna(numeric_avgs, axis=0)\n",
    "    return (n_frame_train, n_frame_test, dropped_columns)\n",
    "\n",
    "def fill_numericna_means(train_frame, test_frame):\n",
    "    \"\"\" Функция заполняет значения в числовом фрейме средними и удаляет те колонки, в которых значений нет. \"\"\"\n",
    "    return fill_numericna(\n",
    "        train_frame,\n",
    "        test_frame,\n",
    "        lambda f: f.mean(axis=0, skipna=True))\n",
    "\n",
    "def fill_categorial_nav(train_frame, test_frame):\n",
    "    return train_frame.fillna(\"NaV\"), test_frame.fillna(\"NaV\")\n",
    "\n",
    "def remove_constant_features(frame, min_count=2):\n",
    "    \"\"\"Функция удаляет колонки, которые содержат только одно значение.\"\"\"\n",
    "    \n",
    "    # Посчитаем количества уникальных значений по колонкам\n",
    "    unique_counts = frame.nunique()\n",
    "    # Удалим колонки с количеством значений меньшим min_count\n",
    "    columns_to_drop = unique_counts[unique_counts < min_count].index\n",
    "    \n",
    "    return (frame.drop(columns=columns_to_drop), columns_to_drop)\n",
    "\n",
    "class MatrixLabelEncoder:\n",
    "    \"\"\" Класс кодирует категории числами от 0 до n, где n количество категорий в колонке. \"\"\"\n",
    "    \n",
    "    def __init__(self):\n",
    "        self.encoders = []\n",
    "    \n",
    "    def fit(self, matrix):\n",
    "        for column_number in range(matrix.shape[1]):\n",
    "            column = matrix[:,column_number]\n",
    "            labelEncoder = LabelEncoder().fit(column)\n",
    "            self.encoders.append(labelEncoder)\n",
    "        return self\n",
    "    \n",
    "    def transform(self, matrix):\n",
    "        transformed = np.empty(matrix.shape)\n",
    "        for column_number in range(matrix.shape[1]):\n",
    "            labelEncoder = self.encoders[column_number]\n",
    "            num_column = labelEncoder.transform(matrix[:,column_number])\n",
    "            for row_number, val in enumerate(num_column):\n",
    "                transformed[row_number, column_number] = val\n",
    "        return transformed\n",
    "    \n",
    "class CompositeEncoder:\n",
    "    \"\"\" Класс принимает набор фабрик с методами fit и transform и последовательно применяет их \"\"\"\n",
    "    def __init__(self, encoder_factories):\n",
    "        self.encoder_factories = encoder_factories\n",
    "        \n",
    "    def fit(self, matrix):\n",
    "        encoders = []\n",
    "        transformed = matrix\n",
    "        for encoder_factory in self.encoder_factories:\n",
    "            encoder = encoder_factory().fit(transformed)\n",
    "            encoders.append(encoder)\n",
    "            transformed = encoder.transform(transformed)\n",
    "        self.encoders = encoders\n",
    "        return self\n",
    "\n",
    "    def transform(self, matrix):\n",
    "        for encoder in self.encoders:\n",
    "            matrix = encoder.transform(matrix)\n",
    "        return matrix\n",
    "    \n",
    "def predict_ridge_proba(X, model):\n",
    "    \"\"\" Функция возвращает вероятности предсказаний для класса churn модель Ridge \"\"\"\n",
    "    # Поскольку RidgeClassifier не обладает функцией predict_proba приходится считать его вручную\n",
    "    # Подробнее можно посмотреть здесь:\n",
    "    # https://www.codesd.com/item/scikit-learn-ridge-classifier-extract-class-probabilities.html\n",
    "    func = model.decision_function(X)\n",
    "    return np.exp(func) / (1 + np.exp(func))\n",
    "\n",
    "def predict_model_proba(X, model):\n",
    "    \"\"\" Функция возвращает вероятности предсказаний для класса churn \"\"\"\n",
    "    return list(zip(*model.predict_proba(X)))[1]\n",
    "    \n",
    "def stratifiedKFold_fscore(\n",
    "    frame,\n",
    "    labels,\n",
    "    model_factory,\n",
    "    process_frame,\n",
    "    frame_to_matrix,\n",
    "    numeric_features,\n",
    "    categorial_features,\n",
    "    predict_probabilities,\n",
    "    seed,\n",
    "    folds_count = 3):\n",
    "    \"\"\" Функция разбивает набор данных на folds_count, считает ROC-AUC на каждом фолде\n",
    "        и возвращает усредненное по фолдам значение.\n",
    "        Функция также возвращает модель, показавшую лучшее качество, её метрики и разделение данных.\n",
    "        Разделение данных нужно для того, чтобы строить метрики модели на данных, на которых она не обучалась.\"\"\"\n",
    "    skf = StratifiedKFold(n_splits=folds_count, shuffle=True, random_state=seed)\n",
    "    \n",
    "    best_model = None\n",
    "    best_score = 0\n",
    "    best_precision = 0\n",
    "    best_recall = 0\n",
    "    best_table = None\n",
    "    best_split = None\n",
    "    best_encoders = None\n",
    "    best_dropped_columns = None\n",
    "    metrics_sum = 0\n",
    "    for train_indices, test_indices in skf.split(frame, labels):\n",
    "        # Разобьем фрем на train и test с помощью функции process_frame\n",
    "        # Внутри такой функции мы можем по-разному обрабатывать признаки обучаясь только на train наборе.\n",
    "        train_frame, train_labels, test_frame, test_labels, dropped_numeric, dropped_categorial = process_frame(\n",
    "            frame.loc[train_indices, :],\n",
    "            labels.loc[train_indices, :],\n",
    "            frame.loc[test_indices, :],\n",
    "            labels.loc[test_indices, :],\n",
    "            numeric_features,\n",
    "            categorial_features)\n",
    "        numeric_cleaned = numeric_features.drop(dropped_numeric)\n",
    "        categorial_cleaned = categorial_features.drop(dropped_categorial)\n",
    "        # Преобразуем фреймы в матрицы.\n",
    "        # Тут можно выполнить финальное преобразование признаков, например масштабирование признаков.\n",
    "        # В функции frame_to_matrix энкодеры типа StandardScaler обучаются только на train признаках.\n",
    "        X_train, X_test, y_train, y_test, num_encoder, cat_encoder = frame_to_matrix(\n",
    "            train_frame,\n",
    "            test_frame,\n",
    "            train_labels,\n",
    "            test_labels,\n",
    "            numeric_cleaned,\n",
    "            categorial_cleaned)\n",
    "\n",
    "        model = model_factory()\n",
    "        # Обучим модель\n",
    "        model.fit(X_train, y_train)\n",
    "        \n",
    "        # Построим вероятности принадлежности к целевому классу\n",
    "        probabilities = predict_probabilities(X_test, model)\n",
    "        # Считаем roc auc score\n",
    "        rocAuc = roc_auc_score(y_test, probabilities)\n",
    "        metrics_sum += rocAuc\n",
    "        if(best_model is None or best_score < rocAuc):\n",
    "            # В случае, если модель лучше предыдущих сохраним её\n",
    "            # оценку, модель, матрицу ошибок и разделение данных\n",
    "            best_score = rocAuc\n",
    "            best_model = model\n",
    "            best_dropped_columns = (dropped_numeric, dropped_categorial)\n",
    "            best_encoders = (num_encoder, cat_encoder)\n",
    "            best_split = (train_frame, train_labels, test_frame, test_labels)\n",
    "    return (\n",
    "        metrics_sum/folds_count,\n",
    "        best_model,\n",
    "        best_score,\n",
    "        best_split,\n",
    "        best_encoders,\n",
    "        best_dropped_columns)\n",
    "\n",
    "def cleanup_frame_common(frame, numeric_features, categorial_features):\n",
    "    \"\"\"Функция делит признакина числовые и категориальные и удаляет константные признаки, содержащие только одно значение\"\"\"\n",
    "    # Разделим коллекции на группы - числовые и категориальные.\n",
    "    numeric_frame = frame[numeric_features].copy()\n",
    "    categorial_frame = frame[categorial_features].copy()\n",
    "    # Удалим вещественные колонки, содержащие одно и менее значений. 0 значений мы получаем, когда значения во всех строках Nan.\n",
    "    numeric_frame_no_const, dropped_const_numeric_columns = remove_constant_features(numeric_frame)\n",
    "    \n",
    "    # Удалим категориальные колонки, содержащие ноль значений. Если есть одно значение, то могут быть Nan, которые для\n",
    "    # категориальных признаков могут быть еще одной категорией (зависит от стратегии обработки).\n",
    "    categorial_frame_no_const, dropped_const_categorial_columns = remove_constant_features(categorial_frame, 1)\n",
    "    \n",
    "    # Восстановим фрейм и вернем вместе с ним список удаленных категориальных колонок.\n",
    "    return (pd.concat([numeric_frame, categorial_frame], axis=1),\n",
    "            list(dropped_const_numeric_columns),\n",
    "            list(dropped_const_categorial_columns))\n",
    "\n",
    "def process_frame(\n",
    "    train_frame,\n",
    "    train_labels,\n",
    "    test_frame,\n",
    "    test_labels,\n",
    "    numeric_features,\n",
    "    categorial_features,\n",
    "    fill_na_numerics,\n",
    "    fill_na_categorial):\n",
    "    \"\"\" Функция обрабатывает числовые признаки, заполняя пропуски. \"\"\"\n",
    "    \n",
    "    # Удалим константные колонки из train_frame, и такие-же колонки из test_frame\n",
    "    train_frame, const_numeric_columns, const_categorial_columns = cleanup_frame_common(\n",
    "        train_frame,\n",
    "        numeric_features,\n",
    "        categorial_features)\n",
    "    test_frame = test_frame.drop(columns=const_numeric_columns)\n",
    "    test_frame = test_frame.drop(columns=const_categorial_columns)\n",
    "    \n",
    "    numeric_features = numeric_features.drop(const_numeric_columns)\n",
    "    categorial_features = categorial_features.drop(const_categorial_columns)\n",
    "    \n",
    "    # Заполним пропущенные вещественные значения\n",
    "    numeric_train, numeric_test, dropped_numeric = fill_na_numerics(\n",
    "        train_frame[numeric_features],\n",
    "        test_frame[numeric_features])\n",
    "    \n",
    "    numeric_features = numeric_features.drop(dropped_numeric)\n",
    "    \n",
    "    # Заполним пропущенные категориальные значения строками \"NaV\" (Not a value)\n",
    "    categorial_train, categorial_test = fill_na_categorial(train_frame[categorial_features], test_frame[categorial_features])\n",
    "    \n",
    "    # Удалим категориальные колонки с одним единственным значением\n",
    "    categorial_train, dropped_categorial = remove_constant_features(categorial_train)\n",
    "    categorial_test = categorial_test.drop(columns=dropped_categorial)\n",
    "    \n",
    "    categorial_features = categorial_features.drop(dropped_categorial)\n",
    "    \n",
    "    # Список удаленных колонок\n",
    "    dropped_numeric = np.concatenate([\n",
    "        list(const_numeric_columns),\n",
    "        list(dropped_numeric)])\n",
    "    dropped_categorial = np.concatenate([\n",
    "        list(const_categorial_columns),\n",
    "        list(dropped_categorial)])\n",
    "    \n",
    "    return (pd.concat([numeric_train, categorial_train], axis=1),\n",
    "            train_labels,\n",
    "            pd.concat([numeric_test, categorial_test], axis=1),\n",
    "            test_labels,\n",
    "            dropped_numeric,\n",
    "            dropped_categorial)\n",
    "\n",
    "def process_frame_base(\n",
    "    train_frame,\n",
    "    train_labels,\n",
    "    test_frame,\n",
    "    test_labels,\n",
    "    numeric_features,\n",
    "    categorial_features):\n",
    "    return process_frame(\n",
    "        train_frame,\n",
    "        train_labels,\n",
    "        test_frame,\n",
    "        test_labels,\n",
    "        numeric_features,\n",
    "        categorial_features,\n",
    "        fill_numericna_means,\n",
    "        fill_categorial_nav)\n",
    "\n",
    "def scale_features(train_frame, test_frame):\n",
    "    train_numeric = train_frame.as_matrix()\n",
    "    \n",
    "    scaler = StandardScaler().fit(train_numeric)\n",
    "    \n",
    "    train_numeric = coo_matrix(scaler.transform(train_numeric))\n",
    "    test_numeric = coo_matrix(scaler.transform(test_frame.as_matrix()))\n",
    "    \n",
    "    return (train_numeric, test_numeric, scaler)\n",
    "\n",
    "def one_hot_features(train_frame, test_frame):\n",
    "    fit_matrix = pd.concat([train_frame, test_frame]).as_matrix()\n",
    "    \n",
    "    if fit_matrix.shape[0] == 0 or fit_matrix.shape[1] == 0:\n",
    "        return (coo_matrix(train_frame.as_matrix()), coo_matrix(test_frame.as_matrix()), None)\n",
    "    categorial_encoder = CompositeEncoder([MatrixLabelEncoder, OneHotEncoder]).fit(fit_matrix)\n",
    "    \n",
    "    train_categorial = categorial_encoder.transform(train_frame.as_matrix())\n",
    "    test_categorial = categorial_encoder.transform(test_frame.as_matrix())\n",
    "    \n",
    "    return (train_categorial, test_categorial, categorial_encoder)\n",
    "\n",
    "def int_label_features(train_frame, test_frame):\n",
    "    fit_matrix = pd.concat([train_frame, test_frame]).as_matrix()\n",
    "    categorial_encoder = MatrixLabelEncoder().fit(fit_matrix)\n",
    "    \n",
    "    train_categorial = categorial_encoder.transform(train_frame.as_matrix())\n",
    "    test_categorial = categorial_encoder.transform(test_frame.as_matrix())\n",
    "    \n",
    "    return (train_categorial, test_categorial, categorial_encoder)\n",
    "\n",
    "def frame_to_matrix_one_hot(\n",
    "    train_frame,\n",
    "    test_frame,\n",
    "    train_labels,\n",
    "    test_labels,\n",
    "    numeric_features,\n",
    "    categorial_features):\n",
    "    \"\"\" Функци преобразует фрейм к sparse матрице.\n",
    "        Масштабирует вещественные признаки и кодирует категориальные с помощью OneHotEncoding. \"\"\"\n",
    "    # Масштабируем вещественные признаки\n",
    "    train_numeric, test_numeric, scaler = scale_features(\n",
    "        train_frame[numeric_features],\n",
    "        test_frame[numeric_features])\n",
    "    \n",
    "    # Закодируем категориальные признаки значениями от 0 до n с помощью MatrixLabelEncoder\n",
    "    # One hot encode для категориальных признаков\n",
    "    train_categorial, test_categorial, categorial_encoder = one_hot_features(\n",
    "        train_frame[categorial_features],\n",
    "        test_frame[categorial_features])\n",
    "    \n",
    "    y_train = train_labels.as_matrix().flatten()\n",
    "    y_test = test_labels.as_matrix().flatten()\n",
    "    \n",
    "    return (hstack([train_numeric, train_categorial]),\n",
    "            hstack([test_numeric, test_categorial]),\n",
    "            y_train,\n",
    "            y_test,\n",
    "            scaler,\n",
    "            categorial_encoder)\n",
    "\n",
    "def frame_to_matrix_labeled(\n",
    "    train_frame,\n",
    "    test_frame,\n",
    "    train_labels,\n",
    "    test_labels,\n",
    "    numeric_features,\n",
    "    categorial_features):\n",
    "    \"\"\" Функция преобразует фрейм к sparse матрице.\n",
    "        Масштабирует вещественные признаки и кодирует категориальные целыми числами. \"\"\"\n",
    "    \n",
    "    # Масштабируем вещественные признаки\n",
    "    train_numeric, test_numeric, scaler = scale_features(\n",
    "        train_frame[numeric_features],\n",
    "        test_frame[numeric_features])\n",
    "    \n",
    "    # Закодируем категориальные признаки значениями от 0 до n с помощью MatrixLabelEncoder\n",
    "    train_categorial, test_categorial, categorial_encoder = int_label_features(\n",
    "        train_frame[categorial_features],\n",
    "        test_frame[categorial_features])\n",
    "    \n",
    "    y_train = train_labels.as_matrix().flatten()\n",
    "    y_test = test_labels.as_matrix().flatten()\n",
    "    \n",
    "    return (hstack([train_numeric, train_categorial]),\n",
    "            hstack([test_numeric, test_categorial]),\n",
    "            y_train,\n",
    "            y_test,\n",
    "            scaler,\n",
    "            categorial_encoder)\n",
    "\n",
    "def ridge_baseline_builder(frame, labels, numeric_features, categorial_features):\n",
    "    return stratifiedKFold_fscore(\n",
    "        frame,\n",
    "        labels,\n",
    "        RidgeClassifier,\n",
    "        process_frame_base,\n",
    "        frame_to_matrix_one_hot,\n",
    "        numeric_features,\n",
    "        categorial_features,\n",
    "        predict_ridge_proba,\n",
    "        seed)\n",
    "\n",
    "def random_forest_baseline_builder(frame, labels, numeric_features, categorial_features):\n",
    "    return stratifiedKFold_fscore(\n",
    "        frame,\n",
    "        labels,\n",
    "        RandomForestClassifier,\n",
    "        process_frame_base,\n",
    "        frame_to_matrix_labeled,\n",
    "        numeric_features,\n",
    "        categorial_features,\n",
    "        predict_model_proba,\n",
    "        seed)\n",
    "\n",
    "def gradient_boosting_baseline_builder(frame, labels, numeric_features, categorial_features):\n",
    "    return stratifiedKFold_fscore(\n",
    "        frame,\n",
    "        labels,\n",
    "        GradientBoostingClassifier,\n",
    "        process_frame_base,\n",
    "        frame_to_matrix_labeled,\n",
    "        numeric_features,\n",
    "        categorial_features,\n",
    "        predict_model_proba,\n",
    "        seed)"
   ]
  },
  {
   "cell_type": "markdown",
   "metadata": {},
   "source": [
    "Загрузим train dataset."
   ]
  },
  {
   "cell_type": "code",
   "execution_count": 3,
   "metadata": {},
   "outputs": [
    {
     "name": "stdout",
     "output_type": "stream",
     "text": [
      "(27999, 230)\n",
      "(27999, 1)\n"
     ]
    }
   ],
   "source": [
    "churn_data_frame = pd.read_csv(\"..\\..\\Data\\churn_data_train.csv\", \",\", dtype= { \"Var73\": np.float64 })\n",
    "churn_labels_frame = pd.read_csv(\"..\\..\\Data\\churn_labels_train.csv\", dtype= { \"labels\": np.int64 })\n",
    "print(churn_data_frame.shape)\n",
    "print(churn_labels_frame.shape)"
   ]
  },
  {
   "cell_type": "markdown",
   "metadata": {},
   "source": [
    "Выделим числовые и категориальные признаки."
   ]
  },
  {
   "cell_type": "code",
   "execution_count": 4,
   "metadata": {},
   "outputs": [],
   "source": [
    "numeric_columns = churn_data_frame.columns[:first_categorial_index]\n",
    "categorial_columns = churn_data_frame.columns[first_categorial_index:]"
   ]
  },
  {
   "cell_type": "markdown",
   "metadata": {},
   "source": [
    "Базовые модели"
   ]
  },
  {
   "cell_type": "code",
   "execution_count": 5,
   "metadata": {},
   "outputs": [],
   "source": [
    "ridge_base = ridge_baseline_builder(\n",
    "    churn_data_frame,\n",
    "    churn_labels_frame,\n",
    "    numeric_columns,\n",
    "    categorial_columns)\n",
    "random_forest_base = random_forest_baseline_builder(\n",
    "    churn_data_frame,\n",
    "    churn_labels_frame,\n",
    "    numeric_columns,\n",
    "    categorial_columns)\n",
    "gradient_boosting_base = gradient_boosting_baseline_builder(\n",
    "    churn_data_frame,\n",
    "    churn_labels_frame,\n",
    "    numeric_columns,\n",
    "    categorial_columns)"
   ]
  },
  {
   "cell_type": "markdown",
   "metadata": {},
   "source": [
    "На 2-й неделе я выбрал в качестве основной метрики F-Score, после 4-й неделе я решил изменить метрику. В качестве основной метрики я буду использовать ROC-AUC. Причина проста. Я максимизирую площадь под ROC кривой, а потом с помощью того-же F-Score могу подобрать оптимальный порог, чтобы максимизировать качество предсказаний.\n",
    "\n",
    "## Инструкции"
   ]
  },
  {
   "cell_type": "markdown",
   "metadata": {},
   "source": [
    "1\\. Начнем с простого. Давайте оценим как много объектов действительно нужно для построения качественной модели. Для обучения доступна достаточно большая выборка и может так оказаться, что начиная с некоторого момента рост размера обучающей выборки перестает влиять на качество модели. Постройте кривые обучения, обучая модель на выборках разного размера начиная с небольшого количество объектов в обучающей выборке и постепенно наращивая её размер с некоторым шагом. Обратите внимание на `sklearn.model_selection.learning_curve`"
   ]
  },
  {
   "cell_type": "code",
   "execution_count": 5,
   "metadata": {},
   "outputs": [],
   "source": [
    "def shuffle_frame(frame, labels):\n",
    "    \"\"\" Функция перемешивает фрейм \"\"\"\n",
    "    y_name = \"labels\"\n",
    "    frame[y_name] = labels[y_name]\n",
    "    frame = frame.sample(frac=1).reset_index(drop=True)\n",
    "    labels = pd.DataFrame(frame[y_name], columns=[y_name])\n",
    "    frame = frame.drop(columns=[y_name])\n",
    "    return frame, labels\n",
    "\n",
    "def half_frame(frame, labels):\n",
    "    \"\"\" Функция разделяет фрейм на два пополам \"\"\"\n",
    "    half_index = int(frame.shape[0]/2)\n",
    "    first_half = frame.loc[:half_index, :].reset_index(drop=True)\n",
    "    first_half_labels = labels.loc[:half_index, :].reset_index(drop=True)\n",
    "    second_half = frame.loc[half_index+1:, :].reset_index(drop=True)\n",
    "    second_half_labels = labels.loc[half_index+1:, :].reset_index(drop=True)\n",
    "    \n",
    "    first_half, first_half_labels = shuffle_frame(first_half, first_half_labels)\n",
    "    second_half, second_half_labels = shuffle_frame(second_half, second_half_labels)\n",
    "    return (first_half, first_half_labels, second_half, second_half_labels)\n",
    "\n",
    "def find_best_frame_size(\n",
    "    pinned_data,\n",
    "    data,\n",
    "    best_metric,\n",
    "    best_size,\n",
    "    round_size=5):\n",
    "    \"\"\" Функция находит размер фрейма, дающий наилучшее качество. \"\"\"\n",
    "    step_metric = best_metric\n",
    "    step_frame, step_labels = data\n",
    "    left_frame = None\n",
    "    better_metric = best_metric\n",
    "    better_size = best_size\n",
    "    \n",
    "    while step_metric >= best_metric:\n",
    "        step_frame, step_labels, left_frame, left_labels = half_frame(step_frame, step_labels)\n",
    "        \n",
    "        pinned_frame,pinned_labels = pinned_data\n",
    "        step_frame = pd.concat([pinned_frame, step_frame], axis=0, ignore_index=True)\n",
    "        step_labels = pd.concat([pinned_labels, step_labels], axis=0, ignore_index=True).astype(np.int64)\n",
    "        step_model = gradient_boosting_baseline_builder(\n",
    "            step_frame,\n",
    "            step_labels,\n",
    "            numeric_columns,\n",
    "            categorial_columns)\n",
    "        step_metric = np.round(step_model[0], round_size)\n",
    "        if(step_metric >= better_metric):\n",
    "            better_metric = step_metric\n",
    "            better_size = step_frame.shape\n",
    "        print (\"Frame_size %i: %.5f\\tInitial quality: %.5f\\tLeft_size: %i\" % (step_frame.shape[0], step_metric, best_metric, left_frame.shape[0]))\n",
    "    \n",
    "    if(left_frame.shape[0] < 14):\n",
    "        return (better_metric, better_size)\n",
    "    else:\n",
    "        return find_best_frame_size(\n",
    "            (step_frame, step_labels),\n",
    "            (left_frame, left_labels),\n",
    "            better_metric,\n",
    "            better_size)"
   ]
  },
  {
   "cell_type": "code",
   "execution_count": 28,
   "metadata": {},
   "outputs": [
    {
     "name": "stdout",
     "output_type": "stream",
     "text": [
      "Frame_size 14000: 0.69898\tInitial quality: 0.73199\tLeft_size: 13999\n",
      "Frame_size 21000: 0.71753\tInitial quality: 0.73199\tLeft_size: 6999\n",
      "Frame_size 24500: 0.72973\tInitial quality: 0.73199\tLeft_size: 3499\n",
      "Frame_size 26250: 0.72812\tInitial quality: 0.73199\tLeft_size: 1749\n",
      "Frame_size 27125: 0.73019\tInitial quality: 0.73199\tLeft_size: 874\n",
      "Frame_size 27563: 0.72796\tInitial quality: 0.73199\tLeft_size: 436\n",
      "Frame_size 27782: 0.72974\tInitial quality: 0.73199\tLeft_size: 217\n",
      "Frame_size 27891: 0.72876\tInitial quality: 0.73199\tLeft_size: 108\n",
      "Frame_size 27946: 0.73180\tInitial quality: 0.73199\tLeft_size: 53\n",
      "Frame_size 27973: 0.72954\tInitial quality: 0.73199\tLeft_size: 26\n",
      "Frame_size 27987: 0.72853\tInitial quality: 0.73199\tLeft_size: 12\n"
     ]
    },
    {
     "data": {
      "text/plain": [
       "(0.73199000000000003, (27999, 230))"
      ]
     },
     "execution_count": 28,
     "metadata": {},
     "output_type": "execute_result"
    }
   ],
   "source": [
    "find_best_frame_size(\n",
    "    (pd.DataFrame([], columns=churn_data_frame.columns), pd.DataFrame([], columns=churn_labels_frame.columns)),\n",
    "    (churn_data_frame, churn_labels_frame),\n",
    "    np.round(gradient_boosting_base[0], 5),\n",
    "    churn_data_frame.shape)"
   ]
  },
  {
   "cell_type": "code",
   "execution_count": 7,
   "metadata": {},
   "outputs": [],
   "source": [
    "from sklearn.model_selection import learning_curve\n",
    "\n",
    "# Удалим константные колонки\n",
    "curve_frame, const_numeric_columns, const_categorial_columns = cleanup_frame_common(\n",
    "    churn_data_frame,\n",
    "    numeric_columns,\n",
    "    categorial_columns)\n",
    "\n",
    "curve_num_features = numeric_columns.drop(const_numeric_columns)\n",
    "curve_cat_features = categorial_columns.drop(const_categorial_columns)\n",
    "\n",
    "# Посчитаем средние по колонкам\n",
    "numeric_curve_frame = curve_frame[curve_num_features]\n",
    "numeric_avgs = numeric_curve_frame.mean(axis=0, skipna=True)\n",
    "\n",
    "# Оставим только те колонки, в которых среднее значение не равно NaN, т.к. в таких колонках совсем нет значений\n",
    "numeric_avgs = numeric_avgs.dropna()\n",
    "dropped_numeric = numeric_curve_frame.columns.drop(numeric_avgs.index)\n",
    "numeric_curve_frame = numeric_curve_frame[list(numeric_avgs.index)]\n",
    "\n",
    "# Заполним пропущенные численные значения средними\n",
    "numeric_curve_frame = numeric_curve_frame.fillna(numeric_avgs, axis=0)\n",
    "curve_num_features = curve_num_features.drop(dropped_numeric)\n",
    "\n",
    "# Заполним пропущенные категориальные значения строками \"NaV\" (Not a value)\n",
    "cat_curve_frame = curve_frame[curve_cat_features].fillna(\"NaV\")\n",
    "\n",
    "# Удалим категориальные колонки с одним единственным значением\n",
    "cat_curve_frame, dropped_categorial = remove_constant_features(cat_curve_frame)\n",
    "curve_cat_features = curve_cat_features.drop(dropped_categorial)\n",
    "\n",
    "curve_cleaned_frame = pd.concat([numeric_curve_frame, cat_curve_frame], axis=1)\n",
    "\n",
    "# Масштабируем вещественные признаки\n",
    "scaler = StandardScaler().fit(numeric_curve_frame)\n",
    "curve_num_matrix = coo_matrix(scaler.transform(numeric_curve_frame))\n",
    "\n",
    "# Закодируем категориальные признаки значениями от 0 до n с помощью MatrixLabelEncoder\n",
    "categorial_encoder = MatrixLabelEncoder().fit(cat_curve_frame.as_matrix())\n",
    "curve_cat_matrix = categorial_encoder.transform(cat_curve_frame.as_matrix())\n",
    "\n",
    "curve_x = hstack([curve_num_matrix, curve_cat_matrix])\n",
    "curve_y = churn_labels_frame.as_matrix().flatten()\n",
    "\n",
    "item_counts, train_scores, test_scores = learning_curve(\n",
    "    GradientBoostingClassifier(),\n",
    "    curve_x,\n",
    "    curve_y,\n",
    "    scoring=lambda e, x, y: roc_auc_score(y, list(zip(*e.predict_proba(x)))[1]),\n",
    "    shuffle=True,\n",
    "    train_sizes=[0.2,0.4,0.6,0.8,1],\n",
    "    random_state=seed)"
   ]
  },
  {
   "cell_type": "code",
   "execution_count": 9,
   "metadata": {},
   "outputs": [
    {
     "data": {
      "image/png": "[encoded data removed]",
      "text/plain": [
       "<matplotlib.figure.Figure at 0x253163dd898>"
      ]
     },
     "metadata": {},
     "output_type": "display_data"
    }
   ],
   "source": [
    "figure = plt.figure(figsize=(12,8))\n",
    "for idx, count in enumerate(item_counts):\n",
    "        train_score_curve = train_scores[idx]\n",
    "        test_score_curve = test_scores[idx]\n",
    "        plt.plot(\n",
    "            test_score_curve,\n",
    "            label=count)\n",
    "plt.legend()\n",
    "plt.ylabel(\"ROC AUC score\")\n",
    "plt.xlabel(\"Experiment #\")\n",
    "plt.title(\"Test curves\")\n",
    "plt.show()"
   ]
  },
  {
   "cell_type": "markdown",
   "metadata": {},
   "source": [
    "По графикам видно, что если выбросить из выборки 20% сэмплов, то качество понижается несущественно. Однако если выбросить больше, то качество уже заметно снижается. На мой взгляд не получится существенно снизить скорость обучения модели за счет уменьшения количества сэмплов."
   ]
  },
  {
   "cell_type": "markdown",
   "metadata": {},
   "source": [
    "2\\. Часто несбалансированные по классам выборки приводят к различным проблемам при обучении моделей. Давайте попробуем по-разному обработать выборку, поиграть с распределением объектов по классам и сделать выводы о том, как соотношение классов влияет на качество модели."
   ]
  },
  {
   "cell_type": "markdown",
   "metadata": {},
   "source": [
    "2.1\\. Задайте веса объектам так, чтобы соотношение классов с учетом весов объектов изменилось. Попробуйте не менее трёх различных вариантов весов. Меняются ли результаты классификации? Как это сказывается на качестве модели? Какой вариант выглядит наиболее оптимальным с точки зрения качества?"
   ]
  },
  {
   "cell_type": "code",
   "execution_count": 6,
   "metadata": {},
   "outputs": [],
   "source": [
    "class Weighted_Gradient_Boosting:\n",
    "    \"\"\" Класс-обертка для GradientBoostingClassifier. Задает веса классов в конструкторе, а не методе fit. \n",
    "        В методе fit преобразует веса классов в веса сэмплов, так как этого требует GradientBoostingClassifier.\"\"\"\n",
    "    def __init__(self, class_weights=None):\n",
    "        self.class_weights = class_weights\n",
    "        self.model = GradientBoostingClassifier()\n",
    "        \n",
    "    def fit(self, X, y):\n",
    "        sample_weight = None\n",
    "        if not(self.class_weights is None):\n",
    "            sample_weight = []\n",
    "            for class_value in y:\n",
    "                weight = self.class_weights[class_value]\n",
    "                sample_weight.append(weight)\n",
    "        self.model = self.model.fit(X, y, sample_weight)\n",
    "        return self\n",
    "    \n",
    "    def predict(self, X):\n",
    "        return self.model.predict(X)\n",
    "    \n",
    "    def predict_proba(self, X):\n",
    "        return self.model.predict_proba(X)\n",
    "    \n",
    "def gradient_boosting_weighted_builder(frame, labels, numeric_features, categorial_features, class_weights=None):\n",
    "    return stratifiedKFold_fscore(\n",
    "        frame,\n",
    "        labels,\n",
    "        lambda: Weighted_Gradient_Boosting(class_weights),\n",
    "        lambda tf, tl, tsf, tsl, nf, cf: process_frame(tf, tl, tsf, tsl, nf, cf, fill_numericna_means, fill_categorial_nav),\n",
    "        frame_to_matrix_labeled,\n",
    "        numeric_features,\n",
    "        categorial_features,\n",
    "        predict_model_proba,\n",
    "        seed)"
   ]
  },
  {
   "cell_type": "code",
   "execution_count": 82,
   "metadata": {},
   "outputs": [
    {
     "data": {
      "text/plain": [
       "<zip at 0x1bc01fc6808>"
      ]
     },
     "execution_count": 82,
     "metadata": {},
     "output_type": "execute_result"
    }
   ],
   "source": [
    "churn_weights = [1, 3, 6, 9, 12]\n",
    "weighted_models = []\n",
    "\n",
    "for churn_weight in churn_weights:\n",
    "    weighted_models.append(gradient_boosting_weighted_builder(\n",
    "    churn_data_frame,\n",
    "    churn_labels_frame,\n",
    "    numeric_columns,\n",
    "    categorial_columns,\n",
    "    {-1: 1, 1: churn_weight})[0])"
   ]
  },
  {
   "cell_type": "code",
   "execution_count": 83,
   "metadata": {},
   "outputs": [
    {
     "data": {
      "text/plain": [
       "[(1, 0.73240857212958144),\n",
       " (3, 0.73181997855368452),\n",
       " (6, 0.72725180949066548),\n",
       " (9, 0.72651626109880107),\n",
       " (12, 0.72191783865633197)]"
      ]
     },
     "execution_count": 83,
     "metadata": {},
     "output_type": "execute_result"
    }
   ],
   "source": [
    "list(zip(churn_weights, weighted_models))"
   ]
  },
  {
   "cell_type": "code",
   "execution_count": 81,
   "metadata": {},
   "outputs": [
    {
     "data": {
      "text/plain": [
       "(0.72202087916107105, 0.72040660516688082)"
      ]
     },
     "execution_count": 81,
     "metadata": {},
     "output_type": "execute_result"
    }
   ],
   "source": [
    "gb_weights_1_12[0], gb_weights_12_1[0]"
   ]
  },
  {
   "cell_type": "markdown",
   "metadata": {},
   "source": [
    "Уравновешивание моделей за счет весов не дало прироста качества модели. Даже наоборот качество несколько упало."
   ]
  },
  {
   "cell_type": "markdown",
   "metadata": {},
   "source": [
    "\n",
    "2.2\\. Примените к выборке технологию undersampling: для этого нужно убрать из обучения некоторое количество объектов большего класса таким образом, чтобы соотношение классов изменилось. Попробуйте не менее трёх различных вариантов undersampling (варианты могут отличаться как по количество отфильтрованных объектов, так и по принципу выборка объектов для отсеивания из выборки). Меняются ли результаты классификации? Как это сказывается на качестве модели? Какой вариант выглядит наиболее оптимальным с точки зрения качества?"
   ]
  },
  {
   "cell_type": "code",
   "execution_count": 7,
   "metadata": {},
   "outputs": [],
   "source": [
    "def undersample(frame, labels, classes, take_items_count, seed, balance=1, y_name=\"labels\"):\n",
    "    min_class = None\n",
    "    min_size = labels.shape[0]\n",
    "    selected_items = {}\n",
    "    for frame_class in classes:\n",
    "        class_only_labels = labels[labels[y_name] == frame_class]\n",
    "        selected_items[frame_class] = class_only_labels\n",
    "        class_size = class_only_labels.shape[0]\n",
    "        if class_size < min_size:\n",
    "            min_size = class_size\n",
    "            min_class = frame_class\n",
    "    if min_class is None:\n",
    "        return frame, labels\n",
    "    else:\n",
    "        selection_count = int(min_size*balance)\n",
    "        undersampled_frame = pd.DataFrame([], columns=frame.columns)\n",
    "        undersampled_labels = pd.DataFrame([], columns=labels.columns)\n",
    "        for frame_class in classes:\n",
    "            class_only_labels = selected_items[frame_class]\n",
    "            class_indices = list(class_only_labels.index)\n",
    "            class_only_frame = frame.loc[class_indices,:]\n",
    "            \n",
    "            if frame_class != min_class:\n",
    "                class_only_frame[y_name] = class_only_labels[y_name]\n",
    "                class_only_frame = take_items_count(\n",
    "                    class_only_frame.reset_index(drop=True),\n",
    "                    selection_count,\n",
    "                    seed)\n",
    "                \n",
    "                class_only_labels = pd.DataFrame(class_only_frame[y_name], columns=[y_name])\n",
    "                class_only_frame = class_only_frame.drop(columns=[y_name])\n",
    "            undersampled_frame = pd.concat([undersampled_frame, class_only_frame], ignore_index=True)\n",
    "            undersampled_labels = pd.concat([undersampled_labels, class_only_labels], ignore_index=True).astype(np.int64)\n",
    "                \n",
    "        return undersampled_frame, undersampled_labels\n",
    "    \n",
    "def take_first_items_count(frame, count, seed):\n",
    "    return frame.head(count).reset_index(drop=True)\n",
    "\n",
    "def take_items_random(frame, count, seed):\n",
    "    np.random.seed(seed=seed)\n",
    "    rnd_indices = np.random.randint(0, frame.shape[0], size=count)\n",
    "    return frame.loc[rnd_indices, :].reset_index(drop=True)"
   ]
  },
  {
   "cell_type": "code",
   "execution_count": 8,
   "metadata": {},
   "outputs": [],
   "source": [
    "def balance_frame_sampling(frame_to_balance, labels, repeat_times):\n",
    "    \"\"\" Функция балансирует соотношения классов сэмплируя класс churn. \"\"\"\n",
    "    y_name = \"labels\"\n",
    "    churn_only_labels = labels[labels[y_name] == 1]\n",
    "    churn_indices = list(churn_only_labels.index)\n",
    "    churn_only_frame = frame_to_balance.loc[churn_indices,:]\n",
    "    churn_balanced_frame = frame_to_balance.copy()\n",
    "    churn_balanced_labels = labels.copy()\n",
    "    for i in range(0, (repeat_times-1)):\n",
    "        churn_balanced_frame = pd.concat([churn_balanced_frame, churn_only_frame], ignore_index=True)\n",
    "        churn_balanced_labels = pd.concat([churn_balanced_labels, churn_only_labels], ignore_index=True)\n",
    "        \n",
    "    churn_balanced_frame[y_name] = churn_balanced_labels[y_name]\n",
    "    churn_balanced_frame = churn_balanced_frame.sample(frac=1).reset_index(drop=True)\n",
    "    \n",
    "    churn_balanced_labels = pd.DataFrame(churn_balanced_frame[y_name], columns=[y_name]).astype(np.int64)\n",
    "    churn_balanced_frame = churn_balanced_frame.drop(columns=[y_name])\n",
    "    \n",
    "    return (churn_balanced_frame, churn_balanced_labels)\n",
    "\n",
    "def balance_train_frame(train_frame, train_labels, test_frame, test_labels, numeric_features, categorial_features, repeat_times):\n",
    "    \"\"\" Функция балансирует train frame, после этого обрабатывает признаки с помощью метода\n",
    "        process_frame_base_model \"\"\"\n",
    "    balanced_train, balanced_labels = balance_frame_sampling(train_frame, train_labels, repeat_times)\n",
    "    return process_frame(\n",
    "        balanced_train,\n",
    "        balanced_labels,\n",
    "        test_frame,\n",
    "        test_labels,\n",
    "        numeric_features,\n",
    "        categorial_features,\n",
    "        fill_numericna_means,\n",
    "        fill_categorial_nav)\n",
    "    \n",
    "def gb_oversampled_builder(frame, labels, numeric_features, categorial_features, repeat_times):\n",
    "    return stratifiedKFold_fscore(\n",
    "        frame,\n",
    "        labels,\n",
    "        GradientBoostingClassifier,\n",
    "        lambda tf, tl, tsf, tsl, nf, cf: balance_train_frame(tf, tl, tsf, tsl, nf, cf, repeat_times),\n",
    "        frame_to_matrix_labeled,\n",
    "        numeric_features,\n",
    "        categorial_features,\n",
    "        predict_model_proba,\n",
    "        seed)"
   ]
  },
  {
   "cell_type": "code",
   "execution_count": 9,
   "metadata": {},
   "outputs": [],
   "source": [
    "def balance_undersampling(\n",
    "    train_frame,\n",
    "    train_labels,\n",
    "    test_frame,\n",
    "    test_labels,\n",
    "    numeric_features,\n",
    "    categorial_features,\n",
    "    items_selector,\n",
    "    balance):\n",
    "    \"\"\" Функция балансирует train frame, после этого обрабатывает признаки с помощью метода process_frame_base_model \"\"\"\n",
    "    balanced_train, balanced_labels = undersample(\n",
    "        train_frame,\n",
    "        train_labels,\n",
    "        [-1, 1],\n",
    "        items_selector,\n",
    "        seed)\n",
    "\n",
    "    return process_frame(\n",
    "        balanced_train,\n",
    "        balanced_labels,\n",
    "        test_frame,\n",
    "        test_labels,\n",
    "        numeric_features,\n",
    "        categorial_features,\n",
    "        fill_numericna_means,\n",
    "        fill_categorial_nav)\n",
    "\n",
    "def gb_first_items_undersampled_builder(frame, labels, numeric_features, categorial_features, balance):\n",
    "    return stratifiedKFold_fscore(\n",
    "        frame,\n",
    "        labels,\n",
    "        GradientBoostingClassifier,\n",
    "        lambda tf, tl, tsf, tsl, nf, cf: balance_undersampling(tf, tl, tsf, tsl, nf, cf, take_first_items_count, balance),\n",
    "        frame_to_matrix_labeled,\n",
    "        numeric_features,\n",
    "        categorial_features,\n",
    "        predict_model_proba,\n",
    "        seed)\n",
    "\n",
    "def gb_random_undersampled_builder(frame, labels, numeric_features, categorial_features, balance):\n",
    "    return stratifiedKFold_fscore(\n",
    "        frame,\n",
    "        labels,\n",
    "        GradientBoostingClassifier,\n",
    "        lambda tf, tl, tsf, tsl, nf, cf: balance_undersampling(tf, tl, tsf, tsl, nf, cf, take_items_random, balance),\n",
    "        frame_to_matrix_labeled,\n",
    "        numeric_features,\n",
    "        categorial_features,\n",
    "        predict_model_proba,\n",
    "        seed)\n",
    "\n",
    "def ridge_first_items_undersampled_builder(frame, labels, numeric_features, categorial_features, balance):\n",
    "    return stratifiedKFold_fscore(\n",
    "        frame,\n",
    "        labels,\n",
    "        RidgeClassifier,\n",
    "        lambda tf, tl, tsf, tsl, nf, cf: balance_undersampling(tf, tl, tsf, tsl, nf, cf, take_first_items_count, balance),\n",
    "        frame_to_matrix_one_hot,\n",
    "        numeric_features,\n",
    "        categorial_features,\n",
    "        predict_ridge_proba,\n",
    "        seed)"
   ]
  },
  {
   "cell_type": "code",
   "execution_count": 14,
   "metadata": {},
   "outputs": [],
   "source": [
    "undersampling_balances = [1, 2, 3]\n",
    "gb_undersampled_first_items_models = []\n",
    "gb_undersampled_random_models = []\n",
    "ridge_undersampled_first_items_models = []\n",
    "\n",
    "for balance in undersampling_balances:\n",
    "    gb_undersampled_first_items_models.append(gb_first_items_undersampled_builder(\n",
    "        churn_data_frame,\n",
    "        churn_labels_frame,\n",
    "        numeric_columns,\n",
    "        categorial_columns,\n",
    "        balance))\n",
    "    gb_undersampled_random_models.append(gb_random_undersampled_builder(\n",
    "        churn_data_frame,\n",
    "        churn_labels_frame,\n",
    "        numeric_columns,\n",
    "        categorial_columns,\n",
    "        balance))\n",
    "    ridge_undersampled_first_items_models.append(ridge_first_items_undersampled_builder(\n",
    "        churn_data_frame,\n",
    "        churn_labels_frame,\n",
    "        numeric_columns,\n",
    "        categorial_columns,\n",
    "        balance))"
   ]
  },
  {
   "cell_type": "code",
   "execution_count": 120,
   "metadata": {},
   "outputs": [
    {
     "name": "stdout",
     "output_type": "stream",
     "text": [
      "   Gradient boosting sequential  Gradient boosting random  Ridge sequential\n",
      "1                      0.712794                  0.714268          0.649256\n",
      "2                      0.712370                  0.714268          0.649256\n",
      "3                      0.712370                  0.714268          0.649256\n"
     ]
    }
   ],
   "source": [
    "comparison_columns = [\"Gradient boosting sequential\", \"Gradient boosting random\", \"Ridge sequential\"]\n",
    "comparison_data = []\n",
    "for idx, balance in enumerate(undersampling_balances):\n",
    "    comparison_data.append([\n",
    "        gb_undersampled_first_items_models[idx][0],\n",
    "        gb_undersampled_random_models[idx][0],\n",
    "        ridge_undersampled_first_items_models[idx][0]])\n",
    "print(pd.DataFrame(comparison_data, index=undersampling_balances, columns=comparison_columns))"
   ]
  },
  {
   "cell_type": "code",
   "execution_count": 174,
   "metadata": {},
   "outputs": [
    {
     "data": {
      "text/plain": [
       "0.72325453536248041"
      ]
     },
     "execution_count": 174,
     "metadata": {},
     "output_type": "execute_result"
    }
   ],
   "source": [
    "gb_oversampled = gb_oversampled_builder(\n",
    "    churn_data_frame,\n",
    "    churn_labels_frame,\n",
    "    numeric_columns,\n",
    "    categorial_columns,\n",
    "    12)"
   ]
  },
  {
   "cell_type": "code",
   "execution_count": 175,
   "metadata": {},
   "outputs": [
    {
     "data": {
      "text/plain": [
       "(0.73199183318256378, 0.72325453536248041)"
      ]
     },
     "execution_count": 175,
     "metadata": {},
     "output_type": "execute_result"
    }
   ],
   "source": [
    "gradient_boosting_base[0], gb_oversampled[0]"
   ]
  },
  {
   "cell_type": "markdown",
   "metadata": {},
   "source": [
    "Уравновешивание моделей с помощью undersampling и oversampling дало несколько нежиданный результат.\n",
    "Видно, что при undersampling качество модели падает больше чем на процент. Думаю это может быть связано с тем, что выборка при выбрасывании моделей очень сильно уменьшается (до 2778 сэмплов), из-за чего и страдает качество.\n",
    "\n",
    "При oversampling качество тоже несколько снижается.\n",
    "\n",
    "В принципе, если понижение качества на один процент не играет роли, то можно уменьшить время обучения модели за счет undersampling."
   ]
  },
  {
   "cell_type": "markdown",
   "metadata": {},
   "source": [
    "3\\. Теперь перейдем к работе с признаками. Ранее вы реализовали несколько стратегий для обработки пропущенных значений. Сравните эти стратегии между собой с помощью оценки качества моделей кросс-валидации, построенных на датасетах с использованием различных стратегий. Как обработка пропущенных значений сказывается на качестве модели? Какой вариант выглядит наиболее оптимальным с точки зрения качества?"
   ]
  },
  {
   "cell_type": "code",
   "execution_count": 10,
   "metadata": {},
   "outputs": [],
   "source": [
    "def fill_numericna_medians(train_frame, test_frame):\n",
    "    \"\"\" Функция заполняет значения в числовом фрейме медианами и удаляет те колонки, в которых значений нет. \"\"\"\n",
    "    return fill_numericna(\n",
    "        train_frame,\n",
    "        test_frame,\n",
    "        lambda f: f.median(axis=0, skipna=True))\n",
    "\n",
    "def fill_numericna_modes(train_frame, test_frame):\n",
    "    \"\"\" Функция заполняет значения в числовом фрейме модами и удаляет те колонки, в которых значений нет. \"\"\"\n",
    "    return fill_numericna(\n",
    "        train_frame,\n",
    "        test_frame,\n",
    "        lambda f: f.mode(axis=0).iloc[0,:])\n",
    "\n",
    "def gb_numeric_medians_builder(frame, labels, numeric_features, categorial_features):\n",
    "    return stratifiedKFold_fscore(\n",
    "        frame,\n",
    "        labels,\n",
    "        GradientBoostingClassifier,\n",
    "        lambda tf, tl, tsf, tsl, nf, cf: process_frame(tf, tl, tsf, tsl, nf, cf, fill_numericna_medians, fill_categorial_nav),\n",
    "        frame_to_matrix_labeled,\n",
    "        numeric_features,\n",
    "        categorial_features,\n",
    "        predict_model_proba,\n",
    "        seed)\n",
    "\n",
    "def gb_numeric_modes_builder(frame, labels, numeric_features, categorial_features):\n",
    "    return stratifiedKFold_fscore(\n",
    "        frame,\n",
    "        labels,\n",
    "        GradientBoostingClassifier,\n",
    "        lambda tf, tl, tsf, tsl, nf, cf: process_frame(tf, tl, tsf, tsl, nf, cf, fill_numericna_modes, fill_categorial_nav),\n",
    "        frame_to_matrix_labeled,\n",
    "        numeric_features,\n",
    "        categorial_features,\n",
    "        predict_model_proba,\n",
    "        seed)"
   ]
  },
  {
   "cell_type": "markdown",
   "metadata": {},
   "source": [
    "Заполним пропуски в вещественных признаках медианами и модами и сравним полученное качество с базовой моделью, где пропуски заполнены средними."
   ]
  },
  {
   "cell_type": "code",
   "execution_count": 133,
   "metadata": {},
   "outputs": [
    {
     "data": {
      "text/plain": [
       "(0.7234480234826256, 0.72414063842056386, 0.73199183318256378)"
      ]
     },
     "execution_count": 133,
     "metadata": {},
     "output_type": "execute_result"
    }
   ],
   "source": [
    "gb_numeric_medians = gb_numeric_medians_builder(\n",
    "    churn_data_frame,\n",
    "    churn_labels_frame,\n",
    "    numeric_columns,\n",
    "    categorial_columns)\n",
    "gb_numeric_modes = gb_numeric_modes_builder(\n",
    "    churn_data_frame,\n",
    "    churn_labels_frame,\n",
    "    numeric_columns,\n",
    "    categorial_columns)\n",
    "gb_numeric_medians[0], gb_numeric_modes[0], gradient_boosting_base[0]"
   ]
  },
  {
   "cell_type": "markdown",
   "metadata": {},
   "source": [
    "За счет изменения стратегии обработки пропусков в вещественных признаках качество повысить не удалось. Заполнение пропусков средними по колонке выглядит оптимальным."
   ]
  },
  {
   "cell_type": "markdown",
   "metadata": {},
   "source": [
    "4\\. Также вы уже реализовали несколько стратегий для обработки категориальных признаков. Сравните эти стратегии между собой с помощью оценки качества моделей по кросс-валидации, построенных на датасетах с использованием различных стратегий. Как обработка категориальных признаков сказывается на качестве модели? Какой вариант выглядит наиболее оптимальным с точки зрения качества?"
   ]
  },
  {
   "cell_type": "code",
   "execution_count": 11,
   "metadata": {},
   "outputs": [],
   "source": [
    "def fill_na_frequent_values(train_frame, test_frame):\n",
    "    \"\"\" Функция заполняет пустые значения самым частым значением в колонке. \"\"\"\n",
    "    train_result = train_frame.copy()\n",
    "    test_result = test_frame.copy()\n",
    "    for column in train_result.columns:\n",
    "        frequencies = train_result[column].value_counts()\n",
    "        if (len(frequencies) < 1):\n",
    "            continue\n",
    "        most_frequent_value = frequencies.index[0]\n",
    "        train_result[column] = train_result[column].fillna(most_frequent_value)\n",
    "        test_result[column] = test_result[column].fillna(most_frequent_value)\n",
    "    return train_result, test_result\n",
    "\n",
    "def gb_categorial_frequent_values_builder(frame, labels, numeric_features, categorial_features):\n",
    "    return stratifiedKFold_fscore(\n",
    "        frame,\n",
    "        labels,\n",
    "        GradientBoostingClassifier,\n",
    "        lambda tf, tl, tsf, tsl, nf, cf: process_frame(tf, tl, tsf, tsl, nf, cf, fill_numericna_means, fill_na_frequent_values),\n",
    "        frame_to_matrix_labeled,\n",
    "        numeric_features,\n",
    "        categorial_features,\n",
    "        predict_model_proba,\n",
    "        seed)"
   ]
  },
  {
   "cell_type": "markdown",
   "metadata": {},
   "source": [
    "Заполним пропуски в категориальных признаках самым частым значением признака в колонке"
   ]
  },
  {
   "cell_type": "code",
   "execution_count": 138,
   "metadata": {},
   "outputs": [
    {
     "data": {
      "text/plain": [
       "(0.72703473329445079, 0.73199183318256378)"
      ]
     },
     "execution_count": 138,
     "metadata": {},
     "output_type": "execute_result"
    }
   ],
   "source": [
    "gb_categorial_frequent_values = gb_categorial_frequent_values_builder(\n",
    "    churn_data_frame,\n",
    "    churn_labels_frame,\n",
    "    numeric_columns,\n",
    "    categorial_columns)\n",
    "gb_categorial_frequent_values[0], gradient_boosting_base[0]"
   ]
  },
  {
   "cell_type": "markdown",
   "metadata": {},
   "source": [
    "Повысить качество за счет заполнения категориальных признаков частотными значениями не удалось."
   ]
  },
  {
   "cell_type": "code",
   "execution_count": 12,
   "metadata": {},
   "outputs": [],
   "source": [
    "def dict_features(train_frame, test_frame):\n",
    "    fit_matrix = pd.concat([train_frame, test_frame]).T.to_dict().values()\n",
    "    categorial_encoder = DictVectorizer().fit(fit_matrix)\n",
    "    \n",
    "    train_categorial = categorial_encoder.transform(train_frame.T.to_dict().values())\n",
    "    test_categorial = categorial_encoder.transform(test_frame.T.to_dict().values())\n",
    "    \n",
    "    return (train_categorial, test_categorial, categorial_encoder)\n",
    "\n",
    "def frame_to_matrix_dict(\n",
    "    train_frame,\n",
    "    test_frame,\n",
    "    train_labels,\n",
    "    test_labels,\n",
    "    numeric_features,\n",
    "    categorial_features):\n",
    "    \"\"\" Функци преобразует фрейм к sparse матрице.\n",
    "        Масштабирует вещественные признаки и кодирует категориальные с помощью OneHotEncoding. \"\"\"\n",
    "    \n",
    "    # Масштабируем вещественные признаки\n",
    "    train_numeric, test_numeric, scaler = scale_features(\n",
    "        train_frame[numeric_features],\n",
    "        test_frame[numeric_features])\n",
    "    \n",
    "    # Закодируем категориальные признаки значениями от 0 до n с помощью MatrixLabelEncoder\n",
    "    # One hot encode для категориальных признаков\n",
    "    train_categorial, test_categorial, categorial_encoder = dict_features(\n",
    "        train_frame[categorial_features],\n",
    "        test_frame[categorial_features])\n",
    "    \n",
    "    y_train = train_labels.as_matrix().flatten()\n",
    "    y_test = test_labels.as_matrix().flatten()\n",
    "    \n",
    "    return (hstack([train_numeric, train_categorial]),\n",
    "            hstack([test_numeric, test_categorial]),\n",
    "            y_train,\n",
    "            y_test,\n",
    "            scaler,\n",
    "            categorial_encoder)\n",
    "\n",
    "def ridge_dict_builder(frame, labels, numeric_features, categorial_features):\n",
    "    return stratifiedKFold_fscore(\n",
    "        frame,\n",
    "        labels,\n",
    "        RidgeClassifier,\n",
    "        lambda tf, tl, tsf, tsl, nf, cf: process_frame(tf, tl, tsf, tsl, nf, cf, fill_numericna_means, fill_categorial_nav),\n",
    "        frame_to_matrix_dict,\n",
    "        numeric_features,\n",
    "        categorial_features,\n",
    "        predict_ridge_proba,\n",
    "        seed)\n",
    "\n",
    "def gb_dict_builder(frame, labels, numeric_features, categorial_features):\n",
    "    return stratifiedKFold_fscore(\n",
    "        frame,\n",
    "        labels,\n",
    "        GradientBoostingClassifier,\n",
    "        lambda tf, tl, tsf, tsl, nf, cf: process_frame(tf, tl, tsf, tsl, nf, cf, fill_numericna_means, fill_categorial_nav),\n",
    "        frame_to_matrix_dict,\n",
    "        numeric_features,\n",
    "        categorial_features,\n",
    "        predict_ridge_proba,\n",
    "        seed)"
   ]
  },
  {
   "cell_type": "markdown",
   "metadata": {},
   "source": [
    "Попробуем заменить OneHotEncoder на DictVectorizer и посмотрим как это скажется на качестве. Поскольку OneHotEncoder увеличивает качество линейной модели, то построим с DictVectorizer в т.ч. линейную модель."
   ]
  },
  {
   "cell_type": "code",
   "execution_count": 161,
   "metadata": {},
   "outputs": [
    {
     "data": {
      "text/plain": [
       "(0.67512496899847863,\n",
       " 0.57375604497316912,\n",
       " 0.73199183318256378,\n",
       " 0.6893237897545238)"
      ]
     },
     "execution_count": 161,
     "metadata": {},
     "output_type": "execute_result"
    }
   ],
   "source": [
    "ridge_dict = ridge_dict_builder(\n",
    "    churn_data_frame,\n",
    "    churn_labels_frame,\n",
    "    numeric_columns,\n",
    "    categorial_columns)\n",
    "gb_dict = gb_dict_builder(\n",
    "    churn_data_frame,\n",
    "    churn_labels_frame,\n",
    "    numeric_columns,\n",
    "    categorial_columns)\n",
    "ridge_base[0], ridge_dict[0], gradient_boosting_base[0], gb_dict[0]"
   ]
  },
  {
   "cell_type": "markdown",
   "metadata": {},
   "source": [
    "Итого я применил следующие алгоритмы обработки категориальных признаков:\n",
    "    - заполнение пропусков самым частым значением\n",
    "    - заполнение пропусков новым значением (NaV)\n",
    "    - преобразование признаков с помощью DictVectorizer\n",
    "    - преобразование признаков с помощью OneHotEncoder\n",
    "    - преобразование признаков с помощью LabelEncoder\n",
    "\n",
    "По результатам видно, что использование DictVectorizer вместо OneHotEncoder для линейной модели уменьшает качество аж на 10%. Использование DictVectorizer вместо LabelEncoder для GradientBoosting понижает качество на 4.2%."
   ]
  },
  {
   "cell_type": "markdown",
   "metadata": {},
   "source": [
    "5\\. Все ли признаки оказались полезными для построения моделей? Проведите процедуру отбора признаков, попробуйте разные варианты отбора (обратите внимание на модуль `sklearn.feature_selection`). Например, можно выбрасывать случайные признаки или строить отбор на основе l1-регуляризации - отфильтровать из обучения признаки, которые получат нулевой вес при построении регрессии с l1-регуляризацией (`sklearn.linear_model.Lasso`). И всегда можно придумать что-то своё=) Попробуйте как минимум 2 различные стратегии, сравните результаты. Помог ли отбор признаков улучшить качество модели? Поясните свой ответ."
   ]
  },
  {
   "cell_type": "markdown",
   "metadata": {},
   "source": [
    "На прошлой неделе я использовал алгоритм add-del для отбора признаков. Сравним качество, полученное на признаках, отобранных с помощью этого алгоритма с другими подходами."
   ]
  },
  {
   "cell_type": "code",
   "execution_count": 29,
   "metadata": {},
   "outputs": [
    {
     "data": {
      "text/plain": [
       "(0.73143177904640944,\n",
       " 0.73234680588912349,\n",
       " 0.747949546705029,\n",
       " 0.74273775549762355)"
      ]
     },
     "execution_count": 29,
     "metadata": {},
     "output_type": "execute_result"
    }
   ],
   "source": [
    "add_del_num_features = [\n",
    "    \"Var90\", \"Var99\", \"Var110\", \"Var113\", \"Var116\", \"Var126\", \"Var127\",\n",
    "    \"Var140\", \"Var142\", \"Var147\", \"Var157\", \"Var161\", \"Var172\", \"Var186\",\n",
    "    \"Var187\", \"Var189\", \"Var190\", \"Var3\", \"Var4\", \"Var5\", \"Var7\", \"Var13\",\n",
    "    \"Var14\", \"Var16\", \"Var17\", \"Var25\", \"Var28\", \"Var29\", \"Var34\", \"Var49\",\n",
    "    \"Var51\", \"Var53\", \"Var58\", \"Var61\", \"Var73\", \"Var81\", \"Var82\", \"Var83\"]\n",
    "add_del_cat_features = [\n",
    "    \"Var221\", \"Var229\", \"Var191\", \"Var193\", \"Var194\", \"Var196\", \"Var201\",\n",
    "    \"Var205\", \"Var208\", \"Var211\", \"Var212\", \"Var213\", \"Var215\", \"Var217\",\n",
    "    \"Var218\"]\n",
    "add_del_features = add_del_num_features + add_del_cat_features\n",
    "\n",
    "gb_add_del = gradient_boosting_baseline_builder(\n",
    "    churn_data_frame[add_del_features],\n",
    "    churn_labels_frame,\n",
    "    pd.Index(add_del_num_features),\n",
    "    pd.Index(add_del_cat_features))\n",
    "gb_add_del[0], gradient_boosting_base[0], gb_add_del[2], gradient_boosting_base[2]"
   ]
  },
  {
   "cell_type": "markdown",
   "metadata": {},
   "source": [
    "Видно, что среднее качество полученное на алгоритме add-del не повысилось. Зато существенно увеличилась скорость обучения."
   ]
  },
  {
   "cell_type": "markdown",
   "metadata": {},
   "source": [
    "Попробуем для отбора признаков SelectKBest из библиотеки sklearn.feature_selection"
   ]
  },
  {
   "cell_type": "code",
   "execution_count": 13,
   "metadata": {},
   "outputs": [],
   "source": [
    "from sklearn.feature_selection import SelectKBest\n",
    "def frame_to_matrix_kbest(\n",
    "    train_frame,\n",
    "    test_frame,\n",
    "    train_labels,\n",
    "    test_labels,\n",
    "    numeric_features,\n",
    "    categorial_features,\n",
    "    k):\n",
    "    train_matrix, test_matrix, train_labels_mtx, test_labels_mtx, sc, enc = frame_to_matrix_labeled(\n",
    "        train_frame,\n",
    "        test_frame,\n",
    "        train_labels,\n",
    "        test_labels,\n",
    "        numeric_features,\n",
    "        categorial_features)\n",
    "    selector = SelectKBest(k=k).fit(train_matrix, train_labels_mtx)\n",
    "    train_matrix = selector.transform(train_matrix)\n",
    "    test_matrix = selector.transform(test_matrix)\n",
    "    \n",
    "    return (train_matrix,\n",
    "            test_matrix,\n",
    "            train_labels_mtx,\n",
    "            test_labels_mtx,\n",
    "            sc,\n",
    "            enc)\n",
    "\n",
    "def gradient_boosting_kbest_builder(frame, labels, numeric_features, categorial_features, k):\n",
    "    return stratifiedKFold_fscore(\n",
    "        frame,\n",
    "        labels,\n",
    "        GradientBoostingClassifier,\n",
    "        process_frame_base,\n",
    "        lambda tf, tsf, tl, tsl, nf, cf: frame_to_matrix_kbest(tf, tsf, tl, tsl, nf, cf, k),\n",
    "        numeric_features,\n",
    "        categorial_features,\n",
    "        predict_model_proba,\n",
    "        seed)"
   ]
  },
  {
   "cell_type": "code",
   "execution_count": 32,
   "metadata": {},
   "outputs": [
    {
     "data": {
      "text/plain": [
       "(0.73208237572347412, 0.73234680588912349)"
      ]
     },
     "execution_count": 32,
     "metadata": {},
     "output_type": "execute_result"
    }
   ],
   "source": [
    "gb_kbest = gradient_boosting_kbest_builder(\n",
    "    churn_data_frame,\n",
    "    churn_labels_frame,\n",
    "    numeric_columns,\n",
    "    categorial_columns,\n",
    "    60)\n",
    "gb_kbest[0], gradient_boosting_base[0]"
   ]
  },
  {
   "cell_type": "markdown",
   "metadata": {},
   "source": [
    "Попробуем для отбора признаков SelectFdr из библиотеки sklearn.feature_selection"
   ]
  },
  {
   "cell_type": "code",
   "execution_count": 14,
   "metadata": {},
   "outputs": [],
   "source": [
    "from sklearn.feature_selection import SelectFdr\n",
    "def frame_to_matrix_fdr(\n",
    "    train_frame,\n",
    "    test_frame,\n",
    "    train_labels,\n",
    "    test_labels,\n",
    "    numeric_features,\n",
    "    categorial_features,\n",
    "    alpha):\n",
    "    train_matrix, test_matrix, train_labels_mtx, test_labels_mtx, sc, enc = frame_to_matrix_labeled(\n",
    "        train_frame,\n",
    "        test_frame,\n",
    "        train_labels,\n",
    "        test_labels,\n",
    "        numeric_features,\n",
    "        categorial_features)\n",
    "    selector = SelectFdr(alpha=alpha).fit(train_matrix, train_labels_mtx)\n",
    "    train_matrix = selector.transform(train_matrix)\n",
    "    test_matrix = selector.transform(test_matrix)\n",
    "    \n",
    "    return (train_matrix,\n",
    "            test_matrix,\n",
    "            train_labels_mtx,\n",
    "            test_labels_mtx,\n",
    "            sc,\n",
    "            enc)\n",
    "\n",
    "def gradient_boosting_fdr_builder(frame, labels, numeric_features, categorial_features, alpha=0.05):\n",
    "    return stratifiedKFold_fscore(\n",
    "        frame,\n",
    "        labels,\n",
    "        GradientBoostingClassifier,\n",
    "        process_frame_base,\n",
    "        lambda tf, tsf, tl, tsl, nf, cf: frame_to_matrix_fdr(tf, tsf, tl, tsl, nf, cf, alpha),\n",
    "        numeric_features,\n",
    "        categorial_features,\n",
    "        predict_model_proba,\n",
    "        seed)"
   ]
  },
  {
   "cell_type": "code",
   "execution_count": 35,
   "metadata": {},
   "outputs": [
    {
     "data": {
      "text/plain": [
       "(0.73256213966789918, 0.73234680588912349)"
      ]
     },
     "execution_count": 35,
     "metadata": {},
     "output_type": "execute_result"
    }
   ],
   "source": [
    "gb_fdr = gradient_boosting_fdr_builder(\n",
    "    churn_data_frame,\n",
    "    churn_labels_frame,\n",
    "    numeric_columns,\n",
    "    categorial_columns)\n",
    "gb_fdr[0], gradient_boosting_base[0]"
   ]
  },
  {
   "cell_type": "markdown",
   "metadata": {},
   "source": [
    "6\\. Подберите оптимальные параметры модели. Обратите внимание, что в зависимости от того, как вы обработали исходные данные, сделали ли балансировку классов, сколько объектов оставили в обучающей выборке и др. оптимальные значения параметров могут меняться. Возьмите наилучшее из ваших решений на текущий момент и проведите процедуру подбора параметров модели (обратите внимание на `sklearn.model_selection.GridSearchCV`) Как подбор параметров повлиял на качество модели?"
   ]
  },
  {
   "cell_type": "code",
   "execution_count": 40,
   "metadata": {},
   "outputs": [
    {
     "name": "stdout",
     "output_type": "stream",
     "text": [
      "60 features k-best:  0.731918842375 0.732346805889\n",
      "40 features k-best:  0.732501224569 0.732346805889\n",
      "21 features k-best:  0.735627198952 0.732346805889\n"
     ]
    }
   ],
   "source": [
    "for count in [60, 40, 21]:\n",
    "    gb_kbest = gradient_boosting_kbest_builder(\n",
    "        churn_data_frame,\n",
    "        churn_labels_frame,\n",
    "        numeric_columns,\n",
    "        categorial_columns,\n",
    "        count)\n",
    "    print(str(count) + \" features k-best: \", gb_kbest[0], gradient_boosting_base[0])"
   ]
  },
  {
   "cell_type": "markdown",
   "metadata": {},
   "source": [
    "Оптимальным количеством фич для алгоритма k-best является 21 (Тут надо признать, что я конечно провел больше 3х экспериментов)."
   ]
  },
  {
   "cell_type": "code",
   "execution_count": 42,
   "metadata": {},
   "outputs": [
    {
     "name": "stdout",
     "output_type": "stream",
     "text": [
      "0.01 features FDR:  0.734424444575 0.732346805889\n",
      "0.02 features FDR:  0.734815478137 0.732346805889\n",
      "0.025 features FDR:  0.734876244788 0.732346805889\n",
      "0.03 features FDR:  0.734390064761 0.732346805889\n",
      "0.035 features FDR:  0.733480041925 0.732346805889\n"
     ]
    }
   ],
   "source": [
    "for alpha in [0.01, 0.02, 0.025, 0.03, 0.035]:\n",
    "    gb_fdr = gradient_boosting_fdr_builder(\n",
    "        churn_data_frame,\n",
    "        churn_labels_frame,\n",
    "        numeric_columns,\n",
    "        categorial_columns,\n",
    "        alpha)\n",
    "    print(str(alpha) + \" features FDR: \", gb_fdr[0], gradient_boosting_base[0])"
   ]
  },
  {
   "cell_type": "code",
   "execution_count": 15,
   "metadata": {},
   "outputs": [
    {
     "data": {
      "text/plain": [
       "((27999, 21), (27999,))"
      ]
     },
     "execution_count": 15,
     "metadata": {},
     "output_type": "execute_result"
    }
   ],
   "source": [
    "preprocessed_frame, preprocessed_labels, pf, pl, dropped_num_cols, dropped_cat_cols = process_frame_base(\n",
    "    churn_data_frame,\n",
    "    churn_labels_frame,\n",
    "    churn_data_frame,\n",
    "    churn_labels_frame,\n",
    "    numeric_columns,\n",
    "    categorial_columns)\n",
    "\n",
    "clear_num_columns = numeric_columns.drop(dropped_num_cols)\n",
    "clear_cat_columns = categorial_columns.drop(dropped_cat_cols)\n",
    "\n",
    "preprocessed_x, px, preprocessed_y, py, ne, ce = frame_to_matrix_kbest(\n",
    "    preprocessed_frame,\n",
    "    pf,\n",
    "    preprocessed_labels,\n",
    "    pl,\n",
    "    clear_num_columns,\n",
    "    clear_cat_columns,\n",
    "    21)\n",
    "\n",
    "preprocessed_x.shape, preprocessed_y.shape"
   ]
  },
  {
   "cell_type": "code",
   "execution_count": 268,
   "metadata": {},
   "outputs": [
    {
     "data": {
      "text/plain": [
       "(GradientBoostingClassifier(criterion='friedman_mse', init=None,\n",
       "               learning_rate=0.2, loss='deviance', max_depth=5,\n",
       "               max_features=None, max_leaf_nodes=None,\n",
       "               min_impurity_decrease=0.0, min_impurity_split=None,\n",
       "               min_samples_leaf=1, min_samples_split=2,\n",
       "               min_weight_fraction_leaf=0.0, n_estimators=80,\n",
       "               presort='auto', random_state=None, subsample=1.0, verbose=0,\n",
       "               warm_start=False), 0.51664933925003875)"
      ]
     },
     "execution_count": 268,
     "metadata": {},
     "output_type": "execute_result"
    }
   ],
   "source": [
    "from sklearn.model_selection import GridSearchCV\n",
    "roc_auc_scorer = make_scorer(roc_auc_score)\n",
    "tune_params = {\n",
    "    \"loss\": [\"deviance\", \"exponential\"],\n",
    "    \"learning_rate\": [0.05, 0.1, 0.2],\n",
    "    \"n_estimators\": [80, 100, 120],\n",
    "    \"max_depth\": [2,3,5]\n",
    "}\n",
    "\n",
    "estimation_result = GridSearchCV(GradientBoostingClassifier(), tune_params, scoring=roc_auc_scorer).fit(\n",
    "    preprocessed_x,\n",
    "    preprocessed_y)\n",
    "estimation_result.best_estimator_, estimation_result.best_score_"
   ]
  },
  {
   "cell_type": "code",
   "execution_count": 16,
   "metadata": {},
   "outputs": [],
   "source": [
    "def gradient_boosting_params_builder(frame, labels, numeric_features, categorial_features, k, params):\n",
    "    return stratifiedKFold_fscore(\n",
    "        frame,\n",
    "        labels,\n",
    "        lambda: GradientBoostingClassifier(learning_rate=params[\"learning_rate\"], n_estimators=params[\"n_estimators\"], max_depth=params[\"max_depth\"]),\n",
    "        process_frame_base,\n",
    "        lambda tf, tsf, tl, tsl, nf, cf: frame_to_matrix_kbest(tf, tsf, tl, tsl, nf, cf, k),\n",
    "        numeric_features,\n",
    "        categorial_features,\n",
    "        predict_model_proba,\n",
    "        seed)"
   ]
  },
  {
   "cell_type": "code",
   "execution_count": 271,
   "metadata": {},
   "outputs": [
    {
     "data": {
      "text/plain": [
       "(0.72013867039234913, 0.73550269049261063, 0.73199183318256378)"
      ]
     },
     "execution_count": 271,
     "metadata": {},
     "output_type": "execute_result"
    }
   ],
   "source": [
    "gb_params_1 = gradient_boosting_params_builder(\n",
    "    churn_data_frame,\n",
    "    churn_labels_frame,\n",
    "    numeric_columns,\n",
    "    categorial_columns,\n",
    "    21,\n",
    "    {\n",
    "        \"learning_rate\": 0.2,\n",
    "        \"n_estimators\": 80,\n",
    "        \"max_depth\": 5\n",
    "    })\n",
    "gb_params_1[0], gb_kbest[0], gradient_boosting_base[0]"
   ]
  },
  {
   "cell_type": "code",
   "execution_count": 243,
   "metadata": {},
   "outputs": [
    {
     "data": {
      "text/plain": [
       "GradientBoostingClassifier(criterion='friedman_mse', init=None,\n",
       "              learning_rate=0.1, loss='exponential', max_depth=5,\n",
       "              max_features=None, max_leaf_nodes=None,\n",
       "              min_impurity_decrease=0.0, min_impurity_split=None,\n",
       "              min_samples_leaf=1, min_samples_split=2,\n",
       "              min_weight_fraction_leaf=0.0, n_estimators=160,\n",
       "              presort='auto', random_state=None, subsample=1.0, verbose=0,\n",
       "              warm_start=False)"
      ]
     },
     "execution_count": 243,
     "metadata": {},
     "output_type": "execute_result"
    }
   ],
   "source": [
    "tune_params_2 = {\n",
    "    \"loss\": [\"exponential\"],\n",
    "    \"n_estimators\": [120, 140, 160, 180],\n",
    "    \"max_depth\": [5, 7, 9, 11]\n",
    "}\n",
    "\n",
    "estimation_result_2 = GridSearchCV(GradientBoostingClassifier(), tune_params_2).fit(preprocessed_x, preprocessed_y)\n",
    "estimation_result_2.best_estimator_"
   ]
  },
  {
   "cell_type": "code",
   "execution_count": 251,
   "metadata": {},
   "outputs": [
    {
     "data": {
      "text/plain": [
       "(0.73020055429043784, 0.73550269049261063, 0.73199183318256378)"
      ]
     },
     "execution_count": 251,
     "metadata": {},
     "output_type": "execute_result"
    }
   ],
   "source": [
    "gb_params_2 = gradient_boosting_params_builder(\n",
    "    churn_data_frame,\n",
    "    churn_labels_frame,\n",
    "    numeric_columns,\n",
    "    categorial_columns,\n",
    "    21,\n",
    "    {\n",
    "        \"loss\": \"deviance\",\n",
    "        \"n_estimators\": 160,\n",
    "        \"max_depth\": 5\n",
    "    })\n",
    "gb_params_2[0], gb_kbest[0], gradient_boosting_base[0]"
   ]
  },
  {
   "cell_type": "markdown",
   "metadata": {},
   "source": [
    "Повысить качество за счет подбора параметров GradientBoostingClassifier не удалось."
   ]
  },
  {
   "cell_type": "markdown",
   "metadata": {},
   "source": [
    "7\\. Предложите методику оценки того, какие признаки внесли наибольший вклад в модель (например, это могут быть веса в случае регрессии, а также большое количество моделей реализуют метод `feature_importances_` - оценка важности признаков). На основе предложенной методики проанализируйте, какие признаки внесли больший вклад в модель, а какие меньший?"
   ]
  },
  {
   "cell_type": "code",
   "execution_count": 17,
   "metadata": {},
   "outputs": [
    {
     "data": {
      "text/plain": [
       "[('Var189', 168.53999834060247),\n",
       " ('Var7', 138.72396029560818),\n",
       " ('Var218', 137.2227289436527),\n",
       " ('Var73', 133.55011699962719),\n",
       " ('Var207', 102.89224301476428),\n",
       " ('Var229', 82.801907052937594),\n",
       " ('Var113', 81.849727248593794),\n",
       " ('Var144', 80.90708401606885),\n",
       " ('Var13', 63.811817425539232),\n",
       " ('Var126', 54.184525747264786),\n",
       " ('Var65', 44.848639710782159),\n",
       " ('Var193', 38.408317957057513),\n",
       " ('Var211', 31.447816346853354),\n",
       " ('Var74', 30.508489203834287),\n",
       " ('Var81', 28.423406450109585),\n",
       " ('Var205', 27.934883013676473),\n",
       " ('Var228', 27.210062827759188),\n",
       " ('Var210', 24.40728674047406),\n",
       " ('Var72', 21.712533257764612),\n",
       " ('Var227', 17.613599825910271),\n",
       " ('Var216', 17.597994397105545)]"
      ]
     },
     "execution_count": 17,
     "metadata": {},
     "output_type": "execute_result"
    }
   ],
   "source": [
    "labeled_x, px, l_y, py, ne, ce = frame_to_matrix_labeled(\n",
    "    preprocessed_frame,\n",
    "    pf,\n",
    "    preprocessed_labels,\n",
    "    pl,\n",
    "    clear_num_columns,\n",
    "    clear_cat_columns)\n",
    "\n",
    "mdl = SelectKBest(k=labeled_x.shape[1]).fit(labeled_x, preprocessed_y)\n",
    "list(sorted(zip(preprocessed_frame.columns, mdl.scores_), key=lambda f: -f[1]))[:21]"
   ]
  },
  {
   "cell_type": "markdown",
   "metadata": {
    "collapsed": true
   },
   "source": [
    "Алгоритм SelectKBest выбрал 11 наиболее сильно коррелирующих с целевой переменной вещественных признака.\n",
    "С категориальными признаками все не так однозначно. Алгоритм выбрал 10 из 26 наиболее сильно коррелирующих, но эти 10 не находятся в топе (среди 26 лучших) по корреляции с целевой переменной."
   ]
  },
  {
   "cell_type": "markdown",
   "metadata": {},
   "source": [
    "8\\. Напоследок давайте посмотрим на объекты. На каких объектах достигается наибольшая ошибка классификации? Есть ли межу этими объектами что-то общее? Видны ли какие-либо закономерности? Предположите, почему наибольшая ошибка достигается именно на этих объектах. В данном случае \"наибольшую\" ошибку можно понимать как отнесение объекта с чужому классу с большой долей уверенности (с высокой вероятностью)."
   ]
  },
  {
   "cell_type": "code",
   "execution_count": 18,
   "metadata": {},
   "outputs": [
    {
     "ename": "NameError",
     "evalue": "name 'gb_kbest' is not defined",
     "output_type": "error",
     "traceback": [
      "\u001b[1;31m---------------------------------------------------------------------------\u001b[0m",
      "\u001b[1;31mNameError\u001b[0m                                 Traceback (most recent call last)",
      "\u001b[1;32m<ipython-input-18-b02428db3860>\u001b[0m in \u001b[0;36m<module>\u001b[1;34m()\u001b[0m\n\u001b[1;32m----> 1\u001b[1;33m \u001b[0mbest_train_frame\u001b[0m\u001b[1;33m,\u001b[0m \u001b[0mbest_train_labels\u001b[0m\u001b[1;33m,\u001b[0m \u001b[0mbest_test_frame\u001b[0m\u001b[1;33m,\u001b[0m \u001b[0mbest_test_labels\u001b[0m \u001b[1;33m=\u001b[0m \u001b[0mgb_kbest\u001b[0m\u001b[1;33m[\u001b[0m\u001b[1;36m3\u001b[0m\u001b[1;33m]\u001b[0m\u001b[1;33m\u001b[0m\u001b[0m\n\u001b[0m\u001b[0;32m      2\u001b[0m \u001b[0mnum_cols_to_drop\u001b[0m\u001b[1;33m,\u001b[0m \u001b[0mcat_cols_to_drop\u001b[0m \u001b[1;33m=\u001b[0m \u001b[0mgb_kbest\u001b[0m\u001b[1;33m[\u001b[0m\u001b[1;36m5\u001b[0m\u001b[1;33m]\u001b[0m\u001b[1;33m\u001b[0m\u001b[0m\n\u001b[0;32m      3\u001b[0m \u001b[0mnum_cleaned\u001b[0m \u001b[1;33m=\u001b[0m \u001b[0mnumeric_columns\u001b[0m\u001b[1;33m.\u001b[0m\u001b[0mdrop\u001b[0m\u001b[1;33m(\u001b[0m\u001b[0mnum_cols_to_drop\u001b[0m\u001b[1;33m)\u001b[0m\u001b[1;33m\u001b[0m\u001b[0m\n\u001b[0;32m      4\u001b[0m \u001b[0mcat_cleaned\u001b[0m \u001b[1;33m=\u001b[0m \u001b[0mcategorial_columns\u001b[0m\u001b[1;33m.\u001b[0m\u001b[0mdrop\u001b[0m\u001b[1;33m(\u001b[0m\u001b[0mcat_cols_to_drop\u001b[0m\u001b[1;33m)\u001b[0m\u001b[1;33m\u001b[0m\u001b[0m\n\u001b[0;32m      5\u001b[0m \u001b[1;33m\u001b[0m\u001b[0m\n",
      "\u001b[1;31mNameError\u001b[0m: name 'gb_kbest' is not defined"
     ]
    }
   ],
   "source": [
    "best_train_frame, best_train_labels, best_test_frame, best_test_labels = gb_kbest[3]\n",
    "num_cols_to_drop, cat_cols_to_drop = gb_kbest[5]\n",
    "num_cleaned = numeric_columns.drop(num_cols_to_drop)\n",
    "cat_cleaned = categorial_columns.drop(cat_cols_to_drop)\n",
    "\n",
    "X_train, X_test, y_train, y_test, num_encoder, cat_encoder = frame_to_matrix_kbest(\n",
    "    best_train_frame,\n",
    "    best_test_frame,\n",
    "    best_train_labels,\n",
    "    best_test_labels,\n",
    "    num_cleaned,\n",
    "    cat_cleaned,\n",
    "    21)\n",
    "best_model = gb_kbest[1]\n",
    "# Построим вероятности принадлежности к целевому классу\n",
    "test_probabilities = predict_model_proba(X_test, best_model)"
   ]
  },
  {
   "cell_type": "code",
   "execution_count": 299,
   "metadata": {},
   "outputs": [
    {
     "data": {
      "text/html": [
       "<div>\n",
       "<style scoped>\n",
       "    .dataframe tbody tr th:only-of-type {\n",
       "        vertical-align: middle;\n",
       "    }\n",
       "\n",
       "    .dataframe tbody tr th {\n",
       "        vertical-align: top;\n",
       "    }\n",
       "\n",
       "    .dataframe thead th {\n",
       "        text-align: right;\n",
       "    }\n",
       "</style>\n",
       "<table border=\"1\" class=\"dataframe\">\n",
       "  <thead>\n",
       "    <tr style=\"text-align: right;\">\n",
       "      <th></th>\n",
       "      <th>Var1</th>\n",
       "      <th>Var2</th>\n",
       "      <th>Var3</th>\n",
       "      <th>Var4</th>\n",
       "      <th>Var5</th>\n",
       "      <th>Var6</th>\n",
       "      <th>Var7</th>\n",
       "      <th>Var9</th>\n",
       "      <th>Var10</th>\n",
       "      <th>Var11</th>\n",
       "      <th>...</th>\n",
       "      <th>Var220</th>\n",
       "      <th>Var221</th>\n",
       "      <th>Var222</th>\n",
       "      <th>Var223</th>\n",
       "      <th>Var224</th>\n",
       "      <th>Var225</th>\n",
       "      <th>Var226</th>\n",
       "      <th>Var227</th>\n",
       "      <th>Var228</th>\n",
       "      <th>Var229</th>\n",
       "    </tr>\n",
       "  </thead>\n",
       "  <tbody>\n",
       "    <tr>\n",
       "      <th>17678</th>\n",
       "      <td>NaN</td>\n",
       "      <td>NaN</td>\n",
       "      <td>NaN</td>\n",
       "      <td>NaN</td>\n",
       "      <td>NaN</td>\n",
       "      <td>1001.0</td>\n",
       "      <td>7.0</td>\n",
       "      <td>NaN</td>\n",
       "      <td>NaN</td>\n",
       "      <td>NaN</td>\n",
       "      <td>...</td>\n",
       "      <td>2Wb19U9</td>\n",
       "      <td>oslk</td>\n",
       "      <td>SQ6wBif</td>\n",
       "      <td>LM8l689qOp</td>\n",
       "      <td>NaN</td>\n",
       "      <td>NaN</td>\n",
       "      <td>uWr3</td>\n",
       "      <td>RAYp</td>\n",
       "      <td>55YFVY9</td>\n",
       "      <td>am7c</td>\n",
       "    </tr>\n",
       "    <tr>\n",
       "      <th>19991</th>\n",
       "      <td>NaN</td>\n",
       "      <td>NaN</td>\n",
       "      <td>NaN</td>\n",
       "      <td>NaN</td>\n",
       "      <td>NaN</td>\n",
       "      <td>462.0</td>\n",
       "      <td>0.0</td>\n",
       "      <td>NaN</td>\n",
       "      <td>NaN</td>\n",
       "      <td>NaN</td>\n",
       "      <td>...</td>\n",
       "      <td>ncuRoKG</td>\n",
       "      <td>oslk</td>\n",
       "      <td>aK_wS9i</td>\n",
       "      <td>NaN</td>\n",
       "      <td>NaN</td>\n",
       "      <td>NaN</td>\n",
       "      <td>Qu4f</td>\n",
       "      <td>RAYp</td>\n",
       "      <td>F2FyR07IdsN7I</td>\n",
       "      <td>NaN</td>\n",
       "    </tr>\n",
       "    <tr>\n",
       "      <th>2335</th>\n",
       "      <td>NaN</td>\n",
       "      <td>NaN</td>\n",
       "      <td>NaN</td>\n",
       "      <td>NaN</td>\n",
       "      <td>NaN</td>\n",
       "      <td>448.0</td>\n",
       "      <td>0.0</td>\n",
       "      <td>NaN</td>\n",
       "      <td>NaN</td>\n",
       "      <td>NaN</td>\n",
       "      <td>...</td>\n",
       "      <td>6XEoI0_</td>\n",
       "      <td>oslk</td>\n",
       "      <td>bSgltRa</td>\n",
       "      <td>LM8l689qOp</td>\n",
       "      <td>NaN</td>\n",
       "      <td>NaN</td>\n",
       "      <td>wX53</td>\n",
       "      <td>RAYp</td>\n",
       "      <td>F2FyR07IdsN7I</td>\n",
       "      <td>NaN</td>\n",
       "    </tr>\n",
       "    <tr>\n",
       "      <th>6983</th>\n",
       "      <td>NaN</td>\n",
       "      <td>NaN</td>\n",
       "      <td>NaN</td>\n",
       "      <td>NaN</td>\n",
       "      <td>NaN</td>\n",
       "      <td>1771.0</td>\n",
       "      <td>14.0</td>\n",
       "      <td>NaN</td>\n",
       "      <td>NaN</td>\n",
       "      <td>NaN</td>\n",
       "      <td>...</td>\n",
       "      <td>iokpc3q</td>\n",
       "      <td>d0EEeJi</td>\n",
       "      <td>E2dt_DD</td>\n",
       "      <td>LM8l689qOp</td>\n",
       "      <td>NaN</td>\n",
       "      <td>NaN</td>\n",
       "      <td>xb3V</td>\n",
       "      <td>nIGXDli</td>\n",
       "      <td>F2FyR07IdsN7I</td>\n",
       "      <td>NaN</td>\n",
       "    </tr>\n",
       "    <tr>\n",
       "      <th>7812</th>\n",
       "      <td>NaN</td>\n",
       "      <td>NaN</td>\n",
       "      <td>NaN</td>\n",
       "      <td>NaN</td>\n",
       "      <td>NaN</td>\n",
       "      <td>882.0</td>\n",
       "      <td>14.0</td>\n",
       "      <td>NaN</td>\n",
       "      <td>NaN</td>\n",
       "      <td>NaN</td>\n",
       "      <td>...</td>\n",
       "      <td>XbZahzR</td>\n",
       "      <td>Al6ZaUT</td>\n",
       "      <td>3W_Cq2T</td>\n",
       "      <td>LM8l689qOp</td>\n",
       "      <td>NaN</td>\n",
       "      <td>ELof</td>\n",
       "      <td>WqMG</td>\n",
       "      <td>02N6s8f</td>\n",
       "      <td>R4y5gQQWY8OodqDV</td>\n",
       "      <td>NaN</td>\n",
       "    </tr>\n",
       "    <tr>\n",
       "      <th>592</th>\n",
       "      <td>NaN</td>\n",
       "      <td>NaN</td>\n",
       "      <td>NaN</td>\n",
       "      <td>NaN</td>\n",
       "      <td>NaN</td>\n",
       "      <td>2884.0</td>\n",
       "      <td>7.0</td>\n",
       "      <td>NaN</td>\n",
       "      <td>NaN</td>\n",
       "      <td>NaN</td>\n",
       "      <td>...</td>\n",
       "      <td>s03jbzC</td>\n",
       "      <td>oslk</td>\n",
       "      <td>laR6FsY</td>\n",
       "      <td>LM8l689qOp</td>\n",
       "      <td>NaN</td>\n",
       "      <td>NaN</td>\n",
       "      <td>uWr3</td>\n",
       "      <td>RAYp</td>\n",
       "      <td>F2FyR07IdsN7I</td>\n",
       "      <td>NaN</td>\n",
       "    </tr>\n",
       "    <tr>\n",
       "      <th>2051</th>\n",
       "      <td>NaN</td>\n",
       "      <td>NaN</td>\n",
       "      <td>NaN</td>\n",
       "      <td>NaN</td>\n",
       "      <td>NaN</td>\n",
       "      <td>4018.0</td>\n",
       "      <td>7.0</td>\n",
       "      <td>NaN</td>\n",
       "      <td>NaN</td>\n",
       "      <td>NaN</td>\n",
       "      <td>...</td>\n",
       "      <td>fabLnWA</td>\n",
       "      <td>oslk</td>\n",
       "      <td>EPqQcw6</td>\n",
       "      <td>jySVZNlOJy</td>\n",
       "      <td>NaN</td>\n",
       "      <td>kG3k</td>\n",
       "      <td>FSa2</td>\n",
       "      <td>RAYp</td>\n",
       "      <td>F2FyR07IdsN7I</td>\n",
       "      <td>mj86</td>\n",
       "    </tr>\n",
       "    <tr>\n",
       "      <th>22080</th>\n",
       "      <td>NaN</td>\n",
       "      <td>NaN</td>\n",
       "      <td>NaN</td>\n",
       "      <td>NaN</td>\n",
       "      <td>NaN</td>\n",
       "      <td>658.0</td>\n",
       "      <td>0.0</td>\n",
       "      <td>NaN</td>\n",
       "      <td>NaN</td>\n",
       "      <td>NaN</td>\n",
       "      <td>...</td>\n",
       "      <td>zWAdHAC</td>\n",
       "      <td>d0EEeJi</td>\n",
       "      <td>o8HI39x</td>\n",
       "      <td>LM8l689qOp</td>\n",
       "      <td>NaN</td>\n",
       "      <td>NaN</td>\n",
       "      <td>TNEC</td>\n",
       "      <td>nIGXDli</td>\n",
       "      <td>F2FyR07IdsN7I</td>\n",
       "      <td>NaN</td>\n",
       "    </tr>\n",
       "    <tr>\n",
       "      <th>27143</th>\n",
       "      <td>NaN</td>\n",
       "      <td>NaN</td>\n",
       "      <td>NaN</td>\n",
       "      <td>NaN</td>\n",
       "      <td>NaN</td>\n",
       "      <td>9835.0</td>\n",
       "      <td>28.0</td>\n",
       "      <td>NaN</td>\n",
       "      <td>NaN</td>\n",
       "      <td>NaN</td>\n",
       "      <td>...</td>\n",
       "      <td>4UxGlow</td>\n",
       "      <td>QKW8DRm</td>\n",
       "      <td>catzS2D</td>\n",
       "      <td>jySVZNlOJy</td>\n",
       "      <td>NaN</td>\n",
       "      <td>kG3k</td>\n",
       "      <td>FSa2</td>\n",
       "      <td>ZI9m</td>\n",
       "      <td>ib5G6X1eUxUn6</td>\n",
       "      <td>am7c</td>\n",
       "    </tr>\n",
       "    <tr>\n",
       "      <th>308</th>\n",
       "      <td>NaN</td>\n",
       "      <td>NaN</td>\n",
       "      <td>NaN</td>\n",
       "      <td>NaN</td>\n",
       "      <td>NaN</td>\n",
       "      <td>308.0</td>\n",
       "      <td>0.0</td>\n",
       "      <td>NaN</td>\n",
       "      <td>NaN</td>\n",
       "      <td>NaN</td>\n",
       "      <td>...</td>\n",
       "      <td>8d5YWu3</td>\n",
       "      <td>oslk</td>\n",
       "      <td>sXbT3Cb</td>\n",
       "      <td>LM8l689qOp</td>\n",
       "      <td>NaN</td>\n",
       "      <td>kG3k</td>\n",
       "      <td>WqMG</td>\n",
       "      <td>RAYp</td>\n",
       "      <td>F2FyR07IdsN7I</td>\n",
       "      <td>NaN</td>\n",
       "    </tr>\n",
       "    <tr>\n",
       "      <th>11020</th>\n",
       "      <td>NaN</td>\n",
       "      <td>NaN</td>\n",
       "      <td>NaN</td>\n",
       "      <td>NaN</td>\n",
       "      <td>NaN</td>\n",
       "      <td>1533.0</td>\n",
       "      <td>7.0</td>\n",
       "      <td>NaN</td>\n",
       "      <td>NaN</td>\n",
       "      <td>NaN</td>\n",
       "      <td>...</td>\n",
       "      <td>4UxGlow</td>\n",
       "      <td>zCkv</td>\n",
       "      <td>catzS2D</td>\n",
       "      <td>jySVZNlOJy</td>\n",
       "      <td>NaN</td>\n",
       "      <td>ELof</td>\n",
       "      <td>Qcbd</td>\n",
       "      <td>ZI9m</td>\n",
       "      <td>ZeaF</td>\n",
       "      <td>mj86</td>\n",
       "    </tr>\n",
       "    <tr>\n",
       "      <th>22808</th>\n",
       "      <td>NaN</td>\n",
       "      <td>NaN</td>\n",
       "      <td>NaN</td>\n",
       "      <td>NaN</td>\n",
       "      <td>NaN</td>\n",
       "      <td>2660.0</td>\n",
       "      <td>7.0</td>\n",
       "      <td>NaN</td>\n",
       "      <td>NaN</td>\n",
       "      <td>NaN</td>\n",
       "      <td>...</td>\n",
       "      <td>ALC3PT5</td>\n",
       "      <td>oslk</td>\n",
       "      <td>LsdxH6H</td>\n",
       "      <td>LM8l689qOp</td>\n",
       "      <td>NaN</td>\n",
       "      <td>NaN</td>\n",
       "      <td>FSa2</td>\n",
       "      <td>RAYp</td>\n",
       "      <td>F2FyR07IdsN7I</td>\n",
       "      <td>NaN</td>\n",
       "    </tr>\n",
       "    <tr>\n",
       "      <th>25583</th>\n",
       "      <td>NaN</td>\n",
       "      <td>NaN</td>\n",
       "      <td>NaN</td>\n",
       "      <td>NaN</td>\n",
       "      <td>NaN</td>\n",
       "      <td>1631.0</td>\n",
       "      <td>7.0</td>\n",
       "      <td>NaN</td>\n",
       "      <td>NaN</td>\n",
       "      <td>NaN</td>\n",
       "      <td>...</td>\n",
       "      <td>I0ktp3J</td>\n",
       "      <td>d0EEeJi</td>\n",
       "      <td>ABtD3EE</td>\n",
       "      <td>LM8l689qOp</td>\n",
       "      <td>NaN</td>\n",
       "      <td>xG3x</td>\n",
       "      <td>PM2D</td>\n",
       "      <td>nIGXDli</td>\n",
       "      <td>F2FyR07IdsN7I</td>\n",
       "      <td>NaN</td>\n",
       "    </tr>\n",
       "    <tr>\n",
       "      <th>14989</th>\n",
       "      <td>NaN</td>\n",
       "      <td>NaN</td>\n",
       "      <td>NaN</td>\n",
       "      <td>NaN</td>\n",
       "      <td>NaN</td>\n",
       "      <td>539.0</td>\n",
       "      <td>7.0</td>\n",
       "      <td>NaN</td>\n",
       "      <td>NaN</td>\n",
       "      <td>NaN</td>\n",
       "      <td>...</td>\n",
       "      <td>xKnYH7D</td>\n",
       "      <td>oslk</td>\n",
       "      <td>jpmOtEt</td>\n",
       "      <td>LM8l689qOp</td>\n",
       "      <td>NaN</td>\n",
       "      <td>NaN</td>\n",
       "      <td>szEZ</td>\n",
       "      <td>RAYp</td>\n",
       "      <td>F2FyR07IdsN7I</td>\n",
       "      <td>NaN</td>\n",
       "    </tr>\n",
       "    <tr>\n",
       "      <th>19742</th>\n",
       "      <td>NaN</td>\n",
       "      <td>NaN</td>\n",
       "      <td>NaN</td>\n",
       "      <td>NaN</td>\n",
       "      <td>NaN</td>\n",
       "      <td>749.0</td>\n",
       "      <td>7.0</td>\n",
       "      <td>NaN</td>\n",
       "      <td>NaN</td>\n",
       "      <td>NaN</td>\n",
       "      <td>...</td>\n",
       "      <td>4UxGlow</td>\n",
       "      <td>zCkv</td>\n",
       "      <td>catzS2D</td>\n",
       "      <td>LM8l689qOp</td>\n",
       "      <td>NaN</td>\n",
       "      <td>NaN</td>\n",
       "      <td>FSa2</td>\n",
       "      <td>ZI9m</td>\n",
       "      <td>TCU50_Yjmm6GIBZ0lL_</td>\n",
       "      <td>NaN</td>\n",
       "    </tr>\n",
       "    <tr>\n",
       "      <th>17060</th>\n",
       "      <td>NaN</td>\n",
       "      <td>NaN</td>\n",
       "      <td>NaN</td>\n",
       "      <td>NaN</td>\n",
       "      <td>NaN</td>\n",
       "      <td>777.0</td>\n",
       "      <td>7.0</td>\n",
       "      <td>NaN</td>\n",
       "      <td>NaN</td>\n",
       "      <td>NaN</td>\n",
       "      <td>...</td>\n",
       "      <td>4UxGlow</td>\n",
       "      <td>oslk</td>\n",
       "      <td>catzS2D</td>\n",
       "      <td>LM8l689qOp</td>\n",
       "      <td>NaN</td>\n",
       "      <td>NaN</td>\n",
       "      <td>Qu4f</td>\n",
       "      <td>ZI9m</td>\n",
       "      <td>ib5G6X1eUxUn6</td>\n",
       "      <td>mj86</td>\n",
       "    </tr>\n",
       "    <tr>\n",
       "      <th>7198</th>\n",
       "      <td>NaN</td>\n",
       "      <td>NaN</td>\n",
       "      <td>NaN</td>\n",
       "      <td>NaN</td>\n",
       "      <td>NaN</td>\n",
       "      <td>903.0</td>\n",
       "      <td>7.0</td>\n",
       "      <td>NaN</td>\n",
       "      <td>NaN</td>\n",
       "      <td>NaN</td>\n",
       "      <td>...</td>\n",
       "      <td>4UxGlow</td>\n",
       "      <td>QKW8DRm</td>\n",
       "      <td>catzS2D</td>\n",
       "      <td>LM8l689qOp</td>\n",
       "      <td>NaN</td>\n",
       "      <td>kG3k</td>\n",
       "      <td>FSa2</td>\n",
       "      <td>ZI9m</td>\n",
       "      <td>ib5G6X1eUxUn6</td>\n",
       "      <td>NaN</td>\n",
       "    </tr>\n",
       "    <tr>\n",
       "      <th>25083</th>\n",
       "      <td>NaN</td>\n",
       "      <td>NaN</td>\n",
       "      <td>NaN</td>\n",
       "      <td>NaN</td>\n",
       "      <td>NaN</td>\n",
       "      <td>4186.0</td>\n",
       "      <td>21.0</td>\n",
       "      <td>NaN</td>\n",
       "      <td>NaN</td>\n",
       "      <td>NaN</td>\n",
       "      <td>...</td>\n",
       "      <td>FgkM8GC</td>\n",
       "      <td>d0EEeJi</td>\n",
       "      <td>5gS1S5l</td>\n",
       "      <td>LM8l689qOp</td>\n",
       "      <td>NaN</td>\n",
       "      <td>ELof</td>\n",
       "      <td>Aoh3</td>\n",
       "      <td>nIGXDli</td>\n",
       "      <td>F2FyR07IdsN7I</td>\n",
       "      <td>mj86</td>\n",
       "    </tr>\n",
       "    <tr>\n",
       "      <th>4179</th>\n",
       "      <td>NaN</td>\n",
       "      <td>NaN</td>\n",
       "      <td>NaN</td>\n",
       "      <td>NaN</td>\n",
       "      <td>NaN</td>\n",
       "      <td>861.0</td>\n",
       "      <td>7.0</td>\n",
       "      <td>NaN</td>\n",
       "      <td>NaN</td>\n",
       "      <td>NaN</td>\n",
       "      <td>...</td>\n",
       "      <td>rSNKYdx</td>\n",
       "      <td>zCkv</td>\n",
       "      <td>O8sb4Lm</td>\n",
       "      <td>LM8l689qOp</td>\n",
       "      <td>NaN</td>\n",
       "      <td>NaN</td>\n",
       "      <td>3Cy4</td>\n",
       "      <td>6fzt</td>\n",
       "      <td>SbOd7O8ky1wGNxp0Arj0Xs</td>\n",
       "      <td>NaN</td>\n",
       "    </tr>\n",
       "    <tr>\n",
       "      <th>22446</th>\n",
       "      <td>NaN</td>\n",
       "      <td>NaN</td>\n",
       "      <td>NaN</td>\n",
       "      <td>NaN</td>\n",
       "      <td>NaN</td>\n",
       "      <td>1141.0</td>\n",
       "      <td>7.0</td>\n",
       "      <td>NaN</td>\n",
       "      <td>NaN</td>\n",
       "      <td>NaN</td>\n",
       "      <td>...</td>\n",
       "      <td>zxm6hzI</td>\n",
       "      <td>oslk</td>\n",
       "      <td>RRM2fT4</td>\n",
       "      <td>jySVZNlOJy</td>\n",
       "      <td>NaN</td>\n",
       "      <td>NaN</td>\n",
       "      <td>Aoh3</td>\n",
       "      <td>RAYp</td>\n",
       "      <td>F2FyR07IdsN7I</td>\n",
       "      <td>NaN</td>\n",
       "    </tr>\n",
       "  </tbody>\n",
       "</table>\n",
       "<p>20 rows × 211 columns</p>\n",
       "</div>"
      ],
      "text/plain": [
       "       Var1  Var2  Var3  Var4  Var5    Var6  Var7  Var9  Var10  Var11   ...    \\\n",
       "17678   NaN   NaN   NaN   NaN   NaN  1001.0   7.0   NaN    NaN    NaN   ...     \n",
       "19991   NaN   NaN   NaN   NaN   NaN   462.0   0.0   NaN    NaN    NaN   ...     \n",
       "2335    NaN   NaN   NaN   NaN   NaN   448.0   0.0   NaN    NaN    NaN   ...     \n",
       "6983    NaN   NaN   NaN   NaN   NaN  1771.0  14.0   NaN    NaN    NaN   ...     \n",
       "7812    NaN   NaN   NaN   NaN   NaN   882.0  14.0   NaN    NaN    NaN   ...     \n",
       "592     NaN   NaN   NaN   NaN   NaN  2884.0   7.0   NaN    NaN    NaN   ...     \n",
       "2051    NaN   NaN   NaN   NaN   NaN  4018.0   7.0   NaN    NaN    NaN   ...     \n",
       "22080   NaN   NaN   NaN   NaN   NaN   658.0   0.0   NaN    NaN    NaN   ...     \n",
       "27143   NaN   NaN   NaN   NaN   NaN  9835.0  28.0   NaN    NaN    NaN   ...     \n",
       "308     NaN   NaN   NaN   NaN   NaN   308.0   0.0   NaN    NaN    NaN   ...     \n",
       "11020   NaN   NaN   NaN   NaN   NaN  1533.0   7.0   NaN    NaN    NaN   ...     \n",
       "22808   NaN   NaN   NaN   NaN   NaN  2660.0   7.0   NaN    NaN    NaN   ...     \n",
       "25583   NaN   NaN   NaN   NaN   NaN  1631.0   7.0   NaN    NaN    NaN   ...     \n",
       "14989   NaN   NaN   NaN   NaN   NaN   539.0   7.0   NaN    NaN    NaN   ...     \n",
       "19742   NaN   NaN   NaN   NaN   NaN   749.0   7.0   NaN    NaN    NaN   ...     \n",
       "17060   NaN   NaN   NaN   NaN   NaN   777.0   7.0   NaN    NaN    NaN   ...     \n",
       "7198    NaN   NaN   NaN   NaN   NaN   903.0   7.0   NaN    NaN    NaN   ...     \n",
       "25083   NaN   NaN   NaN   NaN   NaN  4186.0  21.0   NaN    NaN    NaN   ...     \n",
       "4179    NaN   NaN   NaN   NaN   NaN   861.0   7.0   NaN    NaN    NaN   ...     \n",
       "22446   NaN   NaN   NaN   NaN   NaN  1141.0   7.0   NaN    NaN    NaN   ...     \n",
       "\n",
       "        Var220   Var221   Var222      Var223  Var224  Var225  Var226   Var227  \\\n",
       "17678  2Wb19U9     oslk  SQ6wBif  LM8l689qOp     NaN     NaN    uWr3     RAYp   \n",
       "19991  ncuRoKG     oslk  aK_wS9i         NaN     NaN     NaN    Qu4f     RAYp   \n",
       "2335   6XEoI0_     oslk  bSgltRa  LM8l689qOp     NaN     NaN    wX53     RAYp   \n",
       "6983   iokpc3q  d0EEeJi  E2dt_DD  LM8l689qOp     NaN     NaN    xb3V  nIGXDli   \n",
       "7812   XbZahzR  Al6ZaUT  3W_Cq2T  LM8l689qOp     NaN    ELof    WqMG  02N6s8f   \n",
       "592    s03jbzC     oslk  laR6FsY  LM8l689qOp     NaN     NaN    uWr3     RAYp   \n",
       "2051   fabLnWA     oslk  EPqQcw6  jySVZNlOJy     NaN    kG3k    FSa2     RAYp   \n",
       "22080  zWAdHAC  d0EEeJi  o8HI39x  LM8l689qOp     NaN     NaN    TNEC  nIGXDli   \n",
       "27143  4UxGlow  QKW8DRm  catzS2D  jySVZNlOJy     NaN    kG3k    FSa2     ZI9m   \n",
       "308    8d5YWu3     oslk  sXbT3Cb  LM8l689qOp     NaN    kG3k    WqMG     RAYp   \n",
       "11020  4UxGlow     zCkv  catzS2D  jySVZNlOJy     NaN    ELof    Qcbd     ZI9m   \n",
       "22808  ALC3PT5     oslk  LsdxH6H  LM8l689qOp     NaN     NaN    FSa2     RAYp   \n",
       "25583  I0ktp3J  d0EEeJi  ABtD3EE  LM8l689qOp     NaN    xG3x    PM2D  nIGXDli   \n",
       "14989  xKnYH7D     oslk  jpmOtEt  LM8l689qOp     NaN     NaN    szEZ     RAYp   \n",
       "19742  4UxGlow     zCkv  catzS2D  LM8l689qOp     NaN     NaN    FSa2     ZI9m   \n",
       "17060  4UxGlow     oslk  catzS2D  LM8l689qOp     NaN     NaN    Qu4f     ZI9m   \n",
       "7198   4UxGlow  QKW8DRm  catzS2D  LM8l689qOp     NaN    kG3k    FSa2     ZI9m   \n",
       "25083  FgkM8GC  d0EEeJi  5gS1S5l  LM8l689qOp     NaN    ELof    Aoh3  nIGXDli   \n",
       "4179   rSNKYdx     zCkv  O8sb4Lm  LM8l689qOp     NaN     NaN    3Cy4     6fzt   \n",
       "22446  zxm6hzI     oslk  RRM2fT4  jySVZNlOJy     NaN     NaN    Aoh3     RAYp   \n",
       "\n",
       "                       Var228  Var229  \n",
       "17678                 55YFVY9    am7c  \n",
       "19991           F2FyR07IdsN7I     NaN  \n",
       "2335            F2FyR07IdsN7I     NaN  \n",
       "6983            F2FyR07IdsN7I     NaN  \n",
       "7812         R4y5gQQWY8OodqDV     NaN  \n",
       "592             F2FyR07IdsN7I     NaN  \n",
       "2051            F2FyR07IdsN7I    mj86  \n",
       "22080           F2FyR07IdsN7I     NaN  \n",
       "27143           ib5G6X1eUxUn6    am7c  \n",
       "308             F2FyR07IdsN7I     NaN  \n",
       "11020                    ZeaF    mj86  \n",
       "22808           F2FyR07IdsN7I     NaN  \n",
       "25583           F2FyR07IdsN7I     NaN  \n",
       "14989           F2FyR07IdsN7I     NaN  \n",
       "19742     TCU50_Yjmm6GIBZ0lL_     NaN  \n",
       "17060           ib5G6X1eUxUn6    mj86  \n",
       "7198            ib5G6X1eUxUn6     NaN  \n",
       "25083           F2FyR07IdsN7I    mj86  \n",
       "4179   SbOd7O8ky1wGNxp0Arj0Xs     NaN  \n",
       "22446           F2FyR07IdsN7I     NaN  \n",
       "\n",
       "[20 rows x 211 columns]"
      ]
     },
     "execution_count": 299,
     "metadata": {},
     "output_type": "execute_result"
    }
   ],
   "source": [
    "labels_list = [0 if l == -1 else 1 for l in best_test_labels.as_matrix().flatten()]\n",
    "indices_by_error = [v[0] for v in sorted(\n",
    "    zip(list(best_test_labels.index), labels_list, test_probabilities),\n",
    "    key=lambda v: -np.abs(v[1]-v[2]))]\n",
    "churn_data_frame.loc[indices_by_error, list(num_cleaned) + list(cat_cleaned)].head(20)"
   ]
  },
  {
   "cell_type": "markdown",
   "metadata": {},
   "source": [
    "Видно, что на объектах, дающих наибольшую ошибку очень мало заполненных числовых признаков.\n",
    "Также из графиков, построенных на 1й неделе мы знаем, что разделяющая поверхность между классами довольно размыта, что и объясняет наличие объектов с большой ошибкой.\n",
    "Для улучшения модели можно попробовать отсеивать слабо заполненные объекты (но, как мы помним из кривых обучения не более 20%)"
   ]
  },
  {
   "cell_type": "markdown",
   "metadata": {},
   "source": [
    "9\\. По итогам проведенных экспериментов постройте финальную решение - модель с наилучшим качеством. Укажите, какие преобразования данных, параметры и пр. вы выбрали для построения финальной модели."
   ]
  },
  {
   "cell_type": "markdown",
   "metadata": {
    "collapsed": true
   },
   "source": [
    "В итоге наилучшее качество я получил, построив модель на основе GradientBoostingClassifier.\n",
    "При предварительном отборе признаков удаляются все константные признаки и признаки не содержащие значений.\n",
    "Для более точного отбора призков используется алгоритм SelectKBest, выбирающий 21 колонку.\n",
    "Вещественные признаки масштабируются с помощью StandardScaler.\n",
    "К категориальным признакам применяется LabelEncoder."
   ]
  },
  {
   "cell_type": "code",
   "execution_count": 19,
   "metadata": {},
   "outputs": [],
   "source": [
    "test_data_frame = pd.read_csv(\"..\\..\\Data\\churn_data_holdout.csv\", \",\", dtype= { \"Var73\": np.float64 })\n",
    "test_labels_frame = pd.read_csv(\"..\\..\\Data\\churn_labels_holdout.csv\", dtype= { \"labels\": np.int64 })"
   ]
  },
  {
   "cell_type": "code",
   "execution_count": 20,
   "metadata": {},
   "outputs": [
    {
     "name": "stdout",
     "output_type": "stream",
     "text": [
      "Best numeric: Var74, Var13, Var126, Var72, Var65, Var81, Var144, Var73, Var113, Var189, Var7\n",
      "Best categorial: Var227, Var229, Var228, Var218, Var210, Var193, Var205, Var207, Var211, Var216\n"
     ]
    }
   ],
   "source": [
    "k_best_21_features = [f[0] for f in sorted(zip(preprocessed_frame.columns, mdl.scores_), key=lambda f: -f[1])][:21]\n",
    "k_best_21_num = pd.Index(list(set(numeric_columns) & set(k_best_21_features)))\n",
    "k_best_21_cat = pd.Index(list(set(categorial_columns) & set(k_best_21_features)))\n",
    "print(\"Best numeric:\", \", \".join(k_best_21_num))\n",
    "print(\"Best categorial:\", \", \".join(k_best_21_cat))"
   ]
  },
  {
   "cell_type": "code",
   "execution_count": 21,
   "metadata": {},
   "outputs": [
    {
     "data": {
      "text/plain": [
       "((12001, 21), (12001,))"
      ]
     },
     "execution_count": 21,
     "metadata": {},
     "output_type": "execute_result"
    }
   ],
   "source": [
    "best_train_frame, best_train_labels, holdout_test_frame, holdout_test_labels, dropped_train_num, dropped_train_cat = process_frame_base(\n",
    "    churn_data_frame[k_best_21_features],\n",
    "    churn_labels_frame,\n",
    "    test_data_frame[k_best_21_features],\n",
    "    test_labels_frame,\n",
    "    k_best_21_num,\n",
    "    k_best_21_cat)\n",
    "\n",
    "train_num_cols = k_best_21_num.drop(dropped_train_num)\n",
    "train_cat_cols = k_best_21_cat.drop(dropped_train_cat)\n",
    "\n",
    "preprocessed_x_train, preprocessed_x_test, preprocessed_y_train, preprocessed_y_test, ne, ce = frame_to_matrix_labeled(\n",
    "    best_train_frame,\n",
    "    holdout_test_frame,\n",
    "    best_train_labels,\n",
    "    holdout_test_labels,\n",
    "    train_num_cols,\n",
    "    train_cat_cols)\n",
    "\n",
    "preprocessed_x_test.shape, preprocessed_y_test.shape"
   ]
  },
  {
   "cell_type": "code",
   "execution_count": 36,
   "metadata": {},
   "outputs": [],
   "source": [
    "def get_model_data(model_with_data, num_cols, cat_cols):\n",
    "    \"\"\" Функция принимает на вход результат stratifiedKFold_fscore и возвращает только модель и её X_test и y_test \"\"\"\n",
    "    model = model_with_data[1]\n",
    "    split = model_with_data[3]\n",
    "    X_t_f = split[0]\n",
    "    y_t_f = split[1]\n",
    "    X_frame = split[2]\n",
    "    y_frame = split[3]\n",
    "    X_train, X, y_train, y, num_encoder, cat_encoder = frame_to_matrix_labeled(\n",
    "            X_t_f,\n",
    "            X_frame,\n",
    "            y_t_f,\n",
    "            y_frame,\n",
    "            num_cols,\n",
    "            cat_cols)\n",
    "    return (model,X,y)\n",
    "\n",
    "def calculate_metrics(model_with_data, num_cols, cat_cols, predict_probabilities, build_predictions):\n",
    "    \"\"\" Посчитаем метрики качества для модели \"\"\"\n",
    "    model, X, y = get_model_data(model_with_data, num_cols, cat_cols)\n",
    "    probabilities = predict_probabilities(X, model)\n",
    "    predictions = build_predictions(X, model)\n",
    "    # Считаем F-меру, precision и recall\n",
    "    fscore = f1_score(y, predictions)\n",
    "    precision = precision_score(y, predictions)\n",
    "    recall = recall_score(y, predictions)\n",
    "    # Считаем Log loss\n",
    "    logLoss = log_loss(y, probabilities)\n",
    "    # Считаем roc auc score\n",
    "    rocAuc = roc_auc_score(y, probabilities)\n",
    "    return (precision,recall,fscore,logLoss,rocAuc)"
   ]
  },
  {
   "cell_type": "code",
   "execution_count": 23,
   "metadata": {},
   "outputs": [
    {
     "data": {
      "text/plain": [
       "(0.7358439495605924, 0.73861912018455878)"
      ]
     },
     "execution_count": 23,
     "metadata": {},
     "output_type": "execute_result"
    }
   ],
   "source": [
    "bestmodel = GradientBoostingClassifier().fit(preprocessed_x_train, preprocessed_y_train)\n",
    "train_model = gradient_boosting_baseline_builder(\n",
    "    churn_data_frame[k_best_21_features],\n",
    "    churn_labels_frame,\n",
    "    k_best_21_num,\n",
    "    k_best_21_cat)\n",
    "final_test_probabilities = predict_model_proba(preprocessed_x_test, bestmodel)\n",
    "finalTrainRocAuc = train_model[0]\n",
    "finalTestRocAuc = roc_auc_score(preprocessed_y_test, final_test_probabilities)\n",
    "finalTrainRocAuc, finalTestRocAuc"
   ]
  },
  {
   "cell_type": "code",
   "execution_count": 37,
   "metadata": {},
   "outputs": [],
   "source": [
    "test_model_with_data = (finalTestRocAuc, bestmodel, 0, (best_train_frame, best_train_labels, holdout_test_frame, holdout_test_labels))\n",
    "score_table = pd.DataFrame(\n",
    "    [\n",
    "        calculate_metrics(train_model, train_num_cols, train_cat_cols, predict_model_proba, lambda x, m: m.predict(x)),\n",
    "        calculate_metrics(test_model_with_data, train_num_cols, train_cat_cols, predict_model_proba, lambda x, m: m.predict(x))\n",
    "    ],\n",
    "    index=[\"Train quality\", \"Test quality\"],\n",
    "    columns=[\"Precision\", \"Recall\", \"F-Score\", \"Log Loss\", \"Roc Auc\"])"
   ]
  },
  {
   "cell_type": "code",
   "execution_count": 38,
   "metadata": {},
   "outputs": [],
   "source": [
    "def transform_to_chart_model(label, model_with_data, num_cols, cat_cols, predict_probabilities):\n",
    "    \"\"\" Функция принимает на вход заголовок, результат функции stratifiedKFold_fscore и функцию, считающую вероятности\n",
    "    и возвращает заголовок, вектор ответов и вектор вероятностей для построения графиков \"\"\"\n",
    "    model, X, y = get_model_data(model_with_data, num_cols, cat_cols)\n",
    "    probabilities = predict_probabilities(X, model)\n",
    "    return (label, y, probabilities)\n",
    "\n",
    "def charts_row(model_charts, chart_builder, figsize=(11, 4)):\n",
    "    \"\"\" Функция принимает данные для построения графиков и логику построения одного графика и строит графики в одну строку \"\"\"\n",
    "    fig, axes = plt.subplots(\n",
    "        nrows=1,\n",
    "        ncols=len(model_charts),\n",
    "        figsize=figsize,\n",
    "        sharey=True)\n",
    "    for i, chart_data in enumerate(model_charts):\n",
    "        ax = axes[i]\n",
    "        chart_builder(chart_data, ax, i)\n",
    "    plt.show()\n",
    "    \n",
    "def scatter(chart_data, ax, ax_index, T=0.5):\n",
    "    \"\"\" Функция строит график распределения вероятностей по классам \"\"\"\n",
    "    label, actual, predicted = chart_data\n",
    "    ax.scatter(actual, predicted)\n",
    "    ax.set_xlabel(\"Labels\")\n",
    "    if ax_index == 0:\n",
    "        ax.set_ylabel(\"Predicted probabilities\")\n",
    "    ax.set_title(label)\n",
    "    ax.plot([-1.1, 1.2], [T, T])\n",
    "    ax.axis([-1.1, 1.1, -0.1, 1.1])\n",
    "    \n",
    "def precision_recal_thresh(chart_data, ax, ax_index):\n",
    "    \"\"\" Функция строит графики значений precision и recall в зависимости от порога \"\"\"\n",
    "    label, actual, predicted = chart_data\n",
    "    prec, rec, thresh = precision_recall_curve(actual, predicted)\n",
    "    min_len = min([len(prec),len(rec),len(thresh)])\n",
    "    ax.plot(thresh[:min_len], prec[:min_len], label=\"precision\")\n",
    "    ax.plot(thresh[:min_len], rec[:min_len], label=\"recall\")\n",
    "    ax.legend(loc=1)\n",
    "    ax.set_xlabel(\"threshold\")\n",
    "    ax.set_title(label)\n",
    "    \n",
    "def auc_prc(chart_data, ax, ax_index):\n",
    "    \"\"\" Функция строит график AUC PRC (зависимость precision от recall)\"\"\"\n",
    "    label, actual, predicted = chart_data\n",
    "    prec, rec, thresh = precision_recall_curve(actual, predicted)\n",
    "    min_len = min([len(prec),len(rec),len(thresh)])\n",
    "    ax.plot(rec[:min_len], prec[:min_len])\n",
    "    ax.set_xlabel(\"recall\")\n",
    "    if ax_index == 0:\n",
    "        ax.set_ylabel(\"precision\")\n",
    "    ax.set_title(label)\n",
    "\n",
    "def calc_min_distance (actual,predicted):\n",
    "    \"\"\" Функция считает минимальное расстояние до точки [0;1] для AUC ROC \"\"\"\n",
    "    fpr,tpr,thr = roc_curve(actual,predicted)\n",
    "    distance,fpr_v,tpr_v,thr_v = min(zip(np.sqrt((1.-tpr)**2+fpr**2),fpr,tpr,thr), key=lambda d:d[0])\n",
    "    return (distance,fpr_v,tpr_v,thr_v)\n",
    "    \n",
    "def auc_roc(chart_data, ax, ax_index):\n",
    "    \"\"\" Функция строит кривую AUC ROC и отмечает точку, соответствующую минимальному расстоянию до точки [0;1] \"\"\"\n",
    "    label, actual, predicted = chart_data\n",
    "    fpr, tpr, thr = roc_curve(actual, predicted)\n",
    "    min_dist,min_fpr,min_tpr,_ = calc_min_distance(actual, predicted)\n",
    "    ax.plot(fpr, tpr, label=\"ROC AUC curve\")\n",
    "    ax.scatter(min_fpr,min_tpr,color=\"red\")\n",
    "    ax.set_xlabel(\"false positive rate\")\n",
    "    if ax_index == 0:\n",
    "        ax.set_ylabel(\"true positive rate\")\n",
    "    ax.legend(loc=4)\n",
    "    ax.set_title(label)"
   ]
  },
  {
   "cell_type": "code",
   "execution_count": 39,
   "metadata": {},
   "outputs": [],
   "source": [
    "chart_models = [transform_to_chart_model(t, m, train_num_cols, train_cat_cols, predict_model_proba) for t, m in zip(\n",
    "    [\"Train\", \"Test\"],\n",
    "    [train_model, test_model_with_data]\n",
    ")]"
   ]
  },
  {
   "cell_type": "code",
   "execution_count": 40,
   "metadata": {},
   "outputs": [
    {
     "data": {
      "text/html": [
       "<div>\n",
       "<style scoped>\n",
       "    .dataframe tbody tr th:only-of-type {\n",
       "        vertical-align: middle;\n",
       "    }\n",
       "\n",
       "    .dataframe tbody tr th {\n",
       "        vertical-align: top;\n",
       "    }\n",
       "\n",
       "    .dataframe thead th {\n",
       "        text-align: right;\n",
       "    }\n",
       "</style>\n",
       "<table border=\"1\" class=\"dataframe\">\n",
       "  <thead>\n",
       "    <tr style=\"text-align: right;\">\n",
       "      <th></th>\n",
       "      <th>Precision</th>\n",
       "      <th>Recall</th>\n",
       "      <th>F-Score</th>\n",
       "      <th>Log Loss</th>\n",
       "      <th>Roc Auc</th>\n",
       "    </tr>\n",
       "  </thead>\n",
       "  <tbody>\n",
       "    <tr>\n",
       "      <th>Train quality</th>\n",
       "      <td>0.454545</td>\n",
       "      <td>0.014409</td>\n",
       "      <td>0.027933</td>\n",
       "      <td>0.237044</td>\n",
       "      <td>0.746867</td>\n",
       "    </tr>\n",
       "    <tr>\n",
       "      <th>Test quality</th>\n",
       "      <td>0.466667</td>\n",
       "      <td>0.007839</td>\n",
       "      <td>0.015419</td>\n",
       "      <td>0.237020</td>\n",
       "      <td>0.738619</td>\n",
       "    </tr>\n",
       "  </tbody>\n",
       "</table>\n",
       "</div>"
      ],
      "text/plain": [
       "               Precision    Recall   F-Score  Log Loss   Roc Auc\n",
       "Train quality   0.454545  0.014409  0.027933  0.237044  0.746867\n",
       "Test quality    0.466667  0.007839  0.015419  0.237020  0.738619"
      ]
     },
     "execution_count": 40,
     "metadata": {},
     "output_type": "execute_result"
    }
   ],
   "source": [
    "score_table"
   ]
  },
  {
   "cell_type": "code",
   "execution_count": 28,
   "metadata": {},
   "outputs": [
    {
     "data": {
      "image/png": "[encoded data removed]",
      "text/plain": [
       "<matplotlib.figure.Figure at 0x1f683293198>"
      ]
     },
     "metadata": {},
     "output_type": "display_data"
    }
   ],
   "source": [
    "charts_row(chart_models, scatter)"
   ]
  },
  {
   "cell_type": "code",
   "execution_count": 29,
   "metadata": {},
   "outputs": [
    {
     "data": {
      "image/png": "[encoded data removed]",
      "text/plain": [
       "<matplotlib.figure.Figure at 0x1f683d92160>"
      ]
     },
     "metadata": {},
     "output_type": "display_data"
    }
   ],
   "source": [
    "charts_row(chart_models, precision_recal_thresh)"
   ]
  },
  {
   "cell_type": "code",
   "execution_count": 30,
   "metadata": {},
   "outputs": [
    {
     "data": {
      "image/png": "[encoded data removed]",
      "text/plain": [
       "<matplotlib.figure.Figure at 0x1f683572b38>"
      ]
     },
     "metadata": {},
     "output_type": "display_data"
    }
   ],
   "source": [
    "charts_row(chart_models, auc_roc)"
   ]
  },
  {
   "cell_type": "code",
   "execution_count": 31,
   "metadata": {},
   "outputs": [
    {
     "data": {
      "image/png": "[encoded data removed]",
      "text/plain": [
       "<matplotlib.figure.Figure at 0x1f68348c5c0>"
      ]
     },
     "metadata": {},
     "output_type": "display_data"
    }
   ],
   "source": [
    "charts_row(chart_models, auc_prc)"
   ]
  },
  {
   "cell_type": "code",
   "execution_count": 43,
   "metadata": {},
   "outputs": [],
   "source": [
    "def build_predictions(X, model, predict_proba, threshold):\n",
    "    probabilities = predict_proba(X, model)\n",
    "    return [-1 if probability < threshold else 1 for probability in probabilities]"
   ]
  },
  {
   "cell_type": "code",
   "execution_count": 69,
   "metadata": {},
   "outputs": [
    {
     "name": "stderr",
     "output_type": "stream",
     "text": [
      "C:\\Program Files\\Anaconda3\\lib\\site-packages\\sklearn\\metrics\\classification.py:1135: UndefinedMetricWarning: F-score is ill-defined and being set to 0.0 due to no predicted samples.\n",
      "  'precision', 'predicted', average, warn_for)\n",
      "C:\\Program Files\\Anaconda3\\lib\\site-packages\\sklearn\\metrics\\classification.py:1135: UndefinedMetricWarning: Precision is ill-defined and being set to 0.0 due to no predicted samples.\n",
      "  'precision', 'predicted', average, warn_for)\n"
     ]
    },
    {
     "data": {
      "text/html": [
       "<div>\n",
       "<style scoped>\n",
       "    .dataframe tbody tr th:only-of-type {\n",
       "        vertical-align: middle;\n",
       "    }\n",
       "\n",
       "    .dataframe tbody tr th {\n",
       "        vertical-align: top;\n",
       "    }\n",
       "\n",
       "    .dataframe thead th {\n",
       "        text-align: right;\n",
       "    }\n",
       "</style>\n",
       "<table border=\"1\" class=\"dataframe\">\n",
       "  <thead>\n",
       "    <tr style=\"text-align: right;\">\n",
       "      <th></th>\n",
       "      <th>Precision</th>\n",
       "      <th>Recall</th>\n",
       "      <th>F-Score</th>\n",
       "      <th>Log Loss</th>\n",
       "      <th>Roc Auc</th>\n",
       "    </tr>\n",
       "  </thead>\n",
       "  <tbody>\n",
       "    <tr>\n",
       "      <th>Train quality</th>\n",
       "      <td>0.454545</td>\n",
       "      <td>0.014409</td>\n",
       "      <td>0.027933</td>\n",
       "      <td>0.237044</td>\n",
       "      <td>0.746867</td>\n",
       "    </tr>\n",
       "    <tr>\n",
       "      <th>Test quality</th>\n",
       "      <td>0.466667</td>\n",
       "      <td>0.007839</td>\n",
       "      <td>0.015419</td>\n",
       "      <td>0.237020</td>\n",
       "      <td>0.738619</td>\n",
       "    </tr>\n",
       "    <tr>\n",
       "      <th>Best threshold</th>\n",
       "      <td>0.232573</td>\n",
       "      <td>0.399776</td>\n",
       "      <td>0.294069</td>\n",
       "      <td>0.237020</td>\n",
       "      <td>0.738619</td>\n",
       "    </tr>\n",
       "  </tbody>\n",
       "</table>\n",
       "</div>"
      ],
      "text/plain": [
       "                Precision    Recall   F-Score  Log Loss   Roc Auc\n",
       "Train quality    0.454545  0.014409  0.027933  0.237044  0.746867\n",
       "Test quality     0.466667  0.007839  0.015419  0.237020  0.738619\n",
       "Best threshold   0.232573  0.399776  0.294069  0.237020  0.738619"
      ]
     },
     "execution_count": 69,
     "metadata": {},
     "output_type": "execute_result"
    }
   ],
   "source": [
    "best_threshold = 0\n",
    "best_metrics = None\n",
    "best_f_score = 0\n",
    "prev_recall = 0\n",
    "cur_recall = 0\n",
    "for threshold in np.arange(0.0, 1.0, 0.01):\n",
    "    metrics = calculate_metrics(\n",
    "        test_model_with_data,\n",
    "        train_num_cols,\n",
    "        train_cat_cols,\n",
    "        predict_model_proba,\n",
    "        lambda x, m: build_predictions(x, m, predict_model_proba, threshold))\n",
    "    f1score = metrics[2]\n",
    "    #cur_recall = metrics[1]\n",
    "    # if(cur_recall < prev_recall and cur_recall < 0.5):\n",
    "    #    break;\n",
    "    #else:\n",
    "    #    prev_recall = cur_recall\n",
    "    if(f1score > best_f_score):\n",
    "        best_threshold = threshold\n",
    "        best_metrics = metrics\n",
    "        best_f_score = f1score\n",
    "score_table = pd.DataFrame(\n",
    "    [\n",
    "        calculate_metrics(train_model, train_num_cols, train_cat_cols, predict_model_proba, lambda x, m: m.predict(x)),\n",
    "        calculate_metrics(test_model_with_data, train_num_cols, train_cat_cols, predict_model_proba, lambda x, m: m.predict(x)),\n",
    "        best_metrics\n",
    "    ],\n",
    "    index=[\"Train quality\", \"Test quality\", \"Best threshold\"],\n",
    "    columns=[\"Precision\", \"Recall\", \"F-Score\", \"Log Loss\", \"Roc Auc\"])\n",
    "score_table"
   ]
  },
  {
   "cell_type": "code",
   "execution_count": 70,
   "metadata": {},
   "outputs": [
    {
     "data": {
      "text/plain": [
       "0.13"
      ]
     },
     "execution_count": 70,
     "metadata": {},
     "output_type": "execute_result"
    }
   ],
   "source": [
    "best_threshold"
   ]
  },
  {
   "cell_type": "markdown",
   "metadata": {},
   "source": [
    "10\\. Подумайте, можно ли еще улучшить модель? Что для этого можно сделать? "
   ]
  },
  {
   "cell_type": "markdown",
   "metadata": {
    "collapsed": true
   },
   "source": [
    "- Попробовать еще поподбирать модели (например SVM, LogisticRegression).\n",
    "- Более скрупулезно подойти к подбору параметров модели и подбирать их по-одному, а не все скопом.\n",
    "- Отбирать категориальные и вещественные признаки разными алгоритмами.\n",
    "- Поискать сильно скоррелированные друг с другом признаки и удалить их.\n",
    "- Попробовать совсем другие способы отбора признаков."
   ]
  },
  {
   "cell_type": "code",
   "execution_count": null,
   "metadata": {},
   "outputs": [],
   "source": []
  }
 ],
 "metadata": {
  "kernelspec": {
   "display_name": "Python [conda root]",
   "language": "python",
   "name": "conda-root-py"
  },
  "language_info": {
   "codemirror_mode": {
    "name": "ipython",
    "version": 3
   },
   "file_extension": ".py",
   "mimetype": "text/x-python",
   "name": "python",
   "nbconvert_exporter": "python",
   "pygments_lexer": "ipython3",
   "version": "3.5.4"
  }
 },
 "nbformat": 4,
 "nbformat_minor": 1
}
