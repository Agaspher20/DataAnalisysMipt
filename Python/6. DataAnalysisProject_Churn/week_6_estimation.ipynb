{
 "cells": [
  {
   "cell_type": "markdown",
   "metadata": {},
   "source": [
    "# Оценка потенциального экономического эффекта от внедрения полученного решения\n",
    "\n",
    "Постройте простую экономическую модель для оценки эффекта от внедрения полученного решения на практике.\n",
    "Например, введите следующие параметры:\n",
    "- сколько денег в среднем приносит один пользователь в месяц;\n",
    "- сколько денег в среднем вы будете вкладывать в удержание одного пользователя;\n",
    "- с какой вероятностью пользователь примет ваше предложение;\n",
    "- сколько пользователей (например, топ 1% или топ 25% согласно ранжированию по вашей модели) будет участвовать в кампании."
   ]
  },
  {
   "cell_type": "code",
   "execution_count": 1,
   "metadata": {},
   "outputs": [],
   "source": [
    "import pandas as pd\n",
    "import random\n",
    "import numpy as np\n",
    "from scipy.sparse import coo_matrix, hstack\n",
    "from matplotlib import pyplot as plt\n",
    "from sklearn.preprocessing import StandardScaler\n",
    "from sklearn.preprocessing import LabelEncoder\n",
    "from sklearn.feature_selection import SelectKBest\n",
    "\n",
    "from sklearn.metrics import roc_curve, precision_recall_curve, f1_score, roc_auc_score, recall_score, precision_score, log_loss, make_scorer\n",
    "\n",
    "from sklearn.ensemble import GradientBoostingClassifier\n",
    "\n",
    "seed = 1903\n",
    "first_categorial_index = 190"
   ]
  },
  {
   "cell_type": "code",
   "execution_count": 2,
   "metadata": {},
   "outputs": [],
   "source": [
    "month_revenue_per_user = 30 # Сколько денег в среднем приносит один пользователь в месяц (30 тугриков)\n",
    "price_per_user_churn = 5 # Сколько денег будем вкладывать в удержание пользователя (5 тугриков)\n",
    "retention_probability = 0.8 # Вероятность, с которой пользователь, собирающийся уйти, примет предложение\n",
    "participants_perc = 0.1 # Сколько пользователей участвует в кампании."
   ]
  },
  {
   "cell_type": "markdown",
   "metadata": {},
   "source": [
    "## 1.\n",
    "Введите еще несколько параметров и на их основе постройте простую экономическую модель: формулу по которой в зависимости от значения исходных параметров вы сможете рассчитать экономический эффект от проведения кампании (= сколько денег вы получили (или наоборот потеряли) от проведения кампании по удержанию) с использование вашей модели."
   ]
  },
  {
   "cell_type": "code",
   "execution_count": 3,
   "metadata": {},
   "outputs": [],
   "source": [
    "churn_size = 0.0744 # Процент пользователей, собирающихся уйти\n",
    "recall = 0.2 # Полнота модели\n",
    "clients_count = 12000 # Количество клиентов\n",
    "\n",
    "def calculate_simple_revenue(participants_perc, recall, churn_size):\n",
    "    churn_count = np.round(clients_count * churn_size, 0) # Количество пользователей, которые собриаются уйти\n",
    "    churn_found = np.round(churn_count*recall, 0) # Количество пользователей, собирающихся уйти, которых выявила модель\n",
    "    participants_count = np.round(participants_perc * clients_count, 0) # Количество пользователей в кампании\n",
    "    not_participants_cnt = clients_count-participants_count # Количество пользователей не участвующих в кампании\n",
    "    others_count = participants_count - churn_found # Количество пользователей не собирающихся уходить\n",
    "    \n",
    "    retention_size = np.round(churn_found * retention_probability, 0) # Количество пользователей, которых удалось сохранить\n",
    "    churned = churn_count-retention_size # Количество пользователей, которые ушли\n",
    "    saved_count = clients_count - churned # Количество пользователей после проведения кампании\n",
    "    \n",
    "    month_revenue = saved_count*month_revenue_per_user # Сколько денег получили в месяц\n",
    "    money_spent = participants_count * price_per_user_churn # Сколько денег потратили на удержание в месяц\n",
    "    \n",
    "    month_revenue_default = (clients_count - churn_count) * month_revenue_per_user # Сколько денег получили бы если не проводили\n",
    "                                                                                   # кампанию.\n",
    "    campaign_revenue = month_revenue - money_spent\n",
    "    return np.round(participants_count/clients_count*100, 2), campaign_revenue-month_revenue_default, retention_size"
   ]
  },
  {
   "cell_type": "code",
   "execution_count": 4,
   "metadata": {},
   "outputs": [],
   "source": [
    "def build_simple_revenue_table():\n",
    "    data = []\n",
    "    for perc in np.arange(0.0, 1.0, 0.01):\n",
    "        revenue_info = calculate_simple_revenue(perc, recall, churn_size)\n",
    "        data.append(revenue_info)\n",
    "    return data"
   ]
  },
  {
   "cell_type": "markdown",
   "metadata": {},
   "source": [
    "## 2.\n",
    "\n",
    "Исходя из введенных параметров проанализируйте, какой топ пользователей, склонных к оттоку согласно модели, оптимально выбрать для проведения кампании по удержанию для таким образом, чтобы экономический эффект был наибольшим? "
   ]
  },
  {
   "cell_type": "code",
   "execution_count": 5,
   "metadata": {},
   "outputs": [
    {
     "name": "stdout",
     "output_type": "stream",
     "text": [
      "   Clients %  Effect  Saved clients count\n",
      "0        0.0  4290.0                143.0\n",
      "1        1.0  3690.0                143.0\n",
      "2        2.0  3090.0                143.0\n",
      "3        3.0  2490.0                143.0\n",
      "4        4.0  1890.0                143.0\n",
      "\n",
      "   Clients %  Effect  Saved clients count\n",
      "0        0.0  4290.0                143.0\n",
      "1        1.0  3690.0                143.0\n",
      "2        2.0  3090.0                143.0\n",
      "3        3.0  2490.0                143.0\n",
      "4        4.0  1890.0                143.0\n"
     ]
    }
   ],
   "source": [
    "simple_revenue_table = build_simple_revenue_table()\n",
    "print(pd.DataFrame(\n",
    "    sorted([rd for rd in simple_revenue_table if rd[2] > 0], key=lambda r: -r[2]),\n",
    "    columns=[\"Clients %\", \"Effect\", \"Saved clients count\"]).head(5))\n",
    "print()\n",
    "print(pd.DataFrame(\n",
    "    sorted(simple_revenue_table, key=lambda r: -r[1]),\n",
    "    columns=[\"Clients %\", \"Effect\", \"Saved clients count\"]).head(5))"
   ]
  },
  {
   "cell_type": "markdown",
   "metadata": {},
   "source": [
    "По данной экономической модели можно увидеть, что проще вообще не поводить никакой кампании. Будем думать, что это связано с излишней простотой модели."
   ]
  },
  {
   "cell_type": "markdown",
   "metadata": {},
   "source": [
    "## 3.\n",
    "Попробуйте усложнить экономическую модель. Добавьте еще несколько параметров и поиграйте с ними (например, измените стоимость удержания и вероятность, с которой пользователь принимает предложение), проанализируйте как меняется оптимальный размер топа?"
   ]
  },
  {
   "cell_type": "markdown",
   "metadata": {},
   "source": [
    "Количество пользователей, которое будет участвовать в кампании будем считать исходя из значения порога, по которому строим предсказания."
   ]
  },
  {
   "cell_type": "markdown",
   "metadata": {},
   "source": [
    "Для этого придется построить модель и вероятности принадлежности клиентов из тестовой выборки к классу \"отток\"."
   ]
  },
  {
   "cell_type": "markdown",
   "metadata": {},
   "source": [
    "Объявим функции, необходимые для построения модели"
   ]
  },
  {
   "cell_type": "code",
   "execution_count": 6,
   "metadata": {},
   "outputs": [],
   "source": [
    "def fill_numericna(train_frame, test_frame, averageCalculator):\n",
    "    \"\"\" Функция заполняет значения в числовом фрейме значениями, посчитанными averageCalculator. \"\"\"\n",
    "    \n",
    "    # Посчитаем средние по колонкам\n",
    "    numeric_avgs = averageCalculator(train_frame)\n",
    "    \n",
    "    # Оставим только те колонки, в которых среднее значение не равно NaN, т.к. в таких колонках совсем нет значений\n",
    "    numeric_avgs = numeric_avgs.dropna()\n",
    "    dropped_columns = train_frame.columns.drop(numeric_avgs.index)\n",
    "    n_frame_train = train_frame[list(numeric_avgs.index)]\n",
    "    n_frame_test = test_frame[list(numeric_avgs.index)]\n",
    "    \n",
    "    # Заполним пропущенные численные значения средними\n",
    "    n_frame_train = n_frame_train.fillna(numeric_avgs, axis=0)\n",
    "    n_frame_test = n_frame_test.fillna(numeric_avgs, axis=0)\n",
    "    return (n_frame_train, n_frame_test, dropped_columns)\n",
    "\n",
    "def fill_numericna_means(train_frame, test_frame):\n",
    "    \"\"\" Функция заполняет значения в числовом фрейме средними и удаляет те колонки, в которых значений нет. \"\"\"\n",
    "    return fill_numericna(\n",
    "        train_frame,\n",
    "        test_frame,\n",
    "        lambda f: f.mean(axis=0, skipna=True))\n",
    "\n",
    "def fill_categorial_nav(train_frame, test_frame):\n",
    "    return train_frame.fillna(\"NaV\"), test_frame.fillna(\"NaV\")\n",
    "\n",
    "def remove_constant_features(frame, min_count=2):\n",
    "    \"\"\"Функция удаляет колонки, которые содержат только одно значение.\"\"\"\n",
    "    \n",
    "    # Посчитаем количества уникальных значений по колонкам\n",
    "    unique_counts = frame.nunique()\n",
    "    # Удалим колонки с количеством значений меньшим min_count\n",
    "    columns_to_drop = unique_counts[unique_counts < min_count].index\n",
    "    \n",
    "    return (frame.drop(columns=columns_to_drop), columns_to_drop)\n",
    "\n",
    "class MatrixLabelEncoder:\n",
    "    \"\"\" Класс кодирует категории числами от 0 до n, где n количество категорий в колонке. \"\"\"\n",
    "    \n",
    "    def __init__(self):\n",
    "        self.encoders = []\n",
    "    \n",
    "    def fit(self, matrix):\n",
    "        for column_number in range(matrix.shape[1]):\n",
    "            column = matrix[:,column_number]\n",
    "            labelEncoder = LabelEncoder().fit(column)\n",
    "            self.encoders.append(labelEncoder)\n",
    "        return self\n",
    "    \n",
    "    def transform(self, matrix):\n",
    "        transformed = np.empty(matrix.shape)\n",
    "        for column_number in range(matrix.shape[1]):\n",
    "            labelEncoder = self.encoders[column_number]\n",
    "            num_column = labelEncoder.transform(matrix[:,column_number])\n",
    "            for row_number, val in enumerate(num_column):\n",
    "                transformed[row_number, column_number] = val\n",
    "        return transformed\n",
    "\n",
    "def predict_model_proba(X, model):\n",
    "    \"\"\" Функция возвращает вероятности предсказаний для класса churn \"\"\"\n",
    "    return list(zip(*model.predict_proba(X)))[1]\n",
    "\n",
    "def cleanup_frame_common(frame, numeric_features, categorial_features):\n",
    "    \"\"\"Функция делит признакина числовые и категориальные и удаляет константные признаки, содержащие только одно значение\"\"\"\n",
    "    # Разделим коллекции на группы - числовые и категориальные.\n",
    "    numeric_frame = frame[numeric_features].copy()\n",
    "    categorial_frame = frame[categorial_features].copy()\n",
    "    # Удалим вещественные колонки, содержащие одно и менее значений. 0 значений мы получаем, когда значения во всех строках Nan.\n",
    "    numeric_frame_no_const, dropped_const_numeric_columns = remove_constant_features(numeric_frame)\n",
    "    \n",
    "    # Удалим категориальные колонки, содержащие ноль значений. Если есть одно значение, то могут быть Nan, которые для\n",
    "    # категориальных признаков могут быть еще одной категорией (зависит от стратегии обработки).\n",
    "    categorial_frame_no_const, dropped_const_categorial_columns = remove_constant_features(categorial_frame, 1)\n",
    "    \n",
    "    # Восстановим фрейм и вернем вместе с ним список удаленных категориальных колонок.\n",
    "    return (pd.concat([numeric_frame, categorial_frame], axis=1),\n",
    "            list(dropped_const_numeric_columns),\n",
    "            list(dropped_const_categorial_columns))\n",
    "\n",
    "def process_frame(\n",
    "    train_frame,\n",
    "    train_labels,\n",
    "    test_frame,\n",
    "    test_labels,\n",
    "    numeric_features,\n",
    "    categorial_features,\n",
    "    fill_na_numerics,\n",
    "    fill_na_categorial):\n",
    "    \"\"\" Функция обрабатывает числовые признаки, заполняя пропуски. \"\"\"\n",
    "    \n",
    "    # Удалим константные колонки из train_frame, и такие-же колонки из test_frame\n",
    "    train_frame, const_numeric_columns, const_categorial_columns = cleanup_frame_common(\n",
    "        train_frame,\n",
    "        numeric_features,\n",
    "        categorial_features)\n",
    "    test_frame = test_frame.drop(columns=const_numeric_columns)\n",
    "    test_frame = test_frame.drop(columns=const_categorial_columns)\n",
    "    \n",
    "    numeric_features = numeric_features.drop(const_numeric_columns)\n",
    "    categorial_features = categorial_features.drop(const_categorial_columns)\n",
    "    \n",
    "    # Заполним пропущенные вещественные значения\n",
    "    numeric_train, numeric_test, dropped_numeric = fill_na_numerics(\n",
    "        train_frame[numeric_features],\n",
    "        test_frame[numeric_features])\n",
    "    \n",
    "    numeric_features = numeric_features.drop(dropped_numeric)\n",
    "    \n",
    "    # Заполним пропущенные категориальные значения строками \"NaV\" (Not a value)\n",
    "    categorial_train, categorial_test = fill_na_categorial(train_frame[categorial_features], test_frame[categorial_features])\n",
    "    \n",
    "    # Удалим категориальные колонки с одним единственным значением\n",
    "    categorial_train, dropped_categorial = remove_constant_features(categorial_train)\n",
    "    categorial_test = categorial_test.drop(columns=dropped_categorial)\n",
    "    \n",
    "    categorial_features = categorial_features.drop(dropped_categorial)\n",
    "    \n",
    "    # Список удаленных колонок\n",
    "    dropped_numeric = np.concatenate([\n",
    "        list(const_numeric_columns),\n",
    "        list(dropped_numeric)])\n",
    "    dropped_categorial = np.concatenate([\n",
    "        list(const_categorial_columns),\n",
    "        list(dropped_categorial)])\n",
    "    \n",
    "    return (pd.concat([numeric_train, categorial_train], axis=1),\n",
    "            train_labels,\n",
    "            pd.concat([numeric_test, categorial_test], axis=1),\n",
    "            test_labels,\n",
    "            dropped_numeric,\n",
    "            dropped_categorial)\n",
    "\n",
    "def process_frame_base(\n",
    "    train_frame,\n",
    "    train_labels,\n",
    "    test_frame,\n",
    "    test_labels,\n",
    "    numeric_features,\n",
    "    categorial_features):\n",
    "    return process_frame(\n",
    "        train_frame,\n",
    "        train_labels,\n",
    "        test_frame,\n",
    "        test_labels,\n",
    "        numeric_features,\n",
    "        categorial_features,\n",
    "        fill_numericna_means,\n",
    "        fill_categorial_nav)\n",
    "\n",
    "def scale_features(train_frame, test_frame):\n",
    "    train_numeric = train_frame.as_matrix()\n",
    "    \n",
    "    scaler = StandardScaler().fit(train_numeric)\n",
    "    \n",
    "    train_numeric = coo_matrix(scaler.transform(train_numeric))\n",
    "    test_numeric = coo_matrix(scaler.transform(test_frame.as_matrix()))\n",
    "    \n",
    "    return (train_numeric, test_numeric, scaler)\n",
    "\n",
    "def int_label_features(train_frame, test_frame):\n",
    "    fit_matrix = pd.concat([train_frame, test_frame]).as_matrix()\n",
    "    categorial_encoder = MatrixLabelEncoder().fit(fit_matrix)\n",
    "    \n",
    "    train_categorial = categorial_encoder.transform(train_frame.as_matrix())\n",
    "    test_categorial = categorial_encoder.transform(test_frame.as_matrix())\n",
    "    \n",
    "    return (train_categorial, test_categorial, categorial_encoder)\n",
    "\n",
    "def frame_to_matrix_labeled(\n",
    "    train_frame,\n",
    "    test_frame,\n",
    "    train_labels,\n",
    "    test_labels,\n",
    "    numeric_features,\n",
    "    categorial_features):\n",
    "    \"\"\" Функция преобразует фрейм к sparse матрице.\n",
    "        Масштабирует вещественные признаки и кодирует категориальные целыми числами. \"\"\"\n",
    "    \n",
    "    # Масштабируем вещественные признаки\n",
    "    train_numeric, test_numeric, scaler = scale_features(\n",
    "        train_frame[numeric_features],\n",
    "        test_frame[numeric_features])\n",
    "    \n",
    "    # Закодируем категориальные признаки значениями от 0 до n с помощью MatrixLabelEncoder\n",
    "    train_categorial, test_categorial, categorial_encoder = int_label_features(\n",
    "        train_frame[categorial_features],\n",
    "        test_frame[categorial_features])\n",
    "    \n",
    "    y_train = train_labels.as_matrix().flatten()\n",
    "    y_test = test_labels.as_matrix().flatten()\n",
    "    \n",
    "    return (hstack([train_numeric, train_categorial]),\n",
    "            hstack([test_numeric, test_categorial]),\n",
    "            y_train,\n",
    "            y_test,\n",
    "            scaler,\n",
    "            categorial_encoder)\n",
    "\n",
    "def model_builder(frame, labels, numeric_features, categorial_features):\n",
    "    return stratifiedKFold_fscore(\n",
    "        frame,\n",
    "        labels,\n",
    "        GradientBoostingClassifier,\n",
    "        process_frame_base,\n",
    "        frame_to_matrix_labeled,\n",
    "        numeric_features,\n",
    "        categorial_features,\n",
    "        predict_model_proba,\n",
    "        seed)"
   ]
  },
  {
   "cell_type": "markdown",
   "metadata": {},
   "source": [
    "Загрузим train и test dataset-ы."
   ]
  },
  {
   "cell_type": "code",
   "execution_count": 7,
   "metadata": {},
   "outputs": [
    {
     "name": "stdout",
     "output_type": "stream",
     "text": [
      "(27999, 230) (12001, 230)\n",
      "(27999, 1) (12001, 1)\n"
     ]
    }
   ],
   "source": [
    "churn_data_frame = pd.read_csv(\"..\\..\\Data\\churn_data_train.csv\", \",\", dtype= { \"Var73\": np.float64 })\n",
    "churn_labels_frame = pd.read_csv(\"..\\..\\Data\\churn_labels_train.csv\", dtype= { \"labels\": np.int64 })\n",
    "test_data_frame = pd.read_csv(\"..\\..\\Data\\churn_data_holdout.csv\", \",\", dtype= { \"Var73\": np.float64 })\n",
    "test_labels_frame = pd.read_csv(\"..\\..\\Data\\churn_labels_holdout.csv\", dtype= { \"labels\": np.int64 })\n",
    "print(churn_data_frame.shape, test_data_frame.shape)\n",
    "print(churn_labels_frame.shape, test_labels_frame.shape)"
   ]
  },
  {
   "cell_type": "markdown",
   "metadata": {},
   "source": [
    "Выделим числовые и категориальные признаки."
   ]
  },
  {
   "cell_type": "code",
   "execution_count": 8,
   "metadata": {},
   "outputs": [],
   "source": [
    "numeric_columns = churn_data_frame.columns[:first_categorial_index]\n",
    "categorial_columns = churn_data_frame.columns[first_categorial_index:]"
   ]
  },
  {
   "cell_type": "markdown",
   "metadata": {},
   "source": [
    "Предобработка фрейма"
   ]
  },
  {
   "cell_type": "code",
   "execution_count": 9,
   "metadata": {},
   "outputs": [
    {
     "data": {
      "text/plain": [
       "((27999, 211), (27999, 1))"
      ]
     },
     "execution_count": 9,
     "metadata": {},
     "output_type": "execute_result"
    }
   ],
   "source": [
    "preprocessed_train, train_labels, preprocessed_test, test_labels, dropped_num_cols, dropped_cat_cols = process_frame_base(\n",
    "    churn_data_frame,\n",
    "    churn_labels_frame,\n",
    "    test_data_frame,\n",
    "    test_labels_frame,\n",
    "    numeric_columns,\n",
    "    categorial_columns)\n",
    "\n",
    "clear_num_columns = numeric_columns.drop(dropped_num_cols)\n",
    "clear_cat_columns = categorial_columns.drop(dropped_cat_cols)\n",
    "\n",
    "preprocessed_train.shape, train_labels.shape"
   ]
  },
  {
   "cell_type": "markdown",
   "metadata": {},
   "source": [
    "Выделим 21 лучший признак"
   ]
  },
  {
   "cell_type": "code",
   "execution_count": 10,
   "metadata": {},
   "outputs": [
    {
     "name": "stdout",
     "output_type": "stream",
     "text": [
      "Best numeric: Var72, Var144, Var74, Var126, Var189, Var65, Var13, Var7, Var73, Var113, Var81\n",
      "Best categorial: Var227, Var193, Var205, Var229, Var210, Var218, Var228, Var216, Var211, Var207\n"
     ]
    }
   ],
   "source": [
    "labeled_x, px, l_y, py, ne, ce = frame_to_matrix_labeled(\n",
    "    preprocessed_train,\n",
    "    preprocessed_test,\n",
    "    train_labels,\n",
    "    test_labels,\n",
    "    clear_num_columns,\n",
    "    clear_cat_columns)\n",
    "preprocessed_y = train_labels.as_matrix().flatten()\n",
    "kbest_mdl = SelectKBest(k=labeled_x.shape[1]).fit(labeled_x, preprocessed_y)\n",
    "k_best_21_features = [f[0] for f in sorted(zip(preprocessed_train.columns, kbest_mdl.scores_), key=lambda f: -f[1])][:21]\n",
    "k_best_21_num = pd.Index(list(set(numeric_columns) & set(k_best_21_features)))\n",
    "k_best_21_cat = pd.Index(list(set(categorial_columns) & set(k_best_21_features)))\n",
    "print(\"Best numeric:\", \", \".join(k_best_21_num))\n",
    "print(\"Best categorial:\", \", \".join(k_best_21_cat))"
   ]
  },
  {
   "cell_type": "markdown",
   "metadata": {},
   "source": [
    "Преобразуем фреймы к матрицам "
   ]
  },
  {
   "cell_type": "code",
   "execution_count": 11,
   "metadata": {},
   "outputs": [
    {
     "data": {
      "text/plain": [
       "((12001, 21), (12001,))"
      ]
     },
     "execution_count": 11,
     "metadata": {},
     "output_type": "execute_result"
    }
   ],
   "source": [
    "preprocessed_x_train, preprocessed_x_test, preprocessed_y_train, preprocessed_y_test, ne, ce = frame_to_matrix_labeled(\n",
    "    preprocessed_train[k_best_21_features],\n",
    "    preprocessed_test[k_best_21_features],\n",
    "    train_labels,\n",
    "    test_labels,\n",
    "    k_best_21_num,\n",
    "    k_best_21_cat)\n",
    "\n",
    "preprocessed_x_test.shape, preprocessed_y_test.shape"
   ]
  },
  {
   "cell_type": "markdown",
   "metadata": {},
   "source": [
    "Построим модель"
   ]
  },
  {
   "cell_type": "code",
   "execution_count": 12,
   "metadata": {},
   "outputs": [],
   "source": [
    "model = GradientBoostingClassifier().fit(preprocessed_x_train, preprocessed_y_train)"
   ]
  },
  {
   "cell_type": "markdown",
   "metadata": {},
   "source": [
    "Посчитаем вероятности принадлежности тестовых данных к классу"
   ]
  },
  {
   "cell_type": "code",
   "execution_count": 13,
   "metadata": {},
   "outputs": [],
   "source": [
    "probabilities = predict_model_proba(preprocessed_x_test, model)"
   ]
  },
  {
   "cell_type": "code",
   "execution_count": 15,
   "metadata": {},
   "outputs": [],
   "source": [
    "def calculate_revenue(probas, threshold, recall, churn_size):\n",
    "    clients_count = len(probas)\n",
    "    churn_count = np.round(clients_count * churn_size, 0) # Количество пользователей, которые собриаются уйти\n",
    "    churn_found = np.round(churn_count*recall, 0) # Количество пользователей, собирающихся уйти, которых выявила модель\n",
    "    participants_count = len([p for p in probas if p > threshold]) # Количество пользователей в кампании\n",
    "    not_participants_cnt = clients_count-participants_count # Количество пользователей не участвующих в кампании\n",
    "    others_count = participants_count - churn_found # Количество пользователей не собирающихся уходить\n",
    "    \n",
    "    retention_size = np.round(churn_found * retention_probability, 0) # Количество пользователей, которых удалось сохранить\n",
    "    churned = churn_count-retention_size # Количество пользователей, которые ушли\n",
    "    saved_count = clients_count - churned # Количество пользователей после проведения кампании\n",
    "    \n",
    "    month_revenue = saved_count*month_revenue_per_user # Сколько денег получили в месяц\n",
    "    money_spent = participants_count * price_per_user_churn # Сколько денег потратили на удержание в месяц\n",
    "    \n",
    "    month_revenue_default = (clients_count - churn_count) * month_revenue_per_user # Сколько денег получили бы если не проводили\n",
    "                                                                                   # кампанию.\n",
    "    campaign_revenue = month_revenue - money_spent\n",
    "    return threshold, np.round(participants_count/clients_count*100, 2), campaign_revenue-month_revenue_default, retention_size\n",
    "\n",
    "def build_revenue_table(shift = 0):\n",
    "    data = []\n",
    "    for threshold in np.arange(0.0, 1.0, 0.01):\n",
    "        predictions = [-1 if probability < threshold else 1 for probability in probabilities]\n",
    "        recall = recall_score(list(preprocessed_y_test), predictions) + shift\n",
    "        revenue_info = calculate_revenue(probabilities, threshold, recall, churn_size)\n",
    "        data.append(revenue_info)\n",
    "    return data"
   ]
  },
  {
   "cell_type": "code",
   "execution_count": 16,
   "metadata": {},
   "outputs": [
    {
     "name": "stdout",
     "output_type": "stream",
     "text": [
      "   Threshold  Clients %  Effect  Saved clients count\n",
      "0       0.12      14.78   490.0                312.0\n",
      "1       0.13      12.80   900.0                286.0\n",
      "2       0.14      11.35  1050.0                262.0\n",
      "3       0.15       9.87  1215.0                238.0\n",
      "4       0.16       8.61  1105.0                209.0\n",
      "\n",
      "   Threshold  Clients %  Effect  Saved clients count\n",
      "0       0.22       4.03  1510.0                131.0\n",
      "1       0.20       5.24  1445.0                153.0\n",
      "2       0.21       4.64  1445.0                141.0\n",
      "3       0.23       3.61  1435.0                120.0\n",
      "4       0.24       3.21  1315.0                108.0\n"
     ]
    }
   ],
   "source": [
    "revenue_table = build_revenue_table()\n",
    "print(pd.DataFrame(\n",
    "    sorted([rd for rd in revenue_table if rd[2] > 0], key=lambda r: -r[3]),\n",
    "    columns=[\"Threshold\", \"Clients %\", \"Effect\", \"Saved clients count\"]).head(5))\n",
    "print()\n",
    "print(pd.DataFrame(\n",
    "    sorted(revenue_table, key=lambda r: -r[2]),\n",
    "    columns=[\"Threshold\", \"Clients %\", \"Effect\", \"Saved clients count\"]).head(5))"
   ]
  },
  {
   "cell_type": "markdown",
   "metadata": {},
   "source": [
    "Из результатов расчета видно, что можно применить две стратегии: сохранение максимального количества клиентов и получение максимальной прибыли.\n",
    "Исходя из этого можно выбрать оптимальное количество участников кампании.\n",
    "Для моей модели оптимальным оказалось взять 4.05% клиентов склонных к оттоку (по мнению модели) для получения максимальной прибыли и 14.78% клиентов склонных к оттоку для сохранения максимального количества клиентов.\n",
    "Будем смотреть оптимальный размер топа для получения максимальной прибыли"
   ]
  },
  {
   "cell_type": "markdown",
   "metadata": {},
   "source": [
    "В своей весьма простой экономической модели я ввел следующие параметры\n",
    "- сколько денег в среднем приносит один пользователь в месяц;\n",
    "- сколько денег в среднем вы будете вкладывать в удержание одного пользователя;\n",
    "- с какой вероятностью пользователь примет ваше предложение;\n",
    "- порог вероятности принадлежности классу \"отток\" по достижении которого пользователь участвует в кампании\n",
    "- предположительный процент пользователей, собирающихся уйти"
   ]
  },
  {
   "cell_type": "markdown",
   "metadata": {},
   "source": [
    "### Варьируем стоимость удержания"
   ]
  },
  {
   "cell_type": "code",
   "execution_count": 18,
   "metadata": {},
   "outputs": [
    {
     "data": {
      "text/html": [
       "<div>\n",
       "<style scoped>\n",
       "    .dataframe tbody tr th:only-of-type {\n",
       "        vertical-align: middle;\n",
       "    }\n",
       "\n",
       "    .dataframe tbody tr th {\n",
       "        vertical-align: top;\n",
       "    }\n",
       "\n",
       "    .dataframe thead th {\n",
       "        text-align: right;\n",
       "    }\n",
       "</style>\n",
       "<table border=\"1\" class=\"dataframe\">\n",
       "  <thead>\n",
       "    <tr style=\"text-align: right;\">\n",
       "      <th></th>\n",
       "      <th>Threshold</th>\n",
       "      <th>Clients %</th>\n",
       "      <th>Effect</th>\n",
       "      <th>Saved clients count</th>\n",
       "    </tr>\n",
       "  </thead>\n",
       "  <tbody>\n",
       "    <tr>\n",
       "      <th>5</th>\n",
       "      <td>0.22</td>\n",
       "      <td>4.03</td>\n",
       "      <td>1510.0</td>\n",
       "      <td>131.0</td>\n",
       "    </tr>\n",
       "    <tr>\n",
       "      <th>6</th>\n",
       "      <td>0.22</td>\n",
       "      <td>4.03</td>\n",
       "      <td>1026.0</td>\n",
       "      <td>131.0</td>\n",
       "    </tr>\n",
       "    <tr>\n",
       "      <th>7</th>\n",
       "      <td>0.25</td>\n",
       "      <td>2.77</td>\n",
       "      <td>616.0</td>\n",
       "      <td>98.0</td>\n",
       "    </tr>\n",
       "    <tr>\n",
       "      <th>8</th>\n",
       "      <td>0.37</td>\n",
       "      <td>0.70</td>\n",
       "      <td>288.0</td>\n",
       "      <td>32.0</td>\n",
       "    </tr>\n",
       "    <tr>\n",
       "      <th>9</th>\n",
       "      <td>0.37</td>\n",
       "      <td>0.70</td>\n",
       "      <td>204.0</td>\n",
       "      <td>32.0</td>\n",
       "    </tr>\n",
       "    <tr>\n",
       "      <th>10</th>\n",
       "      <td>0.37</td>\n",
       "      <td>0.70</td>\n",
       "      <td>120.0</td>\n",
       "      <td>32.0</td>\n",
       "    </tr>\n",
       "    <tr>\n",
       "      <th>11</th>\n",
       "      <td>0.47</td>\n",
       "      <td>0.17</td>\n",
       "      <td>50.0</td>\n",
       "      <td>9.0</td>\n",
       "    </tr>\n",
       "    <tr>\n",
       "      <th>12</th>\n",
       "      <td>0.47</td>\n",
       "      <td>0.17</td>\n",
       "      <td>30.0</td>\n",
       "      <td>9.0</td>\n",
       "    </tr>\n",
       "    <tr>\n",
       "      <th>13</th>\n",
       "      <td>0.47</td>\n",
       "      <td>0.17</td>\n",
       "      <td>10.0</td>\n",
       "      <td>9.0</td>\n",
       "    </tr>\n",
       "    <tr>\n",
       "      <th>14</th>\n",
       "      <td>0.87</td>\n",
       "      <td>0.00</td>\n",
       "      <td>0.0</td>\n",
       "      <td>0.0</td>\n",
       "    </tr>\n",
       "  </tbody>\n",
       "</table>\n",
       "</div>"
      ],
      "text/plain": [
       "    Threshold  Clients %  Effect  Saved clients count\n",
       "5        0.22       4.03  1510.0                131.0\n",
       "6        0.22       4.03  1026.0                131.0\n",
       "7        0.25       2.77   616.0                 98.0\n",
       "8        0.37       0.70   288.0                 32.0\n",
       "9        0.37       0.70   204.0                 32.0\n",
       "10       0.37       0.70   120.0                 32.0\n",
       "11       0.47       0.17    50.0                  9.0\n",
       "12       0.47       0.17    30.0                  9.0\n",
       "13       0.47       0.17    10.0                  9.0\n",
       "14       0.87       0.00     0.0                  0.0"
      ]
     },
     "execution_count": 18,
     "metadata": {},
     "output_type": "execute_result"
    }
   ],
   "source": [
    "data = []\n",
    "for churn_price in range(5, 15):\n",
    "    price_per_user_churn = churn_price # Сколько денег будем вкладывать в удержание пользователя\n",
    "    revenue_table = build_revenue_table()\n",
    "    data.append(sorted(revenue_table, key=lambda r: -r[2])[0])\n",
    "price_per_user_churn = 5 # Сколько денег будем вкладывать в удержание пользователя (5 тугриков)\n",
    "pd.DataFrame(\n",
    "    data,\n",
    "    columns=[\"Threshold\", \"Clients %\", \"Effect\", \"Saved clients count\"],\n",
    "    index=range(5, 15))"
   ]
  },
  {
   "cell_type": "markdown",
   "metadata": {},
   "source": [
    "Получили в общем-то очевидный результат. Чем дороже обходится удержание клиента, тем менее выгодно проводить кампанию. Здесь я думаю играет роль не абсолютное значение стоимости удержания, а отношение стоимости удержания к прибыли, которую приносит клиент. Также заметно, что с увеличением стоимости удержания клиента выгоднее уменьшать количество участников кампании."
   ]
  },
  {
   "cell_type": "markdown",
   "metadata": {},
   "source": [
    "### Варьируем вероятность принятия предложения"
   ]
  },
  {
   "cell_type": "code",
   "execution_count": 19,
   "metadata": {},
   "outputs": [
    {
     "data": {
      "text/html": [
       "<div>\n",
       "<style scoped>\n",
       "    .dataframe tbody tr th:only-of-type {\n",
       "        vertical-align: middle;\n",
       "    }\n",
       "\n",
       "    .dataframe tbody tr th {\n",
       "        vertical-align: top;\n",
       "    }\n",
       "\n",
       "    .dataframe thead th {\n",
       "        text-align: right;\n",
       "    }\n",
       "</style>\n",
       "<table border=\"1\" class=\"dataframe\">\n",
       "  <thead>\n",
       "    <tr style=\"text-align: right;\">\n",
       "      <th></th>\n",
       "      <th>Threshold</th>\n",
       "      <th>Clients %</th>\n",
       "      <th>Effect</th>\n",
       "      <th>Saved clients count</th>\n",
       "    </tr>\n",
       "  </thead>\n",
       "  <tbody>\n",
       "    <tr>\n",
       "      <th>0.24</th>\n",
       "      <td>0.87</td>\n",
       "      <td>0.00</td>\n",
       "      <td>0.0</td>\n",
       "      <td>0.0</td>\n",
       "    </tr>\n",
       "    <tr>\n",
       "      <th>0.25</th>\n",
       "      <td>0.52</td>\n",
       "      <td>0.10</td>\n",
       "      <td>0.0</td>\n",
       "      <td>2.0</td>\n",
       "    </tr>\n",
       "    <tr>\n",
       "      <th>0.26</th>\n",
       "      <td>0.61</td>\n",
       "      <td>0.04</td>\n",
       "      <td>5.0</td>\n",
       "      <td>1.0</td>\n",
       "    </tr>\n",
       "    <tr>\n",
       "      <th>0.27</th>\n",
       "      <td>0.61</td>\n",
       "      <td>0.04</td>\n",
       "      <td>5.0</td>\n",
       "      <td>1.0</td>\n",
       "    </tr>\n",
       "    <tr>\n",
       "      <th>0.28</th>\n",
       "      <td>0.61</td>\n",
       "      <td>0.04</td>\n",
       "      <td>5.0</td>\n",
       "      <td>1.0</td>\n",
       "    </tr>\n",
       "    <tr>\n",
       "      <th>0.29</th>\n",
       "      <td>0.61</td>\n",
       "      <td>0.04</td>\n",
       "      <td>5.0</td>\n",
       "      <td>1.0</td>\n",
       "    </tr>\n",
       "    <tr>\n",
       "      <th>0.30</th>\n",
       "      <td>0.57</td>\n",
       "      <td>0.07</td>\n",
       "      <td>15.0</td>\n",
       "      <td>2.0</td>\n",
       "    </tr>\n",
       "    <tr>\n",
       "      <th>0.31</th>\n",
       "      <td>0.57</td>\n",
       "      <td>0.07</td>\n",
       "      <td>15.0</td>\n",
       "      <td>2.0</td>\n",
       "    </tr>\n",
       "    <tr>\n",
       "      <th>0.32</th>\n",
       "      <td>0.47</td>\n",
       "      <td>0.17</td>\n",
       "      <td>20.0</td>\n",
       "      <td>4.0</td>\n",
       "    </tr>\n",
       "    <tr>\n",
       "      <th>0.33</th>\n",
       "      <td>0.47</td>\n",
       "      <td>0.17</td>\n",
       "      <td>20.0</td>\n",
       "      <td>4.0</td>\n",
       "    </tr>\n",
       "  </tbody>\n",
       "</table>\n",
       "</div>"
      ],
      "text/plain": [
       "      Threshold  Clients %  Effect  Saved clients count\n",
       "0.24       0.87       0.00     0.0                  0.0\n",
       "0.25       0.52       0.10     0.0                  2.0\n",
       "0.26       0.61       0.04     5.0                  1.0\n",
       "0.27       0.61       0.04     5.0                  1.0\n",
       "0.28       0.61       0.04     5.0                  1.0\n",
       "0.29       0.61       0.04     5.0                  1.0\n",
       "0.30       0.57       0.07    15.0                  2.0\n",
       "0.31       0.57       0.07    15.0                  2.0\n",
       "0.32       0.47       0.17    20.0                  4.0\n",
       "0.33       0.47       0.17    20.0                  4.0"
      ]
     },
     "execution_count": 19,
     "metadata": {},
     "output_type": "execute_result"
    }
   ],
   "source": [
    "data = []\n",
    "for ret_proba in np.arange(0.24, 0.5, 0.01):\n",
    "    retention_probability = ret_proba # Вероятность, с которой пользователь, собирающийся уйти, примет предложение\n",
    "    revenue_table = build_revenue_table()\n",
    "    data.append(sorted(revenue_table, key=lambda r: -r[2])[0])\n",
    "retention_probability = 0.8 # Вероятность, с которой пользователь, собирающийся уйти, примет предложение\n",
    "pd.DataFrame(\n",
    "    data,\n",
    "    columns=[\"Threshold\", \"Clients %\", \"Effect\", \"Saved clients count\"],\n",
    "    index=np.arange(0.24, 0.5, 0.01)).head(10)"
   ]
  },
  {
   "cell_type": "markdown",
   "metadata": {},
   "source": [
    "С одной стороны мы опять получили ожидаемый результат - чем меньше вероятность принятия предложения, тем меньше эффект кампании. С другой стороны мы видим, что даже при весьма низкой вероятности принятия предложения кампания остаётся выгодной (Хотя эффект такой кампании конечно минимален)."
   ]
  },
  {
   "cell_type": "markdown",
   "metadata": {},
   "source": [
    "## 4.\n",
    "Всегда ли применение модели экономически оправданно? Приведите пример набора значений параметров, при которых применение модели перестает быть оправданным."
   ]
  },
  {
   "cell_type": "markdown",
   "metadata": {},
   "source": [
    "Применение модели экономически оправдано далеко не всегда. Например при стоимости удержания клиента 46% от прибыли, которую он приносит, и выше выгоднее не проводить никакой кампании.\n",
    "При значениях вероятности принятия клиентом предложения ниже 25% проведение кампании также становится невыгодным."
   ]
  },
  {
   "cell_type": "markdown",
   "metadata": {},
   "source": [
    "## 5.\n",
    "Оцените изменение экономического эффекта от проведения кампании по удержанию при увеличении качества модели на 1%? На 3%? При ответе на вопрос укажите, по какой метрике вы оцениваете качество."
   ]
  },
  {
   "cell_type": "markdown",
   "metadata": {},
   "source": [
    "Я измеряю качество по метрике recall. Она характеризует на какой доле клиентов класса \"отток\" алгоритм срабатывает. Это значит, что чем выше recall, тем больше клиентов класса \"отток\" поучаствует в кампании."
   ]
  },
  {
   "cell_type": "code",
   "execution_count": 20,
   "metadata": {},
   "outputs": [],
   "source": [
    "revenue_effects = sorted([r[2] for r in build_revenue_table()], key=lambda e: -e)\n",
    "revenue_effects_1 = sorted([r[2] for r in build_revenue_table(0.01)], key=lambda e: -e) # recall на 1% выше\n",
    "revenue_effects_3 = sorted([r[2] for r in build_revenue_table(0.03)], key=lambda e: -e) # recall на 3% выше"
   ]
  },
  {
   "cell_type": "code",
   "execution_count": 21,
   "metadata": {},
   "outputs": [
    {
     "data": {
      "text/html": [
       "<div>\n",
       "<style scoped>\n",
       "    .dataframe tbody tr th:only-of-type {\n",
       "        vertical-align: middle;\n",
       "    }\n",
       "\n",
       "    .dataframe tbody tr th {\n",
       "        vertical-align: top;\n",
       "    }\n",
       "\n",
       "    .dataframe thead th {\n",
       "        text-align: right;\n",
       "    }\n",
       "</style>\n",
       "<table border=\"1\" class=\"dataframe\">\n",
       "  <thead>\n",
       "    <tr style=\"text-align: right;\">\n",
       "      <th></th>\n",
       "      <th>Model Recall</th>\n",
       "      <th>1% better</th>\n",
       "      <th>3% better</th>\n",
       "    </tr>\n",
       "  </thead>\n",
       "  <tbody>\n",
       "    <tr>\n",
       "      <th>0</th>\n",
       "      <td>1510.0</td>\n",
       "      <td>1720.0</td>\n",
       "      <td>2170.0</td>\n",
       "    </tr>\n",
       "  </tbody>\n",
       "</table>\n",
       "</div>"
      ],
      "text/plain": [
       "   Model Recall  1% better  3% better\n",
       "0        1510.0     1720.0     2170.0"
      ]
     },
     "execution_count": 21,
     "metadata": {},
     "output_type": "execute_result"
    }
   ],
   "source": [
    "pd.DataFrame(\n",
    "    list(zip(revenue_effects, revenue_effects_1, revenue_effects_3)),\n",
    "    columns=[\"Model Recall\", \"1% better\", \"3% better\"]).head(1)"
   ]
  },
  {
   "cell_type": "code",
   "execution_count": 22,
   "metadata": {},
   "outputs": [
    {
     "data": {
      "text/plain": [
       "(13.907284768211923, 43.708609271523187)"
      ]
     },
     "execution_count": 22,
     "metadata": {},
     "output_type": "execute_result"
    }
   ],
   "source": [
    "percents_improvement_1 = revenue_effects_1[0]*100/revenue_effects[0] - 100\n",
    "percents_improvement_3 = revenue_effects_3[0]*100/revenue_effects[0] - 100\n",
    "percents_improvement_1, percents_improvement_3"
   ]
  },
  {
   "cell_type": "markdown",
   "metadata": {},
   "source": [
    "Улучшение полноты модели на 1% добавляет к экономическому эффекту 14%. Улучшение полноты модели на 3% добавляет к экономическому эффекту 44% (На другой машине цифры могут немного отличаться)"
   ]
  },
  {
   "cell_type": "markdown",
   "metadata": {},
   "source": [
    "## 6.\n",
    "Как вы думаете, является ли экономически оправданным вложение средств в улучшение качества модели? На сколько нужно улучшить модель, чтобы это качественно сказалось на экономическом эффекте от удержания?"
   ]
  },
  {
   "cell_type": "markdown",
   "metadata": {},
   "source": [
    "На мой взгляд, на данном уровне модели, вложение средств в улучшение качества модели является экономически выгодным."
   ]
  },
  {
   "cell_type": "code",
   "execution_count": null,
   "metadata": {},
   "outputs": [],
   "source": []
  }
 ],
 "metadata": {
  "kernelspec": {
   "display_name": "Python [conda root]",
   "language": "python",
   "name": "conda-root-py"
  },
  "language_info": {
   "codemirror_mode": {
    "name": "ipython",
    "version": 3
   },
   "file_extension": ".py",
   "mimetype": "text/x-python",
   "name": "python",
   "nbconvert_exporter": "python",
   "pygments_lexer": "ipython3",
   "version": "3.5.4"
  }
 },
 "nbformat": 4,
 "nbformat_minor": 2
}
