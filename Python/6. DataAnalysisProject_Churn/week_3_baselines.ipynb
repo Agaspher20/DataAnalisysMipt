{
 "cells": [
  {
   "cell_type": "markdown",
   "metadata": {},
   "source": [
    "# Построение baseline-решений\n",
    "В этом задании вам предстоит построить несколько моделей и оценить их качество. Эти модели будут служить нам в качестве baseline-решений и пригодятся сразу для нескольких задач:\n",
    "1. Во-первых, на разработку baseline-модели не должно уходить много времени (это требование исходит из оценок затрат на проект в целом - большую часть времени все же нужно потратить на основное решение), процесс должен быть простым, на подавляющем большинстве этапов должны использоваться готовые протестированные инструменты. Все это приводит к тому, что baseline-модели - это дешевый способ сделать грубую оценку потенциально возможного качества модели, при построении которого вероятность допущения ошибок относительно невелика.\n",
    "2. Во-вторых, использование моделей разного типа при построении baseline'ов позволяет на раннем этапе сделать предположения о том, какие подходы являются наиболее перспективными и приоритизировать дальнейшие эксперименты.\n",
    "3. Наличие baseline-моделей позволяет оценить, какой прирост качества дают различные преобразования, усложнения, оптимизации и прочие активности, которые вы предпринимаете для построения финального решения.\n",
    "4. Наконец, если после построение сложного решения оценка его качества будет очень сильно отличаться от оценки качества baseline-моделей, то это будет хорошим поводом поискать в решении ошибки.\n",
    "\n",
    "Обучите 3 разные baseline-модели на полученных наборах данных и оцените их качество. На прошлой неделе вы выбрали методику оценки качества моделей на основе кросс-валидации, а также основную и вспомогательные метрики. Оцените с их помощью получившуюся модель. Обратите внимание, что под разными моделями понимаются именно разные алгоритмы классификации. Например, 2 модели, реализующие метод k ближайших соседей с разными k, будут считаться одним baseline-решением (хотя и с разными параметрами). Напоминаем, что отложенная выборка (hold-out dataset) не должна использоваться для построения и оценки baseline-моделей!\n",
    "\n",
    "Можно (но не обязательно) рассмотреть следующий набор алгоритмов:\n",
    "1. Линейная модель (например, реализация sklearn.linear_model.RidgeClassifier)\n",
    "2. Случайный лес (например, реализация sklearn.ensemble.RandomForestClassifier)\n",
    "3. Градиентный бустинг (например, реализация sklearn.ensemble.GradientBoostingClassifier)\n",
    "\n",
    "В качестве решения приложите получившийся jupyther notebook. Убедитесь, что в нем присутствуют:\n",
    "- все baseline-модели, которые вы построили;\n",
    "- качество всех построенных моделей оценено с помощью кросс-валидации, и это понятно из текста в jupyther notebook;\n",
    "- все модели оценены с помощью основной и дополнительных метрик качества."
   ]
  },
  {
   "cell_type": "code",
   "execution_count": 8,
   "metadata": {},
   "outputs": [],
   "source": [
    "import pandas as pd\n",
    "import random\n",
    "import numpy as np\n",
    "from sklearn.model_selection import StratifiedKFold\n",
    "from sklearn.preprocessing import LabelEncoder\n",
    "from sklearn.preprocessing import OneHotEncoder\n",
    "from sklearn.linear_model import RidgeClassifier\n",
    "from scipy.sparse import coo_matrix, hstack\n",
    "seed = 1903\n",
    "first_categorial_index = 190"
   ]
  },
  {
   "cell_type": "markdown",
   "metadata": {},
   "source": [
    "Загрузим train dataset, выделенный на предыдущей неделе"
   ]
  },
  {
   "cell_type": "code",
   "execution_count": 9,
   "metadata": {},
   "outputs": [
    {
     "name": "stdout",
     "output_type": "stream",
     "text": [
      "(27999, 230)\n",
      "(27999, 1)\n"
     ]
    }
   ],
   "source": [
    "churn_data_frame = pd.read_csv(\"..\\..\\Data\\churn_data_train.csv\", \",\")\n",
    "churn_labels_frame = pd.read_csv(\"..\\..\\Data\\churn_labels_train.csv\")\n",
    "print(churn_data_frame.shape)\n",
    "print(churn_labels_frame.shape)"
   ]
  },
  {
   "cell_type": "markdown",
   "metadata": {},
   "source": [
    "## Построение линейной baseline модели"
   ]
  },
  {
   "cell_type": "code",
   "execution_count": 70,
   "metadata": {},
   "outputs": [],
   "source": [
    "def split_frame(frame, n_columns, c_columns):\n",
    "    \"\"\"Функция разбивает фрейм на два числовой и категориальный, а также масштабирует значения и заполняет пропуски.\"\"\"\n",
    "    n_frame = frame[n_columns].copy()\n",
    "    c_frame = frame[c_columns].copy()\n",
    "    # Посчитаем средние по колонкам\n",
    "    numeric_means = n_frame.mean(axis=0, skipna=True)\n",
    "    # Оставим только те колонки, в которых среднее значение не равно NaN, т.к. в таких колонках совсем нет значений\n",
    "    numeric_means = numeric_means.dropna()\n",
    "    dropped_numeric_colums = n_frame.columns.drop(numeric_means.index)\n",
    "    n_frame = n_frame[list(numeric_means.index)]\n",
    "    # Заполним пропущенные численные значения средними\n",
    "    n_frame = n_frame.fillna(numeric_means, axis=0)\n",
    "    # Заполним пропущенные категориальные значения строками \"NaV\" (Not a value)\n",
    "    c_frame = c_frame.fillna(\"NaV\")\n",
    "    # Посчитаем количества уникальных значений по колонкам\n",
    "    cat_unique_counts = c_frame.nunique()\n",
    "    num_unique_counts = n_frame.nunique()\n",
    "    # Удалим колонки с одним уникальным значением\n",
    "    cat_columns_to_drop = cat_unique_counts[cat_unique_counts == 1].index\n",
    "    num_columns_to_drop = num_unique_counts[num_unique_counts == 1].index\n",
    "    c_frame = c_frame.drop(columns=cat_columns_to_drop)\n",
    "    n_frame = n_frame.drop(columns=num_columns_to_drop)\n",
    "    \n",
    "    dropped_columns = np.concatenate([\n",
    "        dropped_numeric_colums,\n",
    "        list(num_columns_to_drop),\n",
    "        list(cat_columns_to_drop)])\n",
    "    return (n_frame, c_frame, dropped_columns)"
   ]
  },
  {
   "cell_type": "code",
   "execution_count": 71,
   "metadata": {},
   "outputs": [],
   "source": [
    "# Выделим отдельно числовые и категориальные колонки.\n",
    "numeric_columns = churn_data_frame.columns[:first_categorial_index]\n",
    "categorial_columns = churn_data_frame.columns[first_categorial_index:]\n",
    "\n",
    "numeric_frame, categorial_frame, dropped_columns = split_frame(\n",
    "    churn_data_frame,\n",
    "    numeric_columns,\n",
    "    categorial_columns)\n",
    "\n",
    "filled_frame = pd.concat([numeric_frame, categorial_frame], axis=1, ignore_index=True)\n",
    "first_filled_categorial_index = numeric_frame.shape[1]\n",
    "\n",
    "X_ridge = filled_frame.as_matrix()\n",
    "y_ridge = churn_labels_frame.as_matrix().flatten()\n",
    "categorial_columns_indices = range(first_filled_categorial_index, filled_frame.shape[1]-first_filled_categorial_index)"
   ]
  },
  {
   "cell_type": "code",
   "execution_count": 57,
   "metadata": {},
   "outputs": [],
   "source": [
    "def one_hot_encode(X_categorial):\n",
    "    X_num = np.empty(X_categorial.shape)\n",
    "    for column_number in range(X_categorial.shape[1]):\n",
    "        labelEncoder = LabelEncoder()\n",
    "        column = X_categorial[:,column_number]\n",
    "        for idx, val in enumerate(column):\n",
    "            if(not(isinstance(val, str))):\n",
    "                column[idx] = \"NaV\"\n",
    "        num_column = labelEncoder.fit_transform(column)\n",
    "        for row_number, val in enumerate(num_column):\n",
    "            X_num[row_number, column_number] = val\n",
    "    one_hot = OneHotEncoder()\n",
    "    return one_hot.fit_transform(X_num)"
   ]
  },
  {
   "cell_type": "code",
   "execution_count": 58,
   "metadata": {},
   "outputs": [
    {
     "name": "stdout",
     "output_type": "stream",
     "text": [
      "(18665, 212) (18665, 174) (18665, 38) (18665, 40569)\n"
     ]
    }
   ],
   "source": [
    "skf = StratifiedKFold(n_splits=3, shuffle=True, random_state=seed)\n",
    "train_indices, test_indices = list(skf.split(X_ridge, y_ridge))[0]\n",
    "X_train = X_ridge[train_indices]\n",
    "X_test = X_ridge[test_indices]\n",
    "y_train = y_ridge[train_indices]\n",
    "y_test = y_ridge[test_indices]\n",
    "X_numeric = X_train[:,:first_filled_categorial_index]\n",
    "X_categorial = X_train[:,first_filled_categorial_index:]\n",
    "encoded = one_hot_encode(X_categorial)\n",
    "print(X_train.shape, X_numeric.shape, X_categorial.shape, encoded.shape)"
   ]
  },
  {
   "cell_type": "code",
   "execution_count": 1,
   "metadata": {},
   "outputs": [],
   "source": [
    "# train_matrix = np.concatenate((X_numeric, encoded.toarray()), axis=1)\n",
    "# Найти способ уменьшить размерность категориальной матрицы"
   ]
  },
  {
   "cell_type": "code",
   "execution_count": 40,
   "metadata": {},
   "outputs": [
    {
     "name": "stderr",
     "output_type": "stream",
     "text": [
      "C:\\Program Files\\Anaconda3\\lib\\site-packages\\scipy\\linalg\\basic.py:40: RuntimeWarning: scipy.linalg.solve\n",
      "Ill-conditioned matrix detected. Result is not guaranteed to be accurate.\n",
      "Reciprocal condition number/precision: 8.389851255078268e-19 / 1.1102230246251565e-16\n",
      "  RuntimeWarning)\n"
     ]
    },
    {
     "data": {
      "text/plain": [
       "RidgeClassifier(alpha=1.0, class_weight=None, copy_X=True, fit_intercept=True,\n",
       "        max_iter=None, normalize=False, random_state=None, solver='auto',\n",
       "        tol=0.001)"
      ]
     },
     "execution_count": 40,
     "metadata": {},
     "output_type": "execute_result"
    }
   ],
   "source": [
    "ridge = RidgeClassifier()\n",
    "ridge.fit(X_numeric, y_train)"
   ]
  }
 ],
 "metadata": {
  "anaconda-cloud": {},
  "kernelspec": {
   "display_name": "Python [conda root]",
   "language": "python",
   "name": "conda-root-py"
  },
  "language_info": {
   "codemirror_mode": {
    "name": "ipython",
    "version": 3
   },
   "file_extension": ".py",
   "mimetype": "text/x-python",
   "name": "python",
   "nbconvert_exporter": "python",
   "pygments_lexer": "ipython3",
   "version": "3.5.4"
  }
 },
 "nbformat": 4,
 "nbformat_minor": 1
}
