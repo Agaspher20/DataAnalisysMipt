{
 "cells": [
  {
   "cell_type": "markdown",
   "metadata": {},
   "source": [
    "# Построение baseline-решений\n",
    "В этом задании вам предстоит построить несколько моделей и оценить их качество. Эти модели будут служить нам в качестве baseline-решений и пригодятся сразу для нескольких задач:\n",
    "1. Во-первых, на разработку baseline-модели не должно уходить много времени (это требование исходит из оценок затрат на проект в целом - большую часть времени все же нужно потратить на основное решение), процесс должен быть простым, на подавляющем большинстве этапов должны использоваться готовые протестированные инструменты. Все это приводит к тому, что baseline-модели - это дешевый способ сделать грубую оценку потенциально возможного качества модели, при построении которого вероятность допущения ошибок относительно невелика.\n",
    "2. Во-вторых, использование моделей разного типа при построении baseline'ов позволяет на раннем этапе сделать предположения о том, какие подходы являются наиболее перспективными и приоритизировать дальнейшие эксперименты.\n",
    "3. Наличие baseline-моделей позволяет оценить, какой прирост качества дают различные преобразования, усложнения, оптимизации и прочие активности, которые вы предпринимаете для построения финального решения.\n",
    "4. Наконец, если после построение сложного решения оценка его качества будет очень сильно отличаться от оценки качества baseline-моделей, то это будет хорошим поводом поискать в решении ошибки.\n",
    "\n",
    "Обучите 3 разные baseline-модели на полученных наборах данных и оцените их качество. На прошлой неделе вы выбрали методику оценки качества моделей на основе кросс-валидации, а также основную и вспомогательные метрики. Оцените с их помощью получившуюся модель. Обратите внимание, что под разными моделями понимаются именно разные алгоритмы классификации. Например, 2 модели, реализующие метод k ближайших соседей с разными k, будут считаться одним baseline-решением (хотя и с разными параметрами). Напоминаем, что отложенная выборка (hold-out dataset) не должна использоваться для построения и оценки baseline-моделей!\n",
    "\n",
    "Можно (но не обязательно) рассмотреть следующий набор алгоритмов:\n",
    "1. Линейная модель (например, реализация sklearn.linear_model.RidgeClassifier)\n",
    "2. Случайный лес (например, реализация sklearn.ensemble.RandomForestClassifier)\n",
    "3. Градиентный бустинг (например, реализация sklearn.ensemble.GradientBoostingClassifier)\n",
    "\n",
    "В качестве решения приложите получившийся jupyther notebook. Убедитесь, что в нем присутствуют:\n",
    "- все baseline-модели, которые вы построили;\n",
    "- качество всех построенных моделей оценено с помощью кросс-валидации, и это понятно из текста в jupyther notebook;\n",
    "- все модели оценены с помощью основной и дополнительных метрик качества."
   ]
  },
  {
   "cell_type": "code",
   "execution_count": 1,
   "metadata": {},
   "outputs": [],
   "source": [
    "import pandas as pd\n",
    "import random\n",
    "import numpy as np\n",
    "from scipy.sparse import coo_matrix, hstack\n",
    "from sklearn.model_selection import StratifiedKFold\n",
    "from sklearn.preprocessing import StandardScaler\n",
    "from sklearn.preprocessing import LabelEncoder\n",
    "from sklearn.preprocessing import OneHotEncoder\n",
    "from sklearn.linear_model import RidgeClassifier\n",
    "from sklearn.ensemble import RandomForestClassifier\n",
    "from sklearn.ensemble import GradientBoostingClassifier\n",
    "\n",
    "seed = 1903\n",
    "first_categorial_index = 190"
   ]
  },
  {
   "cell_type": "markdown",
   "metadata": {},
   "source": [
    "Загрузим train dataset, выделенный на предыдущей неделе"
   ]
  },
  {
   "cell_type": "code",
   "execution_count": 2,
   "metadata": {},
   "outputs": [
    {
     "name": "stdout",
     "output_type": "stream",
     "text": [
      "(27999, 230)\n",
      "(27999, 1)\n"
     ]
    }
   ],
   "source": [
    "churn_data_frame = pd.read_csv(\"..\\..\\Data\\churn_data_train.csv\", \",\")\n",
    "churn_labels_frame = pd.read_csv(\"..\\..\\Data\\churn_labels_train.csv\")\n",
    "print(churn_data_frame.shape)\n",
    "print(churn_labels_frame.shape)"
   ]
  },
  {
   "cell_type": "markdown",
   "metadata": {},
   "source": [
    "## Общая предобработка признаков"
   ]
  },
  {
   "cell_type": "code",
   "execution_count": 3,
   "metadata": {},
   "outputs": [],
   "source": [
    "def scale_frame(frame):\n",
    "    \"\"\"Функция масштабирает frame на отрезок [0;1]\"\"\"\n",
    "    scaler = StandardScaler()\n",
    "    scaled_matrix = scaler.fit_transform(frame.as_matrix())\n",
    "    return pd.DataFrame(scaled_matrix, columns=frame.columns)\n",
    "\n",
    "def split_frame(frame, n_columns, c_columns):\n",
    "    \"\"\"Функция разбивает фрейм на два числовой и категориальный, а также масштабирует значения и заполняет пропуски.\"\"\"\n",
    "    n_frame = frame[n_columns].copy()\n",
    "    c_frame = frame[c_columns].copy()\n",
    "    # Посчитаем средние по колонкам\n",
    "    numeric_means = n_frame.mean(axis=0, skipna=True)\n",
    "    # Оставим только те колонки, в которых среднее значение не равно NaN, т.к. в таких колонках совсем нет значений\n",
    "    numeric_means = numeric_means.dropna()\n",
    "    dropped_numeric_colums = n_frame.columns.drop(numeric_means.index)\n",
    "    n_frame = n_frame[list(numeric_means.index)]\n",
    "    # Заполним пропущенные численные значения средними\n",
    "    n_frame = n_frame.fillna(numeric_means, axis=0)\n",
    "    # Заполним пропущенные категориальные значения строками \"NaV\" (Not a value)\n",
    "    c_frame = c_frame.fillna(\"NaV\")\n",
    "    # Посчитаем количества уникальных значений по колонкам\n",
    "    cat_unique_counts = c_frame.nunique()\n",
    "    num_unique_counts = n_frame.nunique()\n",
    "    # Удалим колонки с одним уникальным значением\n",
    "    cat_columns_to_drop = cat_unique_counts[cat_unique_counts == 1].index\n",
    "    num_columns_to_drop = num_unique_counts[num_unique_counts == 1].index\n",
    "    c_frame = c_frame.drop(columns=cat_columns_to_drop)\n",
    "    n_frame = n_frame.drop(columns=num_columns_to_drop)\n",
    "    \n",
    "    dropped_columns = np.concatenate([\n",
    "        dropped_numeric_colums,\n",
    "        list(num_columns_to_drop),\n",
    "        list(cat_columns_to_drop)])\n",
    "    return (n_frame, c_frame, dropped_columns)"
   ]
  },
  {
   "cell_type": "markdown",
   "metadata": {},
   "source": [
    "Разделим коллекции на группы - числовые и категориальные.\n",
    "Выполним начальные преобразования, которые мы делали на 1-й неделе\n",
    "- заполним пропущенные числовые значения средними по колонке\n",
    "- заполним пропущенные категориальные значения строками \"NaV\" (Not a Value)\n",
    "- удалим колонки без значений и с только одним уникальным значением, т.к. они не сыграют роли в модели\n",
    "\n",
    "Все эти действия производятся в функции split_frame (см. выше)"
   ]
  },
  {
   "cell_type": "code",
   "execution_count": 4,
   "metadata": {},
   "outputs": [],
   "source": [
    "numeric_columns = churn_data_frame.columns[:first_categorial_index]\n",
    "categorial_columns = churn_data_frame.columns[first_categorial_index:]\n",
    "\n",
    "numeric_frame, categorial_frame, dropped_columns = split_frame(\n",
    "    churn_data_frame,\n",
    "    numeric_columns,\n",
    "    categorial_columns)"
   ]
  },
  {
   "cell_type": "markdown",
   "metadata": {},
   "source": [
    "Масштабируем числовые признаки"
   ]
  },
  {
   "cell_type": "code",
   "execution_count": 5,
   "metadata": {},
   "outputs": [],
   "source": [
    "numeric_frame_scaled = scale_frame(numeric_frame)"
   ]
  },
  {
   "cell_type": "markdown",
   "metadata": {},
   "source": [
    "Закодируем категориальные признаки значениями от 0 до n. Это в любом случае понадобится, т.к. например OneHotEncoder принимает на вход целочисленную матрицу."
   ]
  },
  {
   "cell_type": "code",
   "execution_count": 6,
   "metadata": {},
   "outputs": [],
   "source": [
    "def label_encode(X_categorial):\n",
    "    \"\"\" Функция кодирует категории числами от 0 до n, где n количество категорий в колонке. \"\"\"\n",
    "    X_num = np.empty(X_categorial.shape)\n",
    "    for column_number in range(X_categorial.shape[1]):\n",
    "        labelEncoder = LabelEncoder()\n",
    "        column = X_categorial[:,column_number]\n",
    "        for idx, val in enumerate(column):\n",
    "            if(not(isinstance(val, str))):\n",
    "                column[idx] = \"NaV\"\n",
    "        num_column = labelEncoder.fit_transform(column)\n",
    "        for row_number, val in enumerate(num_column):\n",
    "            X_num[row_number, column_number] = val\n",
    "    return X_num"
   ]
  },
  {
   "cell_type": "code",
   "execution_count": 7,
   "metadata": {},
   "outputs": [],
   "source": [
    "categorial_frame_labeled = pd.DataFrame(\n",
    "    label_encode(categorial_frame.as_matrix()),\n",
    "    columns=categorial_frame.columns)"
   ]
  },
  {
   "cell_type": "markdown",
   "metadata": {},
   "source": [
    "## Организация оценки качества"
   ]
  },
  {
   "cell_type": "markdown",
   "metadata": {},
   "source": [
    "По предсказанным значениям и ответам функция строит матрицу ошибок. По полученной матрице функция считает precision и recall, затем по полученным precision и recall функция считает объединенную метрику, - F-меру.\n",
    "На выходе функция возвращает кортеж значений в следующем порядке: F-мера, precision, recall, матрица ошибок"
   ]
  },
  {
   "cell_type": "code",
   "execution_count": 8,
   "metadata": {},
   "outputs": [],
   "source": [
    "def fscore_precision_recall(y_predicted, y_test):\n",
    "    \"\"\" Функция считает f-меру, precision и recall \"\"\"\n",
    "    true_positive_rate = 0\n",
    "    false_positive_rate = 0\n",
    "    false_negative_rate = 0\n",
    "    true_negative_rate = 0\n",
    "    for yp, yt in zip(y_predicted, y_test):\n",
    "        if yp == 1 and yt == 1:\n",
    "            true_positive_rate += 1\n",
    "        elif yp == 1 and yt == -1:\n",
    "            false_positive_rate += 1\n",
    "        elif yp == -1 and yt == 1:\n",
    "            false_negative_rate += 1\n",
    "        else:\n",
    "            true_negative_rate += 1\n",
    "    precision = float(true_positive_rate)/float(true_positive_rate+false_positive_rate) if true_positive_rate > 0 else 0\n",
    "    recall = float(true_positive_rate)/float(true_positive_rate+false_negative_rate) if true_positive_rate > 0 else 0\n",
    "    fscore = 2*precision*recall/(precision+recall) if precision != 0 and recall != 0 else 0\n",
    "    return (fscore, precision, recall, [[true_positive_rate, false_positive_rate], [false_negative_rate, true_negative_rate]])"
   ]
  },
  {
   "cell_type": "markdown",
   "metadata": {},
   "source": [
    "Функция ниже разбивает выборку на несколько стратифицированных фолдов. После этого по каждому из фолдов строит модель, используя model_factory и обучает её. На полученной обученной модели функция строит предсказания и по ним считает F-меру.\n",
    "Функция возвращает усредненное по всем фолдам значение F-меры."
   ]
  },
  {
   "cell_type": "code",
   "execution_count": 17,
   "metadata": {},
   "outputs": [],
   "source": [
    "def stratifiedKFold_fscore(X, y, model_factory, seed, folds_count = 3):\n",
    "    \"\"\" Функция разбивает набор данных на folds_count, считает F-меру на каждом фолде и возвращает усредненное по фолдам значение. \"\"\"\n",
    "    skf = StratifiedKFold(n_splits=folds_count, shuffle=True, random_state=seed)\n",
    "    f_score_sum = 0\n",
    "    best_model = None\n",
    "    best_score = 0\n",
    "    best_precision = 0\n",
    "    best_recall = 0\n",
    "    best_table = None\n",
    "    for train_indices, test_indices in skf.split(X, y):\n",
    "        X_train = X.tocsc()[train_indices]\n",
    "        X_test = X.tocsc()[test_indices]\n",
    "        y_train = y[train_indices]\n",
    "        y_test = y[test_indices]\n",
    "        model = model_factory()\n",
    "        model.fit(X_train, y_train)\n",
    "        y_predicted = model.predict(X_test)\n",
    "        fscore, precision, recall, table = fscore_precision_recall(y_predicted, y_test)\n",
    "        if(best_model is None or best_score < fscore):\n",
    "            best_score = fscore\n",
    "            best_model = model\n",
    "            best_precision = precision\n",
    "            best_recall = recall\n",
    "            best_table = table\n",
    "        f_score_sum += fscore\n",
    "    return (float(f_score_sum)/float(folds_count), best_model, best_score, best_precision, best_recall, best_table)"
   ]
  },
  {
   "cell_type": "markdown",
   "metadata": {},
   "source": [
    "## Построение baseline моделей\n",
    "Для обработки категориальных признаков при построении baseline модели будем использовать OneHotEncoder и LabelEncoder.\n",
    "Эти методы крайне просты. Другие методы обработки категориальных признаков несколько более сложны и не укладываются в рамки построения baseline модели.\n",
    "\n",
    "Закодируем категориальныее признаки с помощью OneHotEncoder и объединим матрицы вещественных и бинарных признаков."
   ]
  },
  {
   "cell_type": "code",
   "execution_count": 18,
   "metadata": {},
   "outputs": [],
   "source": [
    "one_hot = OneHotEncoder()\n",
    "cat_mtx = one_hot.fit_transform(categorial_frame_labeled.as_matrix())\n",
    "X_one_hot = hstack([coo_matrix(numeric_frame_scaled.as_matrix()), cat_mtx])\n",
    "y = churn_labels_frame.as_matrix().flatten()"
   ]
  },
  {
   "cell_type": "markdown",
   "metadata": {},
   "source": [
    "Линейная модель"
   ]
  },
  {
   "cell_type": "code",
   "execution_count": 19,
   "metadata": {},
   "outputs": [
    {
     "data": {
      "text/plain": [
       "0.0009564801530368244"
      ]
     },
     "execution_count": 19,
     "metadata": {},
     "output_type": "execute_result"
    }
   ],
   "source": [
    "ridge_one_hot = stratifiedKFold_fscore(X_one_hot, y, RidgeClassifier, seed)\n",
    "ridge_one_hot[0]"
   ]
  },
  {
   "cell_type": "markdown",
   "metadata": {},
   "source": [
    "Случайный лес"
   ]
  },
  {
   "cell_type": "code",
   "execution_count": 20,
   "metadata": {},
   "outputs": [
    {
     "data": {
      "text/plain": [
       "0.005711591898162834"
      ]
     },
     "execution_count": 20,
     "metadata": {},
     "output_type": "execute_result"
    }
   ],
   "source": [
    "random_forest_one_hot = stratifiedKFold_fscore(X_one_hot, y, RandomForestClassifier, seed)\n",
    "random_forest_one_hot[0]"
   ]
  },
  {
   "cell_type": "markdown",
   "metadata": {},
   "source": [
    "Бустинг"
   ]
  },
  {
   "cell_type": "code",
   "execution_count": 21,
   "metadata": {},
   "outputs": [
    {
     "data": {
      "text/plain": [
       "0.013149692641465175"
      ]
     },
     "execution_count": 21,
     "metadata": {},
     "output_type": "execute_result"
    }
   ],
   "source": [
    "gradient_boosting_one_hot = stratifiedKFold_fscore(X_one_hot, y, GradientBoostingClassifier, seed)\n",
    "gradient_boosting_one_hot[0]"
   ]
  },
  {
   "cell_type": "markdown",
   "metadata": {},
   "source": [
    "Объединим матрицы вещественных и категориальных признаков, закодированных целыми числами"
   ]
  },
  {
   "cell_type": "code",
   "execution_count": 22,
   "metadata": {},
   "outputs": [],
   "source": [
    "X_labeled = coo_matrix(pd.concat([numeric_frame_scaled, categorial_frame_labeled], axis=1, ignore_index=False).as_matrix())"
   ]
  },
  {
   "cell_type": "markdown",
   "metadata": {},
   "source": [
    "Случайный лес"
   ]
  },
  {
   "cell_type": "code",
   "execution_count": 23,
   "metadata": {},
   "outputs": [
    {
     "data": {
      "text/plain": [
       "0.010393896575751042"
      ]
     },
     "execution_count": 23,
     "metadata": {},
     "output_type": "execute_result"
    }
   ],
   "source": [
    "random_forest_labeled = stratifiedKFold_fscore(X_labeled, y, RandomForestClassifier, seed)\n",
    "random_forest_labeled[0]"
   ]
  },
  {
   "cell_type": "markdown",
   "metadata": {},
   "source": [
    "Бустинг"
   ]
  },
  {
   "cell_type": "code",
   "execution_count": 24,
   "metadata": {},
   "outputs": [
    {
     "data": {
      "text/plain": [
       "0.017691092576074503"
      ]
     },
     "execution_count": 24,
     "metadata": {},
     "output_type": "execute_result"
    }
   ],
   "source": [
    "gradient_boosting_labeled = stratifiedKFold_fscore(X_labeled, y, GradientBoostingClassifier, seed)\n",
    "gradient_boosting_labeled[0]"
   ]
  },
  {
   "cell_type": "markdown",
   "metadata": {},
   "source": [
    "Линейная модель"
   ]
  },
  {
   "cell_type": "code",
   "execution_count": 25,
   "metadata": {},
   "outputs": [
    {
     "data": {
      "text/plain": [
       "0.0"
      ]
     },
     "execution_count": 25,
     "metadata": {},
     "output_type": "execute_result"
    }
   ],
   "source": [
    "ridge_labeled = stratifiedKFold_fscore(X_labeled, y, RidgeClassifier, seed)\n",
    "ridge_labeled[0]"
   ]
  },
  {
   "cell_type": "markdown",
   "metadata": {},
   "source": [
    "Сравним получившиеся оценки объединив их в таблицу"
   ]
  },
  {
   "cell_type": "code",
   "execution_count": 30,
   "metadata": {},
   "outputs": [
    {
     "data": {
      "text/html": [
       "<div>\n",
       "<style scoped>\n",
       "    .dataframe tbody tr th:only-of-type {\n",
       "        vertical-align: middle;\n",
       "    }\n",
       "\n",
       "    .dataframe tbody tr th {\n",
       "        vertical-align: top;\n",
       "    }\n",
       "\n",
       "    .dataframe thead th {\n",
       "        text-align: right;\n",
       "    }\n",
       "</style>\n",
       "<table border=\"1\" class=\"dataframe\">\n",
       "  <thead>\n",
       "    <tr style=\"text-align: right;\">\n",
       "      <th></th>\n",
       "      <th>One hot mean</th>\n",
       "      <th>Labeled mean</th>\n",
       "      <th>One hot best</th>\n",
       "      <th>Labeled best</th>\n",
       "    </tr>\n",
       "  </thead>\n",
       "  <tbody>\n",
       "    <tr>\n",
       "      <th>Ridge</th>\n",
       "      <td>0.000956</td>\n",
       "      <td>0.000000</td>\n",
       "      <td>0.002869</td>\n",
       "      <td>0.000000</td>\n",
       "    </tr>\n",
       "    <tr>\n",
       "      <th>Random forest</th>\n",
       "      <td>0.005712</td>\n",
       "      <td>0.010394</td>\n",
       "      <td>0.014265</td>\n",
       "      <td>0.014144</td>\n",
       "    </tr>\n",
       "    <tr>\n",
       "      <th>Gradient boosting</th>\n",
       "      <td>0.013150</td>\n",
       "      <td>0.017691</td>\n",
       "      <td>0.016854</td>\n",
       "      <td>0.028011</td>\n",
       "    </tr>\n",
       "  </tbody>\n",
       "</table>\n",
       "</div>"
      ],
      "text/plain": [
       "                   One hot mean  Labeled mean  One hot best  Labeled best\n",
       "Ridge                  0.000956      0.000000      0.002869      0.000000\n",
       "Random forest          0.005712      0.010394      0.014265      0.014144\n",
       "Gradient boosting      0.013150      0.017691      0.016854      0.028011"
      ]
     },
     "execution_count": 30,
     "metadata": {},
     "output_type": "execute_result"
    }
   ],
   "source": [
    "score_table = pd.DataFrame(\n",
    "    [\n",
    "        [ridge_one_hot[0], ridge_labeled[0], ridge_one_hot[2], ridge_labeled[2]],\n",
    "        [random_forest_one_hot[0], random_forest_labeled[0], random_forest_one_hot[2], random_forest_labeled[2]],\n",
    "        [gradient_boosting_one_hot[0], gradient_boosting_labeled[0], gradient_boosting_one_hot[2], gradient_boosting_labeled[2]]\n",
    "    ],\n",
    "    index=[\"Ridge\", \"Random forest\", \"Gradient boosting\"],\n",
    "    columns=[\"One hot mean\", \"Labeled mean\", \"One hot best\", \"Labeled best\"])\n",
    "score_table"
   ]
  },
  {
   "cell_type": "code",
   "execution_count": null,
   "metadata": {},
   "outputs": [],
   "source": []
  }
 ],
 "metadata": {
  "anaconda-cloud": {},
  "kernelspec": {
   "display_name": "Python [conda root]",
   "language": "python",
   "name": "conda-root-py"
  },
  "language_info": {
   "codemirror_mode": {
    "name": "ipython",
    "version": 3
   },
   "file_extension": ".py",
   "mimetype": "text/x-python",
   "name": "python",
   "nbconvert_exporter": "python",
   "pygments_lexer": "ipython3",
   "version": "3.5.4"
  }
 },
 "nbformat": 4,
 "nbformat_minor": 1
}
