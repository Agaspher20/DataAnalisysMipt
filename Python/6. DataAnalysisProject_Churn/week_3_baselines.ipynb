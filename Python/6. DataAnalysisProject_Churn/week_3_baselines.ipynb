{
 "cells": [
  {
   "cell_type": "markdown",
   "metadata": {},
   "source": [
    "# Построение baseline-решений\n",
    "В этом задании вам предстоит построить несколько моделей и оценить их качество. Эти модели будут служить нам в качестве baseline-решений и пригодятся сразу для нескольких задач:\n",
    "1. Во-первых, на разработку baseline-модели не должно уходить много времени (это требование исходит из оценок затрат на проект в целом - большую часть времени все же нужно потратить на основное решение), процесс должен быть простым, на подавляющем большинстве этапов должны использоваться готовые протестированные инструменты. Все это приводит к тому, что baseline-модели - это дешевый способ сделать грубую оценку потенциально возможного качества модели, при построении которого вероятность допущения ошибок относительно невелика.\n",
    "2. Во-вторых, использование моделей разного типа при построении baseline'ов позволяет на раннем этапе сделать предположения о том, какие подходы являются наиболее перспективными и приоритизировать дальнейшие эксперименты.\n",
    "3. Наличие baseline-моделей позволяет оценить, какой прирост качества дают различные преобразования, усложнения, оптимизации и прочие активности, которые вы предпринимаете для построения финального решения.\n",
    "4. Наконец, если после построение сложного решения оценка его качества будет очень сильно отличаться от оценки качества baseline-моделей, то это будет хорошим поводом поискать в решении ошибки.\n",
    "\n",
    "Обучите 3 разные baseline-модели на полученных наборах данных и оцените их качество. На прошлой неделе вы выбрали методику оценки качества моделей на основе кросс-валидации, а также основную и вспомогательные метрики. Оцените с их помощью получившуюся модель. Обратите внимание, что под разными моделями понимаются именно разные алгоритмы классификации. Например, 2 модели, реализующие метод k ближайших соседей с разными k, будут считаться одним baseline-решением (хотя и с разными параметрами). Напоминаем, что отложенная выборка (hold-out dataset) не должна использоваться для построения и оценки baseline-моделей!\n",
    "\n",
    "Можно (но не обязательно) рассмотреть следующий набор алгоритмов:\n",
    "1. Линейная модель (например, реализация sklearn.linear_model.RidgeClassifier)\n",
    "2. Случайный лес (например, реализация sklearn.ensemble.RandomForestClassifier)\n",
    "3. Градиентный бустинг (например, реализация sklearn.ensemble.GradientBoostingClassifier)\n",
    "\n",
    "В качестве решения приложите получившийся jupyther notebook. Убедитесь, что в нем присутствуют:\n",
    "- все baseline-модели, которые вы построили;\n",
    "- качество всех построенных моделей оценено с помощью кросс-валидации, и это понятно из текста в jupyther notebook;\n",
    "- все модели оценены с помощью основной и дополнительных метрик качества."
   ]
  },
  {
   "cell_type": "code",
   "execution_count": 1,
   "metadata": {},
   "outputs": [],
   "source": [
    "import pandas as pd\n",
    "import random\n",
    "import numpy as np\n",
    "from scipy.sparse import coo_matrix, hstack\n",
    "from matplotlib import pyplot as plt\n",
    "from sklearn.model_selection import StratifiedKFold\n",
    "from sklearn.preprocessing import StandardScaler\n",
    "from sklearn.preprocessing import LabelEncoder\n",
    "from sklearn.preprocessing import OneHotEncoder\n",
    "\n",
    "from sklearn.metrics import roc_curve, precision_recall_curve, f1_score, roc_auc_score, recall_score, precision_score, log_loss\n",
    "\n",
    "from sklearn.linear_model import RidgeClassifier\n",
    "from sklearn.ensemble import RandomForestClassifier\n",
    "from sklearn.ensemble import GradientBoostingClassifier\n",
    "\n",
    "seed = 1903\n",
    "first_categorial_index = 190"
   ]
  },
  {
   "cell_type": "markdown",
   "metadata": {},
   "source": [
    "Загрузим train dataset, выделенный на предыдущей неделе"
   ]
  },
  {
   "cell_type": "code",
   "execution_count": 2,
   "metadata": {},
   "outputs": [
    {
     "name": "stdout",
     "output_type": "stream",
     "text": [
      "(27999, 230)\n",
      "(27999, 1)\n"
     ]
    }
   ],
   "source": [
    "churn_data_frame = pd.read_csv(\"..\\..\\Data\\churn_data_train.csv\", \",\")\n",
    "churn_labels_frame = pd.read_csv(\"..\\..\\Data\\churn_labels_train.csv\")\n",
    "print(churn_data_frame.shape)\n",
    "print(churn_labels_frame.shape)"
   ]
  },
  {
   "cell_type": "markdown",
   "metadata": {},
   "source": [
    "## Общая предобработка признаков"
   ]
  },
  {
   "cell_type": "code",
   "execution_count": 3,
   "metadata": {},
   "outputs": [],
   "source": [
    "def scale_frame(frame):\n",
    "    \"\"\"Функция масштабирает frame на отрезок [0;1]\"\"\"\n",
    "    scaler = StandardScaler()\n",
    "    scaled_matrix = scaler.fit_transform(frame.as_matrix())\n",
    "    return pd.DataFrame(scaled_matrix, columns=frame.columns)\n",
    "\n",
    "def split_frame(frame, n_columns, c_columns):\n",
    "    \"\"\"Функция разбивает фрейм на два числовой и категориальный, а также масштабирует значения и заполняет пропуски.\"\"\"\n",
    "    n_frame = frame[n_columns].copy()\n",
    "    c_frame = frame[c_columns].copy()\n",
    "    # Посчитаем средние по колонкам\n",
    "    numeric_means = n_frame.mean(axis=0, skipna=True)\n",
    "    # Оставим только те колонки, в которых среднее значение не равно NaN, т.к. в таких колонках совсем нет значений\n",
    "    numeric_means = numeric_means.dropna()\n",
    "    dropped_numeric_colums = n_frame.columns.drop(numeric_means.index)\n",
    "    n_frame = n_frame[list(numeric_means.index)]\n",
    "    # Заполним пропущенные численные значения средними\n",
    "    n_frame = n_frame.fillna(numeric_means, axis=0)\n",
    "    # Заполним пропущенные категориальные значения строками \"NaV\" (Not a value)\n",
    "    c_frame = c_frame.fillna(\"NaV\")\n",
    "    # Посчитаем количества уникальных значений по колонкам\n",
    "    cat_unique_counts = c_frame.nunique()\n",
    "    num_unique_counts = n_frame.nunique()\n",
    "    # Удалим колонки с одним уникальным значением\n",
    "    cat_columns_to_drop = cat_unique_counts[cat_unique_counts == 1].index\n",
    "    num_columns_to_drop = num_unique_counts[num_unique_counts == 1].index\n",
    "    c_frame = c_frame.drop(columns=cat_columns_to_drop)\n",
    "    n_frame = n_frame.drop(columns=num_columns_to_drop)\n",
    "    \n",
    "    dropped_columns = np.concatenate([\n",
    "        dropped_numeric_colums,\n",
    "        list(num_columns_to_drop),\n",
    "        list(cat_columns_to_drop)])\n",
    "    return (n_frame, c_frame, dropped_columns)"
   ]
  },
  {
   "cell_type": "markdown",
   "metadata": {},
   "source": [
    "Разделим коллекции на группы - числовые и категориальные.\n",
    "Выполним начальные преобразования, которые мы делали на 1-й неделе\n",
    "- заполним пропущенные числовые значения средними по колонке\n",
    "- заполним пропущенные категориальные значения строками \"NaV\" (Not a Value)\n",
    "- удалим колонки без значений и с только одним уникальным значением, т.к. они не сыграют роли в модели\n",
    "\n",
    "Все эти действия производятся в функции split_frame (см. выше)"
   ]
  },
  {
   "cell_type": "code",
   "execution_count": 4,
   "metadata": {},
   "outputs": [],
   "source": [
    "numeric_columns = churn_data_frame.columns[:first_categorial_index]\n",
    "categorial_columns = churn_data_frame.columns[first_categorial_index:]\n",
    "\n",
    "numeric_frame, categorial_frame, dropped_columns = split_frame(\n",
    "    churn_data_frame,\n",
    "    numeric_columns,\n",
    "    categorial_columns)"
   ]
  },
  {
   "cell_type": "markdown",
   "metadata": {},
   "source": [
    "Масштабируем числовые признаки"
   ]
  },
  {
   "cell_type": "code",
   "execution_count": 5,
   "metadata": {},
   "outputs": [],
   "source": [
    "numeric_frame_scaled = scale_frame(numeric_frame)"
   ]
  },
  {
   "cell_type": "markdown",
   "metadata": {},
   "source": [
    "Закодируем категориальные признаки значениями от 0 до n. Это в любом случае понадобится, т.к. например OneHotEncoder принимает на вход целочисленную матрицу."
   ]
  },
  {
   "cell_type": "code",
   "execution_count": 6,
   "metadata": {},
   "outputs": [],
   "source": [
    "def label_encode(X_categorial):\n",
    "    \"\"\" Функция кодирует категории числами от 0 до n, где n количество категорий в колонке. \"\"\"\n",
    "    X_num = np.empty(X_categorial.shape)\n",
    "    for column_number in range(X_categorial.shape[1]):\n",
    "        labelEncoder = LabelEncoder()\n",
    "        column = X_categorial[:,column_number]\n",
    "        for idx, val in enumerate(column):\n",
    "            if(not(isinstance(val, str))):\n",
    "                column[idx] = \"NaV\"\n",
    "        num_column = labelEncoder.fit_transform(column)\n",
    "        for row_number, val in enumerate(num_column):\n",
    "            X_num[row_number, column_number] = val\n",
    "    return X_num"
   ]
  },
  {
   "cell_type": "code",
   "execution_count": 7,
   "metadata": {},
   "outputs": [],
   "source": [
    "categorial_frame_labeled = pd.DataFrame(\n",
    "    label_encode(categorial_frame.as_matrix()),\n",
    "    columns=categorial_frame.columns)"
   ]
  },
  {
   "cell_type": "markdown",
   "metadata": {},
   "source": [
    "## Организация оценки качества"
   ]
  },
  {
   "cell_type": "markdown",
   "metadata": {},
   "source": [
    "Функция ниже разбивает выборку на несколько стратифицированных фолдов. После этого по каждому из фолдов строит модель, используя model_factory и обучает её. На полученной обученной модели функция строит предсказания и по ним считает F-меру.\n",
    "Функция возвращает усредненное по всем фолдам значение F-меры."
   ]
  },
  {
   "cell_type": "code",
   "execution_count": 8,
   "metadata": {},
   "outputs": [],
   "source": [
    "def stratifiedKFold_fscore(X, y, model_factory, seed, folds_count = 3):\n",
    "    \"\"\" Функция разбивает набор данных на folds_count, считает F-меру на каждом фолде и возвращает усредненное по фолдам значение. \"\"\"\n",
    "    skf = StratifiedKFold(n_splits=folds_count, shuffle=True, random_state=seed)\n",
    "    f_score_sum = 0\n",
    "    # Функция также возвращает модель, показавшую лучшее качество, её метрики и разделение данных\n",
    "    # Разделение данных нужно для того, чтобы строить метрики модели на данных, на которых она не обучалась.\n",
    "    best_model = None\n",
    "    best_score = 0\n",
    "    best_precision = 0\n",
    "    best_recall = 0\n",
    "    best_table = None\n",
    "    best_split = None\n",
    "    for train_indices, test_indices in skf.split(X, y):\n",
    "        X_train = X.tocsc()[train_indices]\n",
    "        X_test = X.tocsc()[test_indices]\n",
    "        y_train = y[train_indices]\n",
    "        y_test = y[test_indices]\n",
    "        model = model_factory()\n",
    "        # Обучим модель\n",
    "        model.fit(X_train, y_train)\n",
    "        # Построим предсказания для расчета оценки\n",
    "        y_predicted = model.predict(X_test)\n",
    "        fscore = f1_score(y_test, y_predicted)\n",
    "        if(best_model is None or best_score < fscore):\n",
    "            # В случае, если модель лучше предыдущих сохраним её\n",
    "            # оценку, модель, матрицу ошибок и разделение данных\n",
    "            best_score = fscore\n",
    "            best_model = model\n",
    "            best_split = (X_train, y_train, X_test, y_test)\n",
    "        f_score_sum += fscore    \n",
    "    return (\n",
    "        float(f_score_sum)/float(folds_count),\n",
    "        best_model,\n",
    "        best_score,\n",
    "        best_split)"
   ]
  },
  {
   "cell_type": "markdown",
   "metadata": {},
   "source": [
    "## Построение baseline моделей\n",
    "Для обработки категориальных признаков при построении baseline модели будем использовать OneHotEncoder и LabelEncoder.\n",
    "Эти методы крайне просты. Другие методы обработки категориальных признаков несколько более сложны и не укладываются в рамки построения baseline модели.\n",
    "\n",
    "Закодируем категориальныее признаки с помощью OneHotEncoder и объединим матрицы вещественных и бинарных признаков."
   ]
  },
  {
   "cell_type": "code",
   "execution_count": 9,
   "metadata": {},
   "outputs": [],
   "source": [
    "one_hot = OneHotEncoder()\n",
    "cat_mtx = one_hot.fit_transform(categorial_frame_labeled.as_matrix())\n",
    "X_one_hot = hstack([coo_matrix(numeric_frame_scaled.as_matrix()), cat_mtx])\n",
    "y = churn_labels_frame.as_matrix().flatten()"
   ]
  },
  {
   "cell_type": "markdown",
   "metadata": {},
   "source": [
    "Линейная модель"
   ]
  },
  {
   "cell_type": "code",
   "execution_count": 10,
   "metadata": {},
   "outputs": [
    {
     "data": {
      "text/plain": [
       "0.0009564801530368244"
      ]
     },
     "execution_count": 10,
     "metadata": {},
     "output_type": "execute_result"
    }
   ],
   "source": [
    "ridge_one_hot = stratifiedKFold_fscore(X_one_hot, y, RidgeClassifier, seed)\n",
    "ridge_one_hot[0]"
   ]
  },
  {
   "cell_type": "markdown",
   "metadata": {},
   "source": [
    "Случайный лес"
   ]
  },
  {
   "cell_type": "code",
   "execution_count": 11,
   "metadata": {},
   "outputs": [
    {
     "data": {
      "text/plain": [
       "0.001907522022464551"
      ]
     },
     "execution_count": 11,
     "metadata": {},
     "output_type": "execute_result"
    }
   ],
   "source": [
    "random_forest_one_hot = stratifiedKFold_fscore(X_one_hot, y, RandomForestClassifier, seed)\n",
    "random_forest_one_hot[0]"
   ]
  },
  {
   "cell_type": "markdown",
   "metadata": {},
   "source": [
    "Бустинг"
   ]
  },
  {
   "cell_type": "code",
   "execution_count": 12,
   "metadata": {},
   "outputs": [
    {
     "data": {
      "text/plain": [
       "0.011236513440506557"
      ]
     },
     "execution_count": 12,
     "metadata": {},
     "output_type": "execute_result"
    }
   ],
   "source": [
    "gradient_boosting_one_hot = stratifiedKFold_fscore(X_one_hot, y, GradientBoostingClassifier, seed)\n",
    "gradient_boosting_one_hot[0]"
   ]
  },
  {
   "cell_type": "markdown",
   "metadata": {},
   "source": [
    "Объединим матрицы вещественных и категориальных признаков, закодированных целыми числами"
   ]
  },
  {
   "cell_type": "code",
   "execution_count": 13,
   "metadata": {},
   "outputs": [],
   "source": [
    "X_labeled = coo_matrix(pd.concat([numeric_frame_scaled, categorial_frame_labeled], axis=1, ignore_index=False).as_matrix())"
   ]
  },
  {
   "cell_type": "markdown",
   "metadata": {},
   "source": [
    "Случайный лес"
   ]
  },
  {
   "cell_type": "code",
   "execution_count": 14,
   "metadata": {},
   "outputs": [
    {
     "data": {
      "text/plain": [
       "0.00757041520423062"
      ]
     },
     "execution_count": 14,
     "metadata": {},
     "output_type": "execute_result"
    }
   ],
   "source": [
    "random_forest_labeled = stratifiedKFold_fscore(X_labeled, y, RandomForestClassifier, seed)\n",
    "random_forest_labeled[0]"
   ]
  },
  {
   "cell_type": "markdown",
   "metadata": {},
   "source": [
    "Бустинг"
   ]
  },
  {
   "cell_type": "code",
   "execution_count": 15,
   "metadata": {},
   "outputs": [
    {
     "data": {
      "text/plain": [
       "0.017683159696773556"
      ]
     },
     "execution_count": 15,
     "metadata": {},
     "output_type": "execute_result"
    }
   ],
   "source": [
    "gradient_boosting_labeled = stratifiedKFold_fscore(X_labeled, y, GradientBoostingClassifier, seed)\n",
    "gradient_boosting_labeled[0]"
   ]
  },
  {
   "cell_type": "markdown",
   "metadata": {},
   "source": [
    "Линейная модель"
   ]
  },
  {
   "cell_type": "code",
   "execution_count": 16,
   "metadata": {},
   "outputs": [
    {
     "name": "stderr",
     "output_type": "stream",
     "text": [
      "C:\\Program Files\\Anaconda3\\lib\\site-packages\\sklearn\\metrics\\classification.py:1135: UndefinedMetricWarning: F-score is ill-defined and being set to 0.0 due to no predicted samples.\n",
      "  'precision', 'predicted', average, warn_for)\n"
     ]
    },
    {
     "data": {
      "text/plain": [
       "0.0"
      ]
     },
     "execution_count": 16,
     "metadata": {},
     "output_type": "execute_result"
    }
   ],
   "source": [
    "ridge_labeled = stratifiedKFold_fscore(X_labeled, y, RidgeClassifier, seed)\n",
    "ridge_labeled[0]"
   ]
  },
  {
   "cell_type": "markdown",
   "metadata": {},
   "source": [
    "Сравним получившиеся оценки объединив их в таблицу"
   ]
  },
  {
   "cell_type": "code",
   "execution_count": 17,
   "metadata": {},
   "outputs": [
    {
     "data": {
      "text/html": [
       "<div>\n",
       "<style scoped>\n",
       "    .dataframe tbody tr th:only-of-type {\n",
       "        vertical-align: middle;\n",
       "    }\n",
       "\n",
       "    .dataframe tbody tr th {\n",
       "        vertical-align: top;\n",
       "    }\n",
       "\n",
       "    .dataframe thead th {\n",
       "        text-align: right;\n",
       "    }\n",
       "</style>\n",
       "<table border=\"1\" class=\"dataframe\">\n",
       "  <thead>\n",
       "    <tr style=\"text-align: right;\">\n",
       "      <th></th>\n",
       "      <th>One hot mean</th>\n",
       "      <th>Labeled mean</th>\n",
       "      <th>One hot best</th>\n",
       "      <th>Labeled best</th>\n",
       "    </tr>\n",
       "  </thead>\n",
       "  <tbody>\n",
       "    <tr>\n",
       "      <th>Ridge</th>\n",
       "      <td>0.000956</td>\n",
       "      <td>0.000000</td>\n",
       "      <td>0.002869</td>\n",
       "      <td>0.00000</td>\n",
       "    </tr>\n",
       "    <tr>\n",
       "      <th>Random forest</th>\n",
       "      <td>0.001908</td>\n",
       "      <td>0.007570</td>\n",
       "      <td>0.002874</td>\n",
       "      <td>0.01138</td>\n",
       "    </tr>\n",
       "    <tr>\n",
       "      <th>Gradient boosting</th>\n",
       "      <td>0.011237</td>\n",
       "      <td>0.017683</td>\n",
       "      <td>0.016760</td>\n",
       "      <td>0.03352</td>\n",
       "    </tr>\n",
       "  </tbody>\n",
       "</table>\n",
       "</div>"
      ],
      "text/plain": [
       "                   One hot mean  Labeled mean  One hot best  Labeled best\n",
       "Ridge                  0.000956      0.000000      0.002869       0.00000\n",
       "Random forest          0.001908      0.007570      0.002874       0.01138\n",
       "Gradient boosting      0.011237      0.017683      0.016760       0.03352"
      ]
     },
     "execution_count": 17,
     "metadata": {},
     "output_type": "execute_result"
    }
   ],
   "source": [
    "score_table = pd.DataFrame(\n",
    "    [\n",
    "        [ridge_one_hot[0], ridge_labeled[0], ridge_one_hot[2], ridge_labeled[2]],\n",
    "        [random_forest_one_hot[0], random_forest_labeled[0], random_forest_one_hot[2], random_forest_labeled[2]],\n",
    "        [gradient_boosting_one_hot[0], gradient_boosting_labeled[0], gradient_boosting_one_hot[2], gradient_boosting_labeled[2]]\n",
    "    ],\n",
    "    index=[\"Ridge\", \"Random forest\", \"Gradient boosting\"],\n",
    "    columns=[\"One hot mean\", \"Labeled mean\", \"One hot best\", \"Labeled best\"])\n",
    "score_table"
   ]
  },
  {
   "cell_type": "markdown",
   "metadata": {},
   "source": [
    "Результаты построениея моделей достаточно предсказуемы. Качество предсказания никакое. OneHot обработка признаков улучшает качество предсказаний для линейной модели и отрицательно сказывается на качестве моделей, основанных на решающих деревьях.\n",
    "\n",
    "## Дополнительные метрики качества\n",
    "\n",
    "Для каждого типа baseline модели возьмем лучшее решение и сравним эти решения на основе основной (F-мера) и дополнительных (precision, recall, log loss, roc auc score) метрик качества."
   ]
  },
  {
   "cell_type": "code",
   "execution_count": 18,
   "metadata": {},
   "outputs": [],
   "source": [
    "def predict_ridge_proba(X, model):\n",
    "    \"\"\" Функция возвращает вероятности предсказаний для класса churn модель Ridge \"\"\"\n",
    "    # Поскольку RidgeClassifier не обладает функцией predict_proba приходится считать его вручную\n",
    "    # Подробнее можно посмотреть здесь:\n",
    "    # https://www.codesd.com/item/scikit-learn-ridge-classifier-extract-class-probabilities.html\n",
    "    func = model.decision_function(X)\n",
    "    return np.exp(func) / (1 + np.exp(func))\n",
    "\n",
    "def predict_model_proba(X, model):\n",
    "    \"\"\" Функция возвращает вероятности предсказаний для класса churn \"\"\"\n",
    "    return list(zip(*model.predict_proba(X)))[1]\n",
    "\n",
    "def get_model_data(model_with_data):\n",
    "    \"\"\" Функция принимает на вход результат stratifiedKFold_fscore и возвращает только модель и её X_test и y_test \"\"\"\n",
    "    model = model_with_data[1]\n",
    "    split = model_with_data[3]\n",
    "    X = split[2]\n",
    "    y = split[3]\n",
    "    return (model,X,y)\n",
    "\n",
    "def calculate_metrics(model_with_data, predict_probabilities):\n",
    "    \"\"\" Посчитаем метрики качества для модели \"\"\"\n",
    "    model, X, y = get_model_data(model_with_data)\n",
    "    predictions = model.predict(X)\n",
    "    probabilities = predict_probabilities(X, model)\n",
    "    # Считаем F-меру, precision и recall\n",
    "    fscore = f1_score(y, predictions)\n",
    "    precision = precision_score(y, predictions)\n",
    "    recall = recall_score(y, predictions)\n",
    "    # Считаем Log loss\n",
    "    logLoss = log_loss(y, probabilities)\n",
    "    # Считаем roc auc score\n",
    "    rocAuc = roc_auc_score(y, probabilities)\n",
    "    return (precision,recall,fscore,logLoss,rocAuc)"
   ]
  },
  {
   "cell_type": "markdown",
   "metadata": {},
   "source": [
    "Посчитаем метрики качества и сведем их в одну таблицу"
   ]
  },
  {
   "cell_type": "code",
   "execution_count": 19,
   "metadata": {},
   "outputs": [
    {
     "data": {
      "text/html": [
       "<div>\n",
       "<style scoped>\n",
       "    .dataframe tbody tr th:only-of-type {\n",
       "        vertical-align: middle;\n",
       "    }\n",
       "\n",
       "    .dataframe tbody tr th {\n",
       "        vertical-align: top;\n",
       "    }\n",
       "\n",
       "    .dataframe thead th {\n",
       "        text-align: right;\n",
       "    }\n",
       "</style>\n",
       "<table border=\"1\" class=\"dataframe\">\n",
       "  <thead>\n",
       "    <tr style=\"text-align: right;\">\n",
       "      <th></th>\n",
       "      <th>Precision</th>\n",
       "      <th>Recall</th>\n",
       "      <th>F-Score</th>\n",
       "      <th>Log Loss</th>\n",
       "      <th>Roc Auc</th>\n",
       "    </tr>\n",
       "  </thead>\n",
       "  <tbody>\n",
       "    <tr>\n",
       "      <th>Ridge</th>\n",
       "      <td>0.333333</td>\n",
       "      <td>0.001441</td>\n",
       "      <td>0.002869</td>\n",
       "      <td>0.415168</td>\n",
       "      <td>0.656910</td>\n",
       "    </tr>\n",
       "    <tr>\n",
       "      <th>Random forest</th>\n",
       "      <td>0.500000</td>\n",
       "      <td>0.005755</td>\n",
       "      <td>0.011380</td>\n",
       "      <td>1.088255</td>\n",
       "      <td>0.577161</td>\n",
       "    </tr>\n",
       "    <tr>\n",
       "      <th>Gradient boosting</th>\n",
       "      <td>0.571429</td>\n",
       "      <td>0.017266</td>\n",
       "      <td>0.033520</td>\n",
       "      <td>0.240317</td>\n",
       "      <td>0.730621</td>\n",
       "    </tr>\n",
       "  </tbody>\n",
       "</table>\n",
       "</div>"
      ],
      "text/plain": [
       "                   Precision    Recall   F-Score  Log Loss   Roc Auc\n",
       "Ridge               0.333333  0.001441  0.002869  0.415168  0.656910\n",
       "Random forest       0.500000  0.005755  0.011380  1.088255  0.577161\n",
       "Gradient boosting   0.571429  0.017266  0.033520  0.240317  0.730621"
      ]
     },
     "execution_count": 19,
     "metadata": {},
     "output_type": "execute_result"
    }
   ],
   "source": [
    "score_table = pd.DataFrame(\n",
    "    [\n",
    "        calculate_metrics(ridge_one_hot, predict_ridge_proba),\n",
    "        calculate_metrics(random_forest_labeled, predict_model_proba),\n",
    "        calculate_metrics(gradient_boosting_labeled, predict_model_proba)\n",
    "    ],\n",
    "    index=[\"Ridge\", \"Random forest\", \"Gradient boosting\"],\n",
    "    columns=[\"Precision\", \"Recall\", \"F-Score\", \"Log Loss\", \"Roc Auc\"])\n",
    "score_table"
   ]
  },
  {
   "cell_type": "markdown",
   "metadata": {},
   "source": [
    "Из таблицы видно, что Ridge Classifier не безнадежен, если получится увеличить recall, то он, возможно, сможет показать результат, сравнимый с другими моделями.\n",
    "Также видно, что в основном плохие оценки получаются из-за низкого значения метрики recall. Значение метрики precision также оставляет желать лучшего, но все-таки значительно лучше, чем recall.\n",
    "\n",
    "## Графики\n",
    "\n",
    "Посмотрим, что происходит с моделями по графикам."
   ]
  },
  {
   "cell_type": "code",
   "execution_count": 20,
   "metadata": {},
   "outputs": [],
   "source": [
    "def transform_to_chart_model(label, model_with_data, predict_probabilities):\n",
    "    \"\"\" Функция принимает на вход заголовок, результат функции stratifiedKFold_fscore и функцию, считающую вероятности\n",
    "    и возвращает заголовок, вектор ответов и вектор вероятностей для построения графиков \"\"\"\n",
    "    model, X, y = get_model_data(model_with_data)\n",
    "    probabilities = predict_probabilities(X, model)\n",
    "    return (label, y, probabilities)\n",
    "\n",
    "def charts_row(model_charts, chart_builder, figsize=(11, 4)):\n",
    "    \"\"\" Функция принимает данные для построения графиков и логику построения одного графика и строит графики в одну строку \"\"\"\n",
    "    fig, axes = plt.subplots(\n",
    "        nrows=1,\n",
    "        ncols=len(model_charts),\n",
    "        figsize=figsize,\n",
    "        sharey=True)\n",
    "    for i, chart_data in enumerate(model_charts):\n",
    "        ax = axes[i]\n",
    "        chart_builder(chart_data, ax, i)\n",
    "    plt.show()\n",
    "    \n",
    "def scatter(chart_data, ax, ax_index, T=0.5):\n",
    "    \"\"\" Функция строит график распределения вероятностей по классам \"\"\"\n",
    "    label, actual, predicted = chart_data\n",
    "    ax.scatter(actual, predicted)\n",
    "    ax.set_xlabel(\"Labels\")\n",
    "    if ax_index == 0:\n",
    "        ax.set_ylabel(\"Predicted probabilities\")\n",
    "    ax.set_title(label)\n",
    "    ax.plot([-1.1, 1.2], [T, T])\n",
    "    ax.axis([-1.1, 1.1, -0.1, 1.1])\n",
    "    \n",
    "def precision_recal_thresh(chart_data, ax, ax_index):\n",
    "    \"\"\" Функция строит графики значений precision и recall в зависимости от порога \"\"\"\n",
    "    label, actual, predicted = chart_data\n",
    "    prec, rec, thresh = precision_recall_curve(actual, predicted)\n",
    "    min_len = min([len(prec),len(rec),len(thresh)])\n",
    "    ax.plot(thresh[:min_len], prec[:min_len], label=\"precision\")\n",
    "    ax.plot(thresh[:min_len], rec[:min_len], label=\"recall\")\n",
    "    ax.legend(loc=1)\n",
    "    ax.set_xlabel(\"threshold\")\n",
    "    ax.set_title(label)\n",
    "    \n",
    "def auc_prc(chart_data, ax, ax_index):\n",
    "    \"\"\" Функция строит график AUC PRC (зависимость precision от recall)\"\"\"\n",
    "    label, actual, predicted = chart_data\n",
    "    prec, rec, thresh = precision_recall_curve(actual, predicted)\n",
    "    min_len = min([len(prec),len(rec),len(thresh)])\n",
    "    ax.plot(rec[:min_len], prec[:min_len])\n",
    "    ax.set_xlabel(\"recall\")\n",
    "    if ax_index == 0:\n",
    "        ax.set_ylabel(\"precision\")\n",
    "    ax.set_title(label)\n",
    "\n",
    "def calc_min_distance (actual,predicted):\n",
    "    \"\"\" Функция считает минимальное расстояние до точки [0;1] для AUC ROC \"\"\"\n",
    "    fpr,tpr,thr = roc_curve(actual,predicted)\n",
    "    distance,fpr_v,tpr_v,thr_v = min(zip(np.sqrt((1.-tpr)**2+fpr**2),fpr,tpr,thr), key=lambda d:d[0])\n",
    "    return (distance,fpr_v,tpr_v,thr_v)\n",
    "    \n",
    "def auc_roc(chart_data, ax, ax_index):\n",
    "    \"\"\" Функция строит кривую AUC ROC и отмечает точку, соответствующую минимальному расстоянию до точки [0;1] \"\"\"\n",
    "    label, actual, predicted = chart_data\n",
    "    fpr, tpr, thr = roc_curve(actual, predicted)\n",
    "    min_dist,min_fpr,min_tpr,_ = calc_min_distance(actual, predicted)\n",
    "    ax.plot(fpr, tpr, label=\"ROC AUC curve\")\n",
    "    ax.scatter(min_fpr,min_tpr,color=\"red\")\n",
    "    ax.set_xlabel(\"false positive rate\")\n",
    "    if ax_index == 0:\n",
    "        ax.set_ylabel(\"true positive rate\")\n",
    "    ax.legend(loc=4)\n",
    "    ax.set_title(label)"
   ]
  },
  {
   "cell_type": "markdown",
   "metadata": {},
   "source": [
    "Подготовим модель для построения графиков"
   ]
  },
  {
   "cell_type": "code",
   "execution_count": 21,
   "metadata": {},
   "outputs": [],
   "source": [
    "chart_models = [transform_to_chart_model(t, m, pp) for t, m, pp in zip(\n",
    "    [\"Ridge One Hot\", \"Random forest labeled\", \"Gradient boosting labeled\"],\n",
    "    [ridge_one_hot, random_forest_labeled, gradient_boosting_labeled],\n",
    "    [predict_ridge_proba, lambda x, m: list(zip(*m.predict_proba(x)))[1], lambda x, m: list(zip(*m.predict_proba(x)))[1]]\n",
    ")]"
   ]
  },
  {
   "cell_type": "markdown",
   "metadata": {},
   "source": [
    "### Графики распределения вероятностей класса churn по реальным значениям меток классов"
   ]
  },
  {
   "cell_type": "code",
   "execution_count": 22,
   "metadata": {},
   "outputs": [
    {
     "data": {
      "image/png": "[encoded data removed]",
      "text/plain": [
       "<matplotlib.figure.Figure at 0x1a367209e48>"
      ]
     },
     "metadata": {},
     "output_type": "display_data"
    }
   ],
   "source": [
    "charts_row(chart_models, scatter)"
   ]
  },
  {
   "cell_type": "markdown",
   "metadata": {},
   "source": [
    "Из графиков видно, что вероятности классов находятся достаточно плотно друг к другу и для данных моделей настройка порога не сыграет большой роли в качестве решения.\n",
    "\n",
    "### Графики зафисимости precision и recall от значений порога"
   ]
  },
  {
   "cell_type": "code",
   "execution_count": 23,
   "metadata": {},
   "outputs": [
    {
     "data": {
      "image/png": "[encoded data removed]",
      "text/plain": [
       "<matplotlib.figure.Figure at 0x1a30001de10>"
      ]
     },
     "metadata": {},
     "output_type": "display_data"
    }
   ],
   "source": [
    "charts_row(chart_models, precision_recal_thresh)"
   ]
  },
  {
   "cell_type": "markdown",
   "metadata": {},
   "source": [
    "По данным графикам видно, что можно подобрать порог так, чтобы за счет precision увеличить recall. Существенно выиграть в качестве при этом пока не получится.\n",
    "\n",
    "### Кривые AUC ROC"
   ]
  },
  {
   "cell_type": "code",
   "execution_count": 24,
   "metadata": {},
   "outputs": [
    {
     "data": {
      "image/png": "[encoded data removed]",
      "text/plain": [
       "<matplotlib.figure.Figure at 0x1a300143898>"
      ]
     },
     "metadata": {},
     "output_type": "display_data"
    }
   ],
   "source": [
    "charts_row(chart_models, auc_roc)"
   ]
  },
  {
   "cell_type": "markdown",
   "metadata": {},
   "source": [
    "По кривым AUC ROC видно, что они проходят довольно далеко от точки \\[0;1\\], это означает, что качество моделей низкое. И простой подстройкой параметров не обойтись.\n",
    "\n",
    "### Кривые AUC PRC"
   ]
  },
  {
   "cell_type": "code",
   "execution_count": 25,
   "metadata": {},
   "outputs": [
    {
     "data": {
      "image/png": "[encoded data removed]",
      "text/plain": [
       "<matplotlib.figure.Figure at 0x1a3001439b0>"
      ]
     },
     "metadata": {},
     "output_type": "display_data"
    }
   ],
   "source": [
    "charts_row(chart_models, auc_prc)"
   ]
  },
  {
   "cell_type": "markdown",
   "metadata": {},
   "source": [
    "По графикам также видно, что общее качество моделей очень низкое (они проходят далеко от точки \\[1;1\\]\n",
    "\n",
    "## Вывод\n",
    "\n",
    "В этой работе я написал функции, обрабатывающие признаки для построения модели (масштабирование числовых признаков, кодирование категориальных признаков).\n",
    "Подготовил функции, позволяющие произвести оценку качества моделей по F-мере на кросс-валидации.\n",
    "Подготовил функции, позволяющие произвести дополнительную оценку качества модели и качество оценок принадлежности классу.\n",
    "Построил baseline модели и измерил их качество.\n",
    "\n",
    "Качество baseline моделей оказалось предсказуемо низким."
   ]
  },
  {
   "cell_type": "code",
   "execution_count": null,
   "metadata": {},
   "outputs": [],
   "source": []
  }
 ],
 "metadata": {
  "anaconda-cloud": {},
  "kernelspec": {
   "display_name": "Python [conda root]",
   "language": "python",
   "name": "conda-root-py"
  },
  "language_info": {
   "codemirror_mode": {
    "name": "ipython",
    "version": 3
   },
   "file_extension": ".py",
   "mimetype": "text/x-python",
   "name": "python",
   "nbconvert_exporter": "python",
   "pygments_lexer": "ipython3",
   "version": "3.5.4"
  }
 },
 "nbformat": 4,
 "nbformat_minor": 1
}
