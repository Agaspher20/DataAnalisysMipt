{
 "cells": [
  {
   "cell_type": "markdown",
   "metadata": {},
   "source": [
    "# Построение baseline-решений\n",
    "В этом задании вам предстоит построить несколько моделей и оценить их качество. Эти модели будут служить нам в качестве baseline-решений и пригодятся сразу для нескольких задач:\n",
    "1. Во-первых, на разработку baseline-модели не должно уходить много времени (это требование исходит из оценок затрат на проект в целом - большую часть времени все же нужно потратить на основное решение), процесс должен быть простым, на подавляющем большинстве этапов должны использоваться готовые протестированные инструменты. Все это приводит к тому, что baseline-модели - это дешевый способ сделать грубую оценку потенциально возможного качества модели, при построении которого вероятность допущения ошибок относительно невелика.\n",
    "2. Во-вторых, использование моделей разного типа при построении baseline'ов позволяет на раннем этапе сделать предположения о том, какие подходы являются наиболее перспективными и приоритизировать дальнейшие эксперименты.\n",
    "3. Наличие baseline-моделей позволяет оценить, какой прирост качества дают различные преобразования, усложнения, оптимизации и прочие активности, которые вы предпринимаете для построения финального решения.\n",
    "4. Наконец, если после построение сложного решения оценка его качества будет очень сильно отличаться от оценки качества baseline-моделей, то это будет хорошим поводом поискать в решении ошибки.\n",
    "\n",
    "Обучите 3 разные baseline-модели на полученных наборах данных и оцените их качество. На прошлой неделе вы выбрали методику оценки качества моделей на основе кросс-валидации, а также основную и вспомогательные метрики. Оцените с их помощью получившуюся модель. Обратите внимание, что под разными моделями понимаются именно разные алгоритмы классификации. Например, 2 модели, реализующие метод k ближайших соседей с разными k, будут считаться одним baseline-решением (хотя и с разными параметрами). Напоминаем, что отложенная выборка (hold-out dataset) не должна использоваться для построения и оценки baseline-моделей!\n",
    "\n",
    "Можно (но не обязательно) рассмотреть следующий набор алгоритмов:\n",
    "1. Линейная модель (например, реализация sklearn.linear_model.RidgeClassifier)\n",
    "2. Случайный лес (например, реализация sklearn.ensemble.RandomForestClassifier)\n",
    "3. Градиентный бустинг (например, реализация sklearn.ensemble.GradientBoostingClassifier)\n",
    "\n",
    "В качестве решения приложите получившийся jupyther notebook. Убедитесь, что в нем присутствуют:\n",
    "- все baseline-модели, которые вы построили;\n",
    "- качество всех построенных моделей оценено с помощью кросс-валидации, и это понятно из текста в jupyther notebook;\n",
    "- все модели оценены с помощью основной и дополнительных метрик качества."
   ]
  },
  {
   "cell_type": "code",
   "execution_count": 83,
   "metadata": {},
   "outputs": [],
   "source": [
    "import pandas as pd\n",
    "import random\n",
    "import numpy as np\n",
    "from sklearn.model_selection import StratifiedKFold\n",
    "from sklearn.preprocessing import LabelEncoder\n",
    "from sklearn.preprocessing import OneHotEncoder\n",
    "from sklearn.linear_model import RidgeClassifier\n",
    "from scipy.sparse import coo_matrix, hstack\n",
    "seed = 1903"
   ]
  },
  {
   "cell_type": "markdown",
   "metadata": {},
   "source": [
    "Загрузим train dataset, выделенный на предыдущей неделе"
   ]
  },
  {
   "cell_type": "code",
   "execution_count": 2,
   "metadata": {},
   "outputs": [
    {
     "name": "stdout",
     "output_type": "stream",
     "text": [
      "(27999, 230)\n",
      "(27999, 1)\n"
     ]
    }
   ],
   "source": [
    "churn_data_frame = pd.read_csv(\"..\\..\\Data\\churn_data_train.csv\", \",\")\n",
    "churn_labels_frame = pd.read_csv(\"..\\..\\Data\\churn_labels_train.csv\")\n",
    "print(churn_data_frame.shape)\n",
    "print(churn_labels_frame.shape)"
   ]
  },
  {
   "cell_type": "markdown",
   "metadata": {},
   "source": [
    "## Построение линейной baseline модели"
   ]
  },
  {
   "cell_type": "code",
   "execution_count": 3,
   "metadata": {},
   "outputs": [],
   "source": [
    "X_ridge = churn_data_frame.as_matrix()\n",
    "y_ridge = churn_labels_frame.as_matrix().flatten()\n",
    "categorial_columns_indices = range(190, 230-190)"
   ]
  },
  {
   "cell_type": "code",
   "execution_count": 6,
   "metadata": {},
   "outputs": [],
   "source": [
    "X_categorial = X_ridge[:, 190:]"
   ]
  },
  {
   "cell_type": "code",
   "execution_count": 77,
   "metadata": {},
   "outputs": [],
   "source": [
    "def one_hot_encode(X_categorial):\n",
    "    X_num = np.empty(X_categorial.shape)\n",
    "    for column_number in range(X_categorial.shape[1]):\n",
    "        labelEncoder = LabelEncoder()\n",
    "        column = X_categorial[:,column_number]\n",
    "        for idx, val in enumerate(column):\n",
    "            if(not(isinstance(val, str))):\n",
    "                column[idx] = \"NaV\"\n",
    "        num_column = labelEncoder.fit_transform(column)\n",
    "        for row_number, val in enumerate(num_column):\n",
    "            X_num[row_number, column_number] = val\n",
    "    one_hot = OneHotEncoder()\n",
    "    return one_hot.fit_transform(X_num)"
   ]
  },
  {
   "cell_type": "code",
   "execution_count": 85,
   "metadata": {},
   "outputs": [
    {
     "name": "stdout",
     "output_type": "stream",
     "text": [
      "(18665, 230) (18665, 190) (18665, 40) (18665, 40571)\n",
      "[[nan nan nan ..., nan 312.0 nan]\n",
      " [nan nan nan ..., nan nan nan]\n",
      " [nan nan nan ..., nan nan nan]\n",
      " ..., \n",
      " [nan nan nan ..., nan nan nan]\n",
      " [nan nan nan ..., nan nan nan]\n",
      " [nan nan nan ..., nan nan nan]]\n"
     ]
    }
   ],
   "source": [
    "skf = StratifiedKFold(n_splits=3, shuffle=True, random_state=1903)\n",
    "train_indices, test_indices = list(skf.split(X_ridge, y_ridge))[0]\n",
    "X_train = X_ridge[train_indices]\n",
    "X_test = X_ridge[test_indices]\n",
    "y_train = y_ridge[train_indices]\n",
    "y_test = y_ridge[test_indices]\n",
    "X_numeric = X_train[:,:190]\n",
    "X_categorial = X_train[:,190:]\n",
    "encoded = one_hot_encode(X_categorial)\n",
    "print(X_train.shape, X_numeric.shape, X_categorial.shape, encoded.shape)\n",
    "#hstack([coo_matrix(X_numeric), encoded])\n",
    "# ridge = RidgeClassifier()\n",
    "# ridge.fit(X_train, y_train)"
   ]
  },
  {
   "cell_type": "code",
   "execution_count": null,
   "metadata": {},
   "outputs": [],
   "source": [
    "# До обработки данных заполнить nan значения для категориальных и числовых признаков."
   ]
  }
 ],
 "metadata": {
  "anaconda-cloud": {},
  "kernelspec": {
   "display_name": "Python [conda root]",
   "language": "python",
   "name": "conda-root-py"
  },
  "language_info": {
   "codemirror_mode": {
    "name": "ipython",
    "version": 3
   },
   "file_extension": ".py",
   "mimetype": "text/x-python",
   "name": "python",
   "nbconvert_exporter": "python",
   "pygments_lexer": "ipython3",
   "version": "3.5.4"
  }
 },
 "nbformat": 4,
 "nbformat_minor": 1
}
