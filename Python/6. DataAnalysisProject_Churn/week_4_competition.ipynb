{
 "cells": [
  {
   "cell_type": "markdown",
   "metadata": {},
   "source": [
    "# Построение и оптимизация модели\n",
    "\n",
    "В этом задании вам предстоит поучаствовать в соревновании на [kaggle inclass](https://inclass.kaggle.com/c/telecom-clients-churn-prediction).\n",
    "В соревновании вы будете работать с той же выборкой, что и ранее, поэтому воспользуйтесь результатами, полученными на предыдущих неделях. Для успешного участия в соревновании необходимо преодолеть по качеству beseline решение.\n",
    "\n",
    "Итак, мы научились обрабатывать данные, выбрали схему кросс-валидации и определились с метриками качества. Пора переходить к оптимизации модели. На этой неделе вам предстоит принять участие в соревновании на платформе kaggle inclass! Цель такого соревнования - преодолеть предложенное baseline решение, а, главное, обсудить и сравнить предложенные решения на форуме. Какие признаки оказали наибольший вклад в модель? Как лучше обрабатывать категориальные признаки? Нужно ли делать отбор признаков, А балансировать выборку? Экспериментируйте с данными и обсуждайте ваши решения на форуме!"
   ]
  },
  {
   "cell_type": "code",
   "execution_count": 1,
   "metadata": {},
   "outputs": [],
   "source": [
    "import pandas as pd\n",
    "import random\n",
    "import numpy as np\n",
    "from scipy.sparse import coo_matrix, hstack\n",
    "from matplotlib import pyplot as plt\n",
    "from sklearn.model_selection import StratifiedKFold\n",
    "from sklearn.preprocessing import StandardScaler\n",
    "from sklearn.preprocessing import LabelEncoder\n",
    "from sklearn.preprocessing import OneHotEncoder\n",
    "\n",
    "from sklearn.metrics import roc_curve, precision_recall_curve, f1_score, roc_auc_score, recall_score, precision_score, log_loss\n",
    "\n",
    "from sklearn.linear_model import RidgeClassifier\n",
    "from sklearn.ensemble import RandomForestClassifier\n",
    "from sklearn.ensemble import GradientBoostingClassifier\n",
    "\n",
    "seed = 1903\n",
    "first_categorial_index = 190"
   ]
  },
  {
   "cell_type": "markdown",
   "metadata": {},
   "source": [
    "Загрузим train dataset."
   ]
  },
  {
   "cell_type": "code",
   "execution_count": 73,
   "metadata": {},
   "outputs": [
    {
     "name": "stdout",
     "output_type": "stream",
     "text": [
      "(27999, 230)\n",
      "(27999, 1)\n"
     ]
    }
   ],
   "source": [
    "churn_data_frame = pd.read_csv(\"..\\..\\Data\\churn_data_train.csv\", \",\")\n",
    "churn_labels_frame = pd.read_csv(\"..\\..\\Data\\churn_labels_train.csv\")\n",
    "y = churn_labels_frame.as_matrix().flatten()\n",
    "print(churn_data_frame.shape)\n",
    "print(churn_labels_frame.shape)"
   ]
  },
  {
   "cell_type": "markdown",
   "metadata": {},
   "source": [
    "## Общая предобработка признаков"
   ]
  },
  {
   "cell_type": "code",
   "execution_count": 62,
   "metadata": {},
   "outputs": [],
   "source": [
    "def scale_frame(frame):\n",
    "    \"\"\"Функция масштабирает frame на отрезок [0;1]\"\"\"\n",
    "    scaler = StandardScaler()\n",
    "    scaled_matrix = scaler.fit_transform(frame.as_matrix())\n",
    "    return pd.DataFrame(scaled_matrix, columns=frame.columns)\n",
    "\n",
    "def fill_numericna(frame, averageCalculator):\n",
    "    \"\"\" Функция заполняет значения в числовом фрейме значениями, посчитанными averageCalculator. \"\"\"\n",
    "    n_frame = frame\n",
    "    \n",
    "    # Посчитаем средние по колонкам\n",
    "    numeric_avgs = averageCalculator(n_frame)\n",
    "    # Оставим только те колонки, в которых среднее значение не равно NaN, т.к. в таких колонках совсем нет значений\n",
    "    numeric_avgs = numeric_avgs.dropna()\n",
    "    dropped_columns = n_frame.columns.drop(numeric_avgs.index)\n",
    "    n_frame = n_frame[list(numeric_avgs.index)]\n",
    "    # Заполним пропущенные численные значения средними\n",
    "    n_frame = n_frame.fillna(numeric_avgs, axis=0)\n",
    "    return (n_frame, dropped_columns)\n",
    "\n",
    "def fill_numericna_means(frame):\n",
    "    \"\"\" Функция заполняет значения в числовом фрейме средними и удаляет те колонки, в которых значений нет. \"\"\"\n",
    "    return fill_numericna(frame, lambda f: f.mean(axis=0, skipna=True))\n",
    "\n",
    "def fill_numericna_medians(frame):\n",
    "    \"\"\" Функция заполняет значения в числовом фрейме медианами и удаляет те колонки, в которых значений нет. \"\"\"\n",
    "    return fill_numericna(frame, lambda f: f.median(axis=0, skipna=True))\n",
    "    \n",
    "def remove_constant_features(frame):\n",
    "    \"\"\"Функция удаляет колонки, которые содержат только одно значение.\"\"\"\n",
    "    \n",
    "    # Посчитаем количества уникальных значений по колонкам\n",
    "    unique_counts = frame.nunique()\n",
    "    # Удалим колонки с одним уникальным значением\n",
    "    columns_to_drop = unique_counts[unique_counts <= 1].index\n",
    "    \n",
    "    return (frame.drop(columns=columns_to_drop), columns_to_drop)\n",
    "\n",
    "def fill_na_frequent_values(frame):\n",
    "    \"\"\" Функция заполняет пустые значения самым частым значением в колонке. \"\"\"\n",
    "    result = frame.copy()\n",
    "    for column in result.columns:\n",
    "        frequencies = result[column].value_counts()\n",
    "        if (len(frequencies) < 1):\n",
    "            continue\n",
    "        most_frequent_value = frequencies.index[0]\n",
    "        result[column] = result[column].fillna(most_frequent_value)\n",
    "    return result\n",
    "\n",
    "def label_encode(X_categorial):\n",
    "    \"\"\" Функция кодирует категории числами от 0 до n, где n количество категорий в колонке. \"\"\"\n",
    "    X_num = np.empty(X_categorial.shape)\n",
    "    for column_number in range(X_categorial.shape[1]):\n",
    "        labelEncoder = LabelEncoder()\n",
    "        column = X_categorial[:,column_number]\n",
    "        for idx, val in enumerate(column):\n",
    "            if(not(isinstance(val, str))):\n",
    "                column[idx] = \"NaV\"\n",
    "        num_column = labelEncoder.fit_transform(column)\n",
    "        for row_number, val in enumerate(num_column):\n",
    "            X_num[row_number, column_number] = val\n",
    "    return X_num"
   ]
  },
  {
   "cell_type": "markdown",
   "metadata": {},
   "source": [
    "Разделим коллекции на группы - числовые и категориальные."
   ]
  },
  {
   "cell_type": "code",
   "execution_count": 8,
   "metadata": {},
   "outputs": [],
   "source": [
    "numeric_columns = churn_data_frame.columns[:first_categorial_index]\n",
    "categorial_columns = churn_data_frame.columns[first_categorial_index:]\n",
    "\n",
    "numeric_frame = churn_data_frame[numeric_columns].copy()\n",
    "categorial_frame = churn_data_frame[categorial_columns].copy()"
   ]
  },
  {
   "cell_type": "markdown",
   "metadata": {},
   "source": [
    "Удалим вещественные колонки, содержащие одно и менее значений"
   ]
  },
  {
   "cell_type": "code",
   "execution_count": 9,
   "metadata": {},
   "outputs": [],
   "source": [
    "numeric_frame_no_const, dropped_const_numeric_columns = remove_constant_features(numeric_frame)"
   ]
  },
  {
   "cell_type": "markdown",
   "metadata": {},
   "source": [
    "Заполним пропущенные вещественные значения средними"
   ]
  },
  {
   "cell_type": "code",
   "execution_count": 14,
   "metadata": {},
   "outputs": [],
   "source": [
    "numeric_frame_means, dropped_na_numeric_columns = fill_numericna_means(numeric_frame_no_const)\n",
    "numeric_frame_medians, dropped_na_numeric_columns = fill_numericna_medians(numeric_frame_no_const)"
   ]
  },
  {
   "cell_type": "markdown",
   "metadata": {},
   "source": [
    "Заполним пропущенные категориальные значения строками \"NaV\" (Not a value)"
   ]
  },
  {
   "cell_type": "code",
   "execution_count": 49,
   "metadata": {},
   "outputs": [],
   "source": [
    "categorial_frame_nav = categorial_frame.fillna(\"NaV\")"
   ]
  },
  {
   "cell_type": "markdown",
   "metadata": {},
   "source": [
    "Заполним пропущенные категориальные значения самым частым значением в колонке"
   ]
  },
  {
   "cell_type": "code",
   "execution_count": 63,
   "metadata": {},
   "outputs": [],
   "source": [
    "categorial_frame_freq = fill_na_frequent_values(categorial_frame)"
   ]
  },
  {
   "cell_type": "markdown",
   "metadata": {},
   "source": [
    "Удалим категориальные колонки с одним единственным значением"
   ]
  },
  {
   "cell_type": "code",
   "execution_count": 64,
   "metadata": {},
   "outputs": [],
   "source": [
    "categorial_frame_nav_no_const, dropped_categorial_columns = remove_constant_features(categorial_frame_nav)\n",
    "categorial_frame_freq_no_const, dropped_categorial_freq_columns = remove_constant_features(categorial_frame_freq)"
   ]
  },
  {
   "cell_type": "markdown",
   "metadata": {},
   "source": [
    "Список удаленных колонок при заполнении категориальных значений значениями NaV"
   ]
  },
  {
   "cell_type": "code",
   "execution_count": 65,
   "metadata": {},
   "outputs": [
    {
     "name": "stdout",
     "output_type": "stream",
     "text": [
      "Var8, Var15, Var20, Var31, Var32, Var39, Var42, Var48, Var52, Var55, Var79, Var118, Var141, Var167, Var169, Var175, Var185, Var209, Var230\n"
     ]
    }
   ],
   "source": [
    "dropped_columns = np.concatenate([\n",
    "        list(dropped_const_numeric_columns),\n",
    "        list(dropped_na_numeric_columns),\n",
    "        list(dropped_categorial_columns)])\n",
    "print (\", \".join(dropped_columns))"
   ]
  },
  {
   "cell_type": "markdown",
   "metadata": {},
   "source": [
    "Список удаленных колонок при заполнении категориальных значений самым частым в колонке"
   ]
  },
  {
   "cell_type": "code",
   "execution_count": 66,
   "metadata": {},
   "outputs": [
    {
     "name": "stdout",
     "output_type": "stream",
     "text": [
      "Var8, Var15, Var20, Var31, Var32, Var39, Var42, Var48, Var52, Var55, Var79, Var118, Var141, Var167, Var169, Var175, Var185, Var191, Var209, Var213, Var215, Var224, Var230\n"
     ]
    }
   ],
   "source": [
    "dropped_columns = np.concatenate([\n",
    "        list(dropped_const_numeric_columns),\n",
    "        list(dropped_na_numeric_columns),\n",
    "        list(dropped_categorial_freq_columns)])\n",
    "print (\", \".join(dropped_columns))"
   ]
  },
  {
   "cell_type": "markdown",
   "metadata": {},
   "source": [
    "Закодируем категориальные признаки значениями от 0 до n. Это в любом случае понадобится, т.к. например OneHotEncoder принимает на вход целочисленную матрицу."
   ]
  },
  {
   "cell_type": "code",
   "execution_count": 70,
   "metadata": {},
   "outputs": [],
   "source": [
    "categorial_frame_nav_labeled = pd.DataFrame(\n",
    "    label_encode(categorial_frame_nav_no_const.as_matrix()),\n",
    "    columns=categorial_frame_nav_no_const.columns)\n",
    "categorial_frame_freq_labeled = pd.DataFrame(\n",
    "    label_encode(categorial_frame_freq_no_const.as_matrix()),\n",
    "    columns=categorial_frame_freq_no_const.columns)"
   ]
  },
  {
   "cell_type": "code",
   "execution_count": 72,
   "metadata": {},
   "outputs": [],
   "source": [
    "def stratifiedKFold_fscore(X, y, model_factory, seed, folds_count = 3):\n",
    "    \"\"\" Функция разбивает набор данных на folds_count, считает F-меру на каждом фолде и возвращает усредненное по фолдам значение. \"\"\"\n",
    "    skf = StratifiedKFold(n_splits=folds_count, shuffle=True, random_state=seed)\n",
    "    f_score_sum = 0\n",
    "    # Функция также возвращает модель, показавшую лучшее качество, её метрики и разделение данных\n",
    "    # Разделение данных нужно для того, чтобы строить метрики модели на данных, на которых она не обучалась.\n",
    "    best_model = None\n",
    "    best_score = 0\n",
    "    best_precision = 0\n",
    "    best_recall = 0\n",
    "    best_table = None\n",
    "    best_split = None\n",
    "    for train_indices, test_indices in skf.split(X, y):\n",
    "        X_train = X.tocsc()[train_indices]\n",
    "        X_test = X.tocsc()[test_indices]\n",
    "        y_train = y[train_indices]\n",
    "        y_test = y[test_indices]\n",
    "        model = model_factory()\n",
    "        # Обучим модель\n",
    "        model.fit(X_train, y_train)\n",
    "        # Построим предсказания для расчета оценки\n",
    "        y_predicted = model.predict(X_test)\n",
    "        fscore = f1_score(y_test, y_predicted)\n",
    "        if(best_model is None or best_score < fscore):\n",
    "            # В случае, если модель лучше предыдущих сохраним её\n",
    "            # оценку, модель, матрицу ошибок и разделение данных\n",
    "            best_score = fscore\n",
    "            best_model = model\n",
    "            best_split = (X_train, y_train, X_test, y_test)\n",
    "        f_score_sum += fscore    \n",
    "    return (\n",
    "        float(f_score_sum)/float(folds_count),\n",
    "        best_model,\n",
    "        best_score,\n",
    "        best_split)\n",
    "\n",
    "def predict_ridge_proba(X, model):\n",
    "    \"\"\" Функция возвращает вероятности предсказаний для класса churn модель Ridge \"\"\"\n",
    "    # Поскольку RidgeClassifier не обладает функцией predict_proba приходится считать его вручную\n",
    "    # Подробнее можно посмотреть здесь:\n",
    "    # https://www.codesd.com/item/scikit-learn-ridge-classifier-extract-class-probabilities.html\n",
    "    func = model.decision_function(X)\n",
    "    return np.exp(func) / (1 + np.exp(func))\n",
    "\n",
    "def predict_model_proba(X, model):\n",
    "    \"\"\" Функция возвращает вероятности предсказаний для класса churn \"\"\"\n",
    "    return list(zip(*model.predict_proba(X)))[1]\n",
    "\n",
    "def get_model_data(model_with_data):\n",
    "    \"\"\" Функция принимает на вход результат stratifiedKFold_fscore и возвращает только модель и её X_test и y_test \"\"\"\n",
    "    model = model_with_data[1]\n",
    "    split = model_with_data[3]\n",
    "    X = split[2]\n",
    "    y = split[3]\n",
    "    return (model,X,y)\n",
    "\n",
    "def calculate_metrics(model_with_data, predict_probabilities):\n",
    "    \"\"\" Посчитаем метрики качества для модели \"\"\"\n",
    "    model, X, y = get_model_data(model_with_data)\n",
    "    predictions = model.predict(X)\n",
    "    probabilities = predict_probabilities(X, model)\n",
    "    # Считаем F-меру, precision и recall\n",
    "    fscore = f1_score(y, predictions)\n",
    "    precision = precision_score(y, predictions)\n",
    "    recall = recall_score(y, predictions)\n",
    "    # Считаем Log loss\n",
    "    logLoss = log_loss(y, probabilities)\n",
    "    # Считаем roc auc score\n",
    "    rocAuc = roc_auc_score(y, probabilities)\n",
    "    return (precision,recall,fscore,logLoss,rocAuc)\n",
    "\n",
    "def transform_to_chart_model(label, model_with_data, predict_probabilities):\n",
    "    \"\"\" Функция принимает на вход заголовок, результат функции stratifiedKFold_fscore и функцию, считающую вероятности\n",
    "    и возвращает заголовок, вектор ответов и вектор вероятностей для построения графиков \"\"\"\n",
    "    model, X, y = get_model_data(model_with_data)\n",
    "    probabilities = predict_probabilities(X, model)\n",
    "    return (label, y, probabilities)\n",
    "\n",
    "def charts_row(model_charts, chart_builder, figsize=(11, 4)):\n",
    "    \"\"\" Функция принимает данные для построения графиков и логику построения одного графика и строит графики в одну строку \"\"\"\n",
    "    fig, axes = plt.subplots(\n",
    "        nrows=1,\n",
    "        ncols=len(model_charts),\n",
    "        figsize=figsize,\n",
    "        sharey=True)\n",
    "    for i, chart_data in enumerate(model_charts):\n",
    "        ax = axes[i]\n",
    "        chart_builder(chart_data, ax, i)\n",
    "    plt.show()\n",
    "    \n",
    "def scatter(chart_data, ax, ax_index, T=0.5):\n",
    "    \"\"\" Функция строит график распределения вероятностей по классам \"\"\"\n",
    "    label, actual, predicted = chart_data\n",
    "    ax.scatter(actual, predicted)\n",
    "    ax.set_xlabel(\"Labels\")\n",
    "    if ax_index == 0:\n",
    "        ax.set_ylabel(\"Predicted probabilities\")\n",
    "    ax.set_title(label)\n",
    "    ax.plot([-1.1, 1.2], [T, T])\n",
    "    ax.axis([-1.1, 1.1, -0.1, 1.1])\n",
    "    \n",
    "def precision_recal_thresh(chart_data, ax, ax_index):\n",
    "    \"\"\" Функция строит графики значений precision и recall в зависимости от порога \"\"\"\n",
    "    label, actual, predicted = chart_data\n",
    "    prec, rec, thresh = precision_recall_curve(actual, predicted)\n",
    "    min_len = min([len(prec),len(rec),len(thresh)])\n",
    "    ax.plot(thresh[:min_len], prec[:min_len], label=\"precision\")\n",
    "    ax.plot(thresh[:min_len], rec[:min_len], label=\"recall\")\n",
    "    ax.legend(loc=1)\n",
    "    ax.set_xlabel(\"threshold\")\n",
    "    ax.set_title(label)\n",
    "    \n",
    "def auc_prc(chart_data, ax, ax_index):\n",
    "    \"\"\" Функция строит график AUC PRC (зависимость precision от recall)\"\"\"\n",
    "    label, actual, predicted = chart_data\n",
    "    prec, rec, thresh = precision_recall_curve(actual, predicted)\n",
    "    min_len = min([len(prec),len(rec),len(thresh)])\n",
    "    ax.plot(rec[:min_len], prec[:min_len])\n",
    "    ax.set_xlabel(\"recall\")\n",
    "    if ax_index == 0:\n",
    "        ax.set_ylabel(\"precision\")\n",
    "    ax.set_title(label)\n",
    "\n",
    "def calc_min_distance (actual,predicted):\n",
    "    \"\"\" Функция считает минимальное расстояние до точки [0;1] для AUC ROC \"\"\"\n",
    "    fpr,tpr,thr = roc_curve(actual,predicted)\n",
    "    distance,fpr_v,tpr_v,thr_v = min(zip(np.sqrt((1.-tpr)**2+fpr**2),fpr,tpr,thr), key=lambda d:d[0])\n",
    "    return (distance,fpr_v,tpr_v,thr_v)\n",
    "    \n",
    "def auc_roc(chart_data, ax, ax_index):\n",
    "    \"\"\" Функция строит кривую AUC ROC и отмечает точку, соответствующую минимальному расстоянию до точки [0;1] \"\"\"\n",
    "    label, actual, predicted = chart_data\n",
    "    fpr, tpr, thr = roc_curve(actual, predicted)\n",
    "    min_dist,min_fpr,min_tpr,_ = calc_min_distance(actual, predicted)\n",
    "    ax.plot(fpr, tpr, label=\"ROC AUC curve\")\n",
    "    ax.scatter(min_fpr,min_tpr,color=\"red\")\n",
    "    ax.set_xlabel(\"false positive rate\")\n",
    "    if ax_index == 0:\n",
    "        ax.set_ylabel(\"true positive rate\")\n",
    "    ax.legend(loc=4)\n",
    "    ax.set_title(label)"
   ]
  },
  {
   "cell_type": "markdown",
   "metadata": {},
   "source": [
    "## Масштабировать или нет\n",
    "\n",
    "Возьмем только вещественные признаки и обучим на них модель. Потом масштабируем их и повторно обучим модель. Сравним результаты и решим, что лучше, - масштабировать признаки или нет."
   ]
  },
  {
   "cell_type": "code",
   "execution_count": 77,
   "metadata": {},
   "outputs": [],
   "source": [
    "numeric_frame_means_scaled = scale_frame(numeric_frame_means)\n",
    "X_numeric_means = coo_matrix(numeric_frame_means.as_matrix())\n",
    "X_numeric_means_scaled = coo_matrix(numeric_frame_means_scaled.as_matrix())"
   ]
  },
  {
   "cell_type": "markdown",
   "metadata": {},
   "source": [
    "Ridge"
   ]
  },
  {
   "cell_type": "code",
   "execution_count": 78,
   "metadata": {},
   "outputs": [
    {
     "name": "stderr",
     "output_type": "stream",
     "text": [
      "C:\\Program Files\\Anaconda3\\lib\\site-packages\\sklearn\\metrics\\classification.py:1135: UndefinedMetricWarning: F-score is ill-defined and being set to 0.0 due to no predicted samples.\n",
      "  'precision', 'predicted', average, warn_for)\n"
     ]
    },
    {
     "name": "stdout",
     "output_type": "stream",
     "text": [
      "0.0 0.0\n"
     ]
    }
   ],
   "source": [
    "numeric_only_r = stratifiedKFold_fscore(X_numeric_means, y, RidgeClassifier, seed)\n",
    "numeric_only_scaled_r = stratifiedKFold_fscore(X_numeric_means_scaled, y, RidgeClassifier, seed)\n",
    "print (numeric_only_r[0], numeric_only_scaled_r[0])"
   ]
  },
  {
   "cell_type": "code",
   "execution_count": 89,
   "metadata": {},
   "outputs": [
    {
     "ename": "NameError",
     "evalue": "name 'numeric_only_r' is not defined",
     "output_type": "error",
     "traceback": [
      "\u001b[1;31m---------------------------------------------------------------------------\u001b[0m",
      "\u001b[1;31mNameError\u001b[0m                                 Traceback (most recent call last)",
      "\u001b[1;32m<ipython-input-89-b8edfb5b8e94>\u001b[0m in \u001b[0;36m<module>\u001b[1;34m()\u001b[0m\n\u001b[0;32m      1\u001b[0m pd.DataFrame(\n\u001b[0;32m      2\u001b[0m     [\n\u001b[1;32m----> 3\u001b[1;33m         \u001b[1;33m[\u001b[0m\u001b[0mnumeric_only_r\u001b[0m\u001b[1;33m[\u001b[0m\u001b[1;36m0\u001b[0m\u001b[1;33m]\u001b[0m\u001b[1;33m,\u001b[0m \u001b[0mnumeric_only_r\u001b[0m\u001b[1;33m[\u001b[0m\u001b[1;36m2\u001b[0m\u001b[1;33m]\u001b[0m\u001b[1;33m]\u001b[0m\u001b[1;33m,\u001b[0m\u001b[1;33m\u001b[0m\u001b[0m\n\u001b[0m\u001b[0;32m      4\u001b[0m         \u001b[1;33m[\u001b[0m\u001b[0mnumeric_only_scaled_r\u001b[0m\u001b[1;33m[\u001b[0m\u001b[1;36m0\u001b[0m\u001b[1;33m]\u001b[0m\u001b[1;33m,\u001b[0m \u001b[0mnumeric_only_scaled_r\u001b[0m\u001b[1;33m[\u001b[0m\u001b[1;36m2\u001b[0m\u001b[1;33m]\u001b[0m\u001b[1;33m]\u001b[0m\u001b[1;33m\u001b[0m\u001b[0m\n\u001b[0;32m      5\u001b[0m     ],\n",
      "\u001b[1;31mNameError\u001b[0m: name 'numeric_only_r' is not defined"
     ]
    }
   ],
   "source": [
    "pd.DataFrame(\n",
    "    [\n",
    "        [numeric_only_r[0], numeric_only_r[2]],\n",
    "        [numeric_only_scaled_r[0], numeric_only_scaled_r[2]]\n",
    "    ],\n",
    "    index=[\"Raw\", \"Scaled\"],\n",
    "    columns=[\"Mean\", \"Best\"])"
   ]
  },
  {
   "cell_type": "markdown",
   "metadata": {},
   "source": [
    "Random Forest"
   ]
  },
  {
   "cell_type": "code",
   "execution_count": 81,
   "metadata": {},
   "outputs": [
    {
     "name": "stdout",
     "output_type": "stream",
     "text": [
      "0.009392905677122332 0.00753037912289381\n"
     ]
    }
   ],
   "source": [
    "numeric_only_f = stratifiedKFold_fscore(X_numeric_means, y, RandomForestClassifier, seed)\n",
    "numeric_only_scaled_f = stratifiedKFold_fscore(X_numeric_means_scaled, y, RandomForestClassifier, seed)\n",
    "print (numeric_only_f[0], numeric_only_scaled_f[0])"
   ]
  },
  {
   "cell_type": "code",
   "execution_count": 87,
   "metadata": {},
   "outputs": [
    {
     "data": {
      "text/html": [
       "<div>\n",
       "<style scoped>\n",
       "    .dataframe tbody tr th:only-of-type {\n",
       "        vertical-align: middle;\n",
       "    }\n",
       "\n",
       "    .dataframe tbody tr th {\n",
       "        vertical-align: top;\n",
       "    }\n",
       "\n",
       "    .dataframe thead th {\n",
       "        text-align: right;\n",
       "    }\n",
       "</style>\n",
       "<table border=\"1\" class=\"dataframe\">\n",
       "  <thead>\n",
       "    <tr style=\"text-align: right;\">\n",
       "      <th></th>\n",
       "      <th>Mean</th>\n",
       "      <th>Best</th>\n",
       "    </tr>\n",
       "  </thead>\n",
       "  <tbody>\n",
       "    <tr>\n",
       "      <th>Raw</th>\n",
       "      <td>0.009393</td>\n",
       "      <td>0.016807</td>\n",
       "    </tr>\n",
       "    <tr>\n",
       "      <th>Scaled</th>\n",
       "      <td>0.007530</td>\n",
       "      <td>0.008499</td>\n",
       "    </tr>\n",
       "  </tbody>\n",
       "</table>\n",
       "</div>"
      ],
      "text/plain": [
       "            Mean      Best\n",
       "Raw     0.009393  0.016807\n",
       "Scaled  0.007530  0.008499"
      ]
     },
     "execution_count": 87,
     "metadata": {},
     "output_type": "execute_result"
    }
   ],
   "source": [
    "pd.DataFrame(\n",
    "    [\n",
    "        [numeric_only_f[0], numeric_only_f[2]],\n",
    "        [numeric_only_scaled_f[0], numeric_only_scaled_f[2]]\n",
    "    ],\n",
    "    index=[\"Raw\", \"Scaled\"],\n",
    "    columns=[\"Mean\", \"Best\"])"
   ]
  },
  {
   "cell_type": "code",
   "execution_count": 88,
   "metadata": {},
   "outputs": [
    {
     "data": {
      "text/html": [
       "<div>\n",
       "<style scoped>\n",
       "    .dataframe tbody tr th:only-of-type {\n",
       "        vertical-align: middle;\n",
       "    }\n",
       "\n",
       "    .dataframe tbody tr th {\n",
       "        vertical-align: top;\n",
       "    }\n",
       "\n",
       "    .dataframe thead th {\n",
       "        text-align: right;\n",
       "    }\n",
       "</style>\n",
       "<table border=\"1\" class=\"dataframe\">\n",
       "  <thead>\n",
       "    <tr style=\"text-align: right;\">\n",
       "      <th></th>\n",
       "      <th>Precision</th>\n",
       "      <th>Recall</th>\n",
       "      <th>F-Score</th>\n",
       "      <th>Log Loss</th>\n",
       "      <th>Roc Auc</th>\n",
       "    </tr>\n",
       "  </thead>\n",
       "  <tbody>\n",
       "    <tr>\n",
       "      <th>Raw</th>\n",
       "      <td>0.315789</td>\n",
       "      <td>0.008633</td>\n",
       "      <td>0.016807</td>\n",
       "      <td>1.031994</td>\n",
       "      <td>0.587095</td>\n",
       "    </tr>\n",
       "    <tr>\n",
       "      <th>Scaled</th>\n",
       "      <td>0.250000</td>\n",
       "      <td>0.004323</td>\n",
       "      <td>0.008499</td>\n",
       "      <td>1.076561</td>\n",
       "      <td>0.588422</td>\n",
       "    </tr>\n",
       "  </tbody>\n",
       "</table>\n",
       "</div>"
      ],
      "text/plain": [
       "        Precision    Recall   F-Score  Log Loss   Roc Auc\n",
       "Raw      0.315789  0.008633  0.016807  1.031994  0.587095\n",
       "Scaled   0.250000  0.004323  0.008499  1.076561  0.588422"
      ]
     },
     "execution_count": 88,
     "metadata": {},
     "output_type": "execute_result"
    }
   ],
   "source": [
    "pd.DataFrame(\n",
    "    [\n",
    "        calculate_metrics(numeric_only_f, predict_model_proba),\n",
    "        calculate_metrics(numeric_only_scaled_f, predict_model_proba)\n",
    "    ],\n",
    "    index=[\"Raw\", \"Scaled\"],\n",
    "    columns=[\"Precision\", \"Recall\", \"F-Score\", \"Log Loss\", \"Roc Auc\"])"
   ]
  },
  {
   "cell_type": "code",
   "execution_count": 91,
   "metadata": {},
   "outputs": [
    {
     "data": {
      "image/png": "[encoded data removed]",
      "text/plain": [
       "<matplotlib.figure.Figure at 0x1ea801b37b8>"
      ]
     },
     "metadata": {},
     "output_type": "display_data"
    },
    {
     "data": {
      "image/png": "[encoded data removed]",
      "text/plain": [
       "<matplotlib.figure.Figure at 0x1ea80251e80>"
      ]
     },
     "metadata": {},
     "output_type": "display_data"
    },
    {
     "data": {
      "image/png": "[encoded data removed]",
      "text/plain": [
       "<matplotlib.figure.Figure at 0x1ea80928470>"
      ]
     },
     "metadata": {},
     "output_type": "display_data"
    },
    {
     "data": {
      "image/png": "[encoded data removed]",
      "text/plain": [
       "<matplotlib.figure.Figure at 0x1ea80a0e780>"
      ]
     },
     "metadata": {},
     "output_type": "display_data"
    }
   ],
   "source": [
    "chart_models = [transform_to_chart_model(t, m, pp) for t, m, pp in zip(\n",
    "    [\"Raw\", \"Scaled\"],\n",
    "    [numeric_only_f, numeric_only_scaled_f],\n",
    "    [predict_model_proba, predict_model_proba]\n",
    ")]\n",
    "charts_row(chart_models, scatter)\n",
    "charts_row(chart_models, precision_recal_thresh)\n",
    "charts_row(chart_models, auc_roc)\n",
    "charts_row(chart_models, auc_prc)"
   ]
  },
  {
   "cell_type": "code",
   "execution_count": 92,
   "metadata": {},
   "outputs": [],
   "source": [
    "# Написать функцию, сравнивающую два подхода\n",
    "# Масштабировать\n",
    "# Oversampling/Undersampling/No sampling\n",
    "# Удалить признаки не коррелирующие с целевой переменной или добавлять по одному признаку по убыванию корреляции,\n",
    "#   пока растет качество.\n",
    "# Удалить признаки сильно коррелирующие друг с другом или удалять по одному, пока растет качество.\n",
    "# Автоматический отсев признаков\n",
    "\n",
    "# Для линейной модели попробовать бинаризацию вместо OneHot\n",
    "# Для остальных попробовать бинаризацию вместо Labeled\n",
    "# Попробовать другие способы работы с категориальными признаками\n",
    "\n",
    "# Поискать скоррелированные значения между категориальными и численными признаками"
   ]
  },
  {
   "cell_type": "code",
   "execution_count": null,
   "metadata": {},
   "outputs": [],
   "source": []
  }
 ],
 "metadata": {
  "kernelspec": {
   "display_name": "Python [conda root]",
   "language": "python",
   "name": "conda-root-py"
  },
  "language_info": {
   "codemirror_mode": {
    "name": "ipython",
    "version": 3
   },
   "file_extension": ".py",
   "mimetype": "text/x-python",
   "name": "python",
   "nbconvert_exporter": "python",
   "pygments_lexer": "ipython3",
   "version": "3.5.4"
  }
 },
 "nbformat": 4,
 "nbformat_minor": 2
}
