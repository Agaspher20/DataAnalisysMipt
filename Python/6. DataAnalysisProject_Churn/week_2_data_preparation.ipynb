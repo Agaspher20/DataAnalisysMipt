{
 "cells": [
  {
   "cell_type": "markdown",
   "metadata": {
    "collapsed": true
   },
   "source": [
    "# Peer-graded Assignment: Подготовка данных для построения модели\n",
    "## Разбиение данных\n",
    "Начнем с простого, но важного шага. Отделите небольшую выборку от существующих данных. Назовем её hold-out dataset. Эта выборка нужна для контроля качества решения: она не должна использоваться вплоть до контроля качества решения. Наличие такой выборки поможет убедиться, что в процессе моделирования не было допущено ошибок, не произошло переобучение. В качестве ответа загрузите полученный файл (или файлы, если вы работаете а данными и метками как с 2мя файлами)"
   ]
  },
  {
   "cell_type": "code",
   "execution_count": 1,
   "metadata": {},
   "outputs": [],
   "source": [
    "import pandas as pd\n",
    "import random\n",
    "from sklearn.utils import shuffle\n",
    "from sklearn.cross_validation import train_test_split\n",
    "from matplotlib import pyplot as plt"
   ]
  },
  {
   "cell_type": "markdown",
   "metadata": {},
   "source": [
    "Сгенерируем и зафиксируем случайное число, которое в дальнейшем будем использовать как seed"
   ]
  },
  {
   "cell_type": "code",
   "execution_count": 2,
   "metadata": {},
   "outputs": [
    {
     "data": {
      "text/plain": [
       "1903"
      ]
     },
     "execution_count": 2,
     "metadata": {},
     "output_type": "execute_result"
    }
   ],
   "source": [
    "# seed = random.randint(0, 10000)\n",
    "seed = 1903\n",
    "seed"
   ]
  },
  {
   "cell_type": "markdown",
   "metadata": {},
   "source": [
    "Загрузим выборку"
   ]
  },
  {
   "cell_type": "code",
   "execution_count": 3,
   "metadata": {},
   "outputs": [
    {
     "name": "stdout",
     "output_type": "stream",
     "text": [
      "(40000, 230)\n",
      "(40000, 1)\n"
     ]
    }
   ],
   "source": [
    "churn_data_frame = pd.read_csv(\"..\\..\\Data\\orange_small_churn_data.train\", \",\")\n",
    "labels_frame = pd.read_csv(\"..\\..\\Data\\orange_small_churn_labels.train\", header=None)\n",
    "\n",
    "print(churn_data_frame.shape)\n",
    "print(labels_frame.shape)"
   ]
  },
  {
   "cell_type": "markdown",
   "metadata": {},
   "source": [
    "Разделим фрейм на два. В одном фрейме будут лежать данные класса \"отток\", а в другом класса \"не отток\""
   ]
  },
  {
   "cell_type": "code",
   "execution_count": 4,
   "metadata": {},
   "outputs": [
    {
     "name": "stdout",
     "output_type": "stream",
     "text": [
      "(2976, 230) (37024, 230) (2976, 1) (37024, 1)\n"
     ]
    }
   ],
   "source": [
    "churn_indices = list(labels_frame[labels_frame[0] == 1].index)\n",
    "not_churn_indices = list(labels_frame[labels_frame[0] == -1].index)\n",
    "\n",
    "churn_frame = churn_data_frame.loc[churn_indices, :]\n",
    "not_churn_frame = churn_data_frame.loc[not_churn_indices, :]\n",
    "\n",
    "churn_labels = labels_frame.loc[churn_indices, :]\n",
    "not_churn_labels = labels_frame.loc[not_churn_indices, :]\n",
    "\n",
    "print (churn_frame.shape, not_churn_frame.shape, churn_labels.shape, not_churn_labels.shape)"
   ]
  },
  {
   "cell_type": "markdown",
   "metadata": {},
   "source": [
    "Теперь возьмем по 30% из выборки класса \"отток\" и 30% из выборки класса \"не отток\", чтобы сохранить соотношение классов в тренировочной и тестовой выборках"
   ]
  },
  {
   "cell_type": "code",
   "execution_count": 5,
   "metadata": {},
   "outputs": [
    {
     "name": "stdout",
     "output_type": "stream",
     "text": [
      "(2083, 230) (893, 230) 2976 (2083, 1) (893, 1) 2976\n",
      "(25916, 230) (11108, 230) 37024 (25916, 1) (11108, 1) 37024\n"
     ]
    }
   ],
   "source": [
    "test_proportion = 0.3\n",
    "(churn_train_data,\n",
    " churn_test_data,\n",
    " churn_train_labels,\n",
    " churn_test_labels) = train_test_split(\n",
    "    churn_frame,\n",
    "    churn_labels,\n",
    "    test_size=test_proportion,\n",
    "    random_state=seed)\n",
    "\n",
    "(not_churn_train_data,\n",
    " not_churn_test_data,\n",
    " not_churn_train_labels,\n",
    " not_churn_test_labels) = train_test_split(\n",
    "    not_churn_frame,\n",
    "    not_churn_labels,\n",
    "    test_size=test_proportion,\n",
    "    random_state=seed)\n",
    "\n",
    "# Проверим, что количество данных осталось тем же\n",
    "print (churn_train_data.shape,\n",
    "       churn_test_data.shape,\n",
    "       churn_train_data.shape[0] + churn_test_data.shape[0],\n",
    "       churn_train_labels.shape,\n",
    "       churn_test_labels.shape,\n",
    "       churn_train_labels.shape[0] + churn_test_labels.shape[0])\n",
    "print (not_churn_train_data.shape,\n",
    "       not_churn_test_data.shape,\n",
    "       not_churn_train_data.shape[0] + not_churn_test_data.shape[0],\n",
    "       not_churn_train_labels.shape,\n",
    "       not_churn_test_labels.shape,\n",
    "       not_churn_train_labels.shape[0] + not_churn_test_labels.shape[0])"
   ]
  },
  {
   "cell_type": "markdown",
   "metadata": {},
   "source": [
    "Теперь объединим данные в два датасета train и test"
   ]
  },
  {
   "cell_type": "code",
   "execution_count": 6,
   "metadata": {},
   "outputs": [],
   "source": [
    "def concatenate_classes(churn_data, not_churn_data, churn_labels, not_churn_labels):\n",
    "    train_data = pd.concat([churn_data, not_churn_data], axis = 0, ignore_index=True)\n",
    "    train_labels = pd.concat([churn_labels, not_churn_labels], axis = 0, ignore_index=True)\n",
    "    train_data[\"labels\"] = train_labels.as_matrix()\n",
    "    return train_data"
   ]
  },
  {
   "cell_type": "code",
   "execution_count": 7,
   "metadata": {},
   "outputs": [
    {
     "name": "stdout",
     "output_type": "stream",
     "text": [
      "(27999, 231) (12001, 231) (40000, 231, 231) (40000, 230)\n"
     ]
    }
   ],
   "source": [
    "train_data = concatenate_classes(\n",
    "    churn_train_data,\n",
    "    not_churn_train_data,\n",
    "    churn_train_labels,\n",
    "    not_churn_train_labels)\n",
    "\n",
    "test_data = concatenate_classes(\n",
    "    churn_test_data,\n",
    "    not_churn_test_data,\n",
    "    churn_test_labels,\n",
    "    not_churn_test_labels)\n",
    "\n",
    "# Проверим, что размерность данных сохранена\n",
    "print (train_data.shape,\n",
    "       test_data.shape,\n",
    "       (train_data.shape[0] + test_data.shape[0], train_data.shape[1], test_data.shape[1]),\n",
    "       churn_data_frame.shape)"
   ]
  },
  {
   "cell_type": "markdown",
   "metadata": {},
   "source": [
    "Перемешаем наборы данных, чтобы классы не были разделены заранее внутри датасетов"
   ]
  },
  {
   "cell_type": "code",
   "execution_count": 8,
   "metadata": {},
   "outputs": [],
   "source": [
    "train_data = pd.DataFrame(shuffle(train_data.as_matrix(), random_state=seed), columns = train_data.columns)\n",
    "test_data = pd.DataFrame(shuffle(test_data.as_matrix(), random_state=seed), columns = test_data.columns)"
   ]
  },
  {
   "cell_type": "code",
   "execution_count": 9,
   "metadata": {},
   "outputs": [
    {
     "name": "stdout",
     "output_type": "stream",
     "text": [
      "(27999, 230) (12001, 230) (27999, 1) (12001, 1) (40000, 231, 231) (40000, 230)\n"
     ]
    }
   ],
   "source": [
    "train_result_labels = pd.DataFrame(train_data[\"labels\"])\n",
    "train_result_data = train_data.drop(\"labels\", axis=1)\n",
    "\n",
    "test_result_labels = pd.DataFrame(test_data[\"labels\"])\n",
    "test_result_data = test_data.drop(\"labels\", axis=1)\n",
    "\n",
    "# Проверим, что размерность данных сохранена\n",
    "print (train_result_data.shape,\n",
    "       test_result_data.shape,\n",
    "       train_result_labels.shape,\n",
    "       test_result_labels.shape,\n",
    "       (train_data.shape[0] + test_data.shape[0], train_data.shape[1], test_data.shape[1]),\n",
    "       churn_data_frame.shape)"
   ]
  },
  {
   "cell_type": "markdown",
   "metadata": {},
   "source": [
    "Проверим, что пропорции в данных сохранились до и после разделения"
   ]
  },
  {
   "cell_type": "code",
   "execution_count": 10,
   "metadata": {},
   "outputs": [],
   "source": [
    "def show_proportion_data(frame, column, label):\n",
    "    proportion_plot = frame.plot(\n",
    "        kind=\"hist\",\n",
    "        title=\"Labels proportion\",\n",
    "        figsize=(2,3),\n",
    "        legend=False)\n",
    "    proportion_plot.set_xlabel(\"Label value\")\n",
    "    proportion_plot.set_ylabel(\"Label frequency\")\n",
    "    not_churn_proportion = float(frame[frame[column] == -1].shape[0])/float(frame.shape[0])\n",
    "    churn_proportion = float(frame[frame[column] == 1].shape[0])/float(frame.shape[0])\n",
    "    print (\"Доля ответов класса \\\"отток\\\": %.4f%%\\nДоля ответов класса \\\"не отток\\\": %.4f%%\\nКласса \\\"отток\\\" меньше в %.4f раз\" % (churn_proportion, not_churn_proportion, not_churn_proportion/churn_proportion))\n",
    "    plt.show()"
   ]
  },
  {
   "cell_type": "code",
   "execution_count": 11,
   "metadata": {},
   "outputs": [
    {
     "name": "stdout",
     "output_type": "stream",
     "text": [
      "Доля ответов класса \"отток\": 0.0744%\n",
      "Доля ответов класса \"не отток\": 0.9256%\n",
      "Класса \"отток\" меньше в 12.4409 раз\n"
     ]
    },
    {
     "data": {
      "image/png": "[encoded data removed]",
      "text/plain": [
       "<matplotlib.figure.Figure at 0x1cfeb0a6cf8>"
      ]
     },
     "metadata": {},
     "output_type": "display_data"
    },
    {
     "name": "stdout",
     "output_type": "stream",
     "text": [
      "Доля ответов класса \"отток\": 0.0744%\n",
      "Доля ответов класса \"не отток\": 0.9256%\n",
      "Класса \"отток\" меньше в 12.4417 раз\n"
     ]
    },
    {
     "data": {
      "image/png": "[encoded data removed]",
      "text/plain": [
       "<matplotlib.figure.Figure at 0x1cf84f79240>"
      ]
     },
     "metadata": {},
     "output_type": "display_data"
    },
    {
     "name": "stdout",
     "output_type": "stream",
     "text": [
      "Доля ответов класса \"отток\": 0.0744%\n",
      "Доля ответов класса \"не отток\": 0.9256%\n",
      "Класса \"отток\" меньше в 12.4390 раз\n"
     ]
    },
    {
     "data": {
      "image/png": "[encoded data removed]",
      "text/plain": [
       "<matplotlib.figure.Figure at 0x1cf85275e10>"
      ]
     },
     "metadata": {},
     "output_type": "display_data"
    }
   ],
   "source": [
    "show_proportion_data(labels_frame, 0, \"Proportion before splitting\")\n",
    "show_proportion_data(train_result_labels, \"labels\", \"Proportion train\")\n",
    "show_proportion_data(test_result_labels, \"labels\", \"Proportion test\")"
   ]
  },
  {
   "cell_type": "code",
   "execution_count": 12,
   "metadata": {
    "collapsed": true
   },
   "outputs": [],
   "source": [
    "train_result_data.to_csv(\"..\\..\\Data\\churn_data_train.csv\", index=False)\n",
    "train_result_labels.to_csv(\"..\\..\\Data\\churn_labels_train.csv\", index=False)\n",
    "test_result_data.to_csv(\"..\\..\\Data\\churn_data_holdout.csv\", index=False)\n",
    "test_result_labels.to_csv(\"..\\..\\Data\\churn_labels_holdout.csv\", index=False)\n",
    "\n",
    "# Объединить отложенную выборку в один датасет для загрузки на Coursera\n",
    "test_result_data[\"labels\"] = test_result_labels.as_matrix().flatten()\n",
    "test_result_data.to_csv(\"..\\..\\Data\\churn_data_full_holdout.csv\", index=False)\n",
    "\n",
    "# Подумать о пропусках, стоит ли их учитывать во время разбиения"
   ]
  },
  {
   "cell_type": "markdown",
   "metadata": {
    "collapsed": true
   },
   "source": [
    "## Обработка категориальных признаков\n",
    "Подумайте и предложите несколько способов (не менее 3х) обработки категориальных признаков, для того, чтобы их можно было использовать при построении модели. Обратите внимание на модуль sklearn.preprocessing. Начать поиски можно с sklearn.preprocessing.OneHotEncoder."
   ]
  },
  {
   "cell_type": "markdown",
   "metadata": {
    "collapsed": true
   },
   "source": [
    "- **pandas.Series.nunique** - позволяет найти количество уникальных значений в колонке\n",
    "- **sklearn.preprocessing.LabelEncoder** - Кодирует значения признаков числами от 0 до n, где n - количество классов.\n",
    "- **sklearn.preprocessing.OneHotEncoder** - На вход подаётся целочисленна матрица, где каждая колонка представляет собой категориальный признак. На выходе получаем разреженную матрицу бинарных признаков, где каждый бинарный признак соответствует одному категориальному значению.<br/>Хорошо подходит для линейных моделей и SVM.\n",
    "- **sklearn.preprocessing.LabelBinarizer** - Преобразует категориальный признак в бинарный по стратегии One-vs-all. Т.е. на выходе получается один бинарный признак.<br/>Нужен для преобразования вектора ответов при мультиклассовой классификации."
   ]
  },
  {
   "cell_type": "markdown",
   "metadata": {},
   "source": [
    "Есть множество способов работы с категориальными признаками, и нет ни одного универсального способа, который позволил бы один раз закодировать признаки и быть уверенным, что они будут идеально работать в любой модели. Рассмотрим некоторые способы:\n",
    "1. Кодирование признаков целочисленными значениями. Доступен из функции **sklearn.preprocessing.LabelEncoder**. Такой подход однозначно не является лучшим. Линейные модели при таком подходе начинают учитывать не имеющую смысла упорядоченность значений признаков. Также модели, основанные на признаках закодированных таким способом, неустойчивы к перестановке значений признаков. Однако нам понадобится такое кодирование, чтобы преобразовать строковые категории к численным, т.к. большинство методов кодирования (тот-же OneHotEncoder) работает именно с матрицами чисел.\n",
    "2. One hot или Dummy кодирование. Доступен из функции **sklearn.preprocessing.OneHotEncoder**. Преобразует матрицу категориальных значений в разреженную матрицу бинарных значений. В этой матрице каждый признак соответствует одному значению в каком-то категориальном признаке. Такой подход также имеет минусы, наиболее важным из них является сильно увеличивающаяся размерность пространства.\n",
    "3. Бинарное кодирование: преобразовать каждую категорию в десятичное, а затем двоичное число. После этого каждый разряд двоичного числа сделать отдельным признаком. Этот сокращает размерность признакового пространства по сравнению с OneHotEncoder.\n",
    "4. Некоторые признаки можно закодировать через другие. Например категорию товара можно закодировать средней ценой товара. Тут есть пара проблем. Во-первых средняя цена разных категорий может совпасть. Во-вторых в нашем наборе данных имена колонок не имеют смысла, что очень сильно усложняет нахождение связей между признаками.\n",
    "5. Можно каждую категорию закодировать числом входящих в нее объектов. Опять же иногда это может привести к слиянию категорий.\n",
    "6. Всегда остаётся возможность использовать модели, позволяющие использовать категориальные признаки в необработанном виде. Например, любые алгоритмы на основе решающих деревьев.\n",
    "\n",
    "Есть также некоторые вспомогательные методы работы с категориальными признаками.\n",
    "Например, для уменьшения признакового пространства можно использовать группировку признаков. Берется два или более признака, затем из их значений создается один новый котегориальный признак, объединяющий значения исходных. Помочь в таком преобразовании может функция **pandas.crosstab**. Тут важно, чтобы итоговое количество категорий уменьшилось. Недостатком является то, что при появлении новых значений в тестовой выборке их будет тяжело добавить."
   ]
  },
  {
   "cell_type": "markdown",
   "metadata": {},
   "source": [
    "**pandas.Series.nunique** - позволяет найти количество уникальных значений в колонке"
   ]
  },
  {
   "cell_type": "markdown",
   "metadata": {},
   "source": [
    "[Categorial Kaggle](https://kaggle2.blob.core.windows.net/forum-message-attachments/225952/7441/high%20cardinality%20categoricals.pdf)\n",
    "Погуглить Imputer, Polynomial features, “улыбка волатильности”"
   ]
  },
  {
   "cell_type": "markdown",
   "metadata": {},
   "source": [
    "## Выбор метрики качества\n",
    "Подумайте, с помощью какой метрики качества лучше всего оценивать качество будущей модели, какой будет ключевая метрика качества? Поясните свой выбор."
   ]
  },
  {
   "cell_type": "markdown",
   "metadata": {
    "collapsed": true
   },
   "source": [
    "В данной задаче нельзя использовать долю правильных ответов. Данные имеют сильный скос в сторону класса \"не отток\", а эта метрика очень плохо работает для перекошенных данных.\n",
    "\n",
    "На мой взгляд здесь стоит пользоваться метриками Precision и Recall. В общем-то задача поиска клиентов, желающих уйти чем-то напоминает диагностику заболевания. Надо выловить как можно больше уходящих клиентов и минимизировать количество скидок, розданных клиентам, которые всем довольны.\n",
    "В таком случае имеет смысл задать порог (зафиксировать) для значения Recall и максимизировать Precision.\n",
    "Поскольку бизнес-требований нет, и порог не определен, то просто возьмем объединенную Precision-Recall метрику. Я выбрал F-меру.\n",
    "$$\\frac{2*precision*recall}{precision + recall}$$"
   ]
  },
  {
   "cell_type": "markdown",
   "metadata": {},
   "source": [
    "Какие вспомогательные метрики качества имеет смысл считать, чтобы более полно оценить качество модели, понять, где её слабые стороны и что нужно улучшать?"
   ]
  },
  {
   "cell_type": "markdown",
   "metadata": {
    "collapsed": true
   },
   "source": [
    "Как вспомогательную метрику для измерения качества оценок принадлежности к классу можно использовать метрику AUR-ROC, т.к. она не чувствительна к балансу классов.\n",
    "\n",
    "### Lift\n",
    "На практике часто возникают задачи, связанные с выбором подмножества: выделение лояльных клиентов банка, выделение уходящих пользователей мобильного оператора и т.д. Заказчика может интересовать вопрос, насколько выгоднее работать с этим подмножеством по сравнению со всем множеством. Если при рассылке предложений о кредите клиентам из подмножества и всем клиентам будет получаться одна и та же доля откликнувшихся, то подмножество не будет представлять особой ценности. Формально это измеряется с помощью прироста концентрации (lift), который равен отношению точности к доле положительных объектов в выборке:\n",
    "$$\\frac{precision}{(TP + FN)/l}$$\n",
    "Эту величину можно интерпретировать как улучшение доли положительных объектов в данном подмножестве относительно доли в случайно выбранном подмножестве такого же размера."
   ]
  },
  {
   "cell_type": "markdown",
   "metadata": {},
   "source": [
    "## Выбор стратегии кросс-валидации\n",
    "Подберите оптимальную стратегию проведения кросс-валидации: решите, на сколько фолдов вы будете делить выборку? Выберите тип разбиения данных (k-fold, stratified k-fold, shuffle split, leave one out). Поясните ваш выбор."
   ]
  },
  {
   "cell_type": "markdown",
   "metadata": {
    "collapsed": true
   },
   "source": [
    "Отбросим k-fold и shuffle split, т.к. они не гарантируют сохранение соотношения между классами после разбиения выборки.\n",
    "Leave one out на мой взгляд тоже не подходит, т.к. надо строить модель n-1 раз, а у нас даже после того, как мы сделали hold-out выборку осталось 27999 объектов.\n",
    "Остается stratified k-fold\n",
    "\n",
    "посмотреть RepeatedStratifiedKFold\n",
    "решить на сколько фолдов разбивать. Почитать что-то кроме [machinelearning.ru](http://www.machinelearning.ru/wiki/index.php?title=%D0%9A%D1%80%D0%BE%D1%81%D1%81-%D0%B2%D0%B0%D0%BB%D0%B8%D0%B4%D0%B0%D1%86%D0%B8%D1%8F)"
   ]
  }
 ],
 "metadata": {
  "anaconda-cloud": {},
  "kernelspec": {
   "display_name": "Python [conda root]",
   "language": "python",
   "name": "conda-root-py"
  },
  "language_info": {
   "codemirror_mode": {
    "name": "ipython",
    "version": 3
   },
   "file_extension": ".py",
   "mimetype": "text/x-python",
   "name": "python",
   "nbconvert_exporter": "python",
   "pygments_lexer": "ipython3",
   "version": "3.5.4"
  }
 },
 "nbformat": 4,
 "nbformat_minor": 1
}
