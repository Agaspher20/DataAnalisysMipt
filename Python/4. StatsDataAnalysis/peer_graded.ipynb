{
 "cells": [
  {
   "cell_type": "markdown",
   "metadata": {},
   "source": [
    "Для выполнения этого задания вам понадобятся данные о кредитных историях клиентов одного из банков. Поля в предоставляемых данных имеют следующий смысл:\n",
    "* LIMIT_BAL: размер кредитного лимита (в том числе и на семью клиента)\n",
    "* SEX: пол клиента (1 = мужской, 2 = женский )\n",
    "* EDUCATION: образование (0 = доктор, 1 = магистр; 2 = бакалавр; 3 = выпускник школы; 4 = начальное образование; 5= прочее; 6 = нет данных ).\n",
    "* MARRIAGE: (0 = отказываюсь отвечать; 1 = замужем/женат; 2 = холост; 3 = нет данных).\n",
    "* AGE: возраст в годах\n",
    "* PAY_0 - PAY_6 : История прошлых платежей по кредиту. PAY_6 - платеж в апреле, ... Pay_0 - платеж в сентябре. Платеж = (0 = исправный платеж, 1=задержка в один месяц, 2=задержка в 2 месяца ...)\n",
    "* BILL_AMT1 - BILL_AMT6: задолженность, BILL_AMT6 - на апрель, BILL_AMT1 - на сентябрь\n",
    "* PAY_AMT1 - PAY_AMT6: сумма уплаченная в PAY_AMT6 - апреле, ..., PAY_AMT1 - сентябре\n",
    "* default - индикатор невозврата денежных средств"
   ]
  },
  {
   "cell_type": "code",
   "execution_count": 1,
   "metadata": {},
   "outputs": [
    {
     "name": "stdout",
     "output_type": "stream",
     "text": [
      "Populating the interactive namespace from numpy and matplotlib\n"
     ]
    },
    {
     "data": {
      "text/html": [
       "<div>\n",
       "<style>\n",
       "    .dataframe thead tr:only-child th {\n",
       "        text-align: right;\n",
       "    }\n",
       "\n",
       "    .dataframe thead th {\n",
       "        text-align: left;\n",
       "    }\n",
       "\n",
       "    .dataframe tbody tr th {\n",
       "        vertical-align: top;\n",
       "    }\n",
       "</style>\n",
       "<table border=\"1\" class=\"dataframe\">\n",
       "  <thead>\n",
       "    <tr style=\"text-align: right;\">\n",
       "      <th></th>\n",
       "      <th>ID</th>\n",
       "      <th>LIMIT_BAL</th>\n",
       "      <th>SEX</th>\n",
       "      <th>EDUCATION</th>\n",
       "      <th>MARRIAGE</th>\n",
       "      <th>AGE</th>\n",
       "      <th>PAY_0</th>\n",
       "      <th>PAY_2</th>\n",
       "      <th>PAY_3</th>\n",
       "      <th>PAY_4</th>\n",
       "      <th>...</th>\n",
       "      <th>BILL_AMT4</th>\n",
       "      <th>BILL_AMT5</th>\n",
       "      <th>BILL_AMT6</th>\n",
       "      <th>PAY_AMT1</th>\n",
       "      <th>PAY_AMT2</th>\n",
       "      <th>PAY_AMT3</th>\n",
       "      <th>PAY_AMT4</th>\n",
       "      <th>PAY_AMT5</th>\n",
       "      <th>PAY_AMT6</th>\n",
       "      <th>default</th>\n",
       "    </tr>\n",
       "  </thead>\n",
       "  <tbody>\n",
       "    <tr>\n",
       "      <th>0</th>\n",
       "      <td>1</td>\n",
       "      <td>20000</td>\n",
       "      <td>2</td>\n",
       "      <td>2</td>\n",
       "      <td>1</td>\n",
       "      <td>24</td>\n",
       "      <td>2</td>\n",
       "      <td>2</td>\n",
       "      <td>0</td>\n",
       "      <td>0</td>\n",
       "      <td>...</td>\n",
       "      <td>0</td>\n",
       "      <td>0</td>\n",
       "      <td>0</td>\n",
       "      <td>0</td>\n",
       "      <td>689</td>\n",
       "      <td>0</td>\n",
       "      <td>0</td>\n",
       "      <td>0</td>\n",
       "      <td>0</td>\n",
       "      <td>1</td>\n",
       "    </tr>\n",
       "    <tr>\n",
       "      <th>1</th>\n",
       "      <td>2</td>\n",
       "      <td>120000</td>\n",
       "      <td>2</td>\n",
       "      <td>2</td>\n",
       "      <td>2</td>\n",
       "      <td>26</td>\n",
       "      <td>0</td>\n",
       "      <td>2</td>\n",
       "      <td>0</td>\n",
       "      <td>0</td>\n",
       "      <td>...</td>\n",
       "      <td>3272</td>\n",
       "      <td>3455</td>\n",
       "      <td>3261</td>\n",
       "      <td>0</td>\n",
       "      <td>1000</td>\n",
       "      <td>1000</td>\n",
       "      <td>1000</td>\n",
       "      <td>0</td>\n",
       "      <td>2000</td>\n",
       "      <td>1</td>\n",
       "    </tr>\n",
       "    <tr>\n",
       "      <th>2</th>\n",
       "      <td>3</td>\n",
       "      <td>90000</td>\n",
       "      <td>2</td>\n",
       "      <td>2</td>\n",
       "      <td>2</td>\n",
       "      <td>34</td>\n",
       "      <td>0</td>\n",
       "      <td>0</td>\n",
       "      <td>0</td>\n",
       "      <td>0</td>\n",
       "      <td>...</td>\n",
       "      <td>14331</td>\n",
       "      <td>14948</td>\n",
       "      <td>15549</td>\n",
       "      <td>1518</td>\n",
       "      <td>1500</td>\n",
       "      <td>1000</td>\n",
       "      <td>1000</td>\n",
       "      <td>1000</td>\n",
       "      <td>5000</td>\n",
       "      <td>0</td>\n",
       "    </tr>\n",
       "    <tr>\n",
       "      <th>3</th>\n",
       "      <td>4</td>\n",
       "      <td>50000</td>\n",
       "      <td>2</td>\n",
       "      <td>2</td>\n",
       "      <td>1</td>\n",
       "      <td>37</td>\n",
       "      <td>0</td>\n",
       "      <td>0</td>\n",
       "      <td>0</td>\n",
       "      <td>0</td>\n",
       "      <td>...</td>\n",
       "      <td>28314</td>\n",
       "      <td>28959</td>\n",
       "      <td>29547</td>\n",
       "      <td>2000</td>\n",
       "      <td>2019</td>\n",
       "      <td>1200</td>\n",
       "      <td>1100</td>\n",
       "      <td>1069</td>\n",
       "      <td>1000</td>\n",
       "      <td>0</td>\n",
       "    </tr>\n",
       "    <tr>\n",
       "      <th>4</th>\n",
       "      <td>5</td>\n",
       "      <td>50000</td>\n",
       "      <td>1</td>\n",
       "      <td>2</td>\n",
       "      <td>1</td>\n",
       "      <td>57</td>\n",
       "      <td>0</td>\n",
       "      <td>0</td>\n",
       "      <td>0</td>\n",
       "      <td>0</td>\n",
       "      <td>...</td>\n",
       "      <td>20940</td>\n",
       "      <td>19146</td>\n",
       "      <td>19131</td>\n",
       "      <td>2000</td>\n",
       "      <td>36681</td>\n",
       "      <td>10000</td>\n",
       "      <td>9000</td>\n",
       "      <td>689</td>\n",
       "      <td>679</td>\n",
       "      <td>0</td>\n",
       "    </tr>\n",
       "  </tbody>\n",
       "</table>\n",
       "<p>5 rows × 25 columns</p>\n",
       "</div>"
      ],
      "text/plain": [
       "   ID  LIMIT_BAL  SEX  EDUCATION  MARRIAGE  AGE  PAY_0  PAY_2  PAY_3  PAY_4  \\\n",
       "0   1      20000    2          2         1   24      2      2      0      0   \n",
       "1   2     120000    2          2         2   26      0      2      0      0   \n",
       "2   3      90000    2          2         2   34      0      0      0      0   \n",
       "3   4      50000    2          2         1   37      0      0      0      0   \n",
       "4   5      50000    1          2         1   57      0      0      0      0   \n",
       "\n",
       "    ...     BILL_AMT4  BILL_AMT5  BILL_AMT6  PAY_AMT1  PAY_AMT2  PAY_AMT3  \\\n",
       "0   ...             0          0          0         0       689         0   \n",
       "1   ...          3272       3455       3261         0      1000      1000   \n",
       "2   ...         14331      14948      15549      1518      1500      1000   \n",
       "3   ...         28314      28959      29547      2000      2019      1200   \n",
       "4   ...         20940      19146      19131      2000     36681     10000   \n",
       "\n",
       "   PAY_AMT4  PAY_AMT5  PAY_AMT6  default  \n",
       "0         0         0         0        1  \n",
       "1      1000         0      2000        1  \n",
       "2      1000      1000      5000        0  \n",
       "3      1100      1069      1000        0  \n",
       "4      9000       689       679        0  \n",
       "\n",
       "[5 rows x 25 columns]"
      ]
     },
     "execution_count": 1,
     "metadata": {},
     "output_type": "execute_result"
    }
   ],
   "source": [
    "%pylab inline\n",
    "import pandas as pd\n",
    "import numpy as np\n",
    "\n",
    "frame = pd.read_csv(\"..\\..\\Data\\credit_card_default_analysis.csv\", sep=\",\", header=0)\n",
    "frame.head()"
   ]
  },
  {
   "cell_type": "markdown",
   "metadata": {},
   "source": [
    "# Задание\n",
    "## Размер кредитного лимита (LIMIT_BAL).\n",
    "\n",
    "В двух группах, тех людей, кто вернул кредит (default = 0) и тех, кто его не вернул (default = 1) проверьте гипотезы:\n",
    "\n",
    "### a) о равенстве медианных значений кредитного лимита с помощью подходящей интервальной оценки\n",
    "Определим функции для построения интервальных оценок с помощью метода bootstrap"
   ]
  },
  {
   "cell_type": "code",
   "execution_count": 2,
   "metadata": {
    "collapsed": true
   },
   "outputs": [],
   "source": [
    "from scipy import stats\n",
    "def get_bootstrap_samples(data, n_samples):\n",
    "    data_length = len(data)\n",
    "    indices = np.random.randint(0, data_length, (n_samples, data_length))\n",
    "    return data[indices]\n",
    "def stat_intervals(stat, alpha):\n",
    "    boundaries = np.percentile(stat, [100 * alpha / 2., 100 * (1 - alpha / 2.)])\n",
    "    return boundaries\n",
    "def calculate_median_confidence_interval(data, samples_count = 1000, alpha = 0.05):\n",
    "    median = np.median(data)\n",
    "    medians = map(lambda samples_group: np.median(samples_group), get_bootstrap_samples(data, samples_count))\n",
    "    confint = stat_intervals(medians, alpha)\n",
    "    return (median, confint)\n",
    "def compare_distributions(data1, data2, samples_count, alpha):\n",
    "    median_deltas = map(\n",
    "        lambda (s_median,d_median): s_median-d_median,\n",
    "        zip(\n",
    "            map(lambda samples_group: np.median(samples_group), get_bootstrap_samples(data1, samples_count)),\n",
    "            map(lambda samples_group: np.median(samples_group), get_bootstrap_samples(data2, samples_count))\n",
    "        )\n",
    "    )\n",
    "    return stat_intervals(median_deltas, alpha)"
   ]
  },
  {
   "cell_type": "markdown",
   "metadata": {},
   "source": [
    "Разделим данные на две группы default и success"
   ]
  },
  {
   "cell_type": "code",
   "execution_count": 3,
   "metadata": {
    "collapsed": true
   },
   "outputs": [],
   "source": [
    "default_group = frame[frame[\"default\"] == 1]\n",
    "success_group = frame[frame[\"default\"] == 0]\n",
    "default_group_limits = default_group[\"LIMIT_BAL\"].as_matrix()\n",
    "success_group_limits = success_group[\"LIMIT_BAL\"].as_matrix()"
   ]
  },
  {
   "cell_type": "markdown",
   "metadata": {},
   "source": [
    "Попытаемся визуально сравнить распределение кредитного лимита"
   ]
  },
  {
   "cell_type": "code",
   "execution_count": 5,
   "metadata": {},
   "outputs": [
    {
     "data": {
      "image/png": "[encoded data removed]",
      "text/plain": [
       "<matplotlib.figure.Figure at 0xd235a58>"
      ]
     },
     "metadata": {},
     "output_type": "display_data"
    },
    {
     "data": {
      "image/png": "[encoded data removed]",
      "text/plain": [
       "<matplotlib.figure.Figure at 0x9dcf2b0>"
      ]
     },
     "metadata": {},
     "output_type": "display_data"
    }
   ],
   "source": [
    "frame.boxplot(column=\"LIMIT_BAL\", by=\"default\", figsize = (15,8))\n",
    "pylab.show()\n",
    "pylab.figure(figsize(15,5))\n",
    "pylab.subplot(121)\n",
    "pylab.xlabel(\"Success LIMIT_BAL\")\n",
    "pylab.hist(success_group_limits, label=\"Success limits\")\n",
    "pylab.subplot(122)\n",
    "pylab.xlabel(\"Default LIMIT_BAL\")\n",
    "pylab.hist(default_group_limits, label=\"Default limits\")\n",
    "pylab.show()"
   ]
  },
  {
   "cell_type": "markdown",
   "metadata": {},
   "source": [
    "По графикам видно, что распределения лимитов для групп \"success\" и \"default\" очень похожи друг на друга, но есть разница между размерами кредитного лимита. Для группы success размер кредитного лимита выше. Докажем, с помощью доверительных интервалов, построенных с помощью метода bootstrap, что различие между значениями в этих группах действительно есть."
   ]
  },
  {
   "cell_type": "code",
   "execution_count": 6,
   "metadata": {},
   "outputs": [
    {
     "name": "stdout",
     "output_type": "stream",
     "text": [
      "Default limit max value: 740000.0000\tmin value: 10000.0000\n",
      "Success limit max value: 1000000.0000\tmin value: 10000.0000\n",
      "Default median: 90000.0000\tConfidence interval: [ 80000.  90000.]\n",
      "Success median: 150000.0000\tConfidence interval: [ 150000.  150000.]\n",
      "Confidence interval for difference between \"default\" and \"success\" groups is [ 60000.  70000.]\n"
     ]
    }
   ],
   "source": [
    "samples_count = 1000\n",
    "alpha = 0.05\n",
    "np.random.seed(0)\n",
    "default_limit_confint = calculate_median_confidence_interval(default_group_limits, samples_count, alpha)\n",
    "success_limit_confint = calculate_median_confidence_interval(success_group_limits, samples_count, alpha)\n",
    "median_delta_confint = compare_distributions(success_group_limits, default_group_limits, samples_count, alpha)\n",
    "print \"Default limit max value: %.4f\\tmin value: %.4f\" % (np.max(default_group_limits), np.min(default_group_limits))\n",
    "print \"Success limit max value: %.4f\\tmin value: %.4f\" % (np.max(success_group_limits), np.min(success_group_limits))\n",
    "print \"Default median: %.4f\\tConfidence interval: %s\" % default_limit_confint\n",
    "print \"Success median: %.4f\\tConfidence interval: %s\" % success_limit_confint\n",
    "print \"Confidence interval for difference between \\\"default\\\" and \\\"success\\\" groups is %s\" % median_delta_confint"
   ]
  },
  {
   "cell_type": "markdown",
   "metadata": {},
   "source": [
    "### b) о равенстве распределений с помощью одного из подходящих непараметрических критериев проверки равенства средних. Значимы ли полученные результаты с практической точки зрения ?\n",
    "Мы имеем две независимые выборки \"success\" и \"default\".\n",
    "Однако мы не можем воспользоваться критерием Манна-Уитни, т.к. по графикам видно, что выборки имеют очень много повторяющихся значений. Поэтому будем использовать двухвыборочный перестановочный критерий для несвязанных выборок."
   ]
  },
  {
   "cell_type": "code",
   "execution_count": 8,
   "metadata": {
    "collapsed": true
   },
   "outputs": [],
   "source": [
    "# Функции для подсчета перестановочного критерия\n",
    "import itertools\n",
    "def permutation_t_stat_ind(sample1, sample2):\n",
    "    return np.median(sample1) - np.median(sample2)\n",
    "def get_random_combinations(n1, n2, max_combinations):\n",
    "    index = range(n1 + n2)\n",
    "    indices = set([tuple(index)])\n",
    "    for i in range(max_combinations - 1):\n",
    "        np.random.shuffle(index)\n",
    "        indices.add(tuple(index))\n",
    "    return [(index[:n1], index[n1:]) for index in indices]\n",
    "def permutation_zero_dist_ind(sample1, sample2, max_combinations = None):\n",
    "    joined_sample = np.hstack((sample1, sample2))\n",
    "    n1 = len(sample1)\n",
    "    n = len(joined_sample)\n",
    "    \n",
    "    if max_combinations:\n",
    "        indices = get_random_combinations(n1, len(sample2), max_combinations)\n",
    "    else:\n",
    "        indices = [(list(index), filter(lambda i: i not in index, range(n))) \\\n",
    "                    for index in itertools.combinations(range(n), n1)]\n",
    "    \n",
    "    distr = [joined_sample[list(i[0])].mean() - joined_sample[list(i[1])].mean() \\\n",
    "             for i in indices]\n",
    "    return distr\n",
    "def permutation_test(sample1, sample2, max_permutations = None, alternative = 'two-sided'):\n",
    "    if alternative not in ('two-sided', 'less', 'greater'):\n",
    "        raise ValueError(\"alternative not recognized\\n\"\n",
    "                         \"should be 'two-sided', 'less' or 'greater'\")\n",
    "    \n",
    "    t_stat = permutation_t_stat_ind(sample1, sample2)\n",
    "    \n",
    "    zero_distr = permutation_zero_dist_ind(sample1, sample2, max_permutations)\n",
    "    \n",
    "    if alternative == 'two-sided':\n",
    "        return sum([1. if abs(x) >= abs(t_stat) else 0. for x in zero_distr]) / len(zero_distr)\n",
    "    \n",
    "    if alternative == 'less':\n",
    "        return sum([1. if x <= t_stat else 0. for x in zero_distr]) / len(zero_distr)\n",
    "\n",
    "    if alternative == 'greater':\n",
    "        return sum([1. if x >= t_stat else 0. for x in zero_distr]) / len(zero_distr)"
   ]
  },
  {
   "cell_type": "code",
   "execution_count": 9,
   "metadata": {},
   "outputs": [
    {
     "name": "stdout",
     "output_type": "stream",
     "text": [
      "Permutation criterion p-value: 0.0000\n"
     ]
    }
   ],
   "source": [
    "print \"Permutation criterion p-value: %.4f\" % permutation_test(default_group_limits, success_group_limits, max_permutations=1000, alternative=\"two-sided\")"
   ]
  },
  {
   "cell_type": "markdown",
   "metadata": {},
   "source": [
    "Доверительные интервалы для медиан в группах \"success\" и \"default\" далеко отстоят друг от друга.\n",
    "Доверительный интервал для разницы медианных значений в этих группах далеко отстоит от нуля.\n",
    "Непараметрический перестановочный критерий для двух независимых выборок дает достигаемый уровень значимости сильно меньше 0.05.\n",
    "\n",
    "Из этого можно сделать вывод, что гипотеза о равенстве распределений отвергается.\n",
    "С практической точки зрения эти результаты говорят о том, что банк выдает большие кредиты надежным клиентам не просрачивающим выплаты."
   ]
  },
  {
   "cell_type": "markdown",
   "metadata": {},
   "source": [
    "## Пол (SEX)\n",
    "### Проверьте гипотезу о том, что гендерный состав группы людей вернувших и не вернувших кредит отличается.\n",
    "Хорошо, если вы предоставите несколько различных решений этой задачи (с помощью доверительного интервала и подходящего статистического критерия)\n",
    "\n",
    "Пол в нашем случае может принимать только два значения. Соответственно мы имеем дело с биномиальным распределением и можем проверять гипотезу о доле.\n",
    "\n",
    "Выделим две группы"
   ]
  },
  {
   "cell_type": "code",
   "execution_count": 11,
   "metadata": {
    "collapsed": true
   },
   "outputs": [],
   "source": [
    "default_group_sex = default_group[\"SEX\"].as_matrix()\n",
    "success_group_sex = success_group[\"SEX\"].as_matrix()\n",
    "\n",
    "# Определим функции, необходимые для проверки гипотезы о доле\n",
    "def proportions_confint_diff(first_vector, second_vector, alpha = 0.05):\n",
    "    count1 = float(len(first_vector))\n",
    "    count2 = float(len(second_vector))\n",
    "    p1 = float(len(filter(lambda x: x == 1, first_vector)))/count1\n",
    "    p2 = float(len(filter(lambda x: x == 1, second_vector)))/count2\n",
    "    z = stats.norm.ppf(1. - alpha / 2.)\n",
    "\n",
    "    left_boundary = (p1 - p2) - z * np.sqrt(p1 * (1. - p1)/ count1 + p2 * (1 - p2)/ count2)\n",
    "    right_boundary = (p1 - p2) + z * np.sqrt(p1 * (1. - p1)/ count1 + p2 * (1 - p2)/ count2)\n",
    "    \n",
    "    return (left_boundary, right_boundary)\n",
    "\n",
    "def proportions_diff_z_stat_ind(sample1, sample2):\n",
    "    n1 = len(sample1)\n",
    "    n2 = len(sample2)\n",
    "    \n",
    "    p1 = float(len(filter(lambda x: x == 1, sample1))) / n1\n",
    "    p2 = float(len(filter(lambda x: x == 1, sample2))) / n2 \n",
    "    P = float(p1*n1 + p2*n2) / (n1 + n2)\n",
    "    \n",
    "    return (p1 - p2) / np.sqrt(P * (1 - P) * (1. / n1 + 1. / n2))\n",
    "\n",
    "def proportions_diff_z_test(sample1, sample2, alternative = 'two-sided'):\n",
    "    z_stat = proportions_diff_z_stat_ind(sample1, sample2)\n",
    "    if alternative not in ('two-sided', 'less', 'greater'):\n",
    "        raise ValueError(\"alternative not recognized\\n\"\n",
    "                         \"should be 'two-sided', 'less' or 'greater'\")\n",
    "    \n",
    "    if alternative == 'two-sided':\n",
    "        return 2 * (1 - stats.norm.cdf(np.abs(z_stat)))\n",
    "    \n",
    "    if alternative == 'less':\n",
    "        return stats.norm.cdf(z_stat)\n",
    "\n",
    "    if alternative == 'greater':\n",
    "        return 1 - stats.norm.cdf(z_stat)\n",
    "\n",
    "# Функция, которая строит bar chart для таблицы сопряженности\n",
    "def build_contingency_table_bar_chart(contingency_table, row_groups, column_groups):\n",
    "    for (row_index,row_name) in enumerate(row_groups):\n",
    "        column_counts = map(lambda cell: float(cell), contingency_table[row_index])\n",
    "        overall_count = sum(column_counts)\n",
    "        if overall_count > 0:\n",
    "            for (column_count,column_name) in zip(column_counts, column_groups):\n",
    "                pylab.bar(row_index, column_count/overall_count, label = (\"%s %s (%.0f)\" % (row_name, column_name, column_count)))\n",
    "    pylab.legend(bbox_to_anchor=(1.05, 1), loc=2, borderaxespad=0.)\n",
    "    pylab.show()"
   ]
  },
  {
   "cell_type": "code",
   "execution_count": 11,
   "metadata": {},
   "outputs": [
    {
     "data": {
      "text/html": [
       "<div>\n",
       "<style>\n",
       "    .dataframe thead tr:only-child th {\n",
       "        text-align: right;\n",
       "    }\n",
       "\n",
       "    .dataframe thead th {\n",
       "        text-align: left;\n",
       "    }\n",
       "\n",
       "    .dataframe tbody tr th {\n",
       "        vertical-align: top;\n",
       "    }\n",
       "</style>\n",
       "<table border=\"1\" class=\"dataframe\">\n",
       "  <thead>\n",
       "    <tr>\n",
       "      <th></th>\n",
       "      <th colspan=\"2\" halign=\"left\">LIMIT_BAL</th>\n",
       "    </tr>\n",
       "    <tr>\n",
       "      <th>default</th>\n",
       "      <th>0</th>\n",
       "      <th>1</th>\n",
       "    </tr>\n",
       "    <tr>\n",
       "      <th>SEX</th>\n",
       "      <th></th>\n",
       "      <th></th>\n",
       "    </tr>\n",
       "  </thead>\n",
       "  <tbody>\n",
       "    <tr>\n",
       "      <th>1</th>\n",
       "      <td>9015</td>\n",
       "      <td>2873</td>\n",
       "    </tr>\n",
       "    <tr>\n",
       "      <th>2</th>\n",
       "      <td>14349</td>\n",
       "      <td>3763</td>\n",
       "    </tr>\n",
       "  </tbody>\n",
       "</table>\n",
       "</div>"
      ],
      "text/plain": [
       "        LIMIT_BAL      \n",
       "default         0     1\n",
       "SEX                    \n",
       "1            9015  2873\n",
       "2           14349  3763"
      ]
     },
     "execution_count": 11,
     "metadata": {},
     "output_type": "execute_result"
    }
   ],
   "source": [
    "sex_contingency_table = pd.pivot_table(\n",
    "    frame[[\"SEX\", \"default\", \"LIMIT_BAL\"]],\n",
    "    values=[\"LIMIT_BAL\"],\n",
    "    index=[\"SEX\"],\n",
    "    columns=[\"default\"],\n",
    "    fill_value = 0,\n",
    "    aggfunc='count')\n",
    "sex_contingency_matrix = sex_contingency_table.as_matrix()\n",
    "sex_contingency_table"
   ]
  },
  {
   "cell_type": "code",
   "execution_count": 12,
   "metadata": {},
   "outputs": [
    {
     "data": {
      "image/png": "[encoded data removed]",
      "text/plain": [
       "<matplotlib.figure.Figure at 0xd3a3f98>"
      ]
     },
     "metadata": {},
     "output_type": "display_data"
    }
   ],
   "source": [
    "build_contingency_table_bar_chart(sex_contingency_matrix, [\"Men\", \"Women\"], [\"success\", \"default\"])"
   ]
  },
  {
   "cell_type": "markdown",
   "metadata": {},
   "source": [
    "Визуально кажется, что доля мужчин вернувших кредит (Men success) меньше доли женщин вернувших кредит (Women success)\n",
    "Попробуем подтвердить это с помощью доверительных интервалов.\n",
    "Сравним доли мужчин в группах \"default\" и \"success\" на основе доверительных интервалов"
   ]
  },
  {
   "cell_type": "code",
   "execution_count": 13,
   "metadata": {},
   "outputs": [
    {
     "name": "stdout",
     "output_type": "stream",
     "text": [
      "Proportion confidential interval is [0.0336; 0.0605]\n"
     ]
    }
   ],
   "source": [
    "print \"Proportion confidential interval is [%.4f; %.4f]\" % proportions_confint_diff(default_group_sex, success_group_sex)"
   ]
  },
  {
   "cell_type": "markdown",
   "metadata": {},
   "source": [
    "Доверительный интервал не содержит 0 и находится от него справа, соответственно можно утверждать, что доля мужчин не вернувших кредит больше, чем доля вернувших.\n",
    "\n",
    "Теперь сравним доли мужчин в тех-же группах на основе z-критерия для двух независимых выборок"
   ]
  },
  {
   "cell_type": "code",
   "execution_count": 12,
   "metadata": {},
   "outputs": [
    {
     "name": "stdout",
     "output_type": "stream",
     "text": [
      "p-value:  4.47286652161e-12\n"
     ]
    }
   ],
   "source": [
    "pvalue = proportions_diff_z_test(default_group_sex, success_group_sex, alternative='two-sided')\n",
    "print \"p-value: \", pvalue"
   ]
  },
  {
   "cell_type": "markdown",
   "metadata": {},
   "source": [
    "Достигаемый уровень значимости Z-критерия p-value для этих двух выборок сильно меньше 0.05. Гипотеза о равенстве доли мужчин в выборках \"default\" и \"success\" с уверенностью отвергается.\n",
    "\n",
    "По значениям доверительного итервала можно сказать, что мужчины возвращают кредит реже, чем женщины.\n",
    "Доверительный интервал находится очень близко к нулю. На мой взгляд это значит, что с практической точки зрения разница в гендерном составе не является значимой."
   ]
  },
  {
   "cell_type": "markdown",
   "metadata": {},
   "source": [
    "## Образование (EDUCATION)\n",
    "### Проверьте гипотезу о том, что образование не влияет на то, вернет ли человек долг.\n",
    "Предложите способ наглядного представления разницы в ожидаемых и наблюдаемых значениях количества человек вернувших и не вернувших долг. Например, составьте таблицу сопряженности \"образование\" на \"возврат долга\", где значением ячейки была бы разность между наблюдаемым и ожидаемым количеством человек.\n",
    "\n",
    "Как бы вы предложили модифицировать таблицу так, чтобы привести значения ячеек к одному масштабу не потеряв в интерпретируемости?\n",
    "\n",
    "Наличие какого образования является наилучшим индикатором того, что человек отдаст долг?\n",
    "\n",
    "Наоборот, не отдаст долг?"
   ]
  },
  {
   "cell_type": "code",
   "execution_count": 13,
   "metadata": {
    "collapsed": true
   },
   "outputs": [],
   "source": [
    "# Выделим две группы\n",
    "success_group_edu = success_group[\"EDUCATION\"].as_matrix()\n",
    "default_group_edu = default_group[\"EDUCATION\"].as_matrix()"
   ]
  },
  {
   "cell_type": "markdown",
   "metadata": {},
   "source": [
    "Попытаемся сравнить их визуально с помощью гистограммы"
   ]
  },
  {
   "cell_type": "code",
   "execution_count": 14,
   "metadata": {},
   "outputs": [
    {
     "data": {
      "text/plain": [
       "<matplotlib.legend.Legend at 0x9532be0>"
      ]
     },
     "execution_count": 14,
     "metadata": {},
     "output_type": "execute_result"
    },
    {
     "data": {
      "image/png": "[encoded data removed]",
      "text/plain": [
       "<matplotlib.figure.Figure at 0x95329b0>"
      ]
     },
     "metadata": {},
     "output_type": "display_data"
    }
   ],
   "source": [
    "pylab.hist([success_group_edu, default_group_edu], 7, label = [\"Success\", \"Default\"])\n",
    "pylab.legend()"
   ]
  },
  {
   "cell_type": "markdown",
   "metadata": {
    "collapsed": true
   },
   "source": [
    "По такому графику сложно как-то интерпретировать разницу в ожидаемых и наблюдаемых значениях количества человек вернувших и не вернувших долг. Очевидно, разных группах обучения разное количество людей. Выборки не масштабированы"
   ]
  },
  {
   "cell_type": "code",
   "execution_count": 21,
   "metadata": {
    "collapsed": true
   },
   "outputs": [],
   "source": [
    "def v_Cramer_correlation(table):\n",
    "    chi_stat = stats.chi2_contingency(table)[0]\n",
    "    k_min = np.min(table.shape)\n",
    "    n = np.sum(table)\n",
    "    return np.sqrt(chi_stat/(n*(k_min-1)))"
   ]
  },
  {
   "cell_type": "markdown",
   "metadata": {},
   "source": [
    "Построим таблицу сопряженности, в ячейках этой таблицы находится количество человек, для которых значения признаков совпадают"
   ]
  },
  {
   "cell_type": "code",
   "execution_count": 16,
   "metadata": {
    "collapsed": true
   },
   "outputs": [],
   "source": [
    "edu_contingency_table = pd.pivot_table(\n",
    "    frame[[\"EDUCATION\", \"default\", \"LIMIT_BAL\"]],\n",
    "    values=[\"LIMIT_BAL\"],\n",
    "    index=[\"EDUCATION\"],\n",
    "    columns=[\"default\"],\n",
    "    fill_value = 0,\n",
    "    aggfunc='count')\n",
    "edu_contingency_matrix = edu_contingency_table.as_matrix()"
   ]
  },
  {
   "cell_type": "markdown",
   "metadata": {},
   "source": [
    "Для этой таблицы сопряженности построим bar chart, где сравниваются отношения значений success/count и default/count. Эти значения фактически представляют собой долю клиентов вернувших кредит и долю клиентов просрочивших выплаты.\n",
    "Эти доли принимают значения от 0 до 1 и соответственно имеют одиаковый масштаб."
   ]
  },
  {
   "cell_type": "code",
   "execution_count": 17,
   "metadata": {},
   "outputs": [
    {
     "data": {
      "text/html": [
       "<div>\n",
       "<style>\n",
       "    .dataframe thead tr:only-child th {\n",
       "        text-align: right;\n",
       "    }\n",
       "\n",
       "    .dataframe thead th {\n",
       "        text-align: left;\n",
       "    }\n",
       "\n",
       "    .dataframe tbody tr th {\n",
       "        vertical-align: top;\n",
       "    }\n",
       "</style>\n",
       "<table border=\"1\" class=\"dataframe\">\n",
       "  <thead>\n",
       "    <tr>\n",
       "      <th></th>\n",
       "      <th colspan=\"2\" halign=\"left\">LIMIT_BAL</th>\n",
       "    </tr>\n",
       "    <tr>\n",
       "      <th>default</th>\n",
       "      <th>0</th>\n",
       "      <th>1</th>\n",
       "    </tr>\n",
       "    <tr>\n",
       "      <th>EDUCATION</th>\n",
       "      <th></th>\n",
       "      <th></th>\n",
       "    </tr>\n",
       "  </thead>\n",
       "  <tbody>\n",
       "    <tr>\n",
       "      <th>0</th>\n",
       "      <td>14</td>\n",
       "      <td>0</td>\n",
       "    </tr>\n",
       "    <tr>\n",
       "      <th>1</th>\n",
       "      <td>8549</td>\n",
       "      <td>2036</td>\n",
       "    </tr>\n",
       "    <tr>\n",
       "      <th>2</th>\n",
       "      <td>10700</td>\n",
       "      <td>3330</td>\n",
       "    </tr>\n",
       "    <tr>\n",
       "      <th>3</th>\n",
       "      <td>3680</td>\n",
       "      <td>1237</td>\n",
       "    </tr>\n",
       "    <tr>\n",
       "      <th>4</th>\n",
       "      <td>116</td>\n",
       "      <td>7</td>\n",
       "    </tr>\n",
       "    <tr>\n",
       "      <th>5</th>\n",
       "      <td>262</td>\n",
       "      <td>18</td>\n",
       "    </tr>\n",
       "    <tr>\n",
       "      <th>6</th>\n",
       "      <td>43</td>\n",
       "      <td>8</td>\n",
       "    </tr>\n",
       "  </tbody>\n",
       "</table>\n",
       "</div>"
      ],
      "text/plain": [
       "          LIMIT_BAL      \n",
       "default           0     1\n",
       "EDUCATION                \n",
       "0                14     0\n",
       "1              8549  2036\n",
       "2             10700  3330\n",
       "3              3680  1237\n",
       "4               116     7\n",
       "5               262    18\n",
       "6                43     8"
      ]
     },
     "execution_count": 17,
     "metadata": {},
     "output_type": "execute_result"
    }
   ],
   "source": [
    "edu_contingency_table"
   ]
  },
  {
   "cell_type": "code",
   "execution_count": 18,
   "metadata": {},
   "outputs": [
    {
     "data": {
      "image/png": "[encoded data removed]",
      "text/plain": [
       "<matplotlib.figure.Figure at 0xd2dfba8>"
      ]
     },
     "metadata": {},
     "output_type": "display_data"
    }
   ],
   "source": [
    "build_contingency_table_bar_chart(edu_contingency_matrix, [\"doctor\",\"master\",\"bachelor\",\"scholar\",\"basic\",\"other\",\"n/a\"], [\"success\", \"default\"])"
   ]
  },
  {
   "cell_type": "markdown",
   "metadata": {},
   "source": [
    "Поскольку оба признака \"EDUCATION\" и \"default\" де-факто категориальные, мы можем посчитать меру взаимосвязи между ними с помощью коэффициента V-Крамера. Достигаемый уровень значимости для этой статистики можно посчитать с помощью критерия хи-квадрат. Проверим корректность использования этого критерия:"
   ]
  },
  {
   "cell_type": "code",
   "execution_count": 19,
   "metadata": {},
   "outputs": [
    {
     "name": "stdout",
     "output_type": "stream",
     "text": [
      "Общее количество элементов: 30000. Процент ячеек, где количество элементов больше 5: 92.8571%\n"
     ]
    }
   ],
   "source": [
    "edu_contingency_matrix_cells = edu_contingency_matrix.reshape(-1)\n",
    "count_is_enough = len(filter(lambda val: val > 5, edu_contingency_matrix_cells))\n",
    "all_cells_count = len(edu_contingency_matrix_cells)\n",
    "elements_count = sum(edu_contingency_matrix_cells)\n",
    "print u\"Общее количество элементов: %i. Процент ячеек, где количество элементов больше 5: %.4f%%\" % (elements_count,(float(count_is_enough)*100/all_cells_count))"
   ]
  },
  {
   "cell_type": "markdown",
   "metadata": {},
   "source": [
    "Число ячеек, где количество элементов больше 5 составляет более 80%, а количество элементов сильно больше 40.\n",
    "Применение критерия хи-квадрат корректно."
   ]
  },
  {
   "cell_type": "code",
   "execution_count": 22,
   "metadata": {},
   "outputs": [
    {
     "name": "stdout",
     "output_type": "stream",
     "text": [
      "V-Cramer statistic is: 0.0738\n",
      "p-value: 1.23326262454e-32\n"
     ]
    }
   ],
   "source": [
    "print \"V-Cramer statistic is: %.4f\" % v_Cramer_correlation(edu_contingency_matrix)\n",
    "print \"p-value:\", stats.chi2_contingency(edu_contingency_matrix)[1]"
   ]
  },
  {
   "cell_type": "markdown",
   "metadata": {},
   "source": [
    "Значение коэффициента V Крамера не очень велико, однако p-value критерия хи-квадрат говорит нам, что это значение статистически значимо.\n",
    "\n",
    "Судя по графику чаще всего отдают долг люди с докторской степенью. Реже всего, - люди со школьным образованием.\n",
    "Статистика V-Крамера достаточно мала, так что нельзя использовать этот признак как главный.\n",
    "\n",
    "## Семейное положение (MARRIAGE)\n",
    "Проверьте, как связан семейный статус с индикатором дефолта: нужно предложить меру, по которой можно измерить возможную связь этих переменных и посчитать ее значение.\n",
    "\n",
    "Построим таблицу сопряженности, в ячейках этой таблицы находится количество человек, для которых значения признаков совпадают"
   ]
  },
  {
   "cell_type": "code",
   "execution_count": 24,
   "metadata": {},
   "outputs": [
    {
     "data": {
      "text/html": [
       "<div>\n",
       "<style>\n",
       "    .dataframe thead tr:only-child th {\n",
       "        text-align: right;\n",
       "    }\n",
       "\n",
       "    .dataframe thead th {\n",
       "        text-align: left;\n",
       "    }\n",
       "\n",
       "    .dataframe tbody tr th {\n",
       "        vertical-align: top;\n",
       "    }\n",
       "</style>\n",
       "<table border=\"1\" class=\"dataframe\">\n",
       "  <thead>\n",
       "    <tr>\n",
       "      <th></th>\n",
       "      <th colspan=\"2\" halign=\"left\">LIMIT_BAL</th>\n",
       "    </tr>\n",
       "    <tr>\n",
       "      <th>default</th>\n",
       "      <th>0</th>\n",
       "      <th>1</th>\n",
       "    </tr>\n",
       "    <tr>\n",
       "      <th>MARRIAGE</th>\n",
       "      <th></th>\n",
       "      <th></th>\n",
       "    </tr>\n",
       "  </thead>\n",
       "  <tbody>\n",
       "    <tr>\n",
       "      <th>0</th>\n",
       "      <td>49</td>\n",
       "      <td>5</td>\n",
       "    </tr>\n",
       "    <tr>\n",
       "      <th>1</th>\n",
       "      <td>10453</td>\n",
       "      <td>3206</td>\n",
       "    </tr>\n",
       "    <tr>\n",
       "      <th>2</th>\n",
       "      <td>12623</td>\n",
       "      <td>3341</td>\n",
       "    </tr>\n",
       "    <tr>\n",
       "      <th>3</th>\n",
       "      <td>239</td>\n",
       "      <td>84</td>\n",
       "    </tr>\n",
       "  </tbody>\n",
       "</table>\n",
       "</div>"
      ],
      "text/plain": [
       "         LIMIT_BAL      \n",
       "default          0     1\n",
       "MARRIAGE                \n",
       "0               49     5\n",
       "1            10453  3206\n",
       "2            12623  3341\n",
       "3              239    84"
      ]
     },
     "execution_count": 24,
     "metadata": {},
     "output_type": "execute_result"
    }
   ],
   "source": [
    "marriage_contingency_table = pd.pivot_table(\n",
    "    frame[[\"MARRIAGE\", \"default\", \"LIMIT_BAL\"]],\n",
    "    values=[\"LIMIT_BAL\"],\n",
    "    index=[\"MARRIAGE\"],\n",
    "    columns=[\"default\"],\n",
    "    fill_value = 0,\n",
    "    aggfunc='count')\n",
    "marriage_contingency_matrix = marriage_contingency_table.as_matrix()\n",
    "marriage_contingency_table"
   ]
  },
  {
   "cell_type": "markdown",
   "metadata": {},
   "source": [
    "Для этой таблицы сопряженности построим bar chart, где сравниваются отношения значений success/count и default/count. Эти значения фактически представляют собой долю клиентов вернувших кредит и долю клиентов просрочивших выплаты. Эти доли принимают значения от 0 до 1 и соответственно имеют одиаковый масштаб."
   ]
  },
  {
   "cell_type": "code",
   "execution_count": 25,
   "metadata": {},
   "outputs": [
    {
     "data": {
      "image/png": "[encoded data removed]",
      "text/plain": [
       "<matplotlib.figure.Figure at 0xce05d30>"
      ]
     },
     "metadata": {},
     "output_type": "display_data"
    }
   ],
   "source": [
    "build_contingency_table_bar_chart(marriage_contingency_matrix, [\"never tell\",\"married\",\"free\",\"n/a\"], [\"success\", \"default\"])"
   ]
  },
  {
   "cell_type": "markdown",
   "metadata": {},
   "source": [
    "Поскольку оба признака \"MARRIAGE\" и \"default\" де-факто категориальные, мы можем посчитать меру взаимосвязи между ними с помощью коэффициента V-Крамера. Достигаемый уровень значимости для этой статистики можно посчитать с помощью критерия хи-квадрат. Проверим корректность использования этого критерия:"
   ]
  },
  {
   "cell_type": "code",
   "execution_count": 26,
   "metadata": {},
   "outputs": [
    {
     "name": "stdout",
     "output_type": "stream",
     "text": [
      "Общее количество элементов: 30000. Процент ячеек, где количество элементов больше 5: 87.5000%\n"
     ]
    }
   ],
   "source": [
    "marriage_contingency_matrix_cells = marriage_contingency_matrix.reshape(-1)\n",
    "mar_count_is_enough = len(filter(lambda val: val > 5, marriage_contingency_matrix_cells))\n",
    "mar_all_cells_count = len(marriage_contingency_matrix_cells)\n",
    "mar_elements_count = sum(marriage_contingency_matrix_cells)\n",
    "print u\"Общее количество элементов: %i. Процент ячеек, где количество элементов больше 5: %.4f%%\" % (mar_elements_count,(float(mar_count_is_enough)*100/mar_all_cells_count))"
   ]
  },
  {
   "cell_type": "markdown",
   "metadata": {},
   "source": [
    "Число ячеек, где количество элементов больше 5 составляет более 80%, а количество элементов сильно больше 40. Применение критерия хи-квадрат корректно."
   ]
  },
  {
   "cell_type": "code",
   "execution_count": 27,
   "metadata": {},
   "outputs": [
    {
     "name": "stdout",
     "output_type": "stream",
     "text": [
      "V-Cramer statistic is: 0.0345\n",
      "p-value: 8.82586245758e-08\n"
     ]
    }
   ],
   "source": [
    "print \"V-Cramer statistic is: %.4f\" % v_Cramer_correlation(marriage_contingency_matrix)\n",
    "print \"p-value:\", stats.chi2_contingency(marriage_contingency_matrix)[1]"
   ]
  },
  {
   "cell_type": "markdown",
   "metadata": {
    "collapsed": true
   },
   "source": [
    "Значение коэффициента V Крамера не очень велико, однако p-value критерия хи-квадрат говорит нам, что это значение статистически значимо. Значение признака MARRIAGE влияет на возврат долга, но несущественно.\n",
    "\n",
    "\n",
    "## Возраст (AGE):\n",
    "Относительно двух групп людей вернувших и не вернувших кредит проверьте следующие гипотезы:"
   ]
  },
  {
   "cell_type": "code",
   "execution_count": 28,
   "metadata": {},
   "outputs": [
    {
     "data": {
      "image/png": "[encoded data removed]",
      "text/plain": [
       "<matplotlib.figure.Figure at 0x13ca0748>"
      ]
     },
     "metadata": {},
     "output_type": "display_data"
    },
    {
     "data": {
      "image/png": "[encoded data removed]",
      "text/plain": [
       "<matplotlib.figure.Figure at 0xd1a8908>"
      ]
     },
     "metadata": {},
     "output_type": "display_data"
    }
   ],
   "source": [
    "default_group_ages = default_group[\"AGE\"].as_matrix()\n",
    "success_group_ages = success_group[\"AGE\"].as_matrix()\n",
    "frame.boxplot(column=\"AGE\", by=\"default\", figsize = (15,8))\n",
    "pylab.show()\n",
    "pylab.figure(figsize(15,5))\n",
    "pylab.subplot(121)\n",
    "pylab.xlabel(\"Success ages\")\n",
    "pylab.hist(success_group_ages, label=\"Success ages\")\n",
    "pylab.subplot(122)\n",
    "pylab.xlabel(\"Default ages\")\n",
    "pylab.hist(default_group_ages, label=\"Default ages\")\n",
    "pylab.show()"
   ]
  },
  {
   "cell_type": "markdown",
   "metadata": {},
   "source": [
    "По графикам видно, что медианные значения возрастов практически не отличаются. Проверим так ли это.\n",
    "\n",
    "### a) о равенстве медианных значений возрастов людей"
   ]
  },
  {
   "cell_type": "code",
   "execution_count": 28,
   "metadata": {},
   "outputs": [
    {
     "name": "stdout",
     "output_type": "stream",
     "text": [
      "Default ages max value: 75.0000\tmin value: 21.0000\n",
      "Success ages max value: 79.0000\tmin value: 21.0000\n",
      "Default ages median: 34.0000\tConfidence interval: [ 34.  35.]\n",
      "Success ages median: 34.0000\tConfidence interval: [ 34.  34.]\n",
      "Confidence interval for difference between ages in \"default\" and \"success\" groups is [-1.  0.]\n"
     ]
    }
   ],
   "source": [
    "default_ages_confint = calculate_median_confidence_interval(default_group_ages, samples_count, alpha)\n",
    "success_ages_confint = calculate_median_confidence_interval(success_group_ages, samples_count, alpha)\n",
    "median_delta_ages_confint = compare_distributions(success_group_ages, default_group_ages, samples_count, alpha)\n",
    "print \"Default ages max value: %.4f\\tmin value: %.4f\" % (np.max(default_group_ages), np.min(default_group_ages))\n",
    "print \"Success ages max value: %.4f\\tmin value: %.4f\" % (np.max(success_group_ages), np.min(success_group_ages))\n",
    "print \"Default ages median: %.4f\\tConfidence interval: %s\" % default_ages_confint\n",
    "print \"Success ages median: %.4f\\tConfidence interval: %s\" % success_ages_confint\n",
    "print \"Confidence interval for difference between ages in \\\"default\\\" and \\\"success\\\" groups is %s\" % median_delta_ages_confint"
   ]
  },
  {
   "cell_type": "markdown",
   "metadata": {},
   "source": [
    "Доверительный интервал для разницы возрастов между \\\"success\\\" и \\\"default\\\" группами содержит ноль.\n",
    "Гипотеза о равенстве возрастов в этих группах не отвергается.\n",
    "\n",
    "### b) о равенстве распределений с помощью одного из подходящих непараметрических критериев проверки равенства средних.\n",
    "По гистограммам можно определить, что в выборках много повторяющихся значений. Использование критерия Манна-Уитни некорректно, поэтому используем перестановочный критерий для двух независимых выборок"
   ]
  },
  {
   "cell_type": "code",
   "execution_count": 29,
   "metadata": {},
   "outputs": [
    {
     "name": "stdout",
     "output_type": "stream",
     "text": [
      "Permutation criterion p-value: 1.0000\n"
     ]
    }
   ],
   "source": [
    "print \"Permutation criterion p-value: %.4f\" % permutation_test(default_group_ages, success_group_ages, max_permutations=1000, alternative=\"two-sided\")"
   ]
  },
  {
   "cell_type": "markdown",
   "metadata": {},
   "source": [
    "Гипотеза о равенстве медианных значений возрастов для вернувших и просрочивших кредит перестановочным критерием не отвергается.\n",
    "\n",
    "Значимы ли полученные результаты с практической точки зрения ?\n",
    "\n",
    "## Заключение\n",
    "Мы определили, что\n",
    "\n",
    "* размер кредитного лимита для людей не допускающих просрочки значимо выше.\n",
    "* гендерный состав людей вернувших и просрочивших долг значимо различается.\n",
    "* доля женщин в группе не допускающих просрочку выше.\n",
    "* образование не сильно, но все-таки значимо влияет на вероятность возврата долга.\n",
    "* можно утверждать, что люди с лучшим образованием чаще возвращают долг. (хотя здесь статистику портят группы other, n/a и basic).\n",
    "* незамужние люди и люди не желающие раскрывать свой семейный статус чаще возвращают долг. Сомнительное утверждение, требующее дополнительной проверки, тем более, что статистика V-Крамера очень мала.\n",
    "* возрастной состав в группах вернувших и просрочивших долг примерно одинаков.\n",
    "\n",
    "На мой взгляд полученные результаты совпадают с очень частой политикой выдачи кредитов банками. С другой стороны стоит отметить, что эти признаки скорее выглядят вспомогательными и первоочередными критериями скорее являются доход и трудоустроенность клиента."
   ]
  },
  {
   "cell_type": "code",
   "execution_count": null,
   "metadata": {
    "collapsed": true
   },
   "outputs": [],
   "source": []
  }
 ],
 "metadata": {
  "kernelspec": {
   "display_name": "Python [conda root]",
   "language": "python",
   "name": "conda-root-py"
  },
  "language_info": {
   "codemirror_mode": {
    "name": "ipython",
    "version": 2
   },
   "file_extension": ".py",
   "mimetype": "text/x-python",
   "name": "python",
   "nbconvert_exporter": "python",
   "pygments_lexer": "ipython2",
   "version": "2.7.13"
  }
 },
 "nbformat": 4,
 "nbformat_minor": 2
}
